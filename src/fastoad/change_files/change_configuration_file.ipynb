{
 "cells": [
  {
   "cell_type": "code",
   "execution_count": 3,
   "metadata": {
    "collapsed": true,
    "pycharm": {
     "name": "#%%\n"
    }
   },
   "outputs": [
    {
     "ename": "AttributeError",
     "evalue": "partially initialized module 'fastoad' has no attribute 'module_management' (most likely due to a circular import)",
     "output_type": "error",
     "traceback": [
      "\u001B[1;31m---------------------------------------------------------------------------\u001B[0m",
      "\u001B[1;31mAttributeError\u001B[0m                            Traceback (most recent call last)",
      "\u001B[1;32m<ipython-input-3-501c47bae69a>\u001B[0m in \u001B[0;36m<module>\u001B[1;34m\u001B[0m\n\u001B[1;32m----> 1\u001B[1;33m \u001B[1;32mfrom\u001B[0m \u001B[0mfastoad\u001B[0m\u001B[1;33m.\u001B[0m\u001B[0mchange_files\u001B[0m\u001B[1;33m.\u001B[0m\u001B[0mgenerate_files\u001B[0m \u001B[1;32mimport\u001B[0m \u001B[0mGenerateFiles\u001B[0m\u001B[1;33m\u001B[0m\u001B[1;33m\u001B[0m\u001B[0m\n\u001B[0m\u001B[0;32m      2\u001B[0m \u001B[1;32mfrom\u001B[0m \u001B[0mfastoad\u001B[0m\u001B[1;33m.\u001B[0m\u001B[0mchange_files\u001B[0m\u001B[1;33m.\u001B[0m\u001B[0mchange_name_input_output\u001B[0m \u001B[1;32mimport\u001B[0m \u001B[0mChangeNameInputOutput\u001B[0m\u001B[1;33m\u001B[0m\u001B[1;33m\u001B[0m\u001B[0m\n\u001B[0;32m      3\u001B[0m \u001B[1;33m\u001B[0m\u001B[0m\n\u001B[0;32m      4\u001B[0m \u001B[0mGenerateFiles\u001B[0m\u001B[1;33m(\u001B[0m\u001B[1;33m)\u001B[0m\u001B[1;33m\u001B[0m\u001B[1;33m\u001B[0m\u001B[0m\n\u001B[0;32m      5\u001B[0m \u001B[0mChangeNameInputOutput\u001B[0m\u001B[1;33m(\u001B[0m\u001B[1;33m)\u001B[0m\u001B[1;33m.\u001B[0m\u001B[0mcreatewidgets\u001B[0m\u001B[1;33m(\u001B[0m\u001B[1;33m)\u001B[0m\u001B[1;33m\u001B[0m\u001B[1;33m\u001B[0m\u001B[0m\n",
      "\u001B[1;32m~\\PycharmProjects\\FAST-OAD\\src\\fastoad\\__init__.py\u001B[0m in \u001B[0;36m<module>\u001B[1;34m\u001B[0m\n\u001B[0;32m     27\u001B[0m     \u001B[1;32mdel\u001B[0m \u001B[0mget_distribution\u001B[0m\u001B[1;33m,\u001B[0m \u001B[0mDistributionNotFound\u001B[0m\u001B[1;33m\u001B[0m\u001B[1;33m\u001B[0m\u001B[0m\n\u001B[0;32m     28\u001B[0m \u001B[1;33m\u001B[0m\u001B[0m\n\u001B[1;32m---> 29\u001B[1;33m \u001B[0mfastoad\u001B[0m\u001B[1;33m.\u001B[0m\u001B[0mmodule_management\u001B[0m\u001B[1;33m.\u001B[0m\u001B[0m_plugins\u001B[0m\u001B[1;33m.\u001B[0m\u001B[0mload_plugins\u001B[0m\u001B[1;33m(\u001B[0m\u001B[1;33m)\u001B[0m\u001B[1;33m\u001B[0m\u001B[1;33m\u001B[0m\u001B[0m\n\u001B[0m",
      "\u001B[1;31mAttributeError\u001B[0m: partially initialized module 'fastoad' has no attribute 'module_management' (most likely due to a circular import)"
     ]
    }
   ],
   "source": [
    "from fastoad.change_files.generate_files import GenerateFiles\n",
    "from fastoad.change_files.change_name_input_output import ChangeNameInputOutput\n",
    "\n",
    "GenerateFiles()\n",
    "ChangeNameInputOutput().createwidgets()\n",
    "ChangeNameInputOutput().display()"
   ]
  },
  {
   "cell_type": "code",
   "execution_count": null,
   "outputs": [],
   "source": [],
   "metadata": {
    "collapsed": false,
    "pycharm": {
     "name": "#%%\n"
    }
   }
  }
 ],
 "metadata": {
  "kernelspec": {
   "display_name": "Python 3",
   "language": "python",
   "name": "python3"
  },
  "language_info": {
   "codemirror_mode": {
    "name": "ipython",
    "version": 2
   },
   "file_extension": ".py",
   "mimetype": "text/x-python",
   "name": "python",
   "nbconvert_exporter": "python",
   "pygments_lexer": "ipython2",
   "version": "2.7.6"
  }
 },
 "nbformat": 4,
 "nbformat_minor": 0
}