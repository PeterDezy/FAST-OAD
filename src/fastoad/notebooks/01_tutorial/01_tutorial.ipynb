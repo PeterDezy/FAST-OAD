{
 "cells": [
  {
   "cell_type": "markdown",
   "metadata": {},
   "source": [
    "<div class=\"row\">\n",
    "  <div class=\"column\">\n",
    "    <img src=\"./img/logo-onera.png\" width=\"200\">\n",
    "  </div>\n",
    "  <div class=\"column\">\n",
    "    <img src=\"./img/logo-ISAE_SUPAERO.png\" width=\"200\">\n",
    "  </div>\n",
    "</div>"
   ]
  },
  {
   "cell_type": "markdown",
   "metadata": {},
   "source": [
    "# FAST-OAD Tutorial"
   ]
  },
  {
   "cell_type": "markdown",
   "metadata": {},
   "source": [
    "FAST-OAD is a framework for performing rapid Overall Aircraft Design. The computational core of FAST-OAD is based on the  [OpenMDAO framework](https://openmdao.org/)."
   ]
  },
  {
   "cell_type": "markdown",
   "metadata": {},
   "source": [
    "## 1. Setting up and analyzing the initial problem"
   ]
  },
  {
   "cell_type": "markdown",
   "metadata": {},
   "source": [
    "To organize our work, we propose to use two user folders `data/` and `workdir/`. For instance, in `data/` we store a XML file which describes the [CeRAS reference case](http://ceras.ilr.rwth-aachen.de/trac/wiki/CeRAS/AircraftDesigns/CSR01). In `workdir/`, we store files generated or modified by FAST-OAD."
   ]
  },
  {
   "cell_type": "code",
   "execution_count": 1,
   "metadata": {},
   "outputs": [
    {
     "name": "stdout",
     "output_type": "stream",
     "text": [
      "Unable to import mpi4py. Parallel processing unavailable.\n",
      "Unable to import petsc4py. Parallel processing unavailable.\n",
      "Unable to import petsc4py. Parallel processing unavailable.\n"
     ]
    },
    {
     "data": {
      "text/plain": "<IPython.core.display.HTML object>",
      "text/html": "<style>.container { width:95% !important; }</style>"
     },
     "metadata": {},
     "output_type": "display_data"
    }
   ],
   "source": [
    "import os.path as pth\n",
    "import openmdao.api as om\n",
    "import logging\n",
    "import shutil\n",
    "import fastoad.api as oad\n",
    "\n",
    "\n",
    "DATA_FOLDER_PATH = 'data'\n",
    "\n",
    "WORK_FOLDER_PATH = 'workdir'\n",
    "\n",
    "CONFIGURATION_FILE = pth.join(WORK_FOLDER_PATH, 'oad_process.yml')\n",
    "SOURCE_FILE = pth.join(DATA_FOLDER_PATH, 'CeRAS01_baseline.xml')\n",
    "\n",
    "# For having log messages on screen\n",
    "logging.basicConfig(level=logging.INFO, format='%(levelname)-8s: %(message)s')\n",
    "\n",
    "# For using all screen width\n",
    "from IPython.core.display import display, HTML\n",
    "display(HTML(\"<style>.container { width:95% !important; }</style>\"))"
   ]
  },
  {
   "cell_type": "markdown",
   "metadata": {},
   "source": [
    "After defining a configuration file name, we can ask FAST-OAD to generate a default configuration file based on the default OAD model implemented in the framework:"
   ]
  },
  {
   "cell_type": "code",
   "execution_count": 2,
   "metadata": {},
   "outputs": [
    {
     "name": "stderr",
     "output_type": "stream",
     "text": [
      "INFO    : Sample configuration written in workdir\\oad_process.yml\n"
     ]
    }
   ],
   "source": [
    "oad.generate_configuration_file(CONFIGURATION_FILE, overwrite=True)\n",
    "\n",
    "# The above generated configuration uses the quick and simple Breguet module to compute performances. \n",
    "# If you want to use the more accurate, much more CPU-costly time-step integration, uncomment and run \n",
    "# the next line:\n",
    "#shutil.copy(pth.join(DATA_FOLDER_PATH, \"oad_process_timestep_mission.yml\"), CONFIGURATION_FILE)"
   ]
  },
  {
   "cell_type": "markdown",
   "metadata": {},
   "source": [
    "You can now checkout the generated [configuration file](./workdir/oad_process.yml)."
   ]
  },
  {
   "cell_type": "markdown",
   "metadata": {},
   "source": [
    "In this configuration file, we have specified an input file name 'problem_inputs.xml'. We can ask FAST-OAD to generate the inputs of the default model with the CeRAS parameters as default values:"
   ]
  },
  {
   "cell_type": "code",
   "execution_count": 3,
   "metadata": {},
   "outputs": [
    {
     "name": "stderr",
     "output_type": "stream",
     "text": [
      "INFO    : Problem inputs written in C:\\Users\\Mathieu\\PycharmProjects\\FAST-OAD\\src\\fastoad\\notebooks\\01_tutorial\\workdir\\problem_inputs.xml\n"
     ]
    },
    {
     "data": {
      "text/plain": "'C:\\\\Users\\\\Mathieu\\\\PycharmProjects\\\\FAST-OAD\\\\src\\\\fastoad\\\\notebooks\\\\01_tutorial\\\\workdir\\\\problem_inputs.xml'"
     },
     "execution_count": 3,
     "metadata": {},
     "output_type": "execute_result"
    }
   ],
   "source": [
    "oad.generate_inputs(CONFIGURATION_FILE, SOURCE_FILE, overwrite=True)"
   ]
  },
  {
   "cell_type": "markdown",
   "metadata": {},
   "source": [
    "You can now checkout the generated [input file](./workdir/problem_inputs.xml). As shown previously in the user file architecture, the values in this file can be modified by the user and will be considered by FAST-OAD when executing a computational process."
   ]
  },
  {
   "cell_type": "markdown",
   "metadata": {},
   "source": [
    "A useful feature that FAST-OAD provides is to list the outputs of the model defined in the configuration file:"
   ]
  },
  {
   "cell_type": "code",
   "execution_count": 4,
   "metadata": {},
   "outputs": [
    {
     "data": {
      "text/plain": "<IPython.core.display.HTML object>",
      "text/html": "<table border=\"1\" class=\"dataframe\">\n  <thead>\n    <tr style=\"text-align: right;\">\n      <th>NAME</th>\n      <th>I/O</th>\n      <th>DESCRIPTION</th>\n    </tr>\n  </thead>\n  <tbody>\n    <tr>\n      <td>data:TLAR:NPAX</td>\n      <td>IN</td>\n      <td>top-level requirement: number of passengers, assuming a classic eco/business class repartition</td>\n    </tr>\n    <tr>\n      <td>data:TLAR:approach_speed</td>\n      <td>IN</td>\n      <td>top-level requirement: approach speed</td>\n    </tr>\n    <tr>\n      <td>data:TLAR:cruise_mach</td>\n      <td>IN</td>\n      <td>Input defined by the mission.</td>\n    </tr>\n    <tr>\n      <td>data:TLAR:range</td>\n      <td>IN</td>\n      <td>Input defined by the mission.</td>\n    </tr>\n    <tr>\n      <td>data:aerodynamics:aircraft:landing:CL_max_clean_2D</td>\n      <td>IN</td>\n      <td>maximum lift coefficient of 2D average profile in landing conditions without high-lift devices</td>\n    </tr>\n    <tr>\n      <td>data:aerodynamics:aircraft:takeoff:mach</td>\n      <td>IN</td>\n      <td>considered Mach number for takeoff phase</td>\n    </tr>\n    <tr>\n      <td>data:geometry:cabin:aisle_width</td>\n      <td>IN</td>\n      <td>width of aisles</td>\n    </tr>\n    <tr>\n      <td>data:geometry:cabin:containers:count_by_row</td>\n      <td>IN</td>\n      <td>number of cargo containers along width</td>\n    </tr>\n    <tr>\n      <td>data:geometry:cabin:crew_count:technical</td>\n      <td>IN</td>\n      <td>number of technical crew members</td>\n    </tr>\n    <tr>\n      <td>data:geometry:cabin:exit_width</td>\n      <td>IN</td>\n      <td>width of exits</td>\n    </tr>\n    <tr>\n      <td>data:geometry:cabin:seats:economical:count_by_row</td>\n      <td>IN</td>\n      <td>number of economical class seats along width</td>\n    </tr>\n    <tr>\n      <td>data:geometry:cabin:seats:economical:length</td>\n      <td>IN</td>\n      <td>length of economical class seats</td>\n    </tr>\n    <tr>\n      <td>data:geometry:cabin:seats:economical:width</td>\n      <td>IN</td>\n      <td>width of economical class seats</td>\n    </tr>\n    <tr>\n      <td>data:geometry:flap:chord_ratio</td>\n      <td>IN</td>\n      <td>mean value of (flap chord)/(section chord)</td>\n    </tr>\n    <tr>\n      <td>data:geometry:flap:span_ratio</td>\n      <td>IN</td>\n      <td>ratio (width of flaps)/(total span)</td>\n    </tr>\n    <tr>\n      <td>data:geometry:has_T_tail</td>\n      <td>IN</td>\n      <td>0=horizontal tail is attached to fuselage / 1=horizontal tail is attached to top of vertical tail</td>\n    </tr>\n    <tr>\n      <td>data:geometry:horizontal_tail:aspect_ratio</td>\n      <td>IN</td>\n      <td>aspect ratio of horizontal tail</td>\n    </tr>\n    <tr>\n      <td>data:geometry:horizontal_tail:sweep_25</td>\n      <td>IN</td>\n      <td>sweep angle at 25% chord of horizontal tail</td>\n    </tr>\n    <tr>\n      <td>data:geometry:horizontal_tail:taper_ratio</td>\n      <td>IN</td>\n      <td>taper ratio of horizontal tail</td>\n    </tr>\n    <tr>\n      <td>data:geometry:horizontal_tail:thickness_ratio</td>\n      <td>IN</td>\n      <td>thickness ratio of horizontal tail</td>\n    </tr>\n    <tr>\n      <td>data:geometry:propulsion:engine:count</td>\n      <td>IN</td>\n      <td>number of engines</td>\n    </tr>\n    <tr>\n      <td>data:geometry:propulsion:engine:y_ratio</td>\n      <td>IN</td>\n      <td>engine position with respect to total span</td>\n    </tr>\n    <tr>\n      <td>data:geometry:propulsion:layout</td>\n      <td>IN</td>\n      <td>position of engines (1=under the wing / 2=rear fuselage)</td>\n    </tr>\n    <tr>\n      <td>data:geometry:slat:chord_ratio</td>\n      <td>IN</td>\n      <td>mean value of slat chord)/(section chord)</td>\n    </tr>\n    <tr>\n      <td>data:geometry:slat:span_ratio</td>\n      <td>IN</td>\n      <td>ratio (width of slats)/(total span)</td>\n    </tr>\n    <tr>\n      <td>data:geometry:vertical_tail:aspect_ratio</td>\n      <td>IN</td>\n      <td>aspect ratio of vertical tail</td>\n    </tr>\n    <tr>\n      <td>data:geometry:vertical_tail:sweep_25</td>\n      <td>IN</td>\n      <td>sweep angle at 25% chord of vertical tail</td>\n    </tr>\n    <tr>\n      <td>data:geometry:vertical_tail:taper_ratio</td>\n      <td>IN</td>\n      <td>taper ratio of vertical tail</td>\n    </tr>\n    <tr>\n      <td>data:geometry:vertical_tail:thickness_ratio</td>\n      <td>IN</td>\n      <td>thickness ratio of vertical tail</td>\n    </tr>\n    <tr>\n      <td>data:geometry:wing:aspect_ratio</td>\n      <td>IN</td>\n      <td>wing aspect ratio</td>\n    </tr>\n    <tr>\n      <td>data:geometry:wing:kink:span_ratio</td>\n      <td>IN</td>\n      <td>ratio (Y-position of kink)/(semi-span)</td>\n    </tr>\n    <tr>\n      <td>data:geometry:wing:spar_ratio:front:kink</td>\n      <td>IN</td>\n      <td>ratio (front spar position)/(chord length) at wing kink</td>\n    </tr>\n    <tr>\n      <td>data:geometry:wing:spar_ratio:front:root</td>\n      <td>IN</td>\n      <td>ratio (front spar position)/(chord length) at wing root</td>\n    </tr>\n    <tr>\n      <td>data:geometry:wing:spar_ratio:front:tip</td>\n      <td>IN</td>\n      <td>ratio (front spar position)/(chord length) at wing tip</td>\n    </tr>\n    <tr>\n      <td>data:geometry:wing:spar_ratio:rear:kink</td>\n      <td>IN</td>\n      <td>ratio (rear spar position)/(chord length) at wing kink</td>\n    </tr>\n    <tr>\n      <td>data:geometry:wing:spar_ratio:rear:root</td>\n      <td>IN</td>\n      <td>ratio (rear spar position)/(chord length) at wing root</td>\n    </tr>\n    <tr>\n      <td>data:geometry:wing:spar_ratio:rear:tip</td>\n      <td>IN</td>\n      <td>ratio (rear spar position)/(chord length) at wing tip</td>\n    </tr>\n    <tr>\n      <td>data:geometry:wing:sweep_25</td>\n      <td>IN</td>\n      <td>sweep angle at 25% chord of wing</td>\n    </tr>\n    <tr>\n      <td>data:geometry:wing:taper_ratio</td>\n      <td>IN</td>\n      <td>taper ratio of wing</td>\n    </tr>\n    <tr>\n      <td>data:handling_qualities:static_margin:target</td>\n      <td>IN</td>\n      <td></td>\n    </tr>\n    <tr>\n      <td>data:load_case:lc1:U_gust</td>\n      <td>IN</td>\n      <td>gust vertical speed for sizing load case 1 (gust with minimum aircraft mass)</td>\n    </tr>\n    <tr>\n      <td>data:load_case:lc1:Vc_EAS</td>\n      <td>IN</td>\n      <td>equivalent air speed for sizing load case 1 (gust with minimum aircraft mass)</td>\n    </tr>\n    <tr>\n      <td>data:load_case:lc1:altitude</td>\n      <td>IN</td>\n      <td>altitude for sizing load case 1 (gust with minimum aircraft mass)</td>\n    </tr>\n    <tr>\n      <td>data:load_case:lc2:U_gust</td>\n      <td>IN</td>\n      <td>gust vertical speed for sizing load case 2 (gust with maximum aircraft mass)</td>\n    </tr>\n    <tr>\n      <td>data:load_case:lc2:Vc_EAS</td>\n      <td>IN</td>\n      <td>equivalent air speed for sizing load case 2 (gust with maximum aircraft mass)</td>\n    </tr>\n    <tr>\n      <td>data:load_case:lc2:altitude</td>\n      <td>IN</td>\n      <td>altitude for sizing load case 2 (gust with maximum aircraft mass)</td>\n    </tr>\n    <tr>\n      <td>data:mission:sizing:landing:flap_angle</td>\n      <td>IN</td>\n      <td>flap angle during landing phase in sizing mission</td>\n    </tr>\n    <tr>\n      <td>data:mission:sizing:landing:slat_angle</td>\n      <td>IN</td>\n      <td>slat angle during landing phase in sizing mission</td>\n    </tr>\n    <tr>\n      <td>data:mission:sizing:main_route:cruise:altitude</td>\n      <td>IN</td>\n      <td>Input defined by the mission.</td>\n    </tr>\n    <tr>\n      <td>data:mission:sizing:onboard_fuel_at_takeoff</td>\n      <td>IN</td>\n      <td>TakeOff Weight for mission \"sizing\"_inp_data:mission:sizing:onboard_fuel_at_takeoff</td>\n    </tr>\n    <tr>\n      <td>data:mission:sizing:takeoff:V2</td>\n      <td>IN</td>\n      <td>takeoff safety speed for mission \"sizing\"</td>\n    </tr>\n    <tr>\n      <td>data:mission:sizing:takeoff:altitude</td>\n      <td>IN</td>\n      <td>altitude of airport for mission \"sizing\"</td>\n    </tr>\n    <tr>\n      <td>data:mission:sizing:takeoff:flap_angle</td>\n      <td>IN</td>\n      <td>flap angle during takeoff phase in sizing mission</td>\n    </tr>\n    <tr>\n      <td>data:mission:sizing:takeoff:fuel</td>\n      <td>IN</td>\n      <td>Loaded fuel before taxi-out for mission \"sizing\"_inp_data:mission:sizing:takeoff:fuel</td>\n    </tr>\n    <tr>\n      <td>data:mission:sizing:takeoff:slat_angle</td>\n      <td>IN</td>\n      <td>slat angle during takeoff phase in sizing mission</td>\n    </tr>\n    <tr>\n      <td>data:mission:sizing:taxi_out:duration</td>\n      <td>IN</td>\n      <td>duration of taxi-out in mission \"sizing\"</td>\n    </tr>\n    <tr>\n      <td>data:mission:sizing:taxi_out:thrust_rate</td>\n      <td>IN</td>\n      <td>thrust rate during taxi-out in mission \"sizing\"</td>\n    </tr>\n    <tr>\n      <td>data:propulsion:MTO_thrust</td>\n      <td>IN</td>\n      <td>maximum thrust of one engine at sea level</td>\n    </tr>\n    <tr>\n      <td>data:propulsion:rubber_engine:bypass_ratio</td>\n      <td>IN</td>\n      <td>bypass ratio for rubber engine model</td>\n    </tr>\n    <tr>\n      <td>data:propulsion:rubber_engine:delta_t4_climb</td>\n      <td>IN</td>\n      <td>As it is a delta, unit is K or °C, but is not specified to avoid OpenMDAO making unwanted conversion</td>\n    </tr>\n    <tr>\n      <td>data:propulsion:rubber_engine:delta_t4_cruise</td>\n      <td>IN</td>\n      <td>As it is a delta, unit is K or °C, but is not specified to avoid OpenMDAO making unwanted conversion</td>\n    </tr>\n    <tr>\n      <td>data:propulsion:rubber_engine:design_altitude</td>\n      <td>IN</td>\n      <td>design altitude for rubber engine model</td>\n    </tr>\n    <tr>\n      <td>data:propulsion:rubber_engine:maximum_mach</td>\n      <td>IN</td>\n      <td>maximum Mach number for rubber engine model</td>\n    </tr>\n    <tr>\n      <td>data:propulsion:rubber_engine:overall_pressure_ratio</td>\n      <td>IN</td>\n      <td>Overall pressure ratio for rubber engine model</td>\n    </tr>\n    <tr>\n      <td>data:propulsion:rubber_engine:turbine_inlet_temperature</td>\n      <td>IN</td>\n      <td>design turbine inlet temperature (T4) for rubber engine model</td>\n    </tr>\n    <tr>\n      <td>settings:geometry:horizontal_tail:position_ratio_on_fuselage</td>\n      <td>IN</td>\n      <td>(does not apply for T-tails) distance to aircraft nose of 25% MAC of horizontal tail divided by fuselage length</td>\n    </tr>\n    <tr>\n      <td>settings:mission:sizing:breguet:climb:mass_ratio</td>\n      <td>IN</td>\n      <td>Input defined by the mission.</td>\n    </tr>\n    <tr>\n      <td>settings:mission:sizing:breguet:descent:mass_ratio</td>\n      <td>IN</td>\n      <td>Input defined by the mission.</td>\n    </tr>\n    <tr>\n      <td>settings:mission:sizing:breguet:reserve:mass_ratio</td>\n      <td>IN</td>\n      <td>Input defined by the mission.</td>\n    </tr>\n    <tr>\n      <td>settings:weight:aircraft:CG:aft:MAC_position:margin</td>\n      <td>IN</td>\n      <td>Added margin for getting most aft CG position, as ratio of mean aerodynamic chord</td>\n    </tr>\n    <tr>\n      <td>settings:weight:aircraft:CG:range</td>\n      <td>IN</td>\n      <td>distance between front position and aft position of CG, as ratio of mean aerodynamic chord (allows to have front position of CG, as currently, FAST-OAD estimates only the aft position of CG)</td>\n    </tr>\n    <tr>\n      <td>settings:weight:aircraft:payload:design_mass_per_passenger</td>\n      <td>IN</td>\n      <td>Design value of mass per passenger</td>\n    </tr>\n    <tr>\n      <td>settings:weight:aircraft:payload:max_mass_per_passenger</td>\n      <td>IN</td>\n      <td>Maximum value of mass per passenger</td>\n    </tr>\n    <tr>\n      <td>settings:weight:airframe:flight_controls:mass:k_fc</td>\n      <td>IN</td>\n      <td>flight controls (A4): 0.85e-4 if electrical, 1.35e-4 if conventional</td>\n    </tr>\n    <tr>\n      <td>settings:weight:airframe:fuselage:mass:k_fus</td>\n      <td>IN</td>\n      <td>correction coefficient: 1.00 if all engines under wing / 1.02 with 2 engines at rear / 1.03 if 3 engines at rear / 1.05 if 1 engine in vertical tail (with or without 2 engines under wing)</td>\n    </tr>\n    <tr>\n      <td>settings:weight:airframe:fuselage:mass:k_lg</td>\n      <td>IN</td>\n      <td>correction coefficient: 1.05 if main landing gear under wing / 1.10 if main landing gear under fuselage</td>\n    </tr>\n    <tr>\n      <td>settings:weight:airframe:landing_gear:front:weight_ratio</td>\n      <td>IN</td>\n      <td>part of aircraft weight that is supported by front landing gear</td>\n    </tr>\n    <tr>\n      <td>settings:weight:airframe:wing:mass:k_mvo</td>\n      <td>IN</td>\n      <td>1.39 for Airbus type aircrafts</td>\n    </tr>\n    <tr>\n      <td>settings:weight:airframe:wing:mass:k_voil</td>\n      <td>IN</td>\n      <td>1.00 if 4 engines / 1.05 if 2 or 3 engines / 1.10 if engines on fuselage</td>\n    </tr>\n    <tr>\n      <td>settings:weight:systems:power:mass:k_elec</td>\n      <td>IN</td>\n      <td>electricity coefficient: 1.00 if 2 engines (A300, A310 type) / (1.02 if 2 engines (DC9, Caravelle type) / 1.03 if 3 engines (B727 type) / 1.05 if 3 engines (DC10, L1011 type) / 1.08 if 4 engines (B747 type)</td>\n    </tr>\n    <tr>\n      <td>tuning:aerodynamics:aircraft:cruise:CD:compressibility:characteristic_mach_increment</td>\n      <td>IN</td>\n      <td>Increment to apply to the computed characteristic Mach (where compressibility drag is 20 d.c.)</td>\n    </tr>\n    <tr>\n      <td>tuning:aerodynamics:aircraft:cruise:CD:compressibility:max_value</td>\n      <td>IN</td>\n      <td>maximum authorized value for compressibility drag. Allows to prevent the model from overestimating the compressibility effect, especially for aircraft models after year 2000.</td>\n    </tr>\n    <tr>\n      <td>tuning:aerodynamics:aircraft:cruise:CD:k</td>\n      <td>IN</td>\n      <td>correction ratio to apply to computed drag coefficient in cruise conditions</td>\n    </tr>\n    <tr>\n      <td>tuning:aerodynamics:aircraft:cruise:CD:offset</td>\n      <td>IN</td>\n      <td>correction offset to apply to computed drag coefficient in cruise conditions</td>\n    </tr>\n    <tr>\n      <td>tuning:aerodynamics:aircraft:cruise:CD:winglet_effect:k</td>\n      <td>IN</td>\n      <td>correction ratio to apply to computed induced drag coefficient in cruise conditions</td>\n    </tr>\n    <tr>\n      <td>tuning:aerodynamics:aircraft:cruise:CD:winglet_effect:offset</td>\n      <td>IN</td>\n      <td>correction ratio to apply to computed drag coefficient in cruise conditions</td>\n    </tr>\n    <tr>\n      <td>tuning:aerodynamics:aircraft:cruise:CL:k</td>\n      <td>IN</td>\n      <td>ratio to apply to defined cl range (which goes by default from 0.0 to 1.5) in cruise polar computation</td>\n    </tr>\n    <tr>\n      <td>tuning:aerodynamics:aircraft:cruise:CL:offset</td>\n      <td>IN</td>\n      <td>offset to apply to defined cl range (which goes by default from 0.0 to 1.5) in cruise polar computation</td>\n    </tr>\n    <tr>\n      <td>tuning:aerodynamics:aircraft:cruise:CL:winglet_effect:k</td>\n      <td>IN</td>\n      <td>ratio to apply to defined cl range (which goes by default from 0.0 to 1.5) in cruise polar computation</td>\n    </tr>\n    <tr>\n      <td>tuning:aerodynamics:aircraft:cruise:CL:winglet_effect:offset</td>\n      <td>IN</td>\n      <td>offset to apply to defined cl range (which goes by default from 0.0 to 1.5) in cruise polar computation</td>\n    </tr>\n    <tr>\n      <td>tuning:aerodynamics:aircraft:landing:CL_max:landing_gear_effect:k</td>\n      <td>IN</td>\n      <td>correction ratio to apply to computed maximum lift coefficient in landing conditions to take into account effect of landing gear</td>\n    </tr>\n    <tr>\n      <td>tuning:weight:airframe:flight_controls:mass:k</td>\n      <td>IN</td>\n      <td>flight controls (A4): correction ratio to be applied on computed mass</td>\n    </tr>\n    <tr>\n      <td>tuning:weight:airframe:flight_controls:mass:offset</td>\n      <td>IN</td>\n      <td>flight controls (A4): correction offset to be applied on computed mass</td>\n    </tr>\n    <tr>\n      <td>tuning:weight:airframe:fuselage:mass:k</td>\n      <td>IN</td>\n      <td>fuselage (A2): correction ratio to be applied on computed mass</td>\n    </tr>\n    <tr>\n      <td>tuning:weight:airframe:fuselage:mass:offset</td>\n      <td>IN</td>\n      <td>fuselage (A2): correction offset to be applied on computed mass</td>\n    </tr>\n    <tr>\n      <td>tuning:weight:airframe:horizontal_tail:mass:k</td>\n      <td>IN</td>\n      <td>horizontal tail (A31): correction ratio to be applied on computed mass</td>\n    </tr>\n    <tr>\n      <td>tuning:weight:airframe:horizontal_tail:mass:offset</td>\n      <td>IN</td>\n      <td>horizontal tail (A31): correction offset to be applied on computed mass</td>\n    </tr>\n    <tr>\n      <td>tuning:weight:airframe:landing_gear:mass:k</td>\n      <td>IN</td>\n      <td>landing gears (A5): correction ratio to be applied on computed mass</td>\n    </tr>\n    <tr>\n      <td>tuning:weight:airframe:landing_gear:mass:offset</td>\n      <td>IN</td>\n      <td>landing gears (A5): correction offset to be applied on computed mass</td>\n    </tr>\n    <tr>\n      <td>tuning:weight:airframe:paint:mass:k</td>\n      <td>IN</td>\n      <td>paint (A7): correction ratio to be applied on computed mass</td>\n    </tr>\n    <tr>\n      <td>tuning:weight:airframe:paint:mass:offset</td>\n      <td>IN</td>\n      <td>paint (A7): correction offset to be applied on computed mass</td>\n    </tr>\n    <tr>\n      <td>tuning:weight:airframe:pylon:mass:k</td>\n      <td>IN</td>\n      <td>pylon (A6): correction ratio to be applied on computed mass</td>\n    </tr>\n    <tr>\n      <td>tuning:weight:airframe:pylon:mass:offset</td>\n      <td>IN</td>\n      <td>pylon (A6): correction offset to be applied on computed mass</td>\n    </tr>\n    <tr>\n      <td>tuning:weight:airframe:vertical_tail:mass:k</td>\n      <td>IN</td>\n      <td>vertical tail (A32): correction ratio to be applied on computed mass</td>\n    </tr>\n    <tr>\n      <td>tuning:weight:airframe:vertical_tail:mass:offset</td>\n      <td>IN</td>\n      <td>vertical tail (A32): correction offset to be applied on computed mass</td>\n    </tr>\n    <tr>\n      <td>tuning:weight:airframe:wing:bending_sizing:mass:k</td>\n      <td>IN</td>\n      <td>wing bending sizing (A11): correction ratio to be applied on computed mass</td>\n    </tr>\n    <tr>\n      <td>tuning:weight:airframe:wing:bending_sizing:mass:offset</td>\n      <td>IN</td>\n      <td>wing bending sizing (A11): correction offset to be applied on computed mass</td>\n    </tr>\n    <tr>\n      <td>tuning:weight:airframe:wing:mass:k</td>\n      <td>IN</td>\n      <td>wing (A1): correction ratio to be applied on computed mass</td>\n    </tr>\n    <tr>\n      <td>tuning:weight:airframe:wing:mass:offset</td>\n      <td>IN</td>\n      <td>wing (A1): correction offset to be applied on computed mass</td>\n    </tr>\n    <tr>\n      <td>tuning:weight:airframe:wing:reinforcements:mass:k</td>\n      <td>IN</td>\n      <td>wing reinforcements (A14): correction ratio to be applied on computed mass</td>\n    </tr>\n    <tr>\n      <td>tuning:weight:airframe:wing:reinforcements:mass:offset</td>\n      <td>IN</td>\n      <td>wing reinforcements (A14): correction offset to be applied on computed mass</td>\n    </tr>\n    <tr>\n      <td>tuning:weight:airframe:wing:ribs:mass:k</td>\n      <td>IN</td>\n      <td>wing ribs (A13): correction ratio to be applied on computed mass</td>\n    </tr>\n    <tr>\n      <td>tuning:weight:airframe:wing:ribs:mass:offset</td>\n      <td>IN</td>\n      <td>wing ribs (A13): correction offset to be applied on computed mass</td>\n    </tr>\n    <tr>\n      <td>tuning:weight:airframe:wing:secondary_parts:mass:k</td>\n      <td>IN</td>\n      <td>wing secondary parts (A15): correction ratio to be applied on computed mass</td>\n    </tr>\n    <tr>\n      <td>tuning:weight:airframe:wing:secondary_parts:mass:offset</td>\n      <td>IN</td>\n      <td>wing secondary parts (A15): correction offset to be applied on computed mass</td>\n    </tr>\n    <tr>\n      <td>tuning:weight:airframe:wing:shear_sizing:mass:k</td>\n      <td>IN</td>\n      <td>wing shear sizing (A12): correction ratio to be applied on computed mass</td>\n    </tr>\n    <tr>\n      <td>tuning:weight:airframe:wing:shear_sizing:mass:offset</td>\n      <td>IN</td>\n      <td>wing shear sizing (A12): correction offset to be applied on computed mass</td>\n    </tr>\n    <tr>\n      <td>tuning:weight:furniture:food_water:mass:k</td>\n      <td>IN</td>\n      <td>food water (D3): correction ratio to be applied on computed mass</td>\n    </tr>\n    <tr>\n      <td>tuning:weight:furniture:food_water:mass:offset</td>\n      <td>IN</td>\n      <td>food water (D3): correction offset to be applied on computed mass</td>\n    </tr>\n    <tr>\n      <td>tuning:weight:furniture:passenger_seats:mass:k</td>\n      <td>IN</td>\n      <td>passenger seats (D2): correction ratio to be applied on computed mass</td>\n    </tr>\n    <tr>\n      <td>tuning:weight:furniture:passenger_seats:mass:offset</td>\n      <td>IN</td>\n      <td>passenger seats (D2): correction offset to be applied on computed mass</td>\n    </tr>\n    <tr>\n      <td>tuning:weight:furniture:security_kit:mass:k</td>\n      <td>IN</td>\n      <td>security kit (D4): correction ratio to be applied on computed mass</td>\n    </tr>\n    <tr>\n      <td>tuning:weight:furniture:security_kit:mass:offset</td>\n      <td>IN</td>\n      <td>security kit (D4): correction offset to be applied on computed mass</td>\n    </tr>\n    <tr>\n      <td>tuning:weight:furniture:toilets:mass:k</td>\n      <td>IN</td>\n      <td>toilets (D5): correction ratio to be applied on computed mass</td>\n    </tr>\n    <tr>\n      <td>tuning:weight:furniture:toilets:mass:offset</td>\n      <td>IN</td>\n      <td>toilets (D5): correction offset to be applied on computed mass</td>\n    </tr>\n    <tr>\n      <td>tuning:weight:propulsion:engine:mass:k</td>\n      <td>IN</td>\n      <td>engine (B1): correction ratio to be applied on computed mass</td>\n    </tr>\n    <tr>\n      <td>tuning:weight:propulsion:engine:mass:offset</td>\n      <td>IN</td>\n      <td>engine (B1): correction offset to be applied on computed mass</td>\n    </tr>\n    <tr>\n      <td>tuning:weight:propulsion:fuel_lines:mass:k</td>\n      <td>IN</td>\n      <td>fuel lines (B2): correction ratio to be applied on computed mass</td>\n    </tr>\n    <tr>\n      <td>tuning:weight:propulsion:fuel_lines:mass:offset</td>\n      <td>IN</td>\n      <td>fuel lines (B2): correction offset to be applied on computed mass</td>\n    </tr>\n    <tr>\n      <td>tuning:weight:propulsion:unconsumables:mass:k</td>\n      <td>IN</td>\n      <td>unconsumables (B3): correction ratio to be applied on computed mass</td>\n    </tr>\n    <tr>\n      <td>tuning:weight:propulsion:unconsumables:mass:offset</td>\n      <td>IN</td>\n      <td>unconsumables (B3): correction offset to be applied on computed mass</td>\n    </tr>\n    <tr>\n      <td>tuning:weight:systems:flight_kit:mass:k</td>\n      <td>IN</td>\n      <td>flight kit (C6): correction ratio to be applied on computed mass</td>\n    </tr>\n    <tr>\n      <td>tuning:weight:systems:flight_kit:mass:offset</td>\n      <td>IN</td>\n      <td>flight kit (C6): correction offset to be applied on computed mass</td>\n    </tr>\n    <tr>\n      <td>tuning:weight:systems:life_support:air_conditioning:mass:k</td>\n      <td>IN</td>\n      <td>air conditioning (C21): correction ratio to be applied on computed mass</td>\n    </tr>\n    <tr>\n      <td>tuning:weight:systems:life_support:air_conditioning:mass:offset</td>\n      <td>IN</td>\n      <td>air conditioning (C21): correction offset to be applied on computed mass</td>\n    </tr>\n    <tr>\n      <td>tuning:weight:systems:life_support:cabin_lighting:mass:k</td>\n      <td>IN</td>\n      <td>cabin lighting (C21): correction ratio to be applied on computed mass</td>\n    </tr>\n    <tr>\n      <td>tuning:weight:systems:life_support:cabin_lighting:mass:offset</td>\n      <td>IN</td>\n      <td>cabin lighting (C21): correction offset to be applied on computed mass</td>\n    </tr>\n    <tr>\n      <td>tuning:weight:systems:life_support:de-icing:mass:k</td>\n      <td>IN</td>\n      <td>de-icing (C21): correction ratio to be applied on computed mass</td>\n    </tr>\n    <tr>\n      <td>tuning:weight:systems:life_support:de-icing:mass:offset</td>\n      <td>IN</td>\n      <td>de-icing (C21): correction offset to be applied on computed mass</td>\n    </tr>\n    <tr>\n      <td>tuning:weight:systems:life_support:insulation:mass:k</td>\n      <td>IN</td>\n      <td>insulation (C21): correction ratio to be applied on computed mass</td>\n    </tr>\n    <tr>\n      <td>tuning:weight:systems:life_support:insulation:mass:offset</td>\n      <td>IN</td>\n      <td>insulation (C21): correction offset to be applied on computed mass</td>\n    </tr>\n    <tr>\n      <td>tuning:weight:systems:life_support:oxygen:mass:k</td>\n      <td>IN</td>\n      <td>oxygen (C21): correction ratio to be applied on computed mass</td>\n    </tr>\n    <tr>\n      <td>tuning:weight:systems:life_support:oxygen:mass:offset</td>\n      <td>IN</td>\n      <td>oxygen (C21): correction offset to be applied on computed mass</td>\n    </tr>\n    <tr>\n      <td>tuning:weight:systems:life_support:safety_equipment:mass:k</td>\n      <td>IN</td>\n      <td>safety equipment (C21): correction ratio to be applied on computed mass</td>\n    </tr>\n    <tr>\n      <td>tuning:weight:systems:life_support:safety_equipment:mass:offset</td>\n      <td>IN</td>\n      <td>safety equipment (C21): correction offset to be applied on computed mass</td>\n    </tr>\n    <tr>\n      <td>tuning:weight:systems:life_support:seats_crew_accommodation:mass:k</td>\n      <td>IN</td>\n      <td>seats crew accommodation (C21): correction ratio to be applied on computed mass</td>\n    </tr>\n    <tr>\n      <td>tuning:weight:systems:life_support:seats_crew_accommodation:mass:offset</td>\n      <td>IN</td>\n      <td>seats crew accommodation (C21): correction offset to be applied on computed mass</td>\n    </tr>\n    <tr>\n      <td>tuning:weight:systems:navigation:mass:k</td>\n      <td>IN</td>\n      <td>navigation (C3): correction ratio to be applied on computed mass</td>\n    </tr>\n    <tr>\n      <td>tuning:weight:systems:navigation:mass:offset</td>\n      <td>IN</td>\n      <td>navigation (C3): correction offset to be applied on computed mass</td>\n    </tr>\n    <tr>\n      <td>tuning:weight:systems:operational:mass:k</td>\n      <td>IN</td>\n      <td>operational (C5): correction ratio to be applied on computed mass</td>\n    </tr>\n    <tr>\n      <td>tuning:weight:systems:operational:mass:offset</td>\n      <td>IN</td>\n      <td>operational (C5): correction offset to be applied on computed mass</td>\n    </tr>\n    <tr>\n      <td>tuning:weight:systems:power:auxiliary_power_unit:mass:k</td>\n      <td>IN</td>\n      <td>power (C1): correction ratio to be applied on computed mass</td>\n    </tr>\n    <tr>\n      <td>tuning:weight:systems:power:auxiliary_power_unit:mass:offset</td>\n      <td>IN</td>\n      <td>power (C1): correction offset to be applied on computed mass</td>\n    </tr>\n    <tr>\n      <td>tuning:weight:systems:power:electric_systems:mass:k</td>\n      <td>IN</td>\n      <td>power (C1): correction ratio to be applied on computed mass</td>\n    </tr>\n    <tr>\n      <td>tuning:weight:systems:power:electric_systems:mass:offset</td>\n      <td>IN</td>\n      <td>power (C1): correction offset to be applied on computed mass</td>\n    </tr>\n    <tr>\n      <td>tuning:weight:systems:power:hydraulic_systems:mass:k</td>\n      <td>IN</td>\n      <td>power (C1): correction ratio to be applied on computed mass</td>\n    </tr>\n    <tr>\n      <td>tuning:weight:systems:power:hydraulic_systems:mass:offset</td>\n      <td>IN</td>\n      <td>power (C1): correction offset to be applied on computed mass</td>\n    </tr>\n    <tr>\n      <td>tuning:weight:systems:transmission:mass:k</td>\n      <td>IN</td>\n      <td>transmission (C4): correction ratio to be applied on computed mass</td>\n    </tr>\n    <tr>\n      <td>tuning:weight:systems:transmission:mass:offset</td>\n      <td>IN</td>\n      <td>transmission (C4): correction offset to be applied on computed mass</td>\n    </tr>\n    <tr>\n      <td>data:aerodynamics:aircraft:cruise:CD</td>\n      <td>OUT</td>\n      <td>drag coefficient in cruise conditions w.r.t. data:aerodynamics:aircraft:cruise:CL</td>\n    </tr>\n    <tr>\n      <td>data:aerodynamics:aircraft:cruise:CD0</td>\n      <td>OUT</td>\n      <td>profile drag coefficient for whole aircraft w.r.t. data:aerodynamics:aircraft:cruise:CL</td>\n    </tr>\n    <tr>\n      <td>data:aerodynamics:aircraft:cruise:CD:compressibility</td>\n      <td>OUT</td>\n      <td>increment of drag coefficient due to compressibility effects (shock waves) w.r.t. data:aerodynamics:aircraft:cruise:CL</td>\n    </tr>\n    <tr>\n      <td>data:aerodynamics:aircraft:cruise:CD:trim</td>\n      <td>OUT</td>\n      <td>increment of drag coefficient due to aircraft trim w.r.t. data:aerodynamics:aircraft:cruise:CL</td>\n    </tr>\n    <tr>\n      <td>data:aerodynamics:aircraft:cruise:CL</td>\n      <td>OUT</td>\n      <td>scale of lift coefficient values for drag computations in cruise conditions</td>\n    </tr>\n    <tr>\n      <td>data:aerodynamics:aircraft:cruise:CL_alpha</td>\n      <td>OUT</td>\n      <td>derivative of lift coefficient with respect to angle of attack in cruise conditions</td>\n    </tr>\n    <tr>\n      <td>data:aerodynamics:aircraft:cruise:L_D_max</td>\n      <td>OUT</td>\n      <td>max lift/drag ratio in cruise conditions</td>\n    </tr>\n    <tr>\n      <td>data:aerodynamics:aircraft:cruise:induced_drag_coefficient</td>\n      <td>OUT</td>\n      <td>multiply squared lift coefficient by this coefficient to get induced drag coefficient</td>\n    </tr>\n    <tr>\n      <td>data:aerodynamics:aircraft:cruise:optimal_CD</td>\n      <td>OUT</td>\n      <td>drag coefficient at maximum lift/drag ratio in cruise conditions</td>\n    </tr>\n    <tr>\n      <td>data:aerodynamics:aircraft:cruise:optimal_CL</td>\n      <td>OUT</td>\n      <td>lift coefficient at maximum lift/drag ratio in cruise conditions</td>\n    </tr>\n    <tr>\n      <td>data:aerodynamics:aircraft:landing:CL_max</td>\n      <td>OUT</td>\n      <td>maximum lift coefficient in landing conditions</td>\n    </tr>\n    <tr>\n      <td>data:aerodynamics:aircraft:landing:CL_max_clean</td>\n      <td>OUT</td>\n      <td>maximum lift coefficient in landing conditions without high-lift devices</td>\n    </tr>\n    <tr>\n      <td>data:aerodynamics:aircraft:landing:additional_CL_capacity</td>\n      <td>OUT</td>\n      <td>at landing, is equal to (maximum lift coefficient)-(maximum required lift coefficient)</td>\n    </tr>\n    <tr>\n      <td>data:aerodynamics:aircraft:landing:mach</td>\n      <td>OUT</td>\n      <td>considered Mach number for landing phase</td>\n    </tr>\n    <tr>\n      <td>data:aerodynamics:aircraft:low_speed:CD</td>\n      <td>OUT</td>\n      <td>drag coefficient in low speed conditions (no high-lift) w.r.t. data:aerodynamics:aircraft:low_speed:CL</td>\n    </tr>\n    <tr>\n      <td>data:aerodynamics:aircraft:low_speed:CD0</td>\n      <td>OUT</td>\n      <td>profile drag coefficient for whole aircraft in low speed conditions (no high-lift) w.r.t. data:aerodynamics:aircraft:low_speed:CL</td>\n    </tr>\n    <tr>\n      <td>data:aerodynamics:aircraft:low_speed:CD:trim</td>\n      <td>OUT</td>\n      <td>increment of drag coefficient due to aircraft trim in low speed conditions (no high-lift) w.r.t. data:aerodynamics:aircraft:low_speed:CL</td>\n    </tr>\n    <tr>\n      <td>data:aerodynamics:aircraft:low_speed:CL</td>\n      <td>OUT</td>\n      <td>scale of lift coefficient values for drag computations in low speed conditions</td>\n    </tr>\n    <tr>\n      <td>data:aerodynamics:aircraft:low_speed:induced_drag_coefficient</td>\n      <td>OUT</td>\n      <td>multiply squared lift coefficient by this coefficient to get induced drag coefficient</td>\n    </tr>\n    <tr>\n      <td>data:aerodynamics:aircraft:takeoff:CD</td>\n      <td>OUT</td>\n      <td>drag coefficient in takeoff conditions w.r.t. data:aerodynamics:aircraft:takeoff:CL</td>\n    </tr>\n    <tr>\n      <td>data:aerodynamics:aircraft:takeoff:CL</td>\n      <td>OUT</td>\n      <td>scale of lift coefficient values for drag computations in takeoff conditions</td>\n    </tr>\n    <tr>\n      <td>data:aerodynamics:aircraft:takeoff:CL0_clean</td>\n      <td>OUT</td>\n      <td>value of lift coefficient at angle of attack 0 in clean configuration at takeoff</td>\n    </tr>\n    <tr>\n      <td>data:aerodynamics:aircraft:takeoff:CL_alpha</td>\n      <td>OUT</td>\n      <td>derivative of lift coefficient with respect to angle of attack in takeoff conditions</td>\n    </tr>\n    <tr>\n      <td>data:aerodynamics:cruise:neutral_point:x</td>\n      <td>OUT</td>\n      <td>X-position of neutral point - X-position of aircraft nose</td>\n    </tr>\n    <tr>\n      <td>data:aerodynamics:fuselage:cruise:CD0</td>\n      <td>OUT</td>\n      <td>profile drag coefficient for fuselage w.r.t. data:aerodynamics:aircraft:cruise:CL</td>\n    </tr>\n    <tr>\n      <td>data:aerodynamics:fuselage:cruise:CnBeta</td>\n      <td>OUT</td>\n      <td>derivative of yawing moment against sideslip angle for fuselage in cruise conditions</td>\n    </tr>\n    <tr>\n      <td>data:aerodynamics:fuselage:low_speed:CD0</td>\n      <td>OUT</td>\n      <td>profile drag coefficient for fuselage w.r.t. data:aerodynamics:aircraft:low_speed:CL</td>\n    </tr>\n    <tr>\n      <td>data:aerodynamics:high_lift_devices:landing:CD</td>\n      <td>OUT</td>\n      <td>increment of CD due to high-lift devices for landing phase</td>\n    </tr>\n    <tr>\n      <td>data:aerodynamics:high_lift_devices:landing:CL</td>\n      <td>OUT</td>\n      <td>increment of CL due to high-lift devices for landing phase</td>\n    </tr>\n    <tr>\n      <td>data:aerodynamics:high_lift_devices:takeoff:CD</td>\n      <td>OUT</td>\n      <td>increment of CD due to high-lift devices for takeoff phase</td>\n    </tr>\n    <tr>\n      <td>data:aerodynamics:high_lift_devices:takeoff:CL</td>\n      <td>OUT</td>\n      <td>increment of CL due to high-lift devices for takeoff phase</td>\n    </tr>\n    <tr>\n      <td>data:aerodynamics:horizontal_tail:cruise:CD0</td>\n      <td>OUT</td>\n      <td>profile drag coefficient for horizontal tail in cruise conditions</td>\n    </tr>\n    <tr>\n      <td>data:aerodynamics:horizontal_tail:cruise:CL_alpha</td>\n      <td>OUT</td>\n      <td>derivative of lift coefficient of horizontal tail with respect to local angle of attack in cruise conditions</td>\n    </tr>\n    <tr>\n      <td>data:aerodynamics:horizontal_tail:low_speed:CD0</td>\n      <td>OUT</td>\n      <td>profile drag coefficient for horizontal tail in low speed conditions</td>\n    </tr>\n    <tr>\n      <td>data:aerodynamics:nacelles:cruise:CD0</td>\n      <td>OUT</td>\n      <td>profile drag coefficient for nacelles in cruise conditions</td>\n    </tr>\n    <tr>\n      <td>data:aerodynamics:nacelles:low_speed:CD0</td>\n      <td>OUT</td>\n      <td>profile drag coefficient for nacelles in low speed conditions</td>\n    </tr>\n    <tr>\n      <td>data:aerodynamics:pylons:cruise:CD0</td>\n      <td>OUT</td>\n      <td>profile drag coefficient for pylons in cruise conditions</td>\n    </tr>\n    <tr>\n      <td>data:aerodynamics:pylons:low_speed:CD0</td>\n      <td>OUT</td>\n      <td>profile drag coefficient for pylons in low speed conditions</td>\n    </tr>\n    <tr>\n      <td>data:aerodynamics:vertical_tail:cruise:CD0</td>\n      <td>OUT</td>\n      <td>profile drag coefficient for vertical tail in cruise conditions</td>\n    </tr>\n    <tr>\n      <td>data:aerodynamics:vertical_tail:cruise:CL_alpha</td>\n      <td>OUT</td>\n      <td>derivative of lift coefficient of horizontal tail with respect to local \"angle of attack\" in cruise conditions</td>\n    </tr>\n    <tr>\n      <td>data:aerodynamics:vertical_tail:cruise:CnBeta</td>\n      <td>OUT</td>\n      <td>derivative of yawing moment against sideslip angle for vertical tail in cruise conditions</td>\n    </tr>\n    <tr>\n      <td>data:aerodynamics:vertical_tail:low_speed:CD0</td>\n      <td>OUT</td>\n      <td>profile drag coefficient for vertical tail in low speed conditions</td>\n    </tr>\n    <tr>\n      <td>data:aerodynamics:wing:cruise:CD0</td>\n      <td>OUT</td>\n      <td>profile drag coefficient for wing w.r.t. data:aerodynamics:aircraft:cruise:CL</td>\n    </tr>\n    <tr>\n      <td>data:aerodynamics:wing:cruise:reynolds</td>\n      <td>OUT</td>\n      <td>Reynolds number based on wing mean aerodynamic chord in cruise conditions</td>\n    </tr>\n    <tr>\n      <td>data:aerodynamics:wing:landing:reynolds</td>\n      <td>OUT</td>\n      <td>Reynolds number based on wing mean aerodynamic chord in landing conditions</td>\n    </tr>\n    <tr>\n      <td>data:aerodynamics:wing:low_speed:CD0</td>\n      <td>OUT</td>\n      <td>profile drag coefficient for wing w.r.t. data:aerodynamics:aircraft:low_speed:CL</td>\n    </tr>\n    <tr>\n      <td>data:aerodynamics:wing:low_speed:reynolds</td>\n      <td>OUT</td>\n      <td>Reynolds number based on wing mean aerodynamic chord in low speed conditions</td>\n    </tr>\n    <tr>\n      <td>data:geometry:aircraft:wetted_area</td>\n      <td>OUT</td>\n      <td>total wetted area</td>\n    </tr>\n    <tr>\n      <td>data:geometry:cabin:NPAX1</td>\n      <td>OUT</td>\n      <td>number of passengers if there are only economical class seats</td>\n    </tr>\n    <tr>\n      <td>data:geometry:cabin:crew_count:commercial</td>\n      <td>OUT</td>\n      <td>number of commercial crew members</td>\n    </tr>\n    <tr>\n      <td>data:geometry:cabin:length</td>\n      <td>OUT</td>\n      <td>cabin length</td>\n    </tr>\n    <tr>\n      <td>data:geometry:fuselage:PAX_length</td>\n      <td>OUT</td>\n      <td>length of passenger-dedicated zone</td>\n    </tr>\n    <tr>\n      <td>data:geometry:fuselage:front_length</td>\n      <td>OUT</td>\n      <td>length of front non-cylindrical part of the fuselage</td>\n    </tr>\n    <tr>\n      <td>data:geometry:fuselage:length</td>\n      <td>OUT</td>\n      <td>total fuselage length</td>\n    </tr>\n    <tr>\n      <td>data:geometry:fuselage:maximum_height</td>\n      <td>OUT</td>\n      <td>maximum fuselage height</td>\n    </tr>\n    <tr>\n      <td>data:geometry:fuselage:maximum_width</td>\n      <td>OUT</td>\n      <td>maximum fuselage width</td>\n    </tr>\n    <tr>\n      <td>data:geometry:fuselage:rear_length</td>\n      <td>OUT</td>\n      <td>length of rear non-cylindrical part of the fuselage</td>\n    </tr>\n    <tr>\n      <td>data:geometry:fuselage:wetted_area</td>\n      <td>OUT</td>\n      <td>wetted area of fuselage</td>\n    </tr>\n    <tr>\n      <td>data:geometry:horizontal_tail:MAC:at25percent:x:from_wingMAC25</td>\n      <td>OUT</td>\n      <td>distance along X between 25% MAC of wing and 25% MAC of horizontal tail</td>\n    </tr>\n    <tr>\n      <td>data:geometry:horizontal_tail:MAC:at25percent:x:local</td>\n      <td>OUT</td>\n      <td>X-position of the 25% of mean aerodynamic chord of horizontal tail w.r.t. leading edge of root chord</td>\n    </tr>\n    <tr>\n      <td>data:geometry:horizontal_tail:MAC:length</td>\n      <td>OUT</td>\n      <td>mean aerodynamic chord length of horizontal tail</td>\n    </tr>\n    <tr>\n      <td>data:geometry:horizontal_tail:MAC:y</td>\n      <td>OUT</td>\n      <td>Y-position of mean aerodynamic chord of horizontal tail</td>\n    </tr>\n    <tr>\n      <td>data:geometry:horizontal_tail:area</td>\n      <td>OUT</td>\n      <td>horizontal tail area</td>\n    </tr>\n    <tr>\n      <td>data:geometry:horizontal_tail:root:chord</td>\n      <td>OUT</td>\n      <td>chord length at root of horizontal tail</td>\n    </tr>\n    <tr>\n      <td>data:geometry:horizontal_tail:span</td>\n      <td>OUT</td>\n      <td>horizontal tail span</td>\n    </tr>\n    <tr>\n      <td>data:geometry:horizontal_tail:sweep_0</td>\n      <td>OUT</td>\n      <td>sweep angle at leading edge of horizontal tail</td>\n    </tr>\n    <tr>\n      <td>data:geometry:horizontal_tail:sweep_100</td>\n      <td>OUT</td>\n      <td>sweep angle at trailing edge of horizontal tail</td>\n    </tr>\n    <tr>\n      <td>data:geometry:horizontal_tail:tip:chord</td>\n      <td>OUT</td>\n      <td>chord length at tip of horizontal tail</td>\n    </tr>\n    <tr>\n      <td>data:geometry:horizontal_tail:wetted_area</td>\n      <td>OUT</td>\n      <td>wetted area of horizontal tail</td>\n    </tr>\n    <tr>\n      <td>data:geometry:landing_gear:height</td>\n      <td>OUT</td>\n      <td>height of landing gear</td>\n    </tr>\n    <tr>\n      <td>data:geometry:propulsion:fan:length</td>\n      <td>OUT</td>\n      <td>engine length</td>\n    </tr>\n    <tr>\n      <td>data:geometry:propulsion:nacelle:diameter</td>\n      <td>OUT</td>\n      <td>nacelle diameter</td>\n    </tr>\n    <tr>\n      <td>data:geometry:propulsion:nacelle:length</td>\n      <td>OUT</td>\n      <td>nacelle length</td>\n    </tr>\n    <tr>\n      <td>data:geometry:propulsion:nacelle:wetted_area</td>\n      <td>OUT</td>\n      <td>wetted area of nacelle</td>\n    </tr>\n    <tr>\n      <td>data:geometry:propulsion:nacelle:y</td>\n      <td>OUT</td>\n      <td>Y-position of nacelle center</td>\n    </tr>\n    <tr>\n      <td>data:geometry:propulsion:pylon:length</td>\n      <td>OUT</td>\n      <td>pylon length</td>\n    </tr>\n    <tr>\n      <td>data:geometry:propulsion:pylon:wetted_area</td>\n      <td>OUT</td>\n      <td>wetted area of pylon</td>\n    </tr>\n    <tr>\n      <td>data:geometry:vertical_tail:MAC:at25percent:x:from_wingMAC25</td>\n      <td>OUT</td>\n      <td>distance along X between 25% MAC of wing and 25% MAC of vertical tail</td>\n    </tr>\n    <tr>\n      <td>data:geometry:vertical_tail:MAC:at25percent:x:local</td>\n      <td>OUT</td>\n      <td>X-position of the 25% of mean aerodynamic chord of vertical tail w.r.t. leading edge of root chord</td>\n    </tr>\n    <tr>\n      <td>data:geometry:vertical_tail:MAC:length</td>\n      <td>OUT</td>\n      <td>mean aerodynamic chord length of vertical tail</td>\n    </tr>\n    <tr>\n      <td>data:geometry:vertical_tail:MAC:z</td>\n      <td>OUT</td>\n      <td>Z-position of mean aerodynamic chord of vertical tail</td>\n    </tr>\n    <tr>\n      <td>data:geometry:vertical_tail:area</td>\n      <td>OUT</td>\n      <td>vertical tail area</td>\n    </tr>\n    <tr>\n      <td>data:geometry:vertical_tail:root:chord</td>\n      <td>OUT</td>\n      <td>chord length at root of vertical tail</td>\n    </tr>\n    <tr>\n      <td>data:geometry:vertical_tail:span</td>\n      <td>OUT</td>\n      <td>vertical tail span</td>\n    </tr>\n    <tr>\n      <td>data:geometry:vertical_tail:sweep_0</td>\n      <td>OUT</td>\n      <td>sweep angle at leading edge of vertical tail</td>\n    </tr>\n    <tr>\n      <td>data:geometry:vertical_tail:sweep_100</td>\n      <td>OUT</td>\n      <td>sweep angle at trailing edge of vertical tail</td>\n    </tr>\n    <tr>\n      <td>data:geometry:vertical_tail:tip:chord</td>\n      <td>OUT</td>\n      <td>chord length at tip of vertical tail</td>\n    </tr>\n    <tr>\n      <td>data:geometry:vertical_tail:wetted_area</td>\n      <td>OUT</td>\n      <td>wetted area of vertical tail</td>\n    </tr>\n    <tr>\n      <td>data:geometry:wing:MAC:at25percent:x</td>\n      <td>OUT</td>\n      <td>X-position of the 25% of mean aerodynamic chord of wing w.r.t. aircraft nose (drives position of wing along fuselage)</td>\n    </tr>\n    <tr>\n      <td>data:geometry:wing:MAC:leading_edge:x:local</td>\n      <td>OUT</td>\n      <td>X-position of leading edge of mean aerodynamic chord w.r.t. leading edge of root chord</td>\n    </tr>\n    <tr>\n      <td>data:geometry:wing:MAC:length</td>\n      <td>OUT</td>\n      <td>length of mean aerodynamic chord of wing</td>\n    </tr>\n    <tr>\n      <td>data:geometry:wing:MAC:y</td>\n      <td>OUT</td>\n      <td>Y-position of mean aerodynamic chord of wing</td>\n    </tr>\n    <tr>\n      <td>data:geometry:wing:area</td>\n      <td>OUT</td>\n      <td>wing reference area</td>\n    </tr>\n    <tr>\n      <td>data:geometry:wing:b_50</td>\n      <td>OUT</td>\n      <td>actual length between root and tip along 50% of chord</td>\n    </tr>\n    <tr>\n      <td>data:geometry:wing:kink:chord</td>\n      <td>OUT</td>\n      <td>chord length at wing kink</td>\n    </tr>\n    <tr>\n      <td>data:geometry:wing:kink:leading_edge:x:local</td>\n      <td>OUT</td>\n      <td>X-position of leading edge at wing kink w.r.t. leading edge of root chord</td>\n    </tr>\n    <tr>\n      <td>data:geometry:wing:kink:thickness_ratio</td>\n      <td>OUT</td>\n      <td>thickness ratio at wing kink</td>\n    </tr>\n    <tr>\n      <td>data:geometry:wing:kink:y</td>\n      <td>OUT</td>\n      <td>Y-position of wing kink</td>\n    </tr>\n    <tr>\n      <td>data:geometry:wing:outer_area</td>\n      <td>OUT</td>\n      <td>wing area outside of fuselage</td>\n    </tr>\n    <tr>\n      <td>data:geometry:wing:root:chord</td>\n      <td>OUT</td>\n      <td>chord length at wing root</td>\n    </tr>\n    <tr>\n      <td>data:geometry:wing:root:thickness_ratio</td>\n      <td>OUT</td>\n      <td>thickness ratio at wing root</td>\n    </tr>\n    <tr>\n      <td>data:geometry:wing:root:virtual_chord</td>\n      <td>OUT</td>\n      <td>virtual chord length at wing root if sweep angle of trailing edge of outer wing part was on the whole wing (no kink)</td>\n    </tr>\n    <tr>\n      <td>data:geometry:wing:root:y</td>\n      <td>OUT</td>\n      <td>Y-position of wing root</td>\n    </tr>\n    <tr>\n      <td>data:geometry:wing:span</td>\n      <td>OUT</td>\n      <td>wing span</td>\n    </tr>\n    <tr>\n      <td>data:geometry:wing:sweep_0</td>\n      <td>OUT</td>\n      <td>sweep angle at leading edge of wing</td>\n    </tr>\n    <tr>\n      <td>data:geometry:wing:sweep_100_inner</td>\n      <td>OUT</td>\n      <td>sweep angle at trailing edge of wing (inner side of the kink)</td>\n    </tr>\n    <tr>\n      <td>data:geometry:wing:sweep_100_outer</td>\n      <td>OUT</td>\n      <td>sweep angle at trailing edge of wing (outer side of the kink)</td>\n    </tr>\n    <tr>\n      <td>data:geometry:wing:thickness_ratio</td>\n      <td>OUT</td>\n      <td>mean thickness ratio of wing</td>\n    </tr>\n    <tr>\n      <td>data:geometry:wing:tip:chord</td>\n      <td>OUT</td>\n      <td>chord length at wing tip</td>\n    </tr>\n    <tr>\n      <td>data:geometry:wing:tip:leading_edge:x:local</td>\n      <td>OUT</td>\n      <td>X-position of leading edge at wing tip w.r.t. leading edge of root chord</td>\n    </tr>\n    <tr>\n      <td>data:geometry:wing:tip:thickness_ratio</td>\n      <td>OUT</td>\n      <td>thickness ratio at wing tip</td>\n    </tr>\n    <tr>\n      <td>data:geometry:wing:tip:y</td>\n      <td>OUT</td>\n      <td>Y-position of wing tip</td>\n    </tr>\n    <tr>\n      <td>data:geometry:wing:wetted_area</td>\n      <td>OUT</td>\n      <td>wetted area of wing</td>\n    </tr>\n    <tr>\n      <td>data:handling_qualities:static_margin</td>\n      <td>OUT</td>\n      <td>(X-position of neutral point - X-position of center of gravity ) / (mean aerodynamic chord)</td>\n    </tr>\n    <tr>\n      <td>data:mission:sizing:TOW</td>\n      <td>OUT</td>\n      <td>TakeOff Weight for mission \"sizing\"</td>\n    </tr>\n    <tr>\n      <td>data:mission:sizing:ZFW</td>\n      <td>OUT</td>\n      <td>Zero Fuel Weight for mission \"sizing\"</td>\n    </tr>\n    <tr>\n      <td>data:mission:sizing:block_fuel</td>\n      <td>OUT</td>\n      <td>Loaded fuel before taxi-out for mission \"sizing\"</td>\n    </tr>\n    <tr>\n      <td>data:mission:sizing:cs25:sizing_load_1</td>\n      <td>OUT</td>\n      <td>sizing load during gust with minimum aircraft mass</td>\n    </tr>\n    <tr>\n      <td>data:mission:sizing:cs25:sizing_load_2</td>\n      <td>OUT</td>\n      <td>sizing load during gust with maximum aircraft mass</td>\n    </tr>\n    <tr>\n      <td>data:mission:sizing:distance</td>\n      <td>OUT</td>\n      <td>covered ground distance during mission \"sizing\"</td>\n    </tr>\n    <tr>\n      <td>data:mission:sizing:duration</td>\n      <td>OUT</td>\n      <td>duration of mission \"sizing\"</td>\n    </tr>\n    <tr>\n      <td>data:mission:sizing:fuel</td>\n      <td>OUT</td>\n      <td>burned fuel during mission \"sizing\"</td>\n    </tr>\n    <tr>\n      <td>data:mission:sizing:main_route:climb:distance</td>\n      <td>OUT</td>\n      <td>covered ground distance during phase \"climb\" of route \"main_route\" in mission \"sizing\"</td>\n    </tr>\n    <tr>\n      <td>data:mission:sizing:main_route:climb:duration</td>\n      <td>OUT</td>\n      <td>duration of phase \"climb\" of route \"main_route\" in mission \"sizing\"</td>\n    </tr>\n    <tr>\n      <td>data:mission:sizing:main_route:climb:fuel</td>\n      <td>OUT</td>\n      <td>burned fuel during phase \"climb\" of route \"main_route\" in mission \"sizing\"</td>\n    </tr>\n    <tr>\n      <td>data:mission:sizing:main_route:cruise:distance</td>\n      <td>OUT</td>\n      <td>covered ground distance during phase \"cruise\" of route \"main_route\" in mission \"sizing\"</td>\n    </tr>\n    <tr>\n      <td>data:mission:sizing:main_route:cruise:duration</td>\n      <td>OUT</td>\n      <td>duration of phase \"cruise\" of route \"main_route\" in mission \"sizing\"</td>\n    </tr>\n    <tr>\n      <td>data:mission:sizing:main_route:cruise:fuel</td>\n      <td>OUT</td>\n      <td>burned fuel during phase \"cruise\" of route \"main_route\" in mission \"sizing\"</td>\n    </tr>\n    <tr>\n      <td>data:mission:sizing:main_route:descent:distance</td>\n      <td>OUT</td>\n      <td>covered ground distance during phase \"descent\" of route \"main_route\" in mission \"sizing\"</td>\n    </tr>\n    <tr>\n      <td>data:mission:sizing:main_route:descent:duration</td>\n      <td>OUT</td>\n      <td>duration of phase \"descent\" of route \"main_route\" in mission \"sizing\"</td>\n    </tr>\n    <tr>\n      <td>data:mission:sizing:main_route:descent:fuel</td>\n      <td>OUT</td>\n      <td>burned fuel during phase \"descent\" of route \"main_route\" in mission \"sizing\"</td>\n    </tr>\n    <tr>\n      <td>data:mission:sizing:main_route:distance</td>\n      <td>OUT</td>\n      <td>covered ground distance during route \"main_route\" in mission \"sizing\"</td>\n    </tr>\n    <tr>\n      <td>data:mission:sizing:main_route:duration</td>\n      <td>OUT</td>\n      <td>duration of route \"main_route\" in mission \"sizing\"</td>\n    </tr>\n    <tr>\n      <td>data:mission:sizing:main_route:fuel</td>\n      <td>OUT</td>\n      <td>burned fuel during route \"main_route\" in mission \"sizing\"</td>\n    </tr>\n    <tr>\n      <td>data:mission:sizing:needed_block_fuel</td>\n      <td>OUT</td>\n      <td>Needed fuel to complete mission \"sizing\", including reserve fuel</td>\n    </tr>\n    <tr>\n      <td>data:mission:sizing:needed_onboard_fuel_at_takeoff</td>\n      <td>OUT</td>\n      <td>fuel quantity at instant of takeoff of mission \"sizing\"</td>\n    </tr>\n    <tr>\n      <td>data:mission:sizing:reserve:distance</td>\n      <td>OUT</td>\n      <td>covered ground distance during phase \"reserve\" in mission \"sizing\"</td>\n    </tr>\n    <tr>\n      <td>data:mission:sizing:reserve:duration</td>\n      <td>OUT</td>\n      <td>duration of phase \"reserve\" in mission \"sizing\"</td>\n    </tr>\n    <tr>\n      <td>data:mission:sizing:reserve:fuel</td>\n      <td>OUT</td>\n      <td>burned fuel during phase \"reserve\" in mission \"sizing\"</td>\n    </tr>\n    <tr>\n      <td>data:mission:sizing:taxi_out:fuel</td>\n      <td>OUT</td>\n      <td>burned fuel during taxi-out of mission \"sizing\"</td>\n    </tr>\n    <tr>\n      <td>data:weight:aircraft:CG:aft:MAC_position</td>\n      <td>OUT</td>\n      <td>most aft X-position of center of gravity as ratio of mean aerodynamic chord</td>\n    </tr>\n    <tr>\n      <td>data:weight:aircraft:CG:aft:x</td>\n      <td>OUT</td>\n      <td>most aft X-position of aircraft center of gravity</td>\n    </tr>\n    <tr>\n      <td>data:weight:aircraft:MFW</td>\n      <td>OUT</td>\n      <td>maximum fuel weight</td>\n    </tr>\n    <tr>\n      <td>data:weight:aircraft:MLW</td>\n      <td>OUT</td>\n      <td>maximum landing weight</td>\n    </tr>\n    <tr>\n      <td>data:weight:aircraft:MTOW</td>\n      <td>OUT</td>\n      <td>maximum takeoff weight</td>\n    </tr>\n    <tr>\n      <td>data:weight:aircraft:MZFW</td>\n      <td>OUT</td>\n      <td>maximum zero fuel weight</td>\n    </tr>\n    <tr>\n      <td>data:weight:aircraft:OWE</td>\n      <td>OUT</td>\n      <td>Mass of crew</td>\n    </tr>\n    <tr>\n      <td>data:weight:aircraft:additional_fuel_capacity</td>\n      <td>OUT</td>\n      <td>fuel mass capacity of wing that exceeds sizing mission requirement</td>\n    </tr>\n    <tr>\n      <td>data:weight:aircraft:empty:CG:MAC_position</td>\n      <td>OUT</td>\n      <td>X-position of center of gravity as ratio of mean aerodynamic chord for empty aircraft</td>\n    </tr>\n    <tr>\n      <td>data:weight:aircraft:load_case_1:CG:MAC_position</td>\n      <td>OUT</td>\n      <td>X-position of center of gravity as ratio of mean aerodynamic chord for load case 1</td>\n    </tr>\n    <tr>\n      <td>data:weight:aircraft:load_case_2:CG:MAC_position</td>\n      <td>OUT</td>\n      <td>X-position of center of gravity as ratio of mean aerodynamic chord for load case 2</td>\n    </tr>\n    <tr>\n      <td>data:weight:aircraft:load_case_3:CG:MAC_position</td>\n      <td>OUT</td>\n      <td>X-position of center of gravity as ratio of mean aerodynamic chord for load case 3</td>\n    </tr>\n    <tr>\n      <td>data:weight:aircraft:load_case_4:CG:MAC_position</td>\n      <td>OUT</td>\n      <td>X-position of center of gravity as ratio of mean aerodynamic chord for load case 4</td>\n    </tr>\n    <tr>\n      <td>data:weight:aircraft:max_payload</td>\n      <td>OUT</td>\n      <td>max payload weight</td>\n    </tr>\n    <tr>\n      <td>data:weight:aircraft:payload</td>\n      <td>OUT</td>\n      <td>design payload weight</td>\n    </tr>\n    <tr>\n      <td>data:weight:aircraft:sizing_block_fuel</td>\n      <td>OUT</td>\n      <td>block fuel quantity (i.e. loaded before taxi-out) used for sizing process</td>\n    </tr>\n    <tr>\n      <td>data:weight:aircraft:sizing_onboard_fuel_at_takeoff</td>\n      <td>OUT</td>\n      <td>fuel quantity at instant of takeoff used for computation of MTOW (Max. TakeOff Weight)</td>\n    </tr>\n    <tr>\n      <td>data:weight:aircraft_empty:CG:x</td>\n      <td>OUT</td>\n      <td>X-position center of gravity of empty aircraft</td>\n    </tr>\n    <tr>\n      <td>data:weight:aircraft_empty:mass</td>\n      <td>OUT</td>\n      <td>mass of empty aircraft (=OWE - mass of crew)</td>\n    </tr>\n    <tr>\n      <td>data:weight:airframe:flight_controls:CG:x</td>\n      <td>OUT</td>\n      <td>flight controls (A4): X-position of center of gravity</td>\n    </tr>\n    <tr>\n      <td>data:weight:airframe:flight_controls:mass</td>\n      <td>OUT</td>\n      <td>flight controls (A4): total mass</td>\n    </tr>\n    <tr>\n      <td>data:weight:airframe:fuselage:CG:x</td>\n      <td>OUT</td>\n      <td>fuselage (A2): X-position of center of gravity</td>\n    </tr>\n    <tr>\n      <td>data:weight:airframe:fuselage:mass</td>\n      <td>OUT</td>\n      <td>fuselage (A2): total mass</td>\n    </tr>\n    <tr>\n      <td>data:weight:airframe:horizontal_tail:CG:x</td>\n      <td>OUT</td>\n      <td>horizontal tail (A31): X-position of center of gravity</td>\n    </tr>\n    <tr>\n      <td>data:weight:airframe:horizontal_tail:mass</td>\n      <td>OUT</td>\n      <td>horizontal tail (A31): mass</td>\n    </tr>\n    <tr>\n      <td>data:weight:airframe:landing_gear:front:CG:x</td>\n      <td>OUT</td>\n      <td>front landing gear (A52): X-position of center of gravity</td>\n    </tr>\n    <tr>\n      <td>data:weight:airframe:landing_gear:front:mass</td>\n      <td>OUT</td>\n      <td>front landing gear (A52): mass</td>\n    </tr>\n    <tr>\n      <td>data:weight:airframe:landing_gear:main:CG:x</td>\n      <td>OUT</td>\n      <td>main landing gear (A51): X-position of center of gravity</td>\n    </tr>\n    <tr>\n      <td>data:weight:airframe:landing_gear:main:mass</td>\n      <td>OUT</td>\n      <td>main landing gear (A51): mass</td>\n    </tr>\n    <tr>\n      <td>data:weight:airframe:mass</td>\n      <td>OUT</td>\n      <td>Mass of airframe</td>\n    </tr>\n    <tr>\n      <td>data:weight:airframe:paint:CG:x</td>\n      <td>OUT</td>\n      <td>paint (A7): X-position of center of gravity</td>\n    </tr>\n    <tr>\n      <td>data:weight:airframe:paint:mass</td>\n      <td>OUT</td>\n      <td>paint (A7): total mass</td>\n    </tr>\n    <tr>\n      <td>data:weight:airframe:pylon:CG:x</td>\n      <td>OUT</td>\n      <td>pylon (A6): X-position of center of gravity</td>\n    </tr>\n    <tr>\n      <td>data:weight:airframe:pylon:mass</td>\n      <td>OUT</td>\n      <td>pylon (A6): total mass</td>\n    </tr>\n    <tr>\n      <td>data:weight:airframe:vertical_tail:CG:x</td>\n      <td>OUT</td>\n      <td>vertical tail (A32): X-position of center of gravity</td>\n    </tr>\n    <tr>\n      <td>data:weight:airframe:vertical_tail:mass</td>\n      <td>OUT</td>\n      <td>vertical tail (A32): mass</td>\n    </tr>\n    <tr>\n      <td>data:weight:airframe:wing:CG:x</td>\n      <td>OUT</td>\n      <td>wing (A1): X-position of center of gravity</td>\n    </tr>\n    <tr>\n      <td>data:weight:airframe:wing:mass</td>\n      <td>OUT</td>\n      <td>wing (A1): total mass</td>\n    </tr>\n    <tr>\n      <td>data:weight:crew:mass</td>\n      <td>OUT</td>\n      <td>crew (E): mass</td>\n    </tr>\n    <tr>\n      <td>data:weight:fuel_tank:CG:x</td>\n      <td>OUT</td>\n      <td>fuel tank: X-position of center of gravity</td>\n    </tr>\n    <tr>\n      <td>data:weight:furniture:food_water:CG:x</td>\n      <td>OUT</td>\n      <td>food water (D3): X-position of center of gravity</td>\n    </tr>\n    <tr>\n      <td>data:weight:furniture:food_water:mass</td>\n      <td>OUT</td>\n      <td>food water (D3): mass</td>\n    </tr>\n    <tr>\n      <td>data:weight:furniture:mass</td>\n      <td>OUT</td>\n      <td>Mass of aircraft furniture</td>\n    </tr>\n    <tr>\n      <td>data:weight:furniture:passenger_seats:CG:x</td>\n      <td>OUT</td>\n      <td>passenger seats (D2): X-position of center of gravity</td>\n    </tr>\n    <tr>\n      <td>data:weight:furniture:passenger_seats:mass</td>\n      <td>OUT</td>\n      <td>passenger seats (D2): mass</td>\n    </tr>\n    <tr>\n      <td>data:weight:furniture:security_kit:CG:x</td>\n      <td>OUT</td>\n      <td>security kit (D4): X-position of center of gravity</td>\n    </tr>\n    <tr>\n      <td>data:weight:furniture:security_kit:mass</td>\n      <td>OUT</td>\n      <td>security kit (D4): mass</td>\n    </tr>\n    <tr>\n      <td>data:weight:furniture:toilets:CG:x</td>\n      <td>OUT</td>\n      <td>toilets (D5): X-position of center of gravity</td>\n    </tr>\n    <tr>\n      <td>data:weight:furniture:toilets:mass</td>\n      <td>OUT</td>\n      <td>toilets (D5): mass</td>\n    </tr>\n    <tr>\n      <td>data:weight:payload:PAX:CG:x</td>\n      <td>OUT</td>\n      <td>passengers: X-position of center of gravity</td>\n    </tr>\n    <tr>\n      <td>data:weight:payload:front_fret:CG:x</td>\n      <td>OUT</td>\n      <td>front fret: X-position of center of gravity</td>\n    </tr>\n    <tr>\n      <td>data:weight:payload:rear_fret:CG:x</td>\n      <td>OUT</td>\n      <td>rear fret: X-position of center of gravity</td>\n    </tr>\n    <tr>\n      <td>data:weight:propulsion:engine:CG:x</td>\n      <td>OUT</td>\n      <td>engine (B1): X-position of center of gravity</td>\n    </tr>\n    <tr>\n      <td>data:weight:propulsion:engine:mass</td>\n      <td>OUT</td>\n      <td>engine (B1): mass</td>\n    </tr>\n    <tr>\n      <td>data:weight:propulsion:fuel_lines:CG:x</td>\n      <td>OUT</td>\n      <td>fuel lines (B2): X-position of center of gravity</td>\n    </tr>\n    <tr>\n      <td>data:weight:propulsion:fuel_lines:mass</td>\n      <td>OUT</td>\n      <td>fuel lines (B2): mass</td>\n    </tr>\n    <tr>\n      <td>data:weight:propulsion:mass</td>\n      <td>OUT</td>\n      <td>Mass of the propulsion system</td>\n    </tr>\n    <tr>\n      <td>data:weight:propulsion:unconsumables:CG:x</td>\n      <td>OUT</td>\n      <td>unconsumables (B3): X-position of center of gravity</td>\n    </tr>\n    <tr>\n      <td>data:weight:propulsion:unconsumables:mass</td>\n      <td>OUT</td>\n      <td>unconsumables (B3): mass</td>\n    </tr>\n    <tr>\n      <td>data:weight:systems:flight_kit:CG:x</td>\n      <td>OUT</td>\n      <td>flight kit (C6): X-position of center of gravity</td>\n    </tr>\n    <tr>\n      <td>data:weight:systems:flight_kit:mass</td>\n      <td>OUT</td>\n      <td>flight kit (C6): mass</td>\n    </tr>\n    <tr>\n      <td>data:weight:systems:life_support:air_conditioning:CG:x</td>\n      <td>OUT</td>\n      <td>air conditioning (C2): X-position of center of gravity</td>\n    </tr>\n    <tr>\n      <td>data:weight:systems:life_support:air_conditioning:mass</td>\n      <td>OUT</td>\n      <td>air conditioning (C2): mass</td>\n    </tr>\n    <tr>\n      <td>data:weight:systems:life_support:cabin_lighting:CG:x</td>\n      <td>OUT</td>\n      <td>cabin lighting (C2): X-position of center of gravity</td>\n    </tr>\n    <tr>\n      <td>data:weight:systems:life_support:cabin_lighting:mass</td>\n      <td>OUT</td>\n      <td>cabin lighting (C2): mass</td>\n    </tr>\n    <tr>\n      <td>data:weight:systems:life_support:de-icing:CG:x</td>\n      <td>OUT</td>\n      <td>de-icing (C2): X-position of center of gravity</td>\n    </tr>\n    <tr>\n      <td>data:weight:systems:life_support:de-icing:mass</td>\n      <td>OUT</td>\n      <td>de-icing (C2): mass</td>\n    </tr>\n    <tr>\n      <td>data:weight:systems:life_support:insulation:CG:x</td>\n      <td>OUT</td>\n      <td>insulation (C21): X-position of center of gravity</td>\n    </tr>\n    <tr>\n      <td>data:weight:systems:life_support:insulation:mass</td>\n      <td>OUT</td>\n      <td>insulation (C21): mass</td>\n    </tr>\n    <tr>\n      <td>data:weight:systems:life_support:oxygen:CG:x</td>\n      <td>OUT</td>\n      <td>oxygen (C21): X-position of center of gravity</td>\n    </tr>\n    <tr>\n      <td>data:weight:systems:life_support:oxygen:mass</td>\n      <td>OUT</td>\n      <td>oxygen (C21): mass</td>\n    </tr>\n    <tr>\n      <td>data:weight:systems:life_support:safety_equipment:CG:x</td>\n      <td>OUT</td>\n      <td>safety equipment (C21): X-position of center of gravity</td>\n    </tr>\n    <tr>\n      <td>data:weight:systems:life_support:safety_equipment:mass</td>\n      <td>OUT</td>\n      <td>safety equipment (C21): mass</td>\n    </tr>\n    <tr>\n      <td>data:weight:systems:life_support:seats_crew_accommodation:CG:x</td>\n      <td>OUT</td>\n      <td>seats crew accommodation (C21): X-position of center of gravity</td>\n    </tr>\n    <tr>\n      <td>data:weight:systems:life_support:seats_crew_accommodation:mass</td>\n      <td>OUT</td>\n      <td>seats crew accommodation (C21): mass</td>\n    </tr>\n    <tr>\n      <td>data:weight:systems:mass</td>\n      <td>OUT</td>\n      <td>Mass of aircraft systems</td>\n    </tr>\n    <tr>\n      <td>data:weight:systems:navigation:CG:x</td>\n      <td>OUT</td>\n      <td>navigation (C3): X-position of center of gravity</td>\n    </tr>\n    <tr>\n      <td>data:weight:systems:navigation:mass</td>\n      <td>OUT</td>\n      <td>navigation (C3): mass</td>\n    </tr>\n    <tr>\n      <td>data:weight:systems:operational:cargo_hold:CG:x</td>\n      <td>OUT</td>\n      <td>cargo hold (C52): X-position of center of gravity</td>\n    </tr>\n    <tr>\n      <td>data:weight:systems:operational:cargo_hold:mass</td>\n      <td>OUT</td>\n      <td>cargo hold (C52): mass</td>\n    </tr>\n    <tr>\n      <td>data:weight:systems:operational:radar:CG:x</td>\n      <td>OUT</td>\n      <td>radar (C51): X-position of center of gravity</td>\n    </tr>\n    <tr>\n      <td>data:weight:systems:operational:radar:mass</td>\n      <td>OUT</td>\n      <td>radar (C51): mass</td>\n    </tr>\n    <tr>\n      <td>data:weight:systems:power:auxiliary_power_unit:CG:x</td>\n      <td>OUT</td>\n      <td>power (C1): X-position of center of gravity</td>\n    </tr>\n    <tr>\n      <td>data:weight:systems:power:auxiliary_power_unit:mass</td>\n      <td>OUT</td>\n      <td>power (C1): mass</td>\n    </tr>\n    <tr>\n      <td>data:weight:systems:power:electric_systems:CG:x</td>\n      <td>OUT</td>\n      <td>power (C1): X-position of center of gravity</td>\n    </tr>\n    <tr>\n      <td>data:weight:systems:power:electric_systems:mass</td>\n      <td>OUT</td>\n      <td>power (C1): mass</td>\n    </tr>\n    <tr>\n      <td>data:weight:systems:power:hydraulic_systems:CG:x</td>\n      <td>OUT</td>\n      <td>power (C1): X-position of center of gravity</td>\n    </tr>\n    <tr>\n      <td>data:weight:systems:power:hydraulic_systems:mass</td>\n      <td>OUT</td>\n      <td>power (C1): mass</td>\n    </tr>\n    <tr>\n      <td>data:weight:systems:transmission:CG:x</td>\n      <td>OUT</td>\n      <td>transmission (C4): X-position of center of gravity</td>\n    </tr>\n    <tr>\n      <td>data:weight:systems:transmission:mass</td>\n      <td>OUT</td>\n      <td>transmission (C4): mass</td>\n    </tr>\n  </tbody>\n</table>"
     },
     "metadata": {},
     "output_type": "display_data"
    }
   ],
   "source": [
    "oad.list_variables(CONFIGURATION_FILE)"
   ]
  },
  {
   "cell_type": "markdown",
   "metadata": {},
   "source": [
    "Another useful feature is to list the modules of the model defined in the configuration file:"
   ]
  },
  {
   "cell_type": "code",
   "execution_count": 5,
   "metadata": {},
   "outputs": [
    {
     "data": {
      "text/plain": "<IPython.core.display.HTML object>",
      "text/html": "<table>\n<tbody>\n<tr><td>AVAILABLE MODULE IDENTIFIERS            </td><td>MODULE PATH                                                                                                      </td></tr>\n<tr><td>fastoad.aerodynamics.highspeed.legacy   </td><td>C:\\Users\\Mathieu\\PycharmProjects\\FAST-OAD\\src\\fastoad\\models\\aerodynamics\\aerodynamics_high_speed.py             </td></tr>\n<tr><td>fastoad.aerodynamics.landing.legacy     </td><td>C:\\Users\\Mathieu\\PycharmProjects\\FAST-OAD\\src\\fastoad\\models\\aerodynamics\\aerodynamics_landing.py                </td></tr>\n<tr><td>fastoad.aerodynamics.lowspeed.legacy    </td><td>C:\\Users\\Mathieu\\PycharmProjects\\FAST-OAD\\src\\fastoad\\models\\aerodynamics\\aerodynamics_low_speed.py              </td></tr>\n<tr><td>fastoad.aerodynamics.takeoff.legacy     </td><td>C:\\Users\\Mathieu\\PycharmProjects\\FAST-OAD\\src\\fastoad\\models\\aerodynamics\\aerodynamics_takeoff.py                </td></tr>\n<tr><td>fastoad.geometry.legacy                 </td><td>C:\\Users\\Mathieu\\PycharmProjects\\FAST-OAD\\src\\fastoad\\models\\geometry\\geometry.py                                </td></tr>\n<tr><td>fastoad.handling_qualities.static_margin</td><td>C:\\Users\\Mathieu\\PycharmProjects\\FAST-OAD\\src\\fastoad\\models\\handling_qualities\\compute_static_margin.py         </td></tr>\n<tr><td>fastoad.handling_qualities.tail_sizing  </td><td>C:\\Users\\Mathieu\\PycharmProjects\\FAST-OAD\\src\\fastoad\\models\\handling_qualities\\tail_sizing\\compute_tail_areas.py</td></tr>\n<tr><td>fastoad.loop.wing_area                  </td><td>C:\\Users\\Mathieu\\PycharmProjects\\FAST-OAD\\src\\fastoad\\models\\loops\\compute_wing_area.py                          </td></tr>\n<tr><td>fastoad.loop.wing_position              </td><td>C:\\Users\\Mathieu\\PycharmProjects\\FAST-OAD\\src\\fastoad\\models\\loops\\compute_wing_position.py                      </td></tr>\n<tr><td>fastoad.mass_performances.compute_MTOW  </td><td>C:\\Users\\Mathieu\\PycharmProjects\\FAST-OAD\\src\\fastoad\\models\\performances\\mission\\openmdao\\link_mtow.py          </td></tr>\n<tr><td>fastoad.performances.mission            </td><td>C:\\Users\\Mathieu\\PycharmProjects\\FAST-OAD\\src\\fastoad\\models\\performances\\mission\\openmdao\\mission.py            </td></tr>\n<tr><td>fastoad.weight.legacy                   </td><td>C:\\Users\\Mathieu\\PycharmProjects\\FAST-OAD\\src\\fastoad\\models\\weight\\weight.py                                    </td></tr>\n<tr><td>AVAILABLE PROPULSION WRAPPER IDENTIFIERS</td><td>MODULE PATH                                                                                                      </td></tr>\n<tr><td>fastoad.wrapper.propulsion.rubber_engine</td><td>C:\\Users\\Mathieu\\PycharmProjects\\FAST-OAD\\src\\fastoad\\models\\propulsion\\fuel_propulsion\\rubber_engine\\openmdao.py</td></tr>\n<tr><td>test.wrapper.propulsion.dummy_engine    </td><td>C:\\Users\\Mathieu\\PycharmProjects\\FAST-OAD\\src\\fastoad\\models\\performances\\mission\\openmdao\\tests\\test_mission.py </td></tr>\n</tbody>\n</table>"
     },
     "metadata": {},
     "output_type": "display_data"
    }
   ],
   "source": [
    "oad.list_modules(CONFIGURATION_FILE)\n",
    "#api.list_modules(CONFIGURATION_FILE, verbose=True) # Use this line instead of the previous one for detailed information (text format only) "
   ]
  },
  {
   "cell_type": "markdown",
   "metadata": {},
   "source": [
    "Another useful feature is the [N2 diagram](http://openmdao.org/twodocs/versions/latest/basic_guide/make_n2.html) visualization available in OpenMDAO to see the structure of the model:"
   ]
  },
  {
   "cell_type": "code",
   "execution_count": 6,
   "metadata": {},
   "outputs": [
    {
     "name": "stderr",
     "output_type": "stream",
     "text": [
      "INFO    : N2 diagram written in C:\\Users\\Mathieu\\PycharmProjects\\FAST-OAD\\src\\fastoad\\notebooks\\01_tutorial\\workdir\\n2.html\n"
     ]
    },
    {
     "data": {
      "text/plain": "<IPython.lib.display.IFrame at 0x1d19a36eca0>",
      "text/html": "\n        <iframe\n            width=\"100%\"\n            height=\"500px\"\n            src=\"workdir\\n2.html\"\n            frameborder=\"0\"\n            allowfullscreen\n        ></iframe>\n        "
     },
     "execution_count": 6,
     "metadata": {},
     "output_type": "execute_result"
    }
   ],
   "source": [
    "N2_FILE = pth.join(WORK_FOLDER_PATH, 'n2.html')\n",
    "oad.write_n2(CONFIGURATION_FILE, N2_FILE, overwrite=True)\n",
    "from IPython.display import IFrame\n",
    "IFrame(src=N2_FILE, width='100%', height='500px')"
   ]
  },
  {
   "cell_type": "markdown",
   "metadata": {},
   "source": [
    "Alternatively, you can create a [WhatsOpt](https://github.com/OneraHub/WhatsOpt-Doc#whatsopt-documentation) account to generate the XDSM of the problem. If your account is created, you may uncomment next lines and run them (this should take ~ 1 min):"
   ]
  },
  {
   "cell_type": "code",
   "execution_count": 7,
   "metadata": {},
   "outputs": [],
   "source": [
    "# XDSM_FILE = pth.join(WORK_FOLDER_PATH, 'xdsm.html')\n",
    "# oad.write_xdsm(CONFIGURATION_FILE, XDSM_FILE, overwrite=True)\n",
    "# from IPython.display import IFrame\n",
    "# IFrame(src=XDSM_FILE, width='100%', height='500px')"
   ]
  },
  {
   "cell_type": "markdown",
   "metadata": {},
   "source": [
    "## 2. Running your first MDA"
   ]
  },
  {
   "cell_type": "markdown",
   "metadata": {},
   "source": [
    "### CeRAS\n",
    "Here we run an MDA, that is solving the multidisciplinary couplings using the different nested solvers in the model, without running the optimization problem even if it is defined in the configuration file.\n",
    "\n",
    "*(This run should take around 10 seconds)*"
   ]
  },
  {
   "cell_type": "code",
   "execution_count": 8,
   "metadata": {},
   "outputs": [
    {
     "name": "stderr",
     "output_type": "stream",
     "text": [
      "INFO    : Mission computation - iteration 0 : Using initializer computation. OTHER ITERATIONS NEEDED.\n",
      "INFO    : Mission computation - iteration 1 : Using mission definition.\n",
      "INFO    : Mission computation - iteration 2 : Using mission definition.\n",
      "INFO    : Mission computation - iteration 3 : Using mission definition.\n",
      "INFO    : Mission computation - iteration 4 : Using mission definition.\n",
      "INFO    : Mission computation - iteration 5 : Using mission definition.\n",
      "INFO    : Mission computation - iteration 6 : Using mission definition.\n",
      "INFO    : Mission computation - iteration 7 : Using mission definition.\n",
      "INFO    : Mission computation - iteration 8 : Using mission definition.\n",
      "INFO    : Mission computation - iteration 9 : Using mission definition.\n",
      "INFO    : Mission computation - iteration 10 : Using mission definition.\n",
      "INFO    : Mission computation - iteration 11 : Using mission definition.\n",
      "INFO    : Mission computation - iteration 12 : Using mission definition.\n",
      "INFO    : Mission computation - iteration 13 : Using mission definition.\n",
      "INFO    : Mission computation - iteration 14 : Using mission definition.\n",
      "INFO    : Mission computation - iteration 15 : Using mission definition.\n",
      "INFO    : Mission computation - iteration 16 : Using mission definition.\n",
      "INFO    : Mission computation - iteration 17 : Using mission definition.\n",
      "INFO    : Mission computation - iteration 18 : Using mission definition.\n",
      "INFO    : Mission computation - iteration 19 : Using mission definition.\n",
      "INFO    : Mission computation - iteration 20 : Using mission definition.\n",
      "INFO    : Mission computation - iteration 21 : Using mission definition.\n",
      "INFO    : Mission computation - iteration 22 : Using mission definition.\n",
      "INFO    : Mission computation - iteration 23 : Using mission definition.\n",
      "INFO    : Mission computation - iteration 24 : Using mission definition.\n",
      "INFO    : Mission computation - iteration 25 : Using mission definition.\n",
      "INFO    : Mission computation - iteration 26 : Using mission definition.\n",
      "INFO    : Mission computation - iteration 27 : Using mission definition.\n",
      "INFO    : Mission computation - iteration 28 : Using mission definition.\n",
      "INFO    : Mission computation - iteration 29 : Using mission definition.\n",
      "INFO    : Mission computation - iteration 30 : Using mission definition.\n",
      "INFO    : Mission computation - iteration 31 : Using mission definition.\n",
      "INFO    : Mission computation - iteration 32 : Using mission definition.\n",
      "INFO    : Mission computation - iteration 33 : Using mission definition.\n",
      "INFO    : Mission computation - iteration 34 : Using mission definition.\n",
      "WARNING : Variable \"data:propulsion:rubber_engine:turbine_inlet_temperature\" out of bound: value [1633.] degK is over upper limit ( 1600.0 ) in file C:\\Users\\Mathieu\\PycharmProjects\\FAST-OAD\\src\\fastoad\\models\\propulsion\\fuel_propulsion\\rubber_engine\\openmdao.py\n"
     ]
    },
    {
     "name": "stdout",
     "output_type": "stream",
     "text": [
      "NL: NLBGS Converged in 35 iterations\n"
     ]
    },
    {
     "name": "stderr",
     "output_type": "stream",
     "text": [
      "INFO    : Computation finished after 18.41 seconds\n",
      "INFO    : Problem outputs written in C:\\Users\\Mathieu\\PycharmProjects\\FAST-OAD\\src\\fastoad\\notebooks\\01_tutorial\\workdir\\problem_outputs.xml\n"
     ]
    }
   ],
   "source": [
    "eval_problem = oad.evaluate_problem(CONFIGURATION_FILE, overwrite=True)"
   ]
  },
  {
   "cell_type": "markdown",
   "metadata": {},
   "source": [
    "> _**Note**: the warning you see at end of computation is normal. FAST-OAD allows to define validity domain for each model, and the propulsion model has been validated for a certain range of turbine inlet temperature (a.k.a. T4). The T4 value we use is slightly outside the validated range, hence the warning. The check of validity domain issues warnings as soon as a value is outside the bounds, but in the end, it's up to the user to decide if the problem is real or not, though it may require a certain knowledge about the used models.  \n",
    "> In this case, the model has been validated for T4 between 1400K and 1600K and using it for a value of 1633K can be considered as OK._\n",
    "\n",
    "Let's save these results. We will use them in the next notebook, that shows some post-processing utilities."
   ]
  },
  {
   "cell_type": "code",
   "execution_count": 9,
   "metadata": {},
   "outputs": [
    {
     "data": {
      "text/plain": "'workdir\\\\mission_CeRAS_2750nm_mda.csv'"
     },
     "execution_count": 9,
     "metadata": {},
     "output_type": "execute_result"
    }
   ],
   "source": [
    "OUTPUT_FILE = pth.join(WORK_FOLDER_PATH, 'problem_outputs.xml')\n",
    "CeRAS_OUTPUT_FILE = pth.join(WORK_FOLDER_PATH, 'problem_outputs_CeRAS_2750nm_mda.xml')\n",
    "shutil.copy(OUTPUT_FILE, CeRAS_OUTPUT_FILE)\n",
    "MISSION_FILE = pth.join(WORK_FOLDER_PATH, 'flight_points.csv')\n",
    "CeRAS_MISSION_FILE = pth.join(WORK_FOLDER_PATH, 'mission_CeRAS_2750nm_mda.csv')\n",
    "shutil.copy(MISSION_FILE, CeRAS_MISSION_FILE)"
   ]
  },
  {
   "cell_type": "markdown",
   "metadata": {},
   "source": [
    "The `variable-viewer` provides a way to inspect the content of the XML file. The dropdown lists above the table allow to filter the displayed variable."
   ]
  },
  {
   "cell_type": "code",
   "execution_count": 10,
   "metadata": {},
   "outputs": [
    {
     "data": {
      "text/plain": "VBox(children=(HBox(children=(Button(description='Load', icon='upload', style=ButtonStyle(), tooltip='Load the…",
      "application/vnd.jupyter.widget-view+json": {
       "version_major": 2,
       "version_minor": 0,
       "model_id": "55fab26236b44bffa0b607c837548bf3"
      }
     },
     "metadata": {},
     "output_type": "display_data"
    }
   ],
   "source": [
    "oad.variable_viewer(OUTPUT_FILE)"
   ]
  },
  {
   "cell_type": "markdown",
   "metadata": {},
   "source": [
    "### CeRAS for 800 nm range\n",
    "Here we run an MDA but we change one of the Top Level Aircraft Requirement (TLAR): the range. We choose a 800 nm range instead of the 2750 nm of the CeRAS. For that we use the `VariableViewer` tool on the input file to change the range (do not forget to save!). Just like this:\n",
    "![variable_viewer](./img/variable_viewer_change_range.gif)"
   ]
  },
  {
   "cell_type": "code",
   "execution_count": 11,
   "metadata": {
    "scrolled": true
   },
   "outputs": [
    {
     "data": {
      "text/plain": "VBox(children=(HBox(children=(Button(description='Load', icon='upload', style=ButtonStyle(), tooltip='Load the…",
      "application/vnd.jupyter.widget-view+json": {
       "version_major": 2,
       "version_minor": 0,
       "model_id": "7ca66dbfab7b4cdb9e353e8ca4f4be95"
      }
     },
     "metadata": {},
     "output_type": "display_data"
    }
   ],
   "source": [
    "INPUT_FILE = pth.join(WORK_FOLDER_PATH, 'problem_inputs.xml')\n",
    "oad.variable_viewer(INPUT_FILE)"
   ]
  },
  {
   "cell_type": "markdown",
   "metadata": {},
   "source": [
    "You can also do this operation through Python like this:"
   ]
  },
  {
   "cell_type": "code",
   "execution_count": 12,
   "metadata": {},
   "outputs": [],
   "source": [
    "input_data = oad.DataFile(INPUT_FILE)\n",
    "input_data[\"data:TLAR:range\"].value = 800.0\n",
    "input_data.save()"
   ]
  },
  {
   "cell_type": "markdown",
   "metadata": {},
   "source": [
    "Now that the range has been changed, we run again the MDA.\n",
    "\n",
    "*(This run should take around 10 seconds)*"
   ]
  },
  {
   "cell_type": "code",
   "execution_count": 13,
   "metadata": {},
   "outputs": [
    {
     "name": "stderr",
     "output_type": "stream",
     "text": [
      "INFO    : Mission computation - iteration 0 : Using initializer computation. OTHER ITERATIONS NEEDED.\n",
      "INFO    : Mission computation - iteration 1 : Using mission definition.\n",
      "INFO    : Mission computation - iteration 2 : Using mission definition.\n",
      "INFO    : Mission computation - iteration 3 : Using mission definition.\n",
      "INFO    : Mission computation - iteration 4 : Using mission definition.\n",
      "INFO    : Mission computation - iteration 5 : Using mission definition.\n",
      "INFO    : Mission computation - iteration 6 : Using mission definition.\n",
      "INFO    : Mission computation - iteration 7 : Using mission definition.\n",
      "INFO    : Mission computation - iteration 8 : Using mission definition.\n",
      "INFO    : Mission computation - iteration 9 : Using mission definition.\n",
      "INFO    : Mission computation - iteration 10 : Using mission definition.\n",
      "INFO    : Mission computation - iteration 11 : Using mission definition.\n",
      "INFO    : Mission computation - iteration 12 : Using mission definition.\n",
      "INFO    : Mission computation - iteration 13 : Using mission definition.\n",
      "INFO    : Mission computation - iteration 14 : Using mission definition.\n",
      "INFO    : Mission computation - iteration 15 : Using mission definition.\n",
      "INFO    : Mission computation - iteration 16 : Using mission definition.\n",
      "INFO    : Mission computation - iteration 17 : Using mission definition.\n",
      "INFO    : Mission computation - iteration 18 : Using mission definition.\n",
      "INFO    : Mission computation - iteration 19 : Using mission definition.\n",
      "INFO    : Mission computation - iteration 20 : Using mission definition.\n",
      "INFO    : Mission computation - iteration 21 : Using mission definition.\n",
      "INFO    : Mission computation - iteration 22 : Using mission definition.\n",
      "INFO    : Mission computation - iteration 23 : Using mission definition.\n",
      "INFO    : Mission computation - iteration 24 : Using mission definition.\n",
      "INFO    : Mission computation - iteration 25 : Using mission definition.\n",
      "INFO    : Mission computation - iteration 26 : Using mission definition.\n",
      "INFO    : Mission computation - iteration 27 : Using mission definition.\n",
      "INFO    : Mission computation - iteration 28 : Using mission definition.\n",
      "INFO    : Mission computation - iteration 29 : Using mission definition.\n",
      "WARNING : Variable \"data:propulsion:rubber_engine:turbine_inlet_temperature\" out of bound: value [1633.] degK is over upper limit ( 1600.0 ) in file C:\\Users\\Mathieu\\PycharmProjects\\FAST-OAD\\src\\fastoad\\models\\propulsion\\fuel_propulsion\\rubber_engine\\openmdao.py\n"
     ]
    },
    {
     "name": "stdout",
     "output_type": "stream",
     "text": [
      "NL: NLBGS Converged in 30 iterations\n"
     ]
    },
    {
     "name": "stderr",
     "output_type": "stream",
     "text": [
      "INFO    : Computation finished after 15.27 seconds\n",
      "INFO    : Problem outputs written in C:\\Users\\Mathieu\\PycharmProjects\\FAST-OAD\\src\\fastoad\\notebooks\\01_tutorial\\workdir\\problem_outputs.xml\n"
     ]
    }
   ],
   "source": [
    "eval_problem = oad.evaluate_problem(CONFIGURATION_FILE, overwrite=True)"
   ]
  },
  {
   "cell_type": "markdown",
   "metadata": {},
   "source": [
    "Let's save again these new results, for post-processing them in next notebook."
   ]
  },
  {
   "cell_type": "code",
   "execution_count": 14,
   "metadata": {},
   "outputs": [
    {
     "data": {
      "text/plain": "'workdir\\\\mission_CeRAS_800nm_mda.csv'"
     },
     "execution_count": 14,
     "metadata": {},
     "output_type": "execute_result"
    }
   ],
   "source": [
    "OUTPUT_FILE = pth.join(WORK_FOLDER_PATH, 'problem_outputs.xml')\n",
    "CeRAS_800nm_OUTPUT_FILE = pth.join(WORK_FOLDER_PATH, 'problem_outputs_CeRAS_800nm_mda.xml')\n",
    "shutil.copy(OUTPUT_FILE, CeRAS_800nm_OUTPUT_FILE)\n",
    "MISSION_FILE = pth.join(WORK_FOLDER_PATH, 'flight_points.csv')\n",
    "CeRAS_800nm_MISSION_FILE = pth.join(WORK_FOLDER_PATH, 'mission_CeRAS_800nm_mda.csv')\n",
    "shutil.copy(MISSION_FILE, CeRAS_800nm_MISSION_FILE)"
   ]
  },
  {
   "cell_type": "markdown",
   "metadata": {},
   "source": [
    "## 3. Running your first MDO\n",
    "\n",
    "## CeRAS 2750 nm optimization\n",
    "\n",
    "It is possible to run an optimization problem on top of your analysis. Thus, you can choose to set some global inputs as design variables, and global outputs as constraints or the objective. Here is an example given in the default configuration file that aims at:\n",
    "- minimizing the fuel consumption for the mission (objective),\n",
    "- with respect to the wing aspect ratio (design variables),\n",
    "- subject to a wing span limit (constraints).\n",
    "\n",
    "The last part of the configuration file .yaml is where this optimization problem is defined:\n",
    "\n",
    "```yaml\n",
    "optimization:  # This section is needed only if optimization process is run\n",
    "  design_variables:\n",
    "    - name: data:geometry:wing:aspect_ratio\n",
    "      lower: 9.0\n",
    "      upper: 18.0\n",
    "  constraints:\n",
    "    - name: data:geometry:wing:span\n",
    "      upper: 60.0\n",
    "  objective:\n",
    "    - name: data:mission:sizing:needed_block_fuel\n",
    "      scaler: 1.e-4\n",
    "```\n",
    "\n",
    "Note that we need to use [scaling](https://openmdao.org/twodocs/versions/latest/features/core_features/defining_components/scaling.html) on the objective (fuel mass for the mission) so that it has the same order of magnitude than the design variable (wing aspect ratio) by adding the line `scaler = 1e-4`. Without this the optimizer might not detect that the steps it makes on the wing aspect ratio has an effect on decreasing the fuel mass and could result in an early stop.\n",
    "\n",
    "\n",
    "*(This run should take around 3 minutes)*"
   ]
  },
  {
   "cell_type": "code",
   "execution_count": 15,
   "metadata": {},
   "outputs": [
    {
     "name": "stderr",
     "output_type": "stream",
     "text": [
      "INFO    : Problem inputs written in C:\\Users\\Mathieu\\PycharmProjects\\FAST-OAD\\src\\fastoad\\notebooks\\01_tutorial\\workdir\\problem_inputs.xml\n"
     ]
    },
    {
     "data": {
      "text/plain": "'C:\\\\Users\\\\Mathieu\\\\PycharmProjects\\\\FAST-OAD\\\\src\\\\fastoad\\\\notebooks\\\\01_tutorial\\\\workdir\\\\problem_inputs.xml'"
     },
     "execution_count": 15,
     "metadata": {},
     "output_type": "execute_result"
    }
   ],
   "source": [
    "# Set back the inputs from the reference CeRAS 2750 nm\n",
    "oad.generate_inputs(CONFIGURATION_FILE, SOURCE_FILE, overwrite=True)"
   ]
  },
  {
   "cell_type": "markdown",
   "metadata": {},
   "source": [
    "To visualize and edit the optimization problem definition (present in the configuration file .yml) you can use the `optimization_viewer` tool. If design variables or constraints have active bounds they are yellow whereas they are red if they are violated. Modifiying the `Initial Value` will modify the input file defined in the configuration file .yml whereas `Value` corresponds to the value found in the output file defined in the configuration file (here it is the 800 nm MDA run)."
   ]
  },
  {
   "cell_type": "code",
   "execution_count": 16,
   "metadata": {},
   "outputs": [
    {
     "data": {
      "text/plain": "VBox(children=(HBox(children=(Button(description='Load', icon='upload', style=ButtonStyle(), tooltip='Load the…",
      "application/vnd.jupyter.widget-view+json": {
       "version_major": 2,
       "version_minor": 0,
       "model_id": "d5527401d6eb45ecb509d14143edc427"
      }
     },
     "metadata": {},
     "output_type": "display_data"
    }
   ],
   "source": [
    "oad.optimization_viewer(CONFIGURATION_FILE)"
   ]
  },
  {
   "cell_type": "code",
   "execution_count": 17,
   "metadata": {
    "jupyter": {
     "outputs_hidden": true
    }
   },
   "outputs": [
    {
     "name": "stderr",
     "output_type": "stream",
     "text": [
      "INFO    : Mission computation - iteration 0 : Using initializer computation. OTHER ITERATIONS NEEDED.\n",
      "INFO    : Mission computation - iteration 1 : Using mission definition.\n",
      "INFO    : Mission computation - iteration 2 : Using mission definition.\n",
      "INFO    : Mission computation - iteration 3 : Using mission definition.\n",
      "INFO    : Mission computation - iteration 4 : Using mission definition.\n",
      "INFO    : Mission computation - iteration 5 : Using mission definition.\n",
      "INFO    : Mission computation - iteration 6 : Using mission definition.\n",
      "INFO    : Mission computation - iteration 7 : Using mission definition.\n",
      "INFO    : Mission computation - iteration 8 : Using mission definition.\n",
      "INFO    : Mission computation - iteration 9 : Using mission definition.\n",
      "INFO    : Mission computation - iteration 10 : Using mission definition.\n",
      "INFO    : Mission computation - iteration 11 : Using mission definition.\n",
      "INFO    : Mission computation - iteration 12 : Using mission definition.\n",
      "INFO    : Mission computation - iteration 13 : Using mission definition.\n",
      "INFO    : Mission computation - iteration 14 : Using mission definition.\n",
      "INFO    : Mission computation - iteration 15 : Using mission definition.\n",
      "INFO    : Mission computation - iteration 16 : Using mission definition.\n",
      "INFO    : Mission computation - iteration 17 : Using mission definition.\n",
      "INFO    : Mission computation - iteration 18 : Using mission definition.\n",
      "INFO    : Mission computation - iteration 19 : Using mission definition.\n",
      "INFO    : Mission computation - iteration 20 : Using mission definition.\n",
      "INFO    : Mission computation - iteration 21 : Using mission definition.\n",
      "INFO    : Mission computation - iteration 22 : Using mission definition.\n",
      "INFO    : Mission computation - iteration 23 : Using mission definition.\n",
      "INFO    : Mission computation - iteration 24 : Using mission definition.\n",
      "INFO    : Mission computation - iteration 25 : Using mission definition.\n",
      "INFO    : Mission computation - iteration 26 : Using mission definition.\n",
      "INFO    : Mission computation - iteration 27 : Using mission definition.\n",
      "INFO    : Mission computation - iteration 28 : Using mission definition.\n",
      "INFO    : Mission computation - iteration 29 : Using mission definition.\n",
      "INFO    : Mission computation - iteration 30 : Using mission definition.\n",
      "INFO    : Mission computation - iteration 31 : Using mission definition.\n",
      "INFO    : Mission computation - iteration 32 : Using mission definition.\n",
      "INFO    : Mission computation - iteration 33 : Using mission definition.\n",
      "INFO    : Mission computation - iteration 34 : Using mission definition.\n"
     ]
    },
    {
     "name": "stdout",
     "output_type": "stream",
     "text": [
      "NL: NLBGS Converged in 35 iterations\n"
     ]
    },
    {
     "name": "stderr",
     "output_type": "stream",
     "text": [
      "INFO    : Mission computation - iteration 35 : Using mission definition.\n",
      "INFO    : Mission computation - iteration 36 : Using mission definition.\n"
     ]
    },
    {
     "name": "stdout",
     "output_type": "stream",
     "text": [
      "NL: NLBGS Converged in 2 iterations\n"
     ]
    },
    {
     "name": "stderr",
     "output_type": "stream",
     "text": [
      "INFO    : Mission computation - iteration 37 : Using mission definition.\n",
      "INFO    : Mission computation - iteration 38 : Using mission definition.\n",
      "INFO    : Mission computation - iteration 39 : Using mission definition.\n",
      "INFO    : Mission computation - iteration 40 : Using mission definition.\n",
      "INFO    : Mission computation - iteration 41 : Using mission definition.\n",
      "INFO    : Mission computation - iteration 42 : Using mission definition.\n",
      "INFO    : Mission computation - iteration 43 : Using mission definition.\n",
      "INFO    : Mission computation - iteration 44 : Using mission definition.\n",
      "INFO    : Mission computation - iteration 45 : Using mission definition.\n",
      "INFO    : Mission computation - iteration 46 : Using mission definition.\n",
      "INFO    : Mission computation - iteration 47 : Using mission definition.\n",
      "INFO    : Mission computation - iteration 48 : Using mission definition.\n",
      "INFO    : Mission computation - iteration 49 : Using mission definition.\n",
      "INFO    : Mission computation - iteration 50 : Using mission definition.\n",
      "INFO    : Mission computation - iteration 51 : Using mission definition.\n",
      "INFO    : Mission computation - iteration 52 : Using mission definition.\n",
      "INFO    : Mission computation - iteration 53 : Using mission definition.\n",
      "INFO    : Mission computation - iteration 54 : Using mission definition.\n",
      "INFO    : Mission computation - iteration 55 : Using mission definition.\n",
      "INFO    : Mission computation - iteration 56 : Using mission definition.\n",
      "INFO    : Mission computation - iteration 57 : Using mission definition.\n",
      "INFO    : Mission computation - iteration 58 : Using mission definition.\n",
      "INFO    : Mission computation - iteration 59 : Using mission definition.\n",
      "INFO    : Mission computation - iteration 60 : Using mission definition.\n",
      "INFO    : Mission computation - iteration 61 : Using mission definition.\n",
      "INFO    : Mission computation - iteration 62 : Using mission definition.\n",
      "INFO    : Mission computation - iteration 63 : Using mission definition.\n",
      "INFO    : Mission computation - iteration 64 : Using mission definition.\n",
      "INFO    : Mission computation - iteration 65 : Using mission definition.\n",
      "INFO    : Mission computation - iteration 66 : Using mission definition.\n"
     ]
    },
    {
     "name": "stdout",
     "output_type": "stream",
     "text": [
      "NL: NLBGS Converged in 30 iterations\n"
     ]
    },
    {
     "name": "stderr",
     "output_type": "stream",
     "text": [
      "INFO    : Mission computation - iteration 67 : Using mission definition.\n",
      "INFO    : Mission computation - iteration 68 : Using mission definition.\n",
      "INFO    : Mission computation - iteration 69 : Using mission definition.\n",
      "INFO    : Mission computation - iteration 70 : Using mission definition.\n",
      "INFO    : Mission computation - iteration 71 : Using mission definition.\n",
      "INFO    : Mission computation - iteration 72 : Using mission definition.\n",
      "INFO    : Mission computation - iteration 73 : Using mission definition.\n",
      "INFO    : Mission computation - iteration 74 : Using mission definition.\n",
      "INFO    : Mission computation - iteration 75 : Using mission definition.\n",
      "INFO    : Mission computation - iteration 76 : Using mission definition.\n",
      "INFO    : Mission computation - iteration 77 : Using mission definition.\n",
      "INFO    : Mission computation - iteration 78 : Using mission definition.\n",
      "INFO    : Mission computation - iteration 79 : Using mission definition.\n",
      "INFO    : Mission computation - iteration 80 : Using mission definition.\n",
      "INFO    : Mission computation - iteration 81 : Using mission definition.\n",
      "INFO    : Mission computation - iteration 82 : Using mission definition.\n",
      "INFO    : Mission computation - iteration 83 : Using mission definition.\n",
      "INFO    : Mission computation - iteration 84 : Using mission definition.\n",
      "INFO    : Mission computation - iteration 85 : Using mission definition.\n",
      "INFO    : Mission computation - iteration 86 : Using mission definition.\n",
      "INFO    : Mission computation - iteration 87 : Using mission definition.\n",
      "INFO    : Mission computation - iteration 88 : Using mission definition.\n",
      "INFO    : Mission computation - iteration 89 : Using mission definition.\n",
      "INFO    : Mission computation - iteration 90 : Using mission definition.\n",
      "INFO    : Mission computation - iteration 91 : Using mission definition.\n",
      "INFO    : Mission computation - iteration 92 : Using mission definition.\n",
      "INFO    : Mission computation - iteration 93 : Using mission definition.\n",
      "INFO    : Mission computation - iteration 94 : Using mission definition.\n",
      "INFO    : Mission computation - iteration 95 : Using mission definition.\n",
      "INFO    : Mission computation - iteration 96 : Using mission definition.\n",
      "INFO    : Mission computation - iteration 97 : Using mission definition.\n"
     ]
    },
    {
     "name": "stdout",
     "output_type": "stream",
     "text": [
      "NL: NLBGS Converged in 31 iterations\n"
     ]
    },
    {
     "name": "stderr",
     "output_type": "stream",
     "text": [
      "INFO    : Mission computation - iteration 98 : Using mission definition.\n",
      "INFO    : Mission computation - iteration 99 : Using mission definition.\n",
      "INFO    : Mission computation - iteration 100 : Using mission definition.\n",
      "INFO    : Mission computation - iteration 101 : Using mission definition.\n",
      "INFO    : Mission computation - iteration 102 : Using mission definition.\n",
      "INFO    : Mission computation - iteration 103 : Using mission definition.\n",
      "INFO    : Mission computation - iteration 104 : Using mission definition.\n",
      "INFO    : Mission computation - iteration 105 : Using mission definition.\n",
      "INFO    : Mission computation - iteration 106 : Using mission definition.\n",
      "INFO    : Mission computation - iteration 107 : Using mission definition.\n",
      "INFO    : Mission computation - iteration 108 : Using mission definition.\n",
      "INFO    : Mission computation - iteration 109 : Using mission definition.\n",
      "INFO    : Mission computation - iteration 110 : Using mission definition.\n",
      "INFO    : Mission computation - iteration 111 : Using mission definition.\n",
      "INFO    : Mission computation - iteration 112 : Using mission definition.\n",
      "INFO    : Mission computation - iteration 113 : Using mission definition.\n",
      "INFO    : Mission computation - iteration 114 : Using mission definition.\n",
      "INFO    : Mission computation - iteration 115 : Using mission definition.\n",
      "INFO    : Mission computation - iteration 116 : Using mission definition.\n",
      "INFO    : Mission computation - iteration 117 : Using mission definition.\n",
      "INFO    : Mission computation - iteration 118 : Using mission definition.\n",
      "INFO    : Mission computation - iteration 119 : Using mission definition.\n",
      "INFO    : Mission computation - iteration 120 : Using mission definition.\n",
      "INFO    : Mission computation - iteration 121 : Using mission definition.\n",
      "INFO    : Mission computation - iteration 122 : Using mission definition.\n",
      "INFO    : Mission computation - iteration 123 : Using mission definition.\n",
      "INFO    : Mission computation - iteration 124 : Using mission definition.\n",
      "INFO    : Mission computation - iteration 125 : Using mission definition.\n",
      "INFO    : Mission computation - iteration 126 : Using mission definition.\n",
      "INFO    : Mission computation - iteration 127 : Using mission definition.\n",
      "INFO    : Mission computation - iteration 128 : Using mission definition.\n"
     ]
    },
    {
     "name": "stdout",
     "output_type": "stream",
     "text": [
      "NL: NLBGS Converged in 31 iterations\n"
     ]
    },
    {
     "name": "stderr",
     "output_type": "stream",
     "text": [
      "INFO    : Mission computation - iteration 129 : Using mission definition.\n",
      "INFO    : Mission computation - iteration 130 : Using mission definition.\n",
      "INFO    : Mission computation - iteration 131 : Using mission definition.\n",
      "INFO    : Mission computation - iteration 132 : Using mission definition.\n",
      "INFO    : Mission computation - iteration 133 : Using mission definition.\n",
      "INFO    : Mission computation - iteration 134 : Using mission definition.\n",
      "INFO    : Mission computation - iteration 135 : Using mission definition.\n",
      "INFO    : Mission computation - iteration 136 : Using mission definition.\n",
      "INFO    : Mission computation - iteration 137 : Using mission definition.\n",
      "INFO    : Mission computation - iteration 138 : Using mission definition.\n",
      "INFO    : Mission computation - iteration 139 : Using mission definition.\n",
      "INFO    : Mission computation - iteration 140 : Using mission definition.\n",
      "INFO    : Mission computation - iteration 141 : Using mission definition.\n",
      "INFO    : Mission computation - iteration 142 : Using mission definition.\n",
      "INFO    : Mission computation - iteration 143 : Using mission definition.\n",
      "INFO    : Mission computation - iteration 144 : Using mission definition.\n",
      "INFO    : Mission computation - iteration 145 : Using mission definition.\n",
      "INFO    : Mission computation - iteration 146 : Using mission definition.\n",
      "INFO    : Mission computation - iteration 147 : Using mission definition.\n",
      "INFO    : Mission computation - iteration 148 : Using mission definition.\n",
      "INFO    : Mission computation - iteration 149 : Using mission definition.\n",
      "INFO    : Mission computation - iteration 150 : Using mission definition.\n",
      "INFO    : Mission computation - iteration 151 : Using mission definition.\n",
      "INFO    : Mission computation - iteration 152 : Using mission definition.\n",
      "INFO    : Mission computation - iteration 153 : Using mission definition.\n",
      "INFO    : Mission computation - iteration 154 : Using mission definition.\n",
      "INFO    : Mission computation - iteration 155 : Using mission definition.\n",
      "INFO    : Mission computation - iteration 156 : Using mission definition.\n",
      "INFO    : Mission computation - iteration 157 : Using mission definition.\n",
      "INFO    : Mission computation - iteration 158 : Using mission definition.\n",
      "INFO    : Mission computation - iteration 159 : Using mission definition.\n",
      "INFO    : Mission computation - iteration 160 : Using mission definition.\n"
     ]
    },
    {
     "name": "stdout",
     "output_type": "stream",
     "text": [
      "NL: NLBGS Converged in 32 iterations\n"
     ]
    },
    {
     "name": "stderr",
     "output_type": "stream",
     "text": [
      "INFO    : Mission computation - iteration 161 : Using mission definition.\n",
      "INFO    : Mission computation - iteration 162 : Using mission definition.\n",
      "INFO    : Mission computation - iteration 163 : Using mission definition.\n",
      "INFO    : Mission computation - iteration 164 : Using mission definition.\n",
      "INFO    : Mission computation - iteration 165 : Using mission definition.\n",
      "INFO    : Mission computation - iteration 166 : Using mission definition.\n",
      "INFO    : Mission computation - iteration 167 : Using mission definition.\n",
      "INFO    : Mission computation - iteration 168 : Using mission definition.\n",
      "INFO    : Mission computation - iteration 169 : Using mission definition.\n",
      "INFO    : Mission computation - iteration 170 : Using mission definition.\n",
      "INFO    : Mission computation - iteration 171 : Using mission definition.\n",
      "INFO    : Mission computation - iteration 172 : Using mission definition.\n",
      "INFO    : Mission computation - iteration 173 : Using mission definition.\n",
      "INFO    : Mission computation - iteration 174 : Using mission definition.\n",
      "INFO    : Mission computation - iteration 175 : Using mission definition.\n",
      "INFO    : Mission computation - iteration 176 : Using mission definition.\n",
      "INFO    : Mission computation - iteration 177 : Using mission definition.\n",
      "INFO    : Mission computation - iteration 178 : Using mission definition.\n",
      "INFO    : Mission computation - iteration 179 : Using mission definition.\n",
      "INFO    : Mission computation - iteration 180 : Using mission definition.\n",
      "INFO    : Mission computation - iteration 181 : Using mission definition.\n",
      "INFO    : Mission computation - iteration 182 : Using mission definition.\n",
      "INFO    : Mission computation - iteration 183 : Using mission definition.\n",
      "INFO    : Mission computation - iteration 184 : Using mission definition.\n",
      "INFO    : Mission computation - iteration 185 : Using mission definition.\n",
      "INFO    : Mission computation - iteration 186 : Using mission definition.\n",
      "INFO    : Mission computation - iteration 187 : Using mission definition.\n",
      "INFO    : Mission computation - iteration 188 : Using mission definition.\n",
      "INFO    : Mission computation - iteration 189 : Using mission definition.\n",
      "INFO    : Mission computation - iteration 190 : Using mission definition.\n",
      "INFO    : Mission computation - iteration 191 : Using mission definition.\n",
      "INFO    : Mission computation - iteration 192 : Using mission definition.\n"
     ]
    },
    {
     "name": "stdout",
     "output_type": "stream",
     "text": [
      "NL: NLBGS Converged in 32 iterations\n"
     ]
    },
    {
     "name": "stderr",
     "output_type": "stream",
     "text": [
      "INFO    : Mission computation - iteration 193 : Using mission definition.\n",
      "INFO    : Mission computation - iteration 194 : Using mission definition.\n",
      "INFO    : Mission computation - iteration 195 : Using mission definition.\n",
      "INFO    : Mission computation - iteration 196 : Using mission definition.\n",
      "INFO    : Mission computation - iteration 197 : Using mission definition.\n",
      "INFO    : Mission computation - iteration 198 : Using mission definition.\n",
      "INFO    : Mission computation - iteration 199 : Using mission definition.\n",
      "INFO    : Mission computation - iteration 200 : Using mission definition.\n",
      "INFO    : Mission computation - iteration 201 : Using mission definition.\n",
      "INFO    : Mission computation - iteration 202 : Using mission definition.\n",
      "INFO    : Mission computation - iteration 203 : Using mission definition.\n",
      "INFO    : Mission computation - iteration 204 : Using mission definition.\n",
      "INFO    : Mission computation - iteration 205 : Using mission definition.\n",
      "INFO    : Mission computation - iteration 206 : Using mission definition.\n",
      "INFO    : Mission computation - iteration 207 : Using mission definition.\n",
      "INFO    : Mission computation - iteration 208 : Using mission definition.\n",
      "INFO    : Mission computation - iteration 209 : Using mission definition.\n",
      "INFO    : Mission computation - iteration 210 : Using mission definition.\n",
      "INFO    : Mission computation - iteration 211 : Using mission definition.\n",
      "INFO    : Mission computation - iteration 212 : Using mission definition.\n",
      "INFO    : Mission computation - iteration 213 : Using mission definition.\n",
      "INFO    : Mission computation - iteration 214 : Using mission definition.\n",
      "INFO    : Mission computation - iteration 215 : Using mission definition.\n",
      "INFO    : Mission computation - iteration 216 : Using mission definition.\n",
      "INFO    : Mission computation - iteration 217 : Using mission definition.\n",
      "INFO    : Mission computation - iteration 218 : Using mission definition.\n",
      "INFO    : Mission computation - iteration 219 : Using mission definition.\n",
      "INFO    : Mission computation - iteration 220 : Using mission definition.\n",
      "INFO    : Mission computation - iteration 221 : Using mission definition.\n",
      "INFO    : Mission computation - iteration 222 : Using mission definition.\n",
      "INFO    : Mission computation - iteration 223 : Using mission definition.\n",
      "INFO    : Mission computation - iteration 224 : Using mission definition.\n",
      "INFO    : Mission computation - iteration 225 : Using mission definition.\n"
     ]
    },
    {
     "name": "stdout",
     "output_type": "stream",
     "text": [
      "NL: NLBGS Converged in 33 iterations\n"
     ]
    },
    {
     "name": "stderr",
     "output_type": "stream",
     "text": [
      "INFO    : Mission computation - iteration 226 : Using mission definition.\n",
      "INFO    : Mission computation - iteration 227 : Using mission definition.\n",
      "INFO    : Mission computation - iteration 228 : Using mission definition.\n",
      "INFO    : Mission computation - iteration 229 : Using mission definition.\n",
      "INFO    : Mission computation - iteration 230 : Using mission definition.\n",
      "INFO    : Mission computation - iteration 231 : Using mission definition.\n",
      "INFO    : Mission computation - iteration 232 : Using mission definition.\n",
      "INFO    : Mission computation - iteration 233 : Using mission definition.\n",
      "INFO    : Mission computation - iteration 234 : Using mission definition.\n",
      "INFO    : Mission computation - iteration 235 : Using mission definition.\n",
      "INFO    : Mission computation - iteration 236 : Using mission definition.\n",
      "INFO    : Mission computation - iteration 237 : Using mission definition.\n",
      "INFO    : Mission computation - iteration 238 : Using mission definition.\n",
      "INFO    : Mission computation - iteration 239 : Using mission definition.\n",
      "INFO    : Mission computation - iteration 240 : Using mission definition.\n",
      "INFO    : Mission computation - iteration 241 : Using mission definition.\n",
      "INFO    : Mission computation - iteration 242 : Using mission definition.\n",
      "INFO    : Mission computation - iteration 243 : Using mission definition.\n",
      "INFO    : Mission computation - iteration 244 : Using mission definition.\n",
      "INFO    : Mission computation - iteration 245 : Using mission definition.\n",
      "INFO    : Mission computation - iteration 246 : Using mission definition.\n",
      "INFO    : Mission computation - iteration 247 : Using mission definition.\n",
      "INFO    : Mission computation - iteration 248 : Using mission definition.\n",
      "INFO    : Mission computation - iteration 249 : Using mission definition.\n",
      "INFO    : Mission computation - iteration 250 : Using mission definition.\n",
      "INFO    : Mission computation - iteration 251 : Using mission definition.\n",
      "INFO    : Mission computation - iteration 252 : Using mission definition.\n",
      "INFO    : Mission computation - iteration 253 : Using mission definition.\n",
      "INFO    : Mission computation - iteration 254 : Using mission definition.\n",
      "INFO    : Mission computation - iteration 255 : Using mission definition.\n",
      "INFO    : Mission computation - iteration 256 : Using mission definition.\n"
     ]
    },
    {
     "name": "stdout",
     "output_type": "stream",
     "text": [
      "NL: NLBGS Converged in 31 iterations\n"
     ]
    },
    {
     "name": "stderr",
     "output_type": "stream",
     "text": [
      "INFO    : Mission computation - iteration 257 : Using mission definition.\n",
      "INFO    : Mission computation - iteration 258 : Using mission definition.\n",
      "INFO    : Mission computation - iteration 259 : Using mission definition.\n",
      "INFO    : Mission computation - iteration 260 : Using mission definition.\n",
      "INFO    : Mission computation - iteration 261 : Using mission definition.\n",
      "INFO    : Mission computation - iteration 262 : Using mission definition.\n",
      "INFO    : Mission computation - iteration 263 : Using mission definition.\n",
      "INFO    : Mission computation - iteration 264 : Using mission definition.\n",
      "INFO    : Mission computation - iteration 265 : Using mission definition.\n",
      "INFO    : Mission computation - iteration 266 : Using mission definition.\n",
      "INFO    : Mission computation - iteration 267 : Using mission definition.\n",
      "INFO    : Mission computation - iteration 268 : Using mission definition.\n",
      "INFO    : Mission computation - iteration 269 : Using mission definition.\n",
      "INFO    : Mission computation - iteration 270 : Using mission definition.\n",
      "INFO    : Mission computation - iteration 271 : Using mission definition.\n",
      "INFO    : Mission computation - iteration 272 : Using mission definition.\n",
      "INFO    : Mission computation - iteration 273 : Using mission definition.\n",
      "INFO    : Mission computation - iteration 274 : Using mission definition.\n",
      "INFO    : Mission computation - iteration 275 : Using mission definition.\n",
      "INFO    : Mission computation - iteration 276 : Using mission definition.\n",
      "INFO    : Mission computation - iteration 277 : Using mission definition.\n",
      "INFO    : Mission computation - iteration 278 : Using mission definition.\n",
      "INFO    : Mission computation - iteration 279 : Using mission definition.\n",
      "INFO    : Mission computation - iteration 280 : Using mission definition.\n",
      "INFO    : Mission computation - iteration 281 : Using mission definition.\n",
      "INFO    : Mission computation - iteration 282 : Using mission definition.\n",
      "INFO    : Mission computation - iteration 283 : Using mission definition.\n",
      "INFO    : Mission computation - iteration 284 : Using mission definition.\n",
      "INFO    : Mission computation - iteration 285 : Using mission definition.\n",
      "INFO    : Mission computation - iteration 286 : Using mission definition.\n",
      "INFO    : Mission computation - iteration 287 : Using mission definition.\n",
      "INFO    : Mission computation - iteration 288 : Using mission definition.\n"
     ]
    },
    {
     "name": "stdout",
     "output_type": "stream",
     "text": [
      "NL: NLBGS Converged in 32 iterations\n"
     ]
    },
    {
     "name": "stderr",
     "output_type": "stream",
     "text": [
      "INFO    : Mission computation - iteration 289 : Using mission definition.\n",
      "INFO    : Mission computation - iteration 290 : Using mission definition.\n",
      "INFO    : Mission computation - iteration 291 : Using mission definition.\n",
      "INFO    : Mission computation - iteration 292 : Using mission definition.\n",
      "INFO    : Mission computation - iteration 293 : Using mission definition.\n",
      "INFO    : Mission computation - iteration 294 : Using mission definition.\n",
      "INFO    : Mission computation - iteration 295 : Using mission definition.\n",
      "INFO    : Mission computation - iteration 296 : Using mission definition.\n",
      "INFO    : Mission computation - iteration 297 : Using mission definition.\n",
      "INFO    : Mission computation - iteration 298 : Using mission definition.\n",
      "INFO    : Mission computation - iteration 299 : Using mission definition.\n",
      "INFO    : Mission computation - iteration 300 : Using mission definition.\n",
      "INFO    : Mission computation - iteration 301 : Using mission definition.\n",
      "INFO    : Mission computation - iteration 302 : Using mission definition.\n",
      "INFO    : Mission computation - iteration 303 : Using mission definition.\n",
      "INFO    : Mission computation - iteration 304 : Using mission definition.\n",
      "INFO    : Mission computation - iteration 305 : Using mission definition.\n",
      "INFO    : Mission computation - iteration 306 : Using mission definition.\n",
      "INFO    : Mission computation - iteration 307 : Using mission definition.\n",
      "INFO    : Mission computation - iteration 308 : Using mission definition.\n",
      "INFO    : Mission computation - iteration 309 : Using mission definition.\n",
      "INFO    : Mission computation - iteration 310 : Using mission definition.\n",
      "INFO    : Mission computation - iteration 311 : Using mission definition.\n",
      "INFO    : Mission computation - iteration 312 : Using mission definition.\n",
      "INFO    : Mission computation - iteration 313 : Using mission definition.\n",
      "INFO    : Mission computation - iteration 314 : Using mission definition.\n",
      "INFO    : Mission computation - iteration 315 : Using mission definition.\n",
      "INFO    : Mission computation - iteration 316 : Using mission definition.\n",
      "INFO    : Mission computation - iteration 317 : Using mission definition.\n",
      "INFO    : Mission computation - iteration 318 : Using mission definition.\n"
     ]
    },
    {
     "name": "stdout",
     "output_type": "stream",
     "text": [
      "NL: NLBGS Converged in 30 iterations\n"
     ]
    },
    {
     "name": "stderr",
     "output_type": "stream",
     "text": [
      "INFO    : Mission computation - iteration 319 : Using mission definition.\n",
      "INFO    : Mission computation - iteration 320 : Using mission definition.\n",
      "INFO    : Mission computation - iteration 321 : Using mission definition.\n",
      "INFO    : Mission computation - iteration 322 : Using mission definition.\n",
      "INFO    : Mission computation - iteration 323 : Using mission definition.\n",
      "INFO    : Mission computation - iteration 324 : Using mission definition.\n",
      "INFO    : Mission computation - iteration 325 : Using mission definition.\n",
      "INFO    : Mission computation - iteration 326 : Using mission definition.\n",
      "INFO    : Mission computation - iteration 327 : Using mission definition.\n",
      "INFO    : Mission computation - iteration 328 : Using mission definition.\n",
      "INFO    : Mission computation - iteration 329 : Using mission definition.\n",
      "INFO    : Mission computation - iteration 330 : Using mission definition.\n",
      "INFO    : Mission computation - iteration 331 : Using mission definition.\n",
      "INFO    : Mission computation - iteration 332 : Using mission definition.\n",
      "INFO    : Mission computation - iteration 333 : Using mission definition.\n",
      "INFO    : Mission computation - iteration 334 : Using mission definition.\n",
      "INFO    : Mission computation - iteration 335 : Using mission definition.\n",
      "INFO    : Mission computation - iteration 336 : Using mission definition.\n",
      "INFO    : Mission computation - iteration 337 : Using mission definition.\n",
      "INFO    : Mission computation - iteration 338 : Using mission definition.\n",
      "INFO    : Mission computation - iteration 339 : Using mission definition.\n",
      "INFO    : Mission computation - iteration 340 : Using mission definition.\n",
      "INFO    : Mission computation - iteration 341 : Using mission definition.\n",
      "INFO    : Mission computation - iteration 342 : Using mission definition.\n",
      "INFO    : Mission computation - iteration 343 : Using mission definition.\n",
      "INFO    : Mission computation - iteration 344 : Using mission definition.\n",
      "INFO    : Mission computation - iteration 345 : Using mission definition.\n",
      "INFO    : Mission computation - iteration 346 : Using mission definition.\n",
      "INFO    : Mission computation - iteration 347 : Using mission definition.\n"
     ]
    },
    {
     "name": "stdout",
     "output_type": "stream",
     "text": [
      "NL: NLBGS Converged in 29 iterations\n"
     ]
    },
    {
     "name": "stderr",
     "output_type": "stream",
     "text": [
      "INFO    : Mission computation - iteration 348 : Using mission definition.\n",
      "INFO    : Mission computation - iteration 349 : Using mission definition.\n",
      "INFO    : Mission computation - iteration 350 : Using mission definition.\n",
      "INFO    : Mission computation - iteration 351 : Using mission definition.\n",
      "INFO    : Mission computation - iteration 352 : Using mission definition.\n",
      "INFO    : Mission computation - iteration 353 : Using mission definition.\n",
      "INFO    : Mission computation - iteration 354 : Using mission definition.\n",
      "INFO    : Mission computation - iteration 355 : Using mission definition.\n",
      "INFO    : Mission computation - iteration 356 : Using mission definition.\n",
      "INFO    : Mission computation - iteration 357 : Using mission definition.\n",
      "INFO    : Mission computation - iteration 358 : Using mission definition.\n",
      "INFO    : Mission computation - iteration 359 : Using mission definition.\n",
      "INFO    : Mission computation - iteration 360 : Using mission definition.\n",
      "INFO    : Mission computation - iteration 361 : Using mission definition.\n",
      "INFO    : Mission computation - iteration 362 : Using mission definition.\n",
      "INFO    : Mission computation - iteration 363 : Using mission definition.\n",
      "INFO    : Mission computation - iteration 364 : Using mission definition.\n",
      "INFO    : Mission computation - iteration 365 : Using mission definition.\n",
      "INFO    : Mission computation - iteration 366 : Using mission definition.\n",
      "INFO    : Mission computation - iteration 367 : Using mission definition.\n",
      "INFO    : Mission computation - iteration 368 : Using mission definition.\n",
      "INFO    : Mission computation - iteration 369 : Using mission definition.\n",
      "INFO    : Mission computation - iteration 370 : Using mission definition.\n",
      "INFO    : Mission computation - iteration 371 : Using mission definition.\n",
      "INFO    : Mission computation - iteration 372 : Using mission definition.\n",
      "INFO    : Mission computation - iteration 373 : Using mission definition.\n",
      "INFO    : Mission computation - iteration 374 : Using mission definition.\n"
     ]
    },
    {
     "name": "stdout",
     "output_type": "stream",
     "text": [
      "NL: NLBGS Converged in 27 iterations\n"
     ]
    },
    {
     "name": "stderr",
     "output_type": "stream",
     "text": [
      "INFO    : Mission computation - iteration 375 : Using mission definition.\n",
      "INFO    : Mission computation - iteration 376 : Using mission definition.\n",
      "INFO    : Mission computation - iteration 377 : Using mission definition.\n",
      "INFO    : Mission computation - iteration 378 : Using mission definition.\n",
      "INFO    : Mission computation - iteration 379 : Using mission definition.\n",
      "INFO    : Mission computation - iteration 380 : Using mission definition.\n",
      "INFO    : Mission computation - iteration 381 : Using mission definition.\n",
      "INFO    : Mission computation - iteration 382 : Using mission definition.\n",
      "INFO    : Mission computation - iteration 383 : Using mission definition.\n",
      "INFO    : Mission computation - iteration 384 : Using mission definition.\n",
      "INFO    : Mission computation - iteration 385 : Using mission definition.\n",
      "INFO    : Mission computation - iteration 386 : Using mission definition.\n",
      "INFO    : Mission computation - iteration 387 : Using mission definition.\n",
      "INFO    : Mission computation - iteration 388 : Using mission definition.\n",
      "INFO    : Mission computation - iteration 389 : Using mission definition.\n",
      "INFO    : Mission computation - iteration 390 : Using mission definition.\n",
      "INFO    : Mission computation - iteration 391 : Using mission definition.\n",
      "INFO    : Mission computation - iteration 392 : Using mission definition.\n",
      "INFO    : Mission computation - iteration 393 : Using mission definition.\n",
      "INFO    : Mission computation - iteration 394 : Using mission definition.\n",
      "INFO    : Mission computation - iteration 395 : Using mission definition.\n",
      "INFO    : Mission computation - iteration 396 : Using mission definition.\n",
      "INFO    : Mission computation - iteration 397 : Using mission definition.\n",
      "INFO    : Mission computation - iteration 398 : Using mission definition.\n"
     ]
    },
    {
     "name": "stdout",
     "output_type": "stream",
     "text": [
      "NL: NLBGS Converged in 24 iterations\n"
     ]
    },
    {
     "name": "stderr",
     "output_type": "stream",
     "text": [
      "INFO    : Mission computation - iteration 399 : Using mission definition.\n",
      "INFO    : Mission computation - iteration 400 : Using mission definition.\n",
      "INFO    : Mission computation - iteration 401 : Using mission definition.\n",
      "INFO    : Mission computation - iteration 402 : Using mission definition.\n",
      "INFO    : Mission computation - iteration 403 : Using mission definition.\n",
      "INFO    : Mission computation - iteration 404 : Using mission definition.\n",
      "INFO    : Mission computation - iteration 405 : Using mission definition.\n",
      "INFO    : Mission computation - iteration 406 : Using mission definition.\n",
      "INFO    : Mission computation - iteration 407 : Using mission definition.\n",
      "INFO    : Mission computation - iteration 408 : Using mission definition.\n",
      "INFO    : Mission computation - iteration 409 : Using mission definition.\n",
      "INFO    : Mission computation - iteration 410 : Using mission definition.\n",
      "INFO    : Mission computation - iteration 411 : Using mission definition.\n",
      "INFO    : Mission computation - iteration 412 : Using mission definition.\n",
      "INFO    : Mission computation - iteration 413 : Using mission definition.\n",
      "INFO    : Mission computation - iteration 414 : Using mission definition.\n",
      "INFO    : Mission computation - iteration 415 : Using mission definition.\n",
      "INFO    : Mission computation - iteration 416 : Using mission definition.\n",
      "INFO    : Mission computation - iteration 417 : Using mission definition.\n",
      "INFO    : Mission computation - iteration 418 : Using mission definition.\n",
      "INFO    : Mission computation - iteration 419 : Using mission definition.\n",
      "INFO    : Mission computation - iteration 420 : Using mission definition.\n",
      "INFO    : Mission computation - iteration 421 : Using mission definition.\n",
      "INFO    : Mission computation - iteration 422 : Using mission definition.\n",
      "INFO    : Mission computation - iteration 423 : Using mission definition.\n"
     ]
    },
    {
     "name": "stdout",
     "output_type": "stream",
     "text": [
      "NL: NLBGS Converged in 25 iterations\n"
     ]
    },
    {
     "name": "stderr",
     "output_type": "stream",
     "text": [
      "INFO    : Mission computation - iteration 424 : Using mission definition.\n",
      "INFO    : Mission computation - iteration 425 : Using mission definition.\n",
      "INFO    : Mission computation - iteration 426 : Using mission definition.\n",
      "INFO    : Mission computation - iteration 427 : Using mission definition.\n",
      "INFO    : Mission computation - iteration 428 : Using mission definition.\n",
      "INFO    : Mission computation - iteration 429 : Using mission definition.\n",
      "INFO    : Mission computation - iteration 430 : Using mission definition.\n",
      "INFO    : Mission computation - iteration 431 : Using mission definition.\n",
      "INFO    : Mission computation - iteration 432 : Using mission definition.\n",
      "INFO    : Mission computation - iteration 433 : Using mission definition.\n",
      "INFO    : Mission computation - iteration 434 : Using mission definition.\n",
      "INFO    : Mission computation - iteration 435 : Using mission definition.\n",
      "INFO    : Mission computation - iteration 436 : Using mission definition.\n",
      "INFO    : Mission computation - iteration 437 : Using mission definition.\n",
      "INFO    : Mission computation - iteration 438 : Using mission definition.\n",
      "INFO    : Mission computation - iteration 439 : Using mission definition.\n"
     ]
    },
    {
     "ename": "FileNotFoundError",
     "evalue": "'performance.mission_computation' <class MissionComponent>: Error calling compute(), [Errno 2] No such file or directory: 'C:\\\\Users\\\\Mathieu\\\\PycharmProjects\\\\FAST-OAD\\\\src\\\\fastoad\\\\notebooks\\\\01_tutorial\\\\workdir\\\\./flight_points.csv'",
     "output_type": "error",
     "traceback": [
      "\u001B[1;31m---------------------------------------------------------------------------\u001B[0m",
      "\u001B[1;31mFileNotFoundError\u001B[0m                         Traceback (most recent call last)",
      "\u001B[1;32mc:\\users\\mathieu\\pycharmprojects\\fast-oad\\venv\\lib\\site-packages\\openmdao\\core\\system.py\u001B[0m in \u001B[0;36m_call_user_function\u001B[1;34m(self, fname, protect_inputs, protect_outputs, protect_residuals)\u001B[0m\n\u001B[0;32m   2170\u001B[0m         \u001B[1;32mtry\u001B[0m\u001B[1;33m:\u001B[0m\u001B[1;33m\u001B[0m\u001B[1;33m\u001B[0m\u001B[0m\n\u001B[1;32m-> 2171\u001B[1;33m             \u001B[1;32myield\u001B[0m\u001B[1;33m\u001B[0m\u001B[1;33m\u001B[0m\u001B[0m\n\u001B[0m\u001B[0;32m   2172\u001B[0m         \u001B[1;32mexcept\u001B[0m \u001B[0mException\u001B[0m\u001B[1;33m:\u001B[0m\u001B[1;33m\u001B[0m\u001B[1;33m\u001B[0m\u001B[0m\n",
      "\u001B[1;32mc:\\users\\mathieu\\pycharmprojects\\fast-oad\\venv\\lib\\site-packages\\openmdao\\core\\explicitcomponent.py\u001B[0m in \u001B[0;36m_solve_nonlinear\u001B[1;34m(self)\u001B[0m\n\u001B[0;32m    272\u001B[0m                     \u001B[1;32melse\u001B[0m\u001B[1;33m:\u001B[0m\u001B[1;33m\u001B[0m\u001B[1;33m\u001B[0m\u001B[0m\n\u001B[1;32m--> 273\u001B[1;33m                         \u001B[0mself\u001B[0m\u001B[1;33m.\u001B[0m\u001B[0mcompute\u001B[0m\u001B[1;33m(\u001B[0m\u001B[0mself\u001B[0m\u001B[1;33m.\u001B[0m\u001B[0m_inputs\u001B[0m\u001B[1;33m,\u001B[0m \u001B[0mself\u001B[0m\u001B[1;33m.\u001B[0m\u001B[0m_outputs\u001B[0m\u001B[1;33m)\u001B[0m\u001B[1;33m\u001B[0m\u001B[1;33m\u001B[0m\u001B[0m\n\u001B[0m\u001B[0;32m    274\u001B[0m \u001B[1;33m\u001B[0m\u001B[0m\n",
      "\u001B[1;32m~\\PycharmProjects\\FAST-OAD\\src\\fastoad\\models\\performances\\mission\\openmdao\\mission.py\u001B[0m in \u001B[0;36mcompute\u001B[1;34m(self, inputs, outputs, discrete_inputs, discrete_outputs)\u001B[0m\n\u001B[0;32m    354\u001B[0m             \u001B[0m_LOGGER\u001B[0m\u001B[1;33m.\u001B[0m\u001B[0minfo\u001B[0m\u001B[1;33m(\u001B[0m\u001B[0mmessage_prefix\u001B[0m \u001B[1;33m+\u001B[0m \u001B[1;34m\"Using mission definition.\"\u001B[0m\u001B[1;33m)\u001B[0m\u001B[1;33m\u001B[0m\u001B[1;33m\u001B[0m\u001B[0m\n\u001B[1;32m--> 355\u001B[1;33m             \u001B[0mself\u001B[0m\u001B[1;33m.\u001B[0m\u001B[0m_compute_mission\u001B[0m\u001B[1;33m(\u001B[0m\u001B[0minputs\u001B[0m\u001B[1;33m,\u001B[0m \u001B[0moutputs\u001B[0m\u001B[1;33m)\u001B[0m\u001B[1;33m\u001B[0m\u001B[1;33m\u001B[0m\u001B[0m\n\u001B[0m\u001B[0;32m    356\u001B[0m \u001B[1;33m\u001B[0m\u001B[0m\n",
      "\u001B[1;32m~\\PycharmProjects\\FAST-OAD\\src\\fastoad\\models\\performances\\mission\\openmdao\\mission.py\u001B[0m in \u001B[0;36m_compute_mission\u001B[1;34m(self, inputs, outputs)\u001B[0m\n\u001B[0;32m    486\u001B[0m         \u001B[1;32mif\u001B[0m \u001B[0mself\u001B[0m\u001B[1;33m.\u001B[0m\u001B[0moptions\u001B[0m\u001B[1;33m[\u001B[0m\u001B[1;34m\"out_file\"\u001B[0m\u001B[1;33m]\u001B[0m\u001B[1;33m:\u001B[0m\u001B[1;33m\u001B[0m\u001B[1;33m\u001B[0m\u001B[0m\n\u001B[1;32m--> 487\u001B[1;33m             \u001B[0mself\u001B[0m\u001B[1;33m.\u001B[0m\u001B[0mflight_points\u001B[0m\u001B[1;33m.\u001B[0m\u001B[0mto_csv\u001B[0m\u001B[1;33m(\u001B[0m\u001B[0mself\u001B[0m\u001B[1;33m.\u001B[0m\u001B[0moptions\u001B[0m\u001B[1;33m[\u001B[0m\u001B[1;34m\"out_file\"\u001B[0m\u001B[1;33m]\u001B[0m\u001B[1;33m)\u001B[0m\u001B[1;33m\u001B[0m\u001B[1;33m\u001B[0m\u001B[0m\n\u001B[0m\u001B[0;32m    488\u001B[0m \u001B[1;33m\u001B[0m\u001B[0m\n",
      "\u001B[1;32mc:\\users\\mathieu\\pycharmprojects\\fast-oad\\venv\\lib\\site-packages\\pandas\\core\\generic.py\u001B[0m in \u001B[0;36mto_csv\u001B[1;34m(self, path_or_buf, sep, na_rep, float_format, columns, header, index, index_label, mode, encoding, compression, quoting, quotechar, line_terminator, chunksize, date_format, doublequote, escapechar, decimal, errors)\u001B[0m\n\u001B[0;32m   3169\u001B[0m         )\n\u001B[1;32m-> 3170\u001B[1;33m         \u001B[0mformatter\u001B[0m\u001B[1;33m.\u001B[0m\u001B[0msave\u001B[0m\u001B[1;33m(\u001B[0m\u001B[1;33m)\u001B[0m\u001B[1;33m\u001B[0m\u001B[1;33m\u001B[0m\u001B[0m\n\u001B[0m\u001B[0;32m   3171\u001B[0m \u001B[1;33m\u001B[0m\u001B[0m\n",
      "\u001B[1;32mc:\\users\\mathieu\\pycharmprojects\\fast-oad\\venv\\lib\\site-packages\\pandas\\io\\formats\\csvs.py\u001B[0m in \u001B[0;36msave\u001B[1;34m(self)\u001B[0m\n\u001B[0;32m    184\u001B[0m         \u001B[1;32melse\u001B[0m\u001B[1;33m:\u001B[0m\u001B[1;33m\u001B[0m\u001B[1;33m\u001B[0m\u001B[0m\n\u001B[1;32m--> 185\u001B[1;33m             f, handles = get_handle(\n\u001B[0m\u001B[0;32m    186\u001B[0m                 \u001B[0mself\u001B[0m\u001B[1;33m.\u001B[0m\u001B[0mpath_or_buf\u001B[0m\u001B[1;33m,\u001B[0m\u001B[1;33m\u001B[0m\u001B[1;33m\u001B[0m\u001B[0m\n",
      "\u001B[1;32mc:\\users\\mathieu\\pycharmprojects\\fast-oad\\venv\\lib\\site-packages\\pandas\\io\\common.py\u001B[0m in \u001B[0;36mget_handle\u001B[1;34m(path_or_buf, mode, encoding, compression, memory_map, is_text, errors)\u001B[0m\n\u001B[0;32m    492\u001B[0m             \u001B[1;31m# Encoding\u001B[0m\u001B[1;33m\u001B[0m\u001B[1;33m\u001B[0m\u001B[1;33m\u001B[0m\u001B[0m\n\u001B[1;32m--> 493\u001B[1;33m             \u001B[0mf\u001B[0m \u001B[1;33m=\u001B[0m \u001B[0mopen\u001B[0m\u001B[1;33m(\u001B[0m\u001B[0mpath_or_buf\u001B[0m\u001B[1;33m,\u001B[0m \u001B[0mmode\u001B[0m\u001B[1;33m,\u001B[0m \u001B[0mencoding\u001B[0m\u001B[1;33m=\u001B[0m\u001B[0mencoding\u001B[0m\u001B[1;33m,\u001B[0m \u001B[0merrors\u001B[0m\u001B[1;33m=\u001B[0m\u001B[0merrors\u001B[0m\u001B[1;33m,\u001B[0m \u001B[0mnewline\u001B[0m\u001B[1;33m=\u001B[0m\u001B[1;34m\"\"\u001B[0m\u001B[1;33m)\u001B[0m\u001B[1;33m\u001B[0m\u001B[1;33m\u001B[0m\u001B[0m\n\u001B[0m\u001B[0;32m    494\u001B[0m         \u001B[1;32melif\u001B[0m \u001B[0mis_text\u001B[0m\u001B[1;33m:\u001B[0m\u001B[1;33m\u001B[0m\u001B[1;33m\u001B[0m\u001B[0m\n",
      "\u001B[1;31mFileNotFoundError\u001B[0m: [Errno 2] No such file or directory: 'C:\\\\Users\\\\Mathieu\\\\PycharmProjects\\\\FAST-OAD\\\\src\\\\fastoad\\\\notebooks\\\\01_tutorial\\\\workdir\\\\./flight_points.csv'",
      "\nDuring handling of the above exception, another exception occurred:\n",
      "\u001B[1;31mFileNotFoundError\u001B[0m                         Traceback (most recent call last)",
      "\u001B[1;32m<ipython-input-17-0757dfe3f165>\u001B[0m in \u001B[0;36m<module>\u001B[1;34m\u001B[0m\n\u001B[1;32m----> 1\u001B[1;33m \u001B[0moptim_problem\u001B[0m \u001B[1;33m=\u001B[0m \u001B[0moad\u001B[0m\u001B[1;33m.\u001B[0m\u001B[0moptimize_problem\u001B[0m\u001B[1;33m(\u001B[0m\u001B[0mCONFIGURATION_FILE\u001B[0m\u001B[1;33m,\u001B[0m \u001B[0moverwrite\u001B[0m\u001B[1;33m=\u001B[0m\u001B[1;32mTrue\u001B[0m\u001B[1;33m)\u001B[0m\u001B[1;33m\u001B[0m\u001B[1;33m\u001B[0m\u001B[0m\n\u001B[0m\u001B[0;32m      2\u001B[0m \u001B[1;33m\u001B[0m\u001B[0m\n",
      "\u001B[1;32m~\\PycharmProjects\\FAST-OAD\\src\\fastoad\\cmd\\api.py\u001B[0m in \u001B[0;36moptimize_problem\u001B[1;34m(configuration_file_path, overwrite, auto_scaling)\u001B[0m\n\u001B[0;32m    485\u001B[0m     \u001B[1;33m:\u001B[0m\u001B[1;32mreturn\u001B[0m\u001B[1;33m:\u001B[0m \u001B[0mthe\u001B[0m \u001B[0mOpenMDAO\u001B[0m \u001B[0mproblem\u001B[0m \u001B[0mafter\u001B[0m \u001B[0mrun\u001B[0m\u001B[1;33m\u001B[0m\u001B[1;33m\u001B[0m\u001B[0m\n\u001B[0;32m    486\u001B[0m     \"\"\"\n\u001B[1;32m--> 487\u001B[1;33m     \u001B[1;32mreturn\u001B[0m \u001B[0m_run_problem\u001B[0m\u001B[1;33m(\u001B[0m\u001B[0mconfiguration_file_path\u001B[0m\u001B[1;33m,\u001B[0m \u001B[0moverwrite\u001B[0m\u001B[1;33m,\u001B[0m \u001B[1;34m\"run_driver\"\u001B[0m\u001B[1;33m,\u001B[0m \u001B[0mauto_scaling\u001B[0m\u001B[1;33m=\u001B[0m\u001B[0mauto_scaling\u001B[0m\u001B[1;33m)\u001B[0m\u001B[1;33m\u001B[0m\u001B[1;33m\u001B[0m\u001B[0m\n\u001B[0m\u001B[0;32m    488\u001B[0m \u001B[1;33m\u001B[0m\u001B[0m\n\u001B[0;32m    489\u001B[0m \u001B[1;33m\u001B[0m\u001B[0m\n",
      "\u001B[1;32m~\\PycharmProjects\\FAST-OAD\\src\\fastoad\\cmd\\api.py\u001B[0m in \u001B[0;36m_run_problem\u001B[1;34m(configuration_file_path, overwrite, mode, auto_scaling)\u001B[0m\n\u001B[0;32m    448\u001B[0m         \u001B[0mproblem\u001B[0m\u001B[1;33m.\u001B[0m\u001B[0moptim_failed\u001B[0m \u001B[1;33m=\u001B[0m \u001B[1;32mFalse\u001B[0m  \u001B[1;31m# Actually, we don't know\u001B[0m\u001B[1;33m\u001B[0m\u001B[1;33m\u001B[0m\u001B[0m\n\u001B[0;32m    449\u001B[0m     \u001B[1;32melse\u001B[0m\u001B[1;33m:\u001B[0m\u001B[1;33m\u001B[0m\u001B[1;33m\u001B[0m\u001B[0m\n\u001B[1;32m--> 450\u001B[1;33m         \u001B[0mproblem\u001B[0m\u001B[1;33m.\u001B[0m\u001B[0moptim_failed\u001B[0m \u001B[1;33m=\u001B[0m \u001B[0mproblem\u001B[0m\u001B[1;33m.\u001B[0m\u001B[0mrun_driver\u001B[0m\u001B[1;33m(\u001B[0m\u001B[1;33m)\u001B[0m\u001B[1;33m\u001B[0m\u001B[1;33m\u001B[0m\u001B[0m\n\u001B[0m\u001B[0;32m    451\u001B[0m     \u001B[0mend_time\u001B[0m \u001B[1;33m=\u001B[0m \u001B[0mtime\u001B[0m\u001B[1;33m(\u001B[0m\u001B[1;33m)\u001B[0m\u001B[1;33m\u001B[0m\u001B[1;33m\u001B[0m\u001B[0m\n\u001B[0;32m    452\u001B[0m     \u001B[0mcomputation_time\u001B[0m \u001B[1;33m=\u001B[0m \u001B[0mround\u001B[0m\u001B[1;33m(\u001B[0m\u001B[0mend_time\u001B[0m \u001B[1;33m-\u001B[0m \u001B[0mstart_time\u001B[0m\u001B[1;33m,\u001B[0m \u001B[1;36m2\u001B[0m\u001B[1;33m)\u001B[0m\u001B[1;33m\u001B[0m\u001B[1;33m\u001B[0m\u001B[0m\n",
      "\u001B[1;32m~\\PycharmProjects\\FAST-OAD\\src\\fastoad\\openmdao\\problem.py\u001B[0m in \u001B[0;36mrun_driver\u001B[1;34m(self, case_prefix, reset_iter_counts)\u001B[0m\n\u001B[0;32m     44\u001B[0m \u001B[1;33m\u001B[0m\u001B[0m\n\u001B[0;32m     45\u001B[0m     \u001B[1;32mdef\u001B[0m \u001B[0mrun_driver\u001B[0m\u001B[1;33m(\u001B[0m\u001B[0mself\u001B[0m\u001B[1;33m,\u001B[0m \u001B[0mcase_prefix\u001B[0m\u001B[1;33m=\u001B[0m\u001B[1;32mNone\u001B[0m\u001B[1;33m,\u001B[0m \u001B[0mreset_iter_counts\u001B[0m\u001B[1;33m=\u001B[0m\u001B[1;32mTrue\u001B[0m\u001B[1;33m)\u001B[0m\u001B[1;33m:\u001B[0m\u001B[1;33m\u001B[0m\u001B[1;33m\u001B[0m\u001B[0m\n\u001B[1;32m---> 46\u001B[1;33m         \u001B[0mstatus\u001B[0m \u001B[1;33m=\u001B[0m \u001B[0msuper\u001B[0m\u001B[1;33m(\u001B[0m\u001B[1;33m)\u001B[0m\u001B[1;33m.\u001B[0m\u001B[0mrun_driver\u001B[0m\u001B[1;33m(\u001B[0m\u001B[0mcase_prefix\u001B[0m\u001B[1;33m,\u001B[0m \u001B[0mreset_iter_counts\u001B[0m\u001B[1;33m)\u001B[0m\u001B[1;33m\u001B[0m\u001B[1;33m\u001B[0m\u001B[0m\n\u001B[0m\u001B[0;32m     47\u001B[0m         \u001B[0mValidityDomainChecker\u001B[0m\u001B[1;33m.\u001B[0m\u001B[0mcheck_problem_variables\u001B[0m\u001B[1;33m(\u001B[0m\u001B[0mself\u001B[0m\u001B[1;33m)\u001B[0m\u001B[1;33m\u001B[0m\u001B[1;33m\u001B[0m\u001B[0m\n\u001B[0;32m     48\u001B[0m         \u001B[1;32mreturn\u001B[0m \u001B[0mstatus\u001B[0m\u001B[1;33m\u001B[0m\u001B[1;33m\u001B[0m\u001B[0m\n",
      "\u001B[1;32mc:\\users\\mathieu\\pycharmprojects\\fast-oad\\venv\\lib\\site-packages\\openmdao\\core\\problem.py\u001B[0m in \u001B[0;36mrun_driver\u001B[1;34m(self, case_prefix, reset_iter_counts)\u001B[0m\n\u001B[0;32m    663\u001B[0m \u001B[1;33m\u001B[0m\u001B[0m\n\u001B[0;32m    664\u001B[0m         \u001B[0mself\u001B[0m\u001B[1;33m.\u001B[0m\u001B[0mmodel\u001B[0m\u001B[1;33m.\u001B[0m\u001B[0m_clear_iprint\u001B[0m\u001B[1;33m(\u001B[0m\u001B[1;33m)\u001B[0m\u001B[1;33m\u001B[0m\u001B[1;33m\u001B[0m\u001B[0m\n\u001B[1;32m--> 665\u001B[1;33m         \u001B[1;32mreturn\u001B[0m \u001B[0mself\u001B[0m\u001B[1;33m.\u001B[0m\u001B[0mdriver\u001B[0m\u001B[1;33m.\u001B[0m\u001B[0mrun\u001B[0m\u001B[1;33m(\u001B[0m\u001B[1;33m)\u001B[0m\u001B[1;33m\u001B[0m\u001B[1;33m\u001B[0m\u001B[0m\n\u001B[0m\u001B[0;32m    666\u001B[0m \u001B[1;33m\u001B[0m\u001B[0m\n\u001B[0;32m    667\u001B[0m     \u001B[1;32mdef\u001B[0m \u001B[0mcompute_jacvec_product\u001B[0m\u001B[1;33m(\u001B[0m\u001B[0mself\u001B[0m\u001B[1;33m,\u001B[0m \u001B[0mof\u001B[0m\u001B[1;33m,\u001B[0m \u001B[0mwrt\u001B[0m\u001B[1;33m,\u001B[0m \u001B[0mmode\u001B[0m\u001B[1;33m,\u001B[0m \u001B[0mseed\u001B[0m\u001B[1;33m)\u001B[0m\u001B[1;33m:\u001B[0m\u001B[1;33m\u001B[0m\u001B[1;33m\u001B[0m\u001B[0m\n",
      "\u001B[1;32mc:\\users\\mathieu\\pycharmprojects\\fast-oad\\venv\\lib\\site-packages\\openmdao\\drivers\\scipy_optimizer.py\u001B[0m in \u001B[0;36mrun\u001B[1;34m(self)\u001B[0m\n\u001B[0;32m    536\u001B[0m         \u001B[1;32mexcept\u001B[0m \u001B[0mException\u001B[0m \u001B[1;32mas\u001B[0m \u001B[0mmsg\u001B[0m\u001B[1;33m:\u001B[0m\u001B[1;33m\u001B[0m\u001B[1;33m\u001B[0m\u001B[0m\n\u001B[0;32m    537\u001B[0m             \u001B[1;32mif\u001B[0m \u001B[0mself\u001B[0m\u001B[1;33m.\u001B[0m\u001B[0m_exc_info\u001B[0m \u001B[1;32mis\u001B[0m \u001B[1;32mnot\u001B[0m \u001B[1;32mNone\u001B[0m\u001B[1;33m:\u001B[0m\u001B[1;33m\u001B[0m\u001B[1;33m\u001B[0m\u001B[0m\n\u001B[1;32m--> 538\u001B[1;33m                 \u001B[0mself\u001B[0m\u001B[1;33m.\u001B[0m\u001B[0m_reraise\u001B[0m\u001B[1;33m(\u001B[0m\u001B[1;33m)\u001B[0m\u001B[1;33m\u001B[0m\u001B[1;33m\u001B[0m\u001B[0m\n\u001B[0m\u001B[0;32m    539\u001B[0m             \u001B[1;32melse\u001B[0m\u001B[1;33m:\u001B[0m\u001B[1;33m\u001B[0m\u001B[1;33m\u001B[0m\u001B[0m\n\u001B[0;32m    540\u001B[0m                 \u001B[1;32mraise\u001B[0m\u001B[1;33m\u001B[0m\u001B[1;33m\u001B[0m\u001B[0m\n",
      "\u001B[1;32mc:\\users\\mathieu\\pycharmprojects\\fast-oad\\venv\\lib\\site-packages\\openmdao\\drivers\\scipy_optimizer.py\u001B[0m in \u001B[0;36m_reraise\u001B[1;34m(self)\u001B[0m\n\u001B[0;32m    785\u001B[0m         \"\"\"\n\u001B[0;32m    786\u001B[0m         \u001B[0mexc\u001B[0m \u001B[1;33m=\u001B[0m \u001B[0mself\u001B[0m\u001B[1;33m.\u001B[0m\u001B[0m_exc_info\u001B[0m\u001B[1;33m\u001B[0m\u001B[1;33m\u001B[0m\u001B[0m\n\u001B[1;32m--> 787\u001B[1;33m         \u001B[1;32mraise\u001B[0m \u001B[0mexc\u001B[0m\u001B[1;33m\u001B[0m\u001B[1;33m\u001B[0m\u001B[0m\n\u001B[0m\u001B[0;32m    788\u001B[0m \u001B[1;33m\u001B[0m\u001B[0m\n\u001B[0;32m    789\u001B[0m \u001B[1;33m\u001B[0m\u001B[0m\n",
      "\u001B[1;32mc:\\users\\mathieu\\pycharmprojects\\fast-oad\\venv\\lib\\site-packages\\openmdao\\drivers\\scipy_optimizer.py\u001B[0m in \u001B[0;36mrun\u001B[1;34m(self)\u001B[0m\n\u001B[0;32m    453\u001B[0m         \u001B[1;32mtry\u001B[0m\u001B[1;33m:\u001B[0m\u001B[1;33m\u001B[0m\u001B[1;33m\u001B[0m\u001B[0m\n\u001B[0;32m    454\u001B[0m             \u001B[1;32mif\u001B[0m \u001B[0mopt\u001B[0m \u001B[1;32min\u001B[0m \u001B[0m_optimizers\u001B[0m\u001B[1;33m:\u001B[0m\u001B[1;33m\u001B[0m\u001B[1;33m\u001B[0m\u001B[0m\n\u001B[1;32m--> 455\u001B[1;33m                 result = minimize(self._objfunc, x_init,\n\u001B[0m\u001B[0;32m    456\u001B[0m                                   \u001B[1;31m# args=(),\u001B[0m\u001B[1;33m\u001B[0m\u001B[1;33m\u001B[0m\u001B[1;33m\u001B[0m\u001B[0m\n\u001B[0;32m    457\u001B[0m                                   \u001B[0mmethod\u001B[0m\u001B[1;33m=\u001B[0m\u001B[0mopt\u001B[0m\u001B[1;33m,\u001B[0m\u001B[1;33m\u001B[0m\u001B[1;33m\u001B[0m\u001B[0m\n",
      "\u001B[1;32mc:\\users\\mathieu\\pycharmprojects\\fast-oad\\venv\\lib\\site-packages\\scipy\\optimize\\_minimize.py\u001B[0m in \u001B[0;36mminimize\u001B[1;34m(fun, x0, args, method, jac, hess, hessp, bounds, constraints, tol, callback, options)\u001B[0m\n\u001B[0;32m    623\u001B[0m                              **options)\n\u001B[0;32m    624\u001B[0m     \u001B[1;32melif\u001B[0m \u001B[0mmeth\u001B[0m \u001B[1;33m==\u001B[0m \u001B[1;34m'cobyla'\u001B[0m\u001B[1;33m:\u001B[0m\u001B[1;33m\u001B[0m\u001B[1;33m\u001B[0m\u001B[0m\n\u001B[1;32m--> 625\u001B[1;33m         \u001B[1;32mreturn\u001B[0m \u001B[0m_minimize_cobyla\u001B[0m\u001B[1;33m(\u001B[0m\u001B[0mfun\u001B[0m\u001B[1;33m,\u001B[0m \u001B[0mx0\u001B[0m\u001B[1;33m,\u001B[0m \u001B[0margs\u001B[0m\u001B[1;33m,\u001B[0m \u001B[0mconstraints\u001B[0m\u001B[1;33m,\u001B[0m \u001B[1;33m**\u001B[0m\u001B[0moptions\u001B[0m\u001B[1;33m)\u001B[0m\u001B[1;33m\u001B[0m\u001B[1;33m\u001B[0m\u001B[0m\n\u001B[0m\u001B[0;32m    626\u001B[0m     \u001B[1;32melif\u001B[0m \u001B[0mmeth\u001B[0m \u001B[1;33m==\u001B[0m \u001B[1;34m'slsqp'\u001B[0m\u001B[1;33m:\u001B[0m\u001B[1;33m\u001B[0m\u001B[1;33m\u001B[0m\u001B[0m\n\u001B[0;32m    627\u001B[0m         return _minimize_slsqp(fun, x0, args, jac, bounds,\n",
      "\u001B[1;32mc:\\users\\mathieu\\pycharmprojects\\fast-oad\\venv\\lib\\site-packages\\scipy\\optimize\\cobyla.py\u001B[0m in \u001B[0;36mwrapper\u001B[1;34m(*args, **kwargs)\u001B[0m\n\u001B[0;32m     32\u001B[0m     \u001B[1;32mdef\u001B[0m \u001B[0mwrapper\u001B[0m\u001B[1;33m(\u001B[0m\u001B[1;33m*\u001B[0m\u001B[0margs\u001B[0m\u001B[1;33m,\u001B[0m \u001B[1;33m**\u001B[0m\u001B[0mkwargs\u001B[0m\u001B[1;33m)\u001B[0m\u001B[1;33m:\u001B[0m\u001B[1;33m\u001B[0m\u001B[1;33m\u001B[0m\u001B[0m\n\u001B[0;32m     33\u001B[0m         \u001B[1;32mwith\u001B[0m \u001B[0m_module_lock\u001B[0m\u001B[1;33m:\u001B[0m\u001B[1;33m\u001B[0m\u001B[1;33m\u001B[0m\u001B[0m\n\u001B[1;32m---> 34\u001B[1;33m             \u001B[1;32mreturn\u001B[0m \u001B[0mfunc\u001B[0m\u001B[1;33m(\u001B[0m\u001B[1;33m*\u001B[0m\u001B[0margs\u001B[0m\u001B[1;33m,\u001B[0m \u001B[1;33m**\u001B[0m\u001B[0mkwargs\u001B[0m\u001B[1;33m)\u001B[0m\u001B[1;33m\u001B[0m\u001B[1;33m\u001B[0m\u001B[0m\n\u001B[0m\u001B[0;32m     35\u001B[0m     \u001B[1;32mreturn\u001B[0m \u001B[0mwrapper\u001B[0m\u001B[1;33m\u001B[0m\u001B[1;33m\u001B[0m\u001B[0m\n\u001B[0;32m     36\u001B[0m \u001B[1;33m\u001B[0m\u001B[0m\n",
      "\u001B[1;32mc:\\users\\mathieu\\pycharmprojects\\fast-oad\\venv\\lib\\site-packages\\scipy\\optimize\\cobyla.py\u001B[0m in \u001B[0;36m_minimize_cobyla\u001B[1;34m(fun, x0, args, constraints, rhobeg, tol, maxiter, disp, catol, **unknown_options)\u001B[0m\n\u001B[0;32m    258\u001B[0m \u001B[1;33m\u001B[0m\u001B[0m\n\u001B[0;32m    259\u001B[0m     \u001B[0minfo\u001B[0m \u001B[1;33m=\u001B[0m \u001B[0mnp\u001B[0m\u001B[1;33m.\u001B[0m\u001B[0mzeros\u001B[0m\u001B[1;33m(\u001B[0m\u001B[1;36m4\u001B[0m\u001B[1;33m,\u001B[0m \u001B[0mnp\u001B[0m\u001B[1;33m.\u001B[0m\u001B[0mfloat64\u001B[0m\u001B[1;33m)\u001B[0m\u001B[1;33m\u001B[0m\u001B[1;33m\u001B[0m\u001B[0m\n\u001B[1;32m--> 260\u001B[1;33m     xopt, info = _cobyla.minimize(calcfc, m=m, x=np.copy(x0), rhobeg=rhobeg,\n\u001B[0m\u001B[0;32m    261\u001B[0m                                   \u001B[0mrhoend\u001B[0m\u001B[1;33m=\u001B[0m\u001B[0mrhoend\u001B[0m\u001B[1;33m,\u001B[0m \u001B[0miprint\u001B[0m\u001B[1;33m=\u001B[0m\u001B[0miprint\u001B[0m\u001B[1;33m,\u001B[0m \u001B[0mmaxfun\u001B[0m\u001B[1;33m=\u001B[0m\u001B[0mmaxfun\u001B[0m\u001B[1;33m,\u001B[0m\u001B[1;33m\u001B[0m\u001B[1;33m\u001B[0m\u001B[0m\n\u001B[0;32m    262\u001B[0m                                   dinfo=info)\n",
      "\u001B[1;32mc:\\users\\mathieu\\pycharmprojects\\fast-oad\\venv\\lib\\site-packages\\scipy\\optimize\\cobyla.py\u001B[0m in \u001B[0;36mcalcfc\u001B[1;34m(x, con)\u001B[0m\n\u001B[0;32m    253\u001B[0m         \u001B[0mi\u001B[0m \u001B[1;33m=\u001B[0m \u001B[1;36m0\u001B[0m\u001B[1;33m\u001B[0m\u001B[1;33m\u001B[0m\u001B[0m\n\u001B[0;32m    254\u001B[0m         \u001B[1;32mfor\u001B[0m \u001B[0msize\u001B[0m\u001B[1;33m,\u001B[0m \u001B[0mc\u001B[0m \u001B[1;32min\u001B[0m \u001B[0mizip\u001B[0m\u001B[1;33m(\u001B[0m\u001B[0mcons_lengths\u001B[0m\u001B[1;33m,\u001B[0m \u001B[0mconstraints\u001B[0m\u001B[1;33m)\u001B[0m\u001B[1;33m:\u001B[0m\u001B[1;33m\u001B[0m\u001B[1;33m\u001B[0m\u001B[0m\n\u001B[1;32m--> 255\u001B[1;33m             \u001B[0mcon\u001B[0m\u001B[1;33m[\u001B[0m\u001B[0mi\u001B[0m\u001B[1;33m:\u001B[0m \u001B[0mi\u001B[0m \u001B[1;33m+\u001B[0m \u001B[0msize\u001B[0m\u001B[1;33m]\u001B[0m \u001B[1;33m=\u001B[0m \u001B[0mc\u001B[0m\u001B[1;33m[\u001B[0m\u001B[1;34m'fun'\u001B[0m\u001B[1;33m]\u001B[0m\u001B[1;33m(\u001B[0m\u001B[0mx\u001B[0m\u001B[1;33m,\u001B[0m \u001B[1;33m*\u001B[0m\u001B[0mc\u001B[0m\u001B[1;33m[\u001B[0m\u001B[1;34m'args'\u001B[0m\u001B[1;33m]\u001B[0m\u001B[1;33m)\u001B[0m\u001B[1;33m\u001B[0m\u001B[1;33m\u001B[0m\u001B[0m\n\u001B[0m\u001B[0;32m    256\u001B[0m             \u001B[0mi\u001B[0m \u001B[1;33m+=\u001B[0m \u001B[0msize\u001B[0m\u001B[1;33m\u001B[0m\u001B[1;33m\u001B[0m\u001B[0m\n\u001B[0;32m    257\u001B[0m         \u001B[1;32mreturn\u001B[0m \u001B[0mf\u001B[0m\u001B[1;33m\u001B[0m\u001B[1;33m\u001B[0m\u001B[0m\n",
      "\u001B[1;32mc:\\users\\mathieu\\pycharmprojects\\fast-oad\\venv\\lib\\site-packages\\openmdao\\utils\\class_util.py\u001B[0m in \u001B[0;36m__call__\u001B[1;34m(self, *args, **kwargs)\u001B[0m\n\u001B[0;32m     76\u001B[0m             \u001B[0mThe\u001B[0m \u001B[1;32mreturn\u001B[0m \u001B[0mvalue\u001B[0m \u001B[0mof\u001B[0m \u001B[0mthe\u001B[0m \u001B[0mwrapped\u001B[0m \u001B[0mmethod\u001B[0m \u001B[0mcalled\u001B[0m \u001B[1;32mwith\u001B[0m \u001B[0mthe\u001B[0m \u001B[0mgiven\u001B[0m \u001B[0margs\u001B[0m\u001B[1;33m.\u001B[0m\u001B[1;33m\u001B[0m\u001B[1;33m\u001B[0m\u001B[0m\n\u001B[0;32m     77\u001B[0m         \"\"\"\n\u001B[1;32m---> 78\u001B[1;33m         \u001B[1;32mreturn\u001B[0m \u001B[0mgetattr\u001B[0m\u001B[1;33m(\u001B[0m\u001B[0mself\u001B[0m\u001B[1;33m.\u001B[0m\u001B[0m_ref\u001B[0m\u001B[1;33m(\u001B[0m\u001B[1;33m)\u001B[0m\u001B[1;33m,\u001B[0m \u001B[0mself\u001B[0m\u001B[1;33m.\u001B[0m\u001B[0m__name__\u001B[0m\u001B[1;33m)\u001B[0m\u001B[1;33m(\u001B[0m\u001B[1;33m*\u001B[0m\u001B[0margs\u001B[0m\u001B[1;33m,\u001B[0m \u001B[1;33m**\u001B[0m\u001B[0mkwargs\u001B[0m\u001B[1;33m)\u001B[0m\u001B[1;33m\u001B[0m\u001B[1;33m\u001B[0m\u001B[0m\n\u001B[0m",
      "\u001B[1;32mc:\\users\\mathieu\\pycharmprojects\\fast-oad\\venv\\lib\\site-packages\\openmdao\\drivers\\scipy_optimizer.py\u001B[0m in \u001B[0;36m_confunc\u001B[1;34m(self, x_new, name, dbl, idx)\u001B[0m\n\u001B[0;32m    662\u001B[0m         \"\"\"\n\u001B[0;32m    663\u001B[0m         \u001B[1;32mif\u001B[0m \u001B[0mself\u001B[0m\u001B[1;33m.\u001B[0m\u001B[0m_exc_info\u001B[0m \u001B[1;32mis\u001B[0m \u001B[1;32mnot\u001B[0m \u001B[1;32mNone\u001B[0m\u001B[1;33m:\u001B[0m\u001B[1;33m\u001B[0m\u001B[1;33m\u001B[0m\u001B[0m\n\u001B[1;32m--> 664\u001B[1;33m             \u001B[0mself\u001B[0m\u001B[1;33m.\u001B[0m\u001B[0m_reraise\u001B[0m\u001B[1;33m(\u001B[0m\u001B[1;33m)\u001B[0m\u001B[1;33m\u001B[0m\u001B[1;33m\u001B[0m\u001B[0m\n\u001B[0m\u001B[0;32m    665\u001B[0m \u001B[1;33m\u001B[0m\u001B[0m\n\u001B[0;32m    666\u001B[0m         \u001B[0mcons\u001B[0m \u001B[1;33m=\u001B[0m \u001B[0mself\u001B[0m\u001B[1;33m.\u001B[0m\u001B[0m_con_cache\u001B[0m\u001B[1;33m\u001B[0m\u001B[1;33m\u001B[0m\u001B[0m\n",
      "\u001B[1;32mc:\\users\\mathieu\\pycharmprojects\\fast-oad\\venv\\lib\\site-packages\\openmdao\\drivers\\scipy_optimizer.py\u001B[0m in \u001B[0;36m_reraise\u001B[1;34m(self)\u001B[0m\n\u001B[0;32m    785\u001B[0m         \"\"\"\n\u001B[0;32m    786\u001B[0m         \u001B[0mexc\u001B[0m \u001B[1;33m=\u001B[0m \u001B[0mself\u001B[0m\u001B[1;33m.\u001B[0m\u001B[0m_exc_info\u001B[0m\u001B[1;33m\u001B[0m\u001B[1;33m\u001B[0m\u001B[0m\n\u001B[1;32m--> 787\u001B[1;33m         \u001B[1;32mraise\u001B[0m \u001B[0mexc\u001B[0m\u001B[1;33m\u001B[0m\u001B[1;33m\u001B[0m\u001B[0m\n\u001B[0m\u001B[0;32m    788\u001B[0m \u001B[1;33m\u001B[0m\u001B[0m\n\u001B[0;32m    789\u001B[0m \u001B[1;33m\u001B[0m\u001B[0m\n",
      "\u001B[1;32mc:\\users\\mathieu\\pycharmprojects\\fast-oad\\venv\\lib\\site-packages\\openmdao\\drivers\\scipy_optimizer.py\u001B[0m in \u001B[0;36m_objfunc\u001B[1;34m(self, x_new)\u001B[0m\n\u001B[0;32m    594\u001B[0m             \u001B[1;32mwith\u001B[0m \u001B[0mRecordingDebugging\u001B[0m\u001B[1;33m(\u001B[0m\u001B[0mself\u001B[0m\u001B[1;33m.\u001B[0m\u001B[0m_get_name\u001B[0m\u001B[1;33m(\u001B[0m\u001B[1;33m)\u001B[0m\u001B[1;33m,\u001B[0m \u001B[0mself\u001B[0m\u001B[1;33m.\u001B[0m\u001B[0miter_count\u001B[0m\u001B[1;33m,\u001B[0m \u001B[0mself\u001B[0m\u001B[1;33m)\u001B[0m \u001B[1;32mas\u001B[0m \u001B[0mrec\u001B[0m\u001B[1;33m:\u001B[0m\u001B[1;33m\u001B[0m\u001B[1;33m\u001B[0m\u001B[0m\n\u001B[0;32m    595\u001B[0m                 \u001B[0mself\u001B[0m\u001B[1;33m.\u001B[0m\u001B[0miter_count\u001B[0m \u001B[1;33m+=\u001B[0m \u001B[1;36m1\u001B[0m\u001B[1;33m\u001B[0m\u001B[1;33m\u001B[0m\u001B[0m\n\u001B[1;32m--> 596\u001B[1;33m                 \u001B[0mmodel\u001B[0m\u001B[1;33m.\u001B[0m\u001B[0mrun_solve_nonlinear\u001B[0m\u001B[1;33m(\u001B[0m\u001B[1;33m)\u001B[0m\u001B[1;33m\u001B[0m\u001B[1;33m\u001B[0m\u001B[0m\n\u001B[0m\u001B[0;32m    597\u001B[0m \u001B[1;33m\u001B[0m\u001B[0m\n\u001B[0;32m    598\u001B[0m             \u001B[1;31m# Get the objective function evaluations\u001B[0m\u001B[1;33m\u001B[0m\u001B[1;33m\u001B[0m\u001B[1;33m\u001B[0m\u001B[0m\n",
      "\u001B[1;32mc:\\users\\mathieu\\pycharmprojects\\fast-oad\\venv\\lib\\site-packages\\openmdao\\core\\system.py\u001B[0m in \u001B[0;36mrun_solve_nonlinear\u001B[1;34m(self)\u001B[0m\n\u001B[0;32m   3770\u001B[0m         \"\"\"\n\u001B[0;32m   3771\u001B[0m         \u001B[1;32mwith\u001B[0m \u001B[0mself\u001B[0m\u001B[1;33m.\u001B[0m\u001B[0m_scaled_context_all\u001B[0m\u001B[1;33m(\u001B[0m\u001B[1;33m)\u001B[0m\u001B[1;33m:\u001B[0m\u001B[1;33m\u001B[0m\u001B[1;33m\u001B[0m\u001B[0m\n\u001B[1;32m-> 3772\u001B[1;33m             \u001B[0mself\u001B[0m\u001B[1;33m.\u001B[0m\u001B[0m_solve_nonlinear\u001B[0m\u001B[1;33m(\u001B[0m\u001B[1;33m)\u001B[0m\u001B[1;33m\u001B[0m\u001B[1;33m\u001B[0m\u001B[0m\n\u001B[0m\u001B[0;32m   3773\u001B[0m \u001B[1;33m\u001B[0m\u001B[0m\n\u001B[0;32m   3774\u001B[0m     \u001B[1;32mdef\u001B[0m \u001B[0mrun_apply_linear\u001B[0m\u001B[1;33m(\u001B[0m\u001B[0mself\u001B[0m\u001B[1;33m,\u001B[0m \u001B[0mvec_names\u001B[0m\u001B[1;33m,\u001B[0m \u001B[0mmode\u001B[0m\u001B[1;33m,\u001B[0m \u001B[0mscope_out\u001B[0m\u001B[1;33m=\u001B[0m\u001B[1;32mNone\u001B[0m\u001B[1;33m,\u001B[0m \u001B[0mscope_in\u001B[0m\u001B[1;33m=\u001B[0m\u001B[1;32mNone\u001B[0m\u001B[1;33m)\u001B[0m\u001B[1;33m:\u001B[0m\u001B[1;33m\u001B[0m\u001B[1;33m\u001B[0m\u001B[0m\n",
      "\u001B[1;32mc:\\users\\mathieu\\pycharmprojects\\fast-oad\\venv\\lib\\site-packages\\openmdao\\core\\group.py\u001B[0m in \u001B[0;36m_solve_nonlinear\u001B[1;34m(self)\u001B[0m\n\u001B[0;32m   2634\u001B[0m \u001B[1;33m\u001B[0m\u001B[0m\n\u001B[0;32m   2635\u001B[0m         \u001B[1;32mwith\u001B[0m \u001B[0mRecording\u001B[0m\u001B[1;33m(\u001B[0m\u001B[0mname\u001B[0m \u001B[1;33m+\u001B[0m \u001B[1;34m'._solve_nonlinear'\u001B[0m\u001B[1;33m,\u001B[0m \u001B[0mself\u001B[0m\u001B[1;33m.\u001B[0m\u001B[0miter_count\u001B[0m\u001B[1;33m,\u001B[0m \u001B[0mself\u001B[0m\u001B[1;33m)\u001B[0m\u001B[1;33m:\u001B[0m\u001B[1;33m\u001B[0m\u001B[1;33m\u001B[0m\u001B[0m\n\u001B[1;32m-> 2636\u001B[1;33m             \u001B[0mself\u001B[0m\u001B[1;33m.\u001B[0m\u001B[0m_nonlinear_solver\u001B[0m\u001B[1;33m.\u001B[0m\u001B[0msolve\u001B[0m\u001B[1;33m(\u001B[0m\u001B[1;33m)\u001B[0m\u001B[1;33m\u001B[0m\u001B[1;33m\u001B[0m\u001B[0m\n\u001B[0m\u001B[0;32m   2637\u001B[0m \u001B[1;33m\u001B[0m\u001B[0m\n\u001B[0;32m   2638\u001B[0m         \u001B[1;31m# Iteration counter is incremented in the Recording context manager at exit.\u001B[0m\u001B[1;33m\u001B[0m\u001B[1;33m\u001B[0m\u001B[1;33m\u001B[0m\u001B[0m\n",
      "\u001B[1;32mc:\\users\\mathieu\\pycharmprojects\\fast-oad\\venv\\lib\\site-packages\\openmdao\\solvers\\solver.py\u001B[0m in \u001B[0;36msolve\u001B[1;34m(self)\u001B[0m\n\u001B[0;32m    557\u001B[0m             \u001B[1;32mif\u001B[0m \u001B[0mself\u001B[0m\u001B[1;33m.\u001B[0m\u001B[0moptions\u001B[0m\u001B[1;33m[\u001B[0m\u001B[1;34m'debug_print'\u001B[0m\u001B[1;33m]\u001B[0m\u001B[1;33m:\u001B[0m\u001B[1;33m\u001B[0m\u001B[1;33m\u001B[0m\u001B[0m\n\u001B[0;32m    558\u001B[0m                 \u001B[0mself\u001B[0m\u001B[1;33m.\u001B[0m\u001B[0m_print_exc_debug_info\u001B[0m\u001B[1;33m(\u001B[0m\u001B[1;33m)\u001B[0m\u001B[1;33m\u001B[0m\u001B[1;33m\u001B[0m\u001B[0m\n\u001B[1;32m--> 559\u001B[1;33m             \u001B[1;32mraise\u001B[0m \u001B[0merr\u001B[0m\u001B[1;33m\u001B[0m\u001B[1;33m\u001B[0m\u001B[0m\n\u001B[0m\u001B[0;32m    560\u001B[0m \u001B[1;33m\u001B[0m\u001B[0m\n\u001B[0;32m    561\u001B[0m     \u001B[1;32mdef\u001B[0m \u001B[0m_iter_initialize\u001B[0m\u001B[1;33m(\u001B[0m\u001B[0mself\u001B[0m\u001B[1;33m)\u001B[0m\u001B[1;33m:\u001B[0m\u001B[1;33m\u001B[0m\u001B[1;33m\u001B[0m\u001B[0m\n",
      "\u001B[1;32mc:\\users\\mathieu\\pycharmprojects\\fast-oad\\venv\\lib\\site-packages\\openmdao\\solvers\\solver.py\u001B[0m in \u001B[0;36msolve\u001B[1;34m(self)\u001B[0m\n\u001B[0;32m    553\u001B[0m         \"\"\"\n\u001B[0;32m    554\u001B[0m         \u001B[1;32mtry\u001B[0m\u001B[1;33m:\u001B[0m\u001B[1;33m\u001B[0m\u001B[1;33m\u001B[0m\u001B[0m\n\u001B[1;32m--> 555\u001B[1;33m             \u001B[0mself\u001B[0m\u001B[1;33m.\u001B[0m\u001B[0m_solve\u001B[0m\u001B[1;33m(\u001B[0m\u001B[1;33m)\u001B[0m\u001B[1;33m\u001B[0m\u001B[1;33m\u001B[0m\u001B[0m\n\u001B[0m\u001B[0;32m    556\u001B[0m         \u001B[1;32mexcept\u001B[0m \u001B[0mException\u001B[0m \u001B[1;32mas\u001B[0m \u001B[0merr\u001B[0m\u001B[1;33m:\u001B[0m\u001B[1;33m\u001B[0m\u001B[1;33m\u001B[0m\u001B[0m\n\u001B[0;32m    557\u001B[0m             \u001B[1;32mif\u001B[0m \u001B[0mself\u001B[0m\u001B[1;33m.\u001B[0m\u001B[0moptions\u001B[0m\u001B[1;33m[\u001B[0m\u001B[1;34m'debug_print'\u001B[0m\u001B[1;33m]\u001B[0m\u001B[1;33m:\u001B[0m\u001B[1;33m\u001B[0m\u001B[1;33m\u001B[0m\u001B[0m\n",
      "\u001B[1;32mc:\\users\\mathieu\\pycharmprojects\\fast-oad\\venv\\lib\\site-packages\\openmdao\\solvers\\solver.py\u001B[0m in \u001B[0;36m_solve\u001B[1;34m(self)\u001B[0m\n\u001B[0;32m    630\u001B[0m                     \u001B[0mself\u001B[0m\u001B[1;33m.\u001B[0m\u001B[0mlinesearch\u001B[0m\u001B[1;33m.\u001B[0m\u001B[0moptions\u001B[0m\u001B[1;33m[\u001B[0m\u001B[1;34m'print_bound_enforce'\u001B[0m\u001B[1;33m]\u001B[0m \u001B[1;33m=\u001B[0m \u001B[1;32mFalse\u001B[0m\u001B[1;33m\u001B[0m\u001B[1;33m\u001B[0m\u001B[0m\n\u001B[0;32m    631\u001B[0m                 \u001B[1;32melse\u001B[0m\u001B[1;33m:\u001B[0m\u001B[1;33m\u001B[0m\u001B[1;33m\u001B[0m\u001B[0m\n\u001B[1;32m--> 632\u001B[1;33m                     \u001B[0mself\u001B[0m\u001B[1;33m.\u001B[0m\u001B[0m_single_iteration\u001B[0m\u001B[1;33m(\u001B[0m\u001B[1;33m)\u001B[0m\u001B[1;33m\u001B[0m\u001B[1;33m\u001B[0m\u001B[0m\n\u001B[0m\u001B[0;32m    633\u001B[0m \u001B[1;33m\u001B[0m\u001B[0m\n\u001B[0;32m    634\u001B[0m                 \u001B[0mself\u001B[0m\u001B[1;33m.\u001B[0m\u001B[0m_iter_count\u001B[0m \u001B[1;33m+=\u001B[0m \u001B[1;36m1\u001B[0m\u001B[1;33m\u001B[0m\u001B[1;33m\u001B[0m\u001B[0m\n",
      "\u001B[1;32mc:\\users\\mathieu\\pycharmprojects\\fast-oad\\venv\\lib\\site-packages\\openmdao\\solvers\\nonlinear\\nonlinear_block_gs.py\u001B[0m in \u001B[0;36m_single_iteration\u001B[1;34m(self)\u001B[0m\n\u001B[0;32m    140\u001B[0m \u001B[1;33m\u001B[0m\u001B[0m\n\u001B[0;32m    141\u001B[0m         \u001B[0mself\u001B[0m\u001B[1;33m.\u001B[0m\u001B[0m_solver_info\u001B[0m\u001B[1;33m.\u001B[0m\u001B[0mappend_subsolver\u001B[0m\u001B[1;33m(\u001B[0m\u001B[1;33m)\u001B[0m\u001B[1;33m\u001B[0m\u001B[1;33m\u001B[0m\u001B[0m\n\u001B[1;32m--> 142\u001B[1;33m         \u001B[0mself\u001B[0m\u001B[1;33m.\u001B[0m\u001B[0m_gs_iter\u001B[0m\u001B[1;33m(\u001B[0m\u001B[1;33m)\u001B[0m\u001B[1;33m\u001B[0m\u001B[1;33m\u001B[0m\u001B[0m\n\u001B[0m\u001B[0;32m    143\u001B[0m         \u001B[0mself\u001B[0m\u001B[1;33m.\u001B[0m\u001B[0m_solver_info\u001B[0m\u001B[1;33m.\u001B[0m\u001B[0mpop\u001B[0m\u001B[1;33m(\u001B[0m\u001B[1;33m)\u001B[0m\u001B[1;33m\u001B[0m\u001B[1;33m\u001B[0m\u001B[0m\n\u001B[0;32m    144\u001B[0m \u001B[1;33m\u001B[0m\u001B[0m\n",
      "\u001B[1;32mc:\\users\\mathieu\\pycharmprojects\\fast-oad\\venv\\lib\\site-packages\\openmdao\\solvers\\solver.py\u001B[0m in \u001B[0;36m_gs_iter\u001B[1;34m(self)\u001B[0m\n\u001B[0;32m    762\u001B[0m             \u001B[1;32mif\u001B[0m \u001B[0msubsys\u001B[0m\u001B[1;33m.\u001B[0m\u001B[0m_is_local\u001B[0m\u001B[1;33m:\u001B[0m\u001B[1;33m\u001B[0m\u001B[1;33m\u001B[0m\u001B[0m\n\u001B[0;32m    763\u001B[0m                 \u001B[1;32mtry\u001B[0m\u001B[1;33m:\u001B[0m\u001B[1;33m\u001B[0m\u001B[1;33m\u001B[0m\u001B[0m\n\u001B[1;32m--> 764\u001B[1;33m                     \u001B[0msubsys\u001B[0m\u001B[1;33m.\u001B[0m\u001B[0m_solve_nonlinear\u001B[0m\u001B[1;33m(\u001B[0m\u001B[1;33m)\u001B[0m\u001B[1;33m\u001B[0m\u001B[1;33m\u001B[0m\u001B[0m\n\u001B[0m\u001B[0;32m    765\u001B[0m                 \u001B[1;32mexcept\u001B[0m \u001B[0mAnalysisError\u001B[0m \u001B[1;32mas\u001B[0m \u001B[0merr\u001B[0m\u001B[1;33m:\u001B[0m\u001B[1;33m\u001B[0m\u001B[1;33m\u001B[0m\u001B[0m\n\u001B[0;32m    766\u001B[0m                     \u001B[1;32mif\u001B[0m \u001B[1;34m'reraise_child_analysiserror'\u001B[0m \u001B[1;32mnot\u001B[0m \u001B[1;32min\u001B[0m \u001B[0mself\u001B[0m\u001B[1;33m.\u001B[0m\u001B[0moptions\u001B[0m \u001B[1;32mor\u001B[0m\u001B[0;31m \u001B[0m\u001B[0;31m\\\u001B[0m\u001B[1;33m\u001B[0m\u001B[1;33m\u001B[0m\u001B[0m\n",
      "\u001B[1;32mc:\\users\\mathieu\\pycharmprojects\\fast-oad\\venv\\lib\\site-packages\\openmdao\\core\\group.py\u001B[0m in \u001B[0;36m_solve_nonlinear\u001B[1;34m(self)\u001B[0m\n\u001B[0;32m   2634\u001B[0m \u001B[1;33m\u001B[0m\u001B[0m\n\u001B[0;32m   2635\u001B[0m         \u001B[1;32mwith\u001B[0m \u001B[0mRecording\u001B[0m\u001B[1;33m(\u001B[0m\u001B[0mname\u001B[0m \u001B[1;33m+\u001B[0m \u001B[1;34m'._solve_nonlinear'\u001B[0m\u001B[1;33m,\u001B[0m \u001B[0mself\u001B[0m\u001B[1;33m.\u001B[0m\u001B[0miter_count\u001B[0m\u001B[1;33m,\u001B[0m \u001B[0mself\u001B[0m\u001B[1;33m)\u001B[0m\u001B[1;33m:\u001B[0m\u001B[1;33m\u001B[0m\u001B[1;33m\u001B[0m\u001B[0m\n\u001B[1;32m-> 2636\u001B[1;33m             \u001B[0mself\u001B[0m\u001B[1;33m.\u001B[0m\u001B[0m_nonlinear_solver\u001B[0m\u001B[1;33m.\u001B[0m\u001B[0msolve\u001B[0m\u001B[1;33m(\u001B[0m\u001B[1;33m)\u001B[0m\u001B[1;33m\u001B[0m\u001B[1;33m\u001B[0m\u001B[0m\n\u001B[0m\u001B[0;32m   2637\u001B[0m \u001B[1;33m\u001B[0m\u001B[0m\n\u001B[0;32m   2638\u001B[0m         \u001B[1;31m# Iteration counter is incremented in the Recording context manager at exit.\u001B[0m\u001B[1;33m\u001B[0m\u001B[1;33m\u001B[0m\u001B[1;33m\u001B[0m\u001B[0m\n",
      "\u001B[1;32mc:\\users\\mathieu\\pycharmprojects\\fast-oad\\venv\\lib\\site-packages\\openmdao\\solvers\\nonlinear\\nonlinear_runonce.py\u001B[0m in \u001B[0;36msolve\u001B[1;34m(self)\u001B[0m\n\u001B[0;32m     35\u001B[0m             \u001B[1;31m# If this is not a parallel group, transfer for each subsystem just prior to running it.\u001B[0m\u001B[1;33m\u001B[0m\u001B[1;33m\u001B[0m\u001B[1;33m\u001B[0m\u001B[0m\n\u001B[0;32m     36\u001B[0m             \u001B[1;32melse\u001B[0m\u001B[1;33m:\u001B[0m\u001B[1;33m\u001B[0m\u001B[1;33m\u001B[0m\u001B[0m\n\u001B[1;32m---> 37\u001B[1;33m                 \u001B[0mself\u001B[0m\u001B[1;33m.\u001B[0m\u001B[0m_gs_iter\u001B[0m\u001B[1;33m(\u001B[0m\u001B[1;33m)\u001B[0m\u001B[1;33m\u001B[0m\u001B[1;33m\u001B[0m\u001B[0m\n\u001B[0m\u001B[0;32m     38\u001B[0m \u001B[1;33m\u001B[0m\u001B[0m\n\u001B[0;32m     39\u001B[0m             \u001B[0mrec\u001B[0m\u001B[1;33m.\u001B[0m\u001B[0mabs\u001B[0m \u001B[1;33m=\u001B[0m \u001B[1;36m0.0\u001B[0m\u001B[1;33m\u001B[0m\u001B[1;33m\u001B[0m\u001B[0m\n",
      "\u001B[1;32mc:\\users\\mathieu\\pycharmprojects\\fast-oad\\venv\\lib\\site-packages\\openmdao\\solvers\\solver.py\u001B[0m in \u001B[0;36m_gs_iter\u001B[1;34m(self)\u001B[0m\n\u001B[0;32m    762\u001B[0m             \u001B[1;32mif\u001B[0m \u001B[0msubsys\u001B[0m\u001B[1;33m.\u001B[0m\u001B[0m_is_local\u001B[0m\u001B[1;33m:\u001B[0m\u001B[1;33m\u001B[0m\u001B[1;33m\u001B[0m\u001B[0m\n\u001B[0;32m    763\u001B[0m                 \u001B[1;32mtry\u001B[0m\u001B[1;33m:\u001B[0m\u001B[1;33m\u001B[0m\u001B[1;33m\u001B[0m\u001B[0m\n\u001B[1;32m--> 764\u001B[1;33m                     \u001B[0msubsys\u001B[0m\u001B[1;33m.\u001B[0m\u001B[0m_solve_nonlinear\u001B[0m\u001B[1;33m(\u001B[0m\u001B[1;33m)\u001B[0m\u001B[1;33m\u001B[0m\u001B[1;33m\u001B[0m\u001B[0m\n\u001B[0m\u001B[0;32m    765\u001B[0m                 \u001B[1;32mexcept\u001B[0m \u001B[0mAnalysisError\u001B[0m \u001B[1;32mas\u001B[0m \u001B[0merr\u001B[0m\u001B[1;33m:\u001B[0m\u001B[1;33m\u001B[0m\u001B[1;33m\u001B[0m\u001B[0m\n\u001B[0;32m    766\u001B[0m                     \u001B[1;32mif\u001B[0m \u001B[1;34m'reraise_child_analysiserror'\u001B[0m \u001B[1;32mnot\u001B[0m \u001B[1;32min\u001B[0m \u001B[0mself\u001B[0m\u001B[1;33m.\u001B[0m\u001B[0moptions\u001B[0m \u001B[1;32mor\u001B[0m\u001B[0;31m \u001B[0m\u001B[0;31m\\\u001B[0m\u001B[1;33m\u001B[0m\u001B[1;33m\u001B[0m\u001B[0m\n",
      "\u001B[1;32mc:\\users\\mathieu\\pycharmprojects\\fast-oad\\venv\\lib\\site-packages\\openmdao\\core\\explicitcomponent.py\u001B[0m in \u001B[0;36m_solve_nonlinear\u001B[1;34m(self)\u001B[0m\n\u001B[0;32m    271\u001B[0m                                      self._discrete_outputs)\n\u001B[0;32m    272\u001B[0m                     \u001B[1;32melse\u001B[0m\u001B[1;33m:\u001B[0m\u001B[1;33m\u001B[0m\u001B[1;33m\u001B[0m\u001B[0m\n\u001B[1;32m--> 273\u001B[1;33m                         \u001B[0mself\u001B[0m\u001B[1;33m.\u001B[0m\u001B[0mcompute\u001B[0m\u001B[1;33m(\u001B[0m\u001B[0mself\u001B[0m\u001B[1;33m.\u001B[0m\u001B[0m_inputs\u001B[0m\u001B[1;33m,\u001B[0m \u001B[0mself\u001B[0m\u001B[1;33m.\u001B[0m\u001B[0m_outputs\u001B[0m\u001B[1;33m)\u001B[0m\u001B[1;33m\u001B[0m\u001B[1;33m\u001B[0m\u001B[0m\n\u001B[0m\u001B[0;32m    274\u001B[0m \u001B[1;33m\u001B[0m\u001B[0m\n\u001B[0;32m    275\u001B[0m             \u001B[1;31m# Iteration counter is incremented in the Recording context manager at exit.\u001B[0m\u001B[1;33m\u001B[0m\u001B[1;33m\u001B[0m\u001B[1;33m\u001B[0m\u001B[0m\n",
      "\u001B[1;32m~\\AppData\\Local\\Programs\\Python\\Python38\\lib\\contextlib.py\u001B[0m in \u001B[0;36m__exit__\u001B[1;34m(self, type, value, traceback)\u001B[0m\n\u001B[0;32m    129\u001B[0m                 \u001B[0mvalue\u001B[0m \u001B[1;33m=\u001B[0m \u001B[0mtype\u001B[0m\u001B[1;33m(\u001B[0m\u001B[1;33m)\u001B[0m\u001B[1;33m\u001B[0m\u001B[1;33m\u001B[0m\u001B[0m\n\u001B[0;32m    130\u001B[0m             \u001B[1;32mtry\u001B[0m\u001B[1;33m:\u001B[0m\u001B[1;33m\u001B[0m\u001B[1;33m\u001B[0m\u001B[0m\n\u001B[1;32m--> 131\u001B[1;33m                 \u001B[0mself\u001B[0m\u001B[1;33m.\u001B[0m\u001B[0mgen\u001B[0m\u001B[1;33m.\u001B[0m\u001B[0mthrow\u001B[0m\u001B[1;33m(\u001B[0m\u001B[0mtype\u001B[0m\u001B[1;33m,\u001B[0m \u001B[0mvalue\u001B[0m\u001B[1;33m,\u001B[0m \u001B[0mtraceback\u001B[0m\u001B[1;33m)\u001B[0m\u001B[1;33m\u001B[0m\u001B[1;33m\u001B[0m\u001B[0m\n\u001B[0m\u001B[0;32m    132\u001B[0m             \u001B[1;32mexcept\u001B[0m \u001B[0mStopIteration\u001B[0m \u001B[1;32mas\u001B[0m \u001B[0mexc\u001B[0m\u001B[1;33m:\u001B[0m\u001B[1;33m\u001B[0m\u001B[1;33m\u001B[0m\u001B[0m\n\u001B[0;32m    133\u001B[0m                 \u001B[1;31m# Suppress StopIteration *unless* it's the same exception that\u001B[0m\u001B[1;33m\u001B[0m\u001B[1;33m\u001B[0m\u001B[1;33m\u001B[0m\u001B[0m\n",
      "\u001B[1;32mc:\\users\\mathieu\\pycharmprojects\\fast-oad\\venv\\lib\\site-packages\\openmdao\\core\\system.py\u001B[0m in \u001B[0;36m_call_user_function\u001B[1;34m(self, fname, protect_inputs, protect_outputs, protect_residuals)\u001B[0m\n\u001B[0;32m   2175\u001B[0m                 \u001B[1;32mraise\u001B[0m \u001B[0merr\u001B[0m\u001B[1;33m\u001B[0m\u001B[1;33m\u001B[0m\u001B[0m\n\u001B[0;32m   2176\u001B[0m             \u001B[1;32melse\u001B[0m\u001B[1;33m:\u001B[0m\u001B[1;33m\u001B[0m\u001B[1;33m\u001B[0m\u001B[0m\n\u001B[1;32m-> 2177\u001B[1;33m                 \u001B[1;32mraise\u001B[0m \u001B[0merr_type\u001B[0m\u001B[1;33m(\u001B[0m\u001B[1;34mf\"{self.msginfo}: Error calling {fname}(), {err}\"\u001B[0m\u001B[1;33m)\u001B[0m\u001B[1;33m\u001B[0m\u001B[1;33m\u001B[0m\u001B[0m\n\u001B[0m\u001B[0;32m   2178\u001B[0m         \u001B[1;32mfinally\u001B[0m\u001B[1;33m:\u001B[0m\u001B[1;33m\u001B[0m\u001B[1;33m\u001B[0m\u001B[0m\n\u001B[0;32m   2179\u001B[0m             \u001B[0mself\u001B[0m\u001B[1;33m.\u001B[0m\u001B[0m_inputs\u001B[0m\u001B[1;33m.\u001B[0m\u001B[0mread_only\u001B[0m \u001B[1;33m=\u001B[0m \u001B[1;32mFalse\u001B[0m\u001B[1;33m\u001B[0m\u001B[1;33m\u001B[0m\u001B[0m\n",
      "\u001B[1;31mFileNotFoundError\u001B[0m: 'performance.mission_computation' <class MissionComponent>: Error calling compute(), [Errno 2] No such file or directory: 'C:\\\\Users\\\\Mathieu\\\\PycharmProjects\\\\FAST-OAD\\\\src\\\\fastoad\\\\notebooks\\\\01_tutorial\\\\workdir\\\\./flight_points.csv'"
     ]
    }
   ],
   "source": [
    "optim_problem = oad.optimize_problem(CONFIGURATION_FILE, overwrite=True)"
   ]
  },
  {
   "cell_type": "markdown",
   "metadata": {},
   "source": [
    "Let's save these results:"
   ]
  },
  {
   "cell_type": "code",
   "execution_count": null,
   "metadata": {},
   "outputs": [],
   "source": [
    "OUTPUT_FILE = pth.join(WORK_FOLDER_PATH, 'problem_outputs.xml')\n",
    "CeRAS_OPT_OUTPUT_FILE = pth.join(WORK_FOLDER_PATH, 'problem_outputs_CeRAS_2750nm_mdo.xml')\n",
    "shutil.copy(OUTPUT_FILE, CeRAS_OPT_OUTPUT_FILE)\n",
    "MISSION_FILE = pth.join(WORK_FOLDER_PATH, 'flight_points.csv')\n",
    "CeRAS_OPT_MISSION_FILE = pth.join(WORK_FOLDER_PATH, 'mission_CeRAS_2750nm_mdo.csv')\n",
    "shutil.copy(MISSION_FILE, CeRAS_OPT_MISSION_FILE)"
   ]
  },
  {
   "cell_type": "markdown",
   "metadata": {},
   "source": [
    "The `optimizer_viewer` offers a convenient summary of the optimization result:"
   ]
  },
  {
   "cell_type": "code",
   "execution_count": null,
   "metadata": {
    "scrolled": false
   },
   "outputs": [],
   "source": [
    "oad.optimization_viewer(CONFIGURATION_FILE)"
   ]
  },
  {
   "cell_type": "markdown",
   "metadata": {},
   "source": [
    "We see that the optimizer finds a compromise between a smaller induced drag (higher aspect ratio) and a heavier wing.\n",
    "\n",
    "**Note: Finding such compromise on real aircraft is still a subject of research. Please take this result as informational.**"
   ]
  },
  {
   "cell_type": "markdown",
   "metadata": {},
   "source": [
    "You can use the `VariableViewer` tool to see the optimization results for all variables of the system by loading the .xml output file:"
   ]
  },
  {
   "cell_type": "code",
   "execution_count": null,
   "metadata": {},
   "outputs": [],
   "source": [
    "RESULT_FILE = pth.join(WORK_FOLDER_PATH, 'problem_outputs.xml')"
   ]
  },
  {
   "cell_type": "code",
   "execution_count": null,
   "metadata": {},
   "outputs": [],
   "source": [
    "oad.variable_viewer(RESULT_FILE)"
   ]
  },
  {
   "cell_type": "code",
   "execution_count": null,
   "metadata": {},
   "outputs": [],
   "source": []
  }
 ],
 "metadata": {
  "kernelspec": {
   "display_name": "Python 3",
   "language": "python",
   "name": "python3"
  },
  "language_info": {
   "codemirror_mode": {
    "name": "ipython",
    "version": 3
   },
   "file_extension": ".py",
   "mimetype": "text/x-python",
   "name": "python",
   "nbconvert_exporter": "python",
   "pygments_lexer": "ipython3",
   "version": "3.8.2"
  }
 },
 "nbformat": 4,
 "nbformat_minor": 4
}