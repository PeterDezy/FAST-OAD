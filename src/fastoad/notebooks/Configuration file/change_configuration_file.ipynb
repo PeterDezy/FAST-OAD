{
 "cells": [
  {
   "cell_type": "markdown",
   "metadata": {
    "pycharm": {
     "name": "#%% md\n"
    }
   },
   "source": [
    "<div class=\"row\">\n",
    "  <div class=\"column\">\n",
    "    <img src=\"./img/logo-onera.png\" width=\"200\">\n",
    "  </div>\n",
    "  <div class=\"column\">\n",
    "    <img src=\"./img/logo-ISAE_SUPAERO.png\" width=\"200\">\n",
    "  </div>\n",
    "</div>"
   ]
  },
  {
   "cell_type": "markdown",
   "metadata": {
    "pycharm": {
     "name": "#%% md\n"
    }
   },
   "source": [
    "# Change the configuration file"
   ]
  },
  {
   "cell_type": "markdown",
   "metadata": {},
   "source": [
    "Generate the configuration file"
   ]
  },
  {
   "cell_type": "code",
   "execution_count": 1,
   "metadata": {
    "pycharm": {
     "name": "#%%\n"
    }
   },
   "outputs": [
    {
     "name": "stdout",
     "output_type": "stream",
     "text": [
      "Unable to import mpi4py. Parallel processing unavailable.\n",
      "Unable to import petsc4py. Parallel processing unavailable.\n",
      "Unable to import petsc4py. Parallel processing unavailable.\n"
     ]
    },
    {
     "data": {
      "text/html": [
       "<style>.container { width:95% !important; }</style>"
      ],
      "text/plain": [
       "<IPython.core.display.HTML object>"
      ]
     },
     "metadata": {},
     "output_type": "display_data"
    },
    {
     "name": "stderr",
     "output_type": "stream",
     "text": [
      "INFO    : Sample configuration written in ../notebooks/workdir\\oad_process.yml\n"
     ]
    },
    {
     "data": {
      "text/plain": [
       "<fastoad.change_files.generate_files.GenerateFiles at 0x1e7e5546f70>"
      ]
     },
     "execution_count": 1,
     "metadata": {},
     "output_type": "execute_result"
    }
   ],
   "source": [
    "from fastoad.change_files.generate_files import GenerateFiles\n",
    "\n",
    "GenerateFiles()"
   ]
  },
  {
   "cell_type": "markdown",
   "metadata": {
    "pycharm": {
     "name": "#%% md\n"
    }
   },
   "source": [
    "Change the name of the input/output file"
   ]
  },
  {
   "cell_type": "code",
   "execution_count": 2,
   "metadata": {
    "pycharm": {
     "name": "#%%\n"
    }
   },
   "outputs": [
    {
     "data": {
      "application/vnd.jupyter.widget-view+json": {
       "model_id": "d76bbd19e7c547e5840e1446f3dc983e",
       "version_major": 2,
       "version_minor": 0
      },
      "text/plain": [
       "VBox(children=(Text(value='problem_inputs', description='input_file:'), Text(value='problem_outputs', descript…"
      ]
     },
     "metadata": {},
     "output_type": "display_data"
    }
   ],
   "source": [
    "from fastoad.change_files.change_name_input_output import ChangeNameInputOutput\n",
    "\n",
    "ChangeNameInputOutput().display()"
   ]
  },
  {
   "cell_type": "code",
   "execution_count": 3,
   "outputs": [
    {
     "data": {
      "text/plain": "<IPython.core.display.HTML object>",
      "text/html": "<table>\n<tbody>\n<tr><td>AVAILABLE MODULE IDENTIFIERS            </td><td>MODULE PATH                                                                                                      </td></tr>\n<tr><td>fastoad.aerodynamics.highspeed.legacy   </td><td>C:\\Users\\Mathieu\\PycharmProjects\\FAST-OAD\\src\\fastoad\\models\\aerodynamics\\aerodynamics_high_speed.py             </td></tr>\n<tr><td>fastoad.aerodynamics.landing.legacy     </td><td>C:\\Users\\Mathieu\\PycharmProjects\\FAST-OAD\\src\\fastoad\\models\\aerodynamics\\aerodynamics_landing.py                </td></tr>\n<tr><td>fastoad.aerodynamics.lowspeed.legacy    </td><td>C:\\Users\\Mathieu\\PycharmProjects\\FAST-OAD\\src\\fastoad\\models\\aerodynamics\\aerodynamics_low_speed.py              </td></tr>\n<tr><td>fastoad.aerodynamics.takeoff.legacy     </td><td>C:\\Users\\Mathieu\\PycharmProjects\\FAST-OAD\\src\\fastoad\\models\\aerodynamics\\aerodynamics_takeoff.py                </td></tr>\n<tr><td>fastoad.geometry.legacy                 </td><td>C:\\Users\\Mathieu\\PycharmProjects\\FAST-OAD\\src\\fastoad\\models\\geometry\\geometry.py                                </td></tr>\n<tr><td>fastoad.handling_qualities.static_margin</td><td>C:\\Users\\Mathieu\\PycharmProjects\\FAST-OAD\\src\\fastoad\\models\\handling_qualities\\compute_static_margin.py         </td></tr>\n<tr><td>fastoad.handling_qualities.tail_sizing  </td><td>C:\\Users\\Mathieu\\PycharmProjects\\FAST-OAD\\src\\fastoad\\models\\handling_qualities\\tail_sizing\\compute_tail_areas.py</td></tr>\n<tr><td>fastoad.loop.wing_area                  </td><td>C:\\Users\\Mathieu\\PycharmProjects\\FAST-OAD\\src\\fastoad\\models\\loops\\compute_wing_area.py                          </td></tr>\n<tr><td>fastoad.loop.wing_position              </td><td>C:\\Users\\Mathieu\\PycharmProjects\\FAST-OAD\\src\\fastoad\\models\\loops\\compute_wing_position.py                      </td></tr>\n<tr><td>fastoad.mass_performances.compute_MTOW  </td><td>C:\\Users\\Mathieu\\PycharmProjects\\FAST-OAD\\src\\fastoad\\models\\performances\\mission\\openmdao\\link_mtow.py          </td></tr>\n<tr><td>fastoad.performances.mission            </td><td>C:\\Users\\Mathieu\\PycharmProjects\\FAST-OAD\\src\\fastoad\\models\\performances\\mission\\openmdao\\mission.py            </td></tr>\n<tr><td>fastoad.weight.legacy                   </td><td>C:\\Users\\Mathieu\\PycharmProjects\\FAST-OAD\\src\\fastoad\\models\\weight\\weight.py                                    </td></tr>\n<tr><td>AVAILABLE PROPULSION WRAPPER IDENTIFIERS</td><td>MODULE PATH                                                                                                      </td></tr>\n<tr><td>fastoad.wrapper.propulsion.rubber_engine</td><td>C:\\Users\\Mathieu\\PycharmProjects\\FAST-OAD\\src\\fastoad\\models\\propulsion\\fuel_propulsion\\rubber_engine\\openmdao.py</td></tr>\n<tr><td>test.wrapper.propulsion.dummy_engine    </td><td>C:\\Users\\Mathieu\\PycharmProjects\\FAST-OAD\\src\\fastoad\\models\\performances\\mission\\openmdao\\tests\\test_mission.py </td></tr>\n</tbody>\n</table>"
     },
     "metadata": {},
     "output_type": "display_data"
    }
   ],
   "source": [
    "from fastoad.cmd.api import list_modules\n",
    "\n",
    "list_modules()"
   ],
   "metadata": {
    "collapsed": false,
    "pycharm": {
     "name": "#%%\n"
    }
   }
  },
  {
   "cell_type": "code",
   "execution_count": 1,
   "outputs": [
    {
     "name": "stdout",
     "output_type": "stream",
     "text": [
      "Unable to import mpi4py. Parallel processing unavailable.\n",
      "Unable to import petsc4py. Parallel processing unavailable.\n",
      "Unable to import petsc4py. Parallel processing unavailable.\n"
     ]
    },
    {
     "ename": "TypeError",
     "evalue": "display() missing 1 required positional argument: 'self'",
     "output_type": "error",
     "traceback": [
      "\u001B[1;31m---------------------------------------------------------------------------\u001B[0m",
      "\u001B[1;31mTypeError\u001B[0m                                 Traceback (most recent call last)",
      "\u001B[1;32m<ipython-input-1-58746f63ee5f>\u001B[0m in \u001B[0;36m<module>\u001B[1;34m\u001B[0m\n\u001B[0;32m      1\u001B[0m \u001B[1;32mfrom\u001B[0m \u001B[0mfastoad\u001B[0m\u001B[1;33m.\u001B[0m\u001B[0mchange_files\u001B[0m\u001B[1;33m.\u001B[0m\u001B[0mall_widgets\u001B[0m \u001B[1;32mimport\u001B[0m \u001B[0mAllWidgets\u001B[0m\u001B[1;33m\u001B[0m\u001B[1;33m\u001B[0m\u001B[0m\n\u001B[0;32m      2\u001B[0m \u001B[1;33m\u001B[0m\u001B[0m\n\u001B[1;32m----> 3\u001B[1;33m \u001B[0mAllWidgets\u001B[0m\u001B[1;33m.\u001B[0m\u001B[0mdisplay\u001B[0m\u001B[1;33m(\u001B[0m\u001B[1;33m)\u001B[0m\u001B[1;33m\u001B[0m\u001B[1;33m\u001B[0m\u001B[0m\n\u001B[0m\u001B[0;32m      4\u001B[0m \u001B[1;33m\u001B[0m\u001B[0m\n",
      "\u001B[1;31mTypeError\u001B[0m: display() missing 1 required positional argument: 'self'"
     ]
    }
   ],
   "source": [
    "from fastoad.change_files.all_widgets import AllWidgets\n",
    "\n",
    "AllWidgets.display()"
   ],
   "metadata": {
    "collapsed": false,
    "pycharm": {
     "name": "#%%\n"
    }
   }
  },
  {
   "cell_type": "code",
   "execution_count": null,
   "outputs": [],
   "source": [],
   "metadata": {
    "collapsed": false,
    "pycharm": {
     "name": "#%%\n"
    }
   }
  }
 ],
 "metadata": {
  "kernelspec": {
   "display_name": "Python 3",
   "language": "python",
   "name": "python3"
  },
  "language_info": {
   "codemirror_mode": {
    "name": "ipython",
    "version": 3
   },
   "file_extension": ".py",
   "mimetype": "text/x-python",
   "name": "python",
   "nbconvert_exporter": "python",
   "pygments_lexer": "ipython3",
   "version": "3.8.8"
  }
 },
 "nbformat": 4,
 "nbformat_minor": 1
}