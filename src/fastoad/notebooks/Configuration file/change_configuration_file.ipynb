{
 "cells": [
  {
   "cell_type": "markdown",
   "metadata": {
    "pycharm": {
     "name": "#%% md\n"
    }
   },
   "source": [
    "<div class=\"row\">\n",
    "  <div class=\"column\">\n",
    "    <img src=\"./img/logo-onera.png\" width=\"200\">\n",
    "  </div>\n",
    "  <div class=\"column\">\n",
    "    <img src=\"./img/logo-ISAE_SUPAERO.png\" width=\"200\">\n",
    "  </div>\n",
    "</div>"
   ]
  },
  {
   "cell_type": "markdown",
   "metadata": {
    "pycharm": {
     "name": "#%% md\n"
    }
   },
   "source": [
    "# Change the configuration file"
   ]
  },
  {
   "cell_type": "markdown",
   "metadata": {},
   "source": [
    "Generate the configuration file"
   ]
  },
  {
   "cell_type": "code",
   "execution_count": 1,
   "metadata": {
    "pycharm": {
     "name": "#%%\n"
    }
   },
   "outputs": [
    {
     "name": "stdout",
     "output_type": "stream",
     "text": [
      "Unable to import mpi4py. Parallel processing unavailable.\n",
      "Unable to import petsc4py. Parallel processing unavailable.\n",
      "Unable to import petsc4py. Parallel processing unavailable.\n"
     ]
    },
    {
     "data": {
      "text/html": [
       "<style>.container { width:95% !important; }</style>"
      ],
      "text/plain": [
       "<IPython.core.display.HTML object>"
      ]
     },
     "metadata": {},
     "output_type": "display_data"
    },
    {
     "name": "stderr",
     "output_type": "stream",
     "text": [
      "INFO    : Sample configuration written in workdir\\oad_process.yml\n"
     ]
    },
    {
     "data": {
      "text/plain": [
       "<fastoad.change_files.generate_files.GenerateFiles at 0x22417704d90>"
      ]
     },
     "execution_count": 1,
     "metadata": {},
     "output_type": "execute_result"
    }
   ],
   "source": [
    "from fastoad.change_files.generate_files import GenerateFiles\n",
    "\n",
    "GenerateFiles()"
   ]
  },
  {
   "cell_type": "markdown",
   "metadata": {
    "pycharm": {
     "name": "#%% md\n"
    }
   },
   "source": [
    "Change the configuration file"
   ]
  },
  {
   "cell_type": "code",
   "execution_count": 2,
   "metadata": {
    "pycharm": {
     "name": "#%%\n"
    },
    "scrolled": false
   },
   "outputs": [
    {
     "data": {
      "application/vnd.jupyter.widget-view+json": {
       "model_id": "f461a6dd37b540bd8f306a3e7643a072",
       "version_major": 2,
       "version_minor": 0
      },
      "text/plain": [
       "TextField(clearable=True, label='Title :', outlined=True, style_='margin-top:20px', v_model='Sample OAD Proces…"
      ]
     },
     "metadata": {},
     "output_type": "display_data"
    },
    {
     "data": {
      "application/vnd.jupyter.widget-view+json": {
       "model_id": "e33def4cbe3f4d86a66d81b67111c1cd",
       "version_major": 2,
       "version_minor": 0
      },
      "text/plain": [
       "TextField(clearable=True, label='Input_file :', outlined=True, style_='margin-top:5px', suffix='.yml', v_model…"
      ]
     },
     "metadata": {},
     "output_type": "display_data"
    },
    {
     "data": {
      "application/vnd.jupyter.widget-view+json": {
       "model_id": "8564bec162524677bf1a5ce143ec0661",
       "version_major": 2,
       "version_minor": 0
      },
      "text/plain": [
       "TextField(clearable=True, label='Output_file :', outlined=True, style_='margin-top:5px', suffix='.yml', v_mode…"
      ]
     },
     "metadata": {},
     "output_type": "display_data"
    },
    {
     "data": {
      "application/vnd.jupyter.widget-view+json": {
       "model_id": "52dd478d95d84016846d9c934e9104c7",
       "version_major": 2,
       "version_minor": 0
      },
      "text/plain": [
       "Select(items=['differential_evolution_driver', 'doe_driver', 'genetic_algorithm_driver', 'pyoptsparse_driver',…"
      ]
     },
     "metadata": {},
     "output_type": "display_data"
    },
    {
     "data": {
      "application/vnd.jupyter.widget-view+json": {
       "model_id": "dc0f4de09da441579b007b40413393ff",
       "version_major": 2,
       "version_minor": 0
      },
      "text/plain": [
       "Html(children=[Html(tag='div'), Html(tag='div')], class_='d-flex justify-center mb-6', tag='div')"
      ]
     },
     "metadata": {},
     "output_type": "display_data"
    },
    {
     "data": {
      "application/vnd.jupyter.widget-view+json": {
       "model_id": "36b7768471a841cbb6530f713cc224f3",
       "version_major": 2,
       "version_minor": 0
      },
      "text/plain": [
       "Html(children=[Html(tag='div')], tag='div')"
      ]
     },
     "metadata": {},
     "output_type": "display_data"
    },
    {
     "data": {
      "application/vnd.jupyter.widget-view+json": {
       "model_id": "1df03106ab0c4c27874c46b691f12f83",
       "version_major": 2,
       "version_minor": 0
      },
      "text/plain": [
       "Html(children=[Html(tag='div'), Html(tag='div')], class_='d-flex justify-center mb-6', tag='div')"
      ]
     },
     "metadata": {},
     "output_type": "display_data"
    },
    {
     "data": {
      "application/vnd.jupyter.widget-view+json": {
       "model_id": "f2882d4e33db4dc7bf970ea7370342ac",
       "version_major": 2,
       "version_minor": 0
      },
      "text/plain": [
       "Select(items=['broyden', 'newton', 'nonlinear_block_gs', 'nonlinear_block_jac', 'nonlinear_runonce'], label='N…"
      ]
     },
     "metadata": {},
     "output_type": "display_data"
    },
    {
     "data": {
      "application/vnd.jupyter.widget-view+json": {
       "model_id": "818a426f6a384331adee97ffe05fef5c",
       "version_major": 2,
       "version_minor": 0
      },
      "text/plain": [
       "Html(children=[Html(children=[TextField(label='Maxiter :', outlined=True, style_='width:500px;margin-top:5px;'…"
      ]
     },
     "metadata": {},
     "output_type": "display_data"
    },
    {
     "data": {
      "application/vnd.jupyter.widget-view+json": {
       "model_id": "bcbac0738681442bb994d7f05b71af7b",
       "version_major": 2,
       "version_minor": 0
      },
      "text/plain": [
       "Html(children=[Html(tag='div'), Html(tag='div')], class_='d-flex justify-center mb-6', tag='div')"
      ]
     },
     "metadata": {},
     "output_type": "display_data"
    },
    {
     "data": {
      "application/vnd.jupyter.widget-view+json": {
       "model_id": "75dea8a4b4e1482295c70508c96a1894",
       "version_major": 2,
       "version_minor": 0
      },
      "text/plain": [
       "Html(children=[Html(tag='div'), Html(tag='div')], class_='d-flex justify-center mb-6', tag='div')"
      ]
     },
     "metadata": {},
     "output_type": "display_data"
    },
    {
     "data": {
      "application/vnd.jupyter.widget-view+json": {
       "model_id": "6ee8627b689147f3a2581ece591fad10",
       "version_major": 2,
       "version_minor": 0
      },
      "text/plain": [
       "Select(items=['direct', 'linear_block_gs', 'linear_block_jac', 'linear_runonce', 'petsc_ksp', 'scipy_iter_solv…"
      ]
     },
     "metadata": {},
     "output_type": "display_data"
    },
    {
     "data": {
      "application/vnd.jupyter.widget-view+json": {
       "model_id": "a6565a4692c64d2cb6b5c96b6950f698",
       "version_major": 2,
       "version_minor": 0
      },
      "text/plain": [
       "Html(children=[Html(children=[TextField(label='Print the output :', outlined=True, style_='width:500px;margin-…"
      ]
     },
     "metadata": {},
     "output_type": "display_data"
    },
    {
     "data": {
      "application/vnd.jupyter.widget-view+json": {
       "model_id": "53085c5959b349278f22e198618faea1",
       "version_major": 2,
       "version_minor": 0
      },
      "text/plain": [
       "Html(children=[Html(tag='div'), Html(tag='div')], class_='d-flex justify-center mb-6', tag='div')"
      ]
     },
     "metadata": {},
     "output_type": "display_data"
    },
    {
     "data": {
      "application/vnd.jupyter.widget-view+json": {
       "model_id": "c0edb008540c4589b8c90fe1c7110f73",
       "version_major": 2,
       "version_minor": 0
      },
      "text/plain": [
       "Btn(children=['Add subgroup'], color='primary', elevation=4.0, style_='width:150px')"
      ]
     },
     "metadata": {},
     "output_type": "display_data"
    },
    {
     "data": {
      "application/vnd.jupyter.widget-view+json": {
       "model_id": "20433852988842dcba445b005fe67aea",
       "version_major": 2,
       "version_minor": 0
      },
      "text/plain": [
       "Html(children=[Html(tag='div'), Html(tag='div')], class_='d-flex justify-center mb-6', tag='div')"
      ]
     },
     "metadata": {},
     "output_type": "display_data"
    },
    {
     "data": {
      "application/vnd.jupyter.widget-view+json": {
       "model_id": "8abf713636974a18b9e98339c784811a",
       "version_major": 2,
       "version_minor": 0
      },
      "text/plain": [
       "Html(children=[Html(children=[Btn(children=[Icon(children=['get_app']), 'Save'], color='blue', elevation=4.0, …"
      ]
     },
     "metadata": {},
     "output_type": "display_data"
    }
   ],
   "source": [
    "from fastoad.change_files.change_config_file import ChangeConfigFile\n",
    "\n",
    "ChangeConfigFile().display()"
   ]
  },
  {
   "cell_type": "code",
   "execution_count": 3,
   "metadata": {},
   "outputs": [
    {
     "data": {
      "application/vnd.jupyter.widget-view+json": {
       "model_id": "286672940d284c48b4b5efd42d47e871",
       "version_major": 2,
       "version_minor": 0
      },
      "text/plain": [
       "Html(children=[Container(children=[Dialog(children=[Card(children=[CardTitle(children=['New Subgroup'], class_…"
      ]
     },
     "metadata": {},
     "output_type": "display_data"
    }
   ],
   "source": [
    "import ipyvuetify as v\n",
    "\n",
    "btnadd = v.Btn(color='primary', children=['Add'])\n",
    "\n",
    "card = v.Card(children=[\n",
    "    v.CardTitle(class_='headline gray lighten-2', children=[\n",
    "        \"New Subgroup\"\n",
    "    ]),\n",
    "    v.CardText(children=[\n",
    "        v.TextField(label='Subgroup'),\n",
    "        btnadd,\n",
    "    ])\n",
    "])\n",
    "\n",
    "def close(widget, event, data):\n",
    "    print(\"Ajouté\")\n",
    "\n",
    "\n",
    "dialog = v.Dialog(\n",
    "    width='500',\n",
    "    v_slots=[{\n",
    "        'name': 'activator',\n",
    "        'variable': 'x',\n",
    "        'children': v.Btn(v_on='x.on', color='primary', width='150', children=[\n",
    "            'Add Subgroup'\n",
    "        ]),\n",
    "    }],\n",
    "    children=[\n",
    "        card,\n",
    "    ]\n",
    ")\n",
    "\n",
    "btnadd.on_event('click', close)\n",
    "\n",
    "content = v.Container(children=[dialog])\n",
    "\n",
    "DialogLayout = v.Html(tag='div', children=[\n",
    "    content,\n",
    "])\n",
    "\n",
    "DialogLayout"
   ]
  },
  {
   "cell_type": "markdown",
   "metadata": {},
   "source": [
    "```yaml\n",
    "\n",
    "title: Sample OAD Process\n",
    "\n",
    "\n",
    "\n",
    "# List of folder paths where user added custom registered OpenMDAO components\n",
    "\n",
    "module_folders:\n",
    "\n",
    "\n",
    "\n",
    "# Input and output files\n",
    "\n",
    "input_file: ./problem_inputs.xml\n",
    "\n",
    "output_file: ./problem_outputs.xml\n",
    "\n",
    "\n",
    "\n",
    "# Definition of problem driver assuming the OpenMDAO convention \"import openmdao.api as om\"\n",
    "\n",
    "driver: om.ScipyOptimizeDriver(optimizer='SLSQP',tol=1e-06,maxiter=200,disp=True)\n",
    "\n",
    "\n",
    "\n",
    "# Definition of OpenMDAO model\n",
    "\n",
    "# Although \"model\" is a mandatory name for the top level of the model, its\n",
    "\n",
    "# sub-components can be freely named by user\n",
    "\n",
    "model:\n",
    "\n",
    "\n",
    "\n",
    "  #  Solvers are defined assuming the OpenMDAO convention \"import openmdao.api as om\"\n",
    "\n",
    "  nonlinear_solver: om.NonlinearBlockGS(maxiter=100, atol=1e-2)\n",
    "\n",
    "  linear_solver: om.DirectSolver()\n",
    "  ```"
   ]
  },
  {
   "cell_type": "code",
   "execution_count": 4,
   "metadata": {
    "pycharm": {
     "name": "#%%\n"
    },
    "scrolled": false
   },
   "outputs": [
    {
     "data": {
      "application/vnd.jupyter.widget-view+json": {
       "model_id": "e9605c6da64049c5b8bf9ca2bcab82dc",
       "version_major": 2,
       "version_minor": 0
      },
      "text/plain": [
       "TextField(clearable=True, label='Name :', outlined=True, style_='margin-top:20px', v_model='model')"
      ]
     },
     "metadata": {},
     "output_type": "display_data"
    },
    {
     "data": {
      "application/vnd.jupyter.widget-view+json": {
       "model_id": "3ac40d32995244aca0638e8ebbed4c6f",
       "version_major": 2,
       "version_minor": 0
      },
      "text/plain": [
       "Select(items=['direct', 'linear_block_gs', 'linear_block_jac', 'linear_runonce', 'petsc_ksp', 'scipy_iter_solv…"
      ]
     },
     "metadata": {},
     "output_type": "display_data"
    },
    {
     "data": {
      "application/vnd.jupyter.widget-view+json": {
       "model_id": "b0f1bf966c1d46638790d7aa24c6968c",
       "version_major": 2,
       "version_minor": 0
      },
      "text/plain": [
       "Html(children=[Html(children=[TextField(label='Print the output :', outlined=True, style_='width:500px;margin-…"
      ]
     },
     "metadata": {},
     "output_type": "display_data"
    },
    {
     "data": {
      "application/vnd.jupyter.widget-view+json": {
       "model_id": "66f3659b471849328f3b14832f7c95b8",
       "version_major": 2,
       "version_minor": 0
      },
      "text/plain": [
       "Html(children=[Html(tag='div'), Html(tag='div')], class_='d-flex justify-center mb-6', tag='div')"
      ]
     },
     "metadata": {},
     "output_type": "display_data"
    },
    {
     "data": {
      "application/vnd.jupyter.widget-view+json": {
       "model_id": "0f4897f4ec1a4da587c265a2f587b469",
       "version_major": 2,
       "version_minor": 0
      },
      "text/plain": [
       "Select(items=['broyden', 'newton', 'nonlinear_block_gs', 'nonlinear_block_jac', 'nonlinear_runonce'], label='N…"
      ]
     },
     "metadata": {},
     "output_type": "display_data"
    },
    {
     "data": {
      "application/vnd.jupyter.widget-view+json": {
       "model_id": "c478123ffaf047cfacef22d2a7c266be",
       "version_major": 2,
       "version_minor": 0
      },
      "text/plain": [
       "Html(children=[Html(children=[TextField(label='Maxiter :', outlined=True, style_='width:500px;margin-top:5px;'…"
      ]
     },
     "metadata": {},
     "output_type": "display_data"
    },
    {
     "data": {
      "application/vnd.jupyter.widget-view+json": {
       "model_id": "386f6ce8535848e8a8187e8ab250174d",
       "version_major": 2,
       "version_minor": 0
      },
      "text/plain": [
       "Html(children=[Html(tag='div'), Html(tag='div')], class_='d-flex justify-center mb-6', tag='div')"
      ]
     },
     "metadata": {},
     "output_type": "display_data"
    },
    {
     "data": {
      "application/vnd.jupyter.widget-view+json": {
       "model_id": "1ba2384b392344c2b7a31f43aa42bd6f",
       "version_major": 2,
       "version_minor": 0
      },
      "text/plain": [
       "Html(children=[Html(tag='div'), Html(tag='div')], class_='d-flex justify-center mb-6', tag='div')"
      ]
     },
     "metadata": {},
     "output_type": "display_data"
    },
    {
     "data": {
      "application/vnd.jupyter.widget-view+json": {
       "model_id": "7bdb28b308f54f5ba48d508a4791e8d6",
       "version_major": 2,
       "version_minor": 0
      },
      "text/plain": [
       "Btn(children=['Add subgroup'], color='blue', elevation=4.0, outlined=True, style_='width:150px')"
      ]
     },
     "metadata": {},
     "output_type": "display_data"
    },
    {
     "data": {
      "application/vnd.jupyter.widget-view+json": {
       "model_id": "aacc36e224bd4d8dbe7d831f8f17c7a9",
       "version_major": 2,
       "version_minor": 0
      },
      "text/plain": [
       "Btn(children=[Icon(children=['get_app']), 'Save'], color='blue', elevation=4.0, outlined=True, style_='width:1…"
      ]
     },
     "metadata": {},
     "output_type": "display_data"
    }
   ],
   "source": [
    "from fastoad.change_files.config_file import ConfigFile\n",
    "\n",
    "ConfigFile().display()"
   ]
  }
 ],
 "metadata": {
  "kernelspec": {
   "display_name": "Python 3",
   "language": "python",
   "name": "python3"
  },
  "language_info": {
   "codemirror_mode": {
    "name": "ipython",
    "version": 3
   },
   "file_extension": ".py",
   "mimetype": "text/x-python",
   "name": "python",
   "nbconvert_exporter": "python",
   "pygments_lexer": "ipython3",
   "version": "3.8.8"
  }
 },
 "nbformat": 4,
 "nbformat_minor": 1
}