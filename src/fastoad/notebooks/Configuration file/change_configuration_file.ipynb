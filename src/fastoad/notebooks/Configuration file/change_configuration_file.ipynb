{
 "cells": [
  {
   "cell_type": "markdown",
   "metadata": {
    "pycharm": {
     "name": "#%% md\n"
    }
   },
   "source": [
    "<div class=\"row\">\n",
    "  <div class=\"column\">\n",
    "    <img src=\"./img/logo-onera.png\" width=\"200\">\n",
    "  </div>\n",
    "  <div class=\"column\">\n",
    "    <img src=\"./img/logo-ISAE_SUPAERO.png\" width=\"200\">\n",
    "  </div>\n",
    "</div>"
   ]
  },
  {
   "cell_type": "markdown",
   "metadata": {
    "pycharm": {
     "name": "#%% md\n"
    }
   },
   "source": [
    "# Change the configuration file"
   ]
  },
  {
   "cell_type": "markdown",
   "metadata": {},
   "source": [
    "Generate the configuration file"
   ]
  },
  {
   "cell_type": "code",
   "execution_count": 1,
   "metadata": {
    "pycharm": {
     "name": "#%%\n"
    }
   },
   "outputs": [
    {
     "name": "stdout",
     "output_type": "stream",
     "text": [
      "Unable to import mpi4py. Parallel processing unavailable.\n",
      "Unable to import petsc4py. Parallel processing unavailable.\n",
      "Unable to import petsc4py. Parallel processing unavailable.\n"
     ]
    },
    {
     "data": {
      "text/html": [
       "<style>.container { width:95% !important; }</style>"
      ],
      "text/plain": [
       "<IPython.core.display.HTML object>"
      ]
     },
     "metadata": {},
     "output_type": "display_data"
    },
    {
     "name": "stderr",
     "output_type": "stream",
     "text": [
      "INFO    : Sample configuration written in workdir\\oad_process.yml\n"
     ]
    },
    {
     "data": {
      "text/plain": [
       "<fastoad.change_files.generate_files.GenerateFiles at 0x204903cfe20>"
      ]
     },
     "execution_count": 1,
     "metadata": {},
     "output_type": "execute_result"
    }
   ],
   "source": [
    "from fastoad.change_files.generate_files import GenerateFiles\n",
    "\n",
    "GenerateFiles()"
   ]
  },
  {
   "cell_type": "markdown",
   "metadata": {
    "pycharm": {
     "name": "#%% md\n"
    }
   },
   "source": [
    "Change the configuration file"
   ]
  },
  {
   "cell_type": "code",
   "execution_count": 2,
   "metadata": {
    "pycharm": {
     "name": "#%%\n"
    },
    "scrolled": false
   },
   "outputs": [
    {
     "data": {
      "application/vnd.jupyter.widget-view+json": {
       "model_id": "26ef2d228682438a927fa43137709ec1",
       "version_major": 2,
       "version_minor": 0
      },
      "text/plain": [
       "TextField(clearable=True, label='Title :', outlined=True, style_='margin-top:20px', v_model='Sample OAD Proces…"
      ]
     },
     "metadata": {},
     "output_type": "display_data"
    },
    {
     "data": {
      "application/vnd.jupyter.widget-view+json": {
       "model_id": "c0a7704a50af41f0908af1901662bbe6",
       "version_major": 2,
       "version_minor": 0
      },
      "text/plain": [
       "TextField(clearable=True, label='Input_file :', outlined=True, style_='margin-top:5px', suffix='.yml', v_model…"
      ]
     },
     "metadata": {},
     "output_type": "display_data"
    },
    {
     "data": {
      "application/vnd.jupyter.widget-view+json": {
       "model_id": "a8e82df7e9bc485e87e79358c5dd44f0",
       "version_major": 2,
       "version_minor": 0
      },
      "text/plain": [
       "TextField(clearable=True, label='Output_file :', outlined=True, style_='margin-top:5px', suffix='.yml', v_mode…"
      ]
     },
     "metadata": {},
     "output_type": "display_data"
    },
    {
     "data": {
      "application/vnd.jupyter.widget-view+json": {
       "model_id": "08229b0cee6048ba9ac3931fc1360633",
       "version_major": 2,
       "version_minor": 0
      },
      "text/plain": [
       "Select(items=['differential_evolution_driver', 'doe_driver', 'genetic_algorithm_driver', 'pyoptsparse_driver',…"
      ]
     },
     "metadata": {},
     "output_type": "display_data"
    },
    {
     "data": {
      "application/vnd.jupyter.widget-view+json": {
       "model_id": "2ca4c763ada0468a997c725f797529db",
       "version_major": 2,
       "version_minor": 0
      },
      "text/plain": [
       "Html(children=[Html(children=[Select(items=['SLSQP', 'Newton-CG', 'shgo', 'basinhopping', 'COBYLA', 'L-BFGS-B'…"
      ]
     },
     "metadata": {},
     "output_type": "display_data"
    },
    {
     "data": {
      "application/vnd.jupyter.widget-view+json": {
       "model_id": "7f98f40f416844f982394f868de9afcd",
       "version_major": 2,
       "version_minor": 0
      },
      "text/plain": [
       "Html(children=[Html(tag='div')], tag='div')"
      ]
     },
     "metadata": {},
     "output_type": "display_data"
    },
    {
     "data": {
      "application/vnd.jupyter.widget-view+json": {
       "model_id": "00ff0566dde64195b18f7549f247cbd8",
       "version_major": 2,
       "version_minor": 0
      },
      "text/plain": [
       "Html(children=[Html(tag='div'), Html(tag='div')], class_='d-flex justify-center mb-6', tag='div')"
      ]
     },
     "metadata": {},
     "output_type": "display_data"
    },
    {
     "data": {
      "application/vnd.jupyter.widget-view+json": {
       "model_id": "cbca10025644419c94f0a69c38a4b95d",
       "version_major": 2,
       "version_minor": 0
      },
      "text/plain": [
       "Select(items=['broyden', 'newton', 'nonlinear_block_gs', 'nonlinear_block_jac', 'nonlinear_runonce'], label='N…"
      ]
     },
     "metadata": {},
     "output_type": "display_data"
    },
    {
     "data": {
      "application/vnd.jupyter.widget-view+json": {
       "model_id": "d9837965d6f7454aa368ae11c905f4ff",
       "version_major": 2,
       "version_minor": 0
      },
      "text/plain": [
       "Html(children=[Html(children=[TextField(label='Maxiter :', outlined=True, style_='width:500px;margin-top:5px;'…"
      ]
     },
     "metadata": {},
     "output_type": "display_data"
    },
    {
     "data": {
      "application/vnd.jupyter.widget-view+json": {
       "model_id": "accdfc25119e4e25982dba3c4bed270d",
       "version_major": 2,
       "version_minor": 0
      },
      "text/plain": [
       "Html(children=[Html(tag='div'), Html(tag='div')], class_='d-flex justify-center mb-6', tag='div')"
      ]
     },
     "metadata": {},
     "output_type": "display_data"
    },
    {
     "data": {
      "application/vnd.jupyter.widget-view+json": {
       "model_id": "2bac452a02124629b2b7b6cb702ffece",
       "version_major": 2,
       "version_minor": 0
      },
      "text/plain": [
       "Html(children=[Html(tag='div'), Html(tag='div')], class_='d-flex justify-center mb-6', tag='div')"
      ]
     },
     "metadata": {},
     "output_type": "display_data"
    },
    {
     "data": {
      "application/vnd.jupyter.widget-view+json": {
       "model_id": "a0d0250604fb4d47913afd8537949a71",
       "version_major": 2,
       "version_minor": 0
      },
      "text/plain": [
       "Select(items=['direct', 'linear_block_gs', 'linear_block_jac', 'linear_runonce', 'petsc_ksp', 'scipy_iter_solv…"
      ]
     },
     "metadata": {},
     "output_type": "display_data"
    },
    {
     "data": {
      "application/vnd.jupyter.widget-view+json": {
       "model_id": "6ad4cd2f00b442c7ad20ecff23742c70",
       "version_major": 2,
       "version_minor": 0
      },
      "text/plain": [
       "Html(children=[Html(children=[TextField(label='Print the output :', outlined=True, style_='width:500px;margin-…"
      ]
     },
     "metadata": {},
     "output_type": "display_data"
    },
    {
     "data": {
      "application/vnd.jupyter.widget-view+json": {
       "model_id": "32345fb604b742e996328bdf168f7e90",
       "version_major": 2,
       "version_minor": 0
      },
      "text/plain": [
       "Html(children=[Html(tag='div'), Html(tag='div')], class_='d-flex justify-center mb-6', tag='div')"
      ]
     },
     "metadata": {},
     "output_type": "display_data"
    },
    {
     "data": {
      "application/vnd.jupyter.widget-view+json": {
       "model_id": "ec4a1b126e08419f98b5872e4ea4870d",
       "version_major": 2,
       "version_minor": 0
      },
      "text/plain": [
       "Html(children=[Html(children=[Btn(children=[Icon(children=['get_app']), 'Save'], color='blue', elevation=4.0, …"
      ]
     },
     "metadata": {},
     "output_type": "display_data"
    },
    {
     "data": {
      "application/vnd.jupyter.widget-view+json": {
       "model_id": "42f762e195f34ce882e5608d57671b90",
       "version_major": 2,
       "version_minor": 0
      },
      "text/plain": [
       "Alert(children=['Successfuly changed values'], elevation='2', type='success')"
      ]
     },
     "metadata": {},
     "output_type": "display_data"
    },
    {
     "data": {
      "application/vnd.jupyter.widget-view+json": {
       "model_id": "4d90d6f1718345078cbc2c1dd02c1971",
       "version_major": 2,
       "version_minor": 0
      },
      "text/plain": [
       "Alert(children=['Overview :\\n\\n\\ntitle: Sample OAD Process\\n\\n\\n\\n# List of folder paths where user added cust…"
      ]
     },
     "metadata": {},
     "output_type": "display_data"
    }
   ],
   "source": [
    "from fastoad.change_files.change_config_file import ChangeConfigFile\n",
    "\n",
    "ChangeConfigFile().display()"
   ]
  },
  {
   "cell_type": "code",
   "execution_count": 1,
   "metadata": {},
   "outputs": [
    {
     "data": {
      "application/vnd.jupyter.widget-view+json": {
       "model_id": "8c3e1e65176948b98893c445fc740629",
       "version_major": 2,
       "version_minor": 0
      },
      "text/plain": [
       "Html(children=[Container(children=[Dialog(children=[Card(children=[CardTitle(children=['New Subgroup'], class_…"
      ]
     },
     "metadata": {},
     "output_type": "display_data"
    },
    {
     "name": "stdout",
     "output_type": "stream",
     "text": [
      "Ajouté\n"
     ]
    }
   ],
   "source": [
    "import ipyvuetify as v\n",
    "\n",
    "btnadd = v.Btn(color='primary', children=['Add'])\n",
    "\n",
    "card = v.Card(children=[\n",
    "    v.CardTitle(class_='headline gray lighten-2', children=[\n",
    "        \"New Subgroup\"\n",
    "    ]),\n",
    "    v.CardText(children=[\n",
    "        v.TextField(label='Subgroup'),\n",
    "        btnadd,\n",
    "    ])\n",
    "])\n",
    "\n",
    "def close(widget, event, data):\n",
    "    print(\"Ajouté\")\n",
    "\n",
    "\n",
    "dialog = v.Dialog(\n",
    "    width='500',\n",
    "    v_slots=[{\n",
    "        'name': 'activator',\n",
    "        'variable': 'x',\n",
    "        'children': v.Btn(v_on='x.on', color='primary', width='150', children=[\n",
    "            'Add Subgroup'\n",
    "        ]),\n",
    "    }],\n",
    "    children=[\n",
    "        card,\n",
    "    ]\n",
    ")\n",
    "\n",
    "btnadd.on_event('click', close)\n",
    "\n",
    "content = v.Container(children=[dialog])\n",
    "\n",
    "DialogLayout = v.Html(tag='div', children=[\n",
    "    content,\n",
    "])\n",
    "\n",
    "DialogLayout"
   ]
  },
  {
   "cell_type": "code",
   "execution_count": null,
   "metadata": {},
   "outputs": [],
   "source": []
  }
 ],
 "metadata": {
  "kernelspec": {
   "display_name": "Python 3",
   "language": "python",
   "name": "python3"
  },
  "language_info": {
   "codemirror_mode": {
    "name": "ipython",
    "version": 3
   },
   "file_extension": ".py",
   "mimetype": "text/x-python",
   "name": "python",
   "nbconvert_exporter": "python",
   "pygments_lexer": "ipython3",
   "version": "3.8.6"
  }
 },
 "nbformat": 4,
 "nbformat_minor": 1
}
