{
 "cells": [
  {
   "cell_type": "markdown",
   "metadata": {
    "pycharm": {
     "name": "#%% md\n"
    }
   },
   "source": [
    "<div class=\"row\">\n",
    "  <div class=\"column\">\n",
    "    <img src=\"./img/logo-onera.png\" width=\"200\">\n",
    "  </div>\n",
    "  <div class=\"column\">\n",
    "    <img src=\"./img/logo-ISAE_SUPAERO.png\" width=\"200\">\n",
    "  </div>\n",
    "</div>"
   ]
  },
  {
   "cell_type": "markdown",
   "metadata": {
    "pycharm": {
     "name": "#%% md\n"
    }
   },
   "source": [
    "# Change the configuration file"
   ]
  },
  {
   "cell_type": "markdown",
   "metadata": {},
   "source": [
    "Generate the configuration file"
   ]
  },
  {
   "cell_type": "code",
   "execution_count": 1,
   "metadata": {
    "pycharm": {
     "name": "#%%\n"
    }
   },
   "outputs": [
    {
     "name": "stdout",
     "output_type": "stream",
     "text": [
      "Unable to import mpi4py. Parallel processing unavailable.\n",
      "Unable to import petsc4py. Parallel processing unavailable.\n",
      "Unable to import petsc4py. Parallel processing unavailable.\n"
     ]
    },
    {
     "data": {
      "text/html": [
       "<style>.container { width:95% !important; }</style>"
      ],
      "text/plain": [
       "<IPython.core.display.HTML object>"
      ]
     },
     "metadata": {},
     "output_type": "display_data"
    },
    {
     "name": "stderr",
     "output_type": "stream",
     "text": [
      "INFO    : Sample configuration written in workdir\\oad_process.yml\n"
     ]
    },
    {
     "data": {
      "text/plain": [
       "<fastoad.change_files.generate_files.GenerateFiles at 0x260f9cdc940>"
      ]
     },
     "execution_count": 1,
     "metadata": {},
     "output_type": "execute_result"
    }
   ],
   "source": [
    "from fastoad.change_files.generate_files import GenerateFiles\n",
    "\n",
    "GenerateFiles()"
   ]
  },
  {
   "cell_type": "markdown",
   "metadata": {
    "pycharm": {
     "name": "#%% md\n"
    }
   },
   "source": [
    "Change the name of the input/output file"
   ]
  },
  {
   "cell_type": "code",
   "execution_count": 2,
   "metadata": {
    "pycharm": {
     "name": "#%%\n"
    },
    "scrolled": true
   },
   "outputs": [
    {
     "data": {
      "application/vnd.jupyter.widget-view+json": {
       "model_id": "4edacc11210d43c58c51931e19c05a16",
       "version_major": 2,
       "version_minor": 0
      },
      "text/plain": [
       "VBox(children=(Text(value='problem_inputs', description='input_file:'), Text(value='problem_outputs', descript…"
      ]
     },
     "metadata": {},
     "output_type": "display_data"
    }
   ],
   "source": [
    "from fastoad.change_files.change_name_input_output import ChangeNameInputOutput\n",
    "\n",
    "ChangeNameInputOutput().display()"
   ]
  },
  {
   "cell_type": "markdown",
   "metadata": {},
   "source": [
    "Change the title of the configuration file"
   ]
  },
  {
   "cell_type": "code",
   "execution_count": 3,
   "metadata": {
    "pycharm": {
     "name": "#%%\n"
    }
   },
   "outputs": [
    {
     "data": {
      "application/vnd.jupyter.widget-view+json": {
       "model_id": "497f381e847042d888c3f2ed8a4e1273",
       "version_major": 2,
       "version_minor": 0
      },
      "text/plain": [
       "VBox(children=(Text(value='Sample OAD Process', description='title:'), Button(description='Save', icon='save',…"
      ]
     },
     "metadata": {},
     "output_type": "display_data"
    }
   ],
   "source": [
    "from fastoad.change_files.change_title import ChangeTitle\n",
    "\n",
    "ChangeTitle().display()"
   ]
  },
  {
   "cell_type": "code",
   "execution_count": 4,
   "metadata": {
    "pycharm": {
     "name": "#%%\n"
    },
    "scrolled": true
   },
   "outputs": [
    {
     "data": {
      "text/html": [
       "<table>\n",
       "<tbody>\n",
       "<tr><td>AVAILABLE MODULE IDENTIFIERS            </td><td>MODULE PATH                                                                                                    </td></tr>\n",
       "<tr><td>fastoad.aerodynamics.highspeed.legacy   </td><td>C:\\Users\\peter\\PycharmProjects\\FAST-OAD\\src\\fastoad\\models\\aerodynamics\\aerodynamics_high_speed.py             </td></tr>\n",
       "<tr><td>fastoad.aerodynamics.landing.legacy     </td><td>C:\\Users\\peter\\PycharmProjects\\FAST-OAD\\src\\fastoad\\models\\aerodynamics\\aerodynamics_landing.py                </td></tr>\n",
       "<tr><td>fastoad.aerodynamics.lowspeed.legacy    </td><td>C:\\Users\\peter\\PycharmProjects\\FAST-OAD\\src\\fastoad\\models\\aerodynamics\\aerodynamics_low_speed.py              </td></tr>\n",
       "<tr><td>fastoad.aerodynamics.takeoff.legacy     </td><td>C:\\Users\\peter\\PycharmProjects\\FAST-OAD\\src\\fastoad\\models\\aerodynamics\\aerodynamics_takeoff.py                </td></tr>\n",
       "<tr><td>fastoad.geometry.legacy                 </td><td>C:\\Users\\peter\\PycharmProjects\\FAST-OAD\\src\\fastoad\\models\\geometry\\geometry.py                                </td></tr>\n",
       "<tr><td>fastoad.handling_qualities.static_margin</td><td>C:\\Users\\peter\\PycharmProjects\\FAST-OAD\\src\\fastoad\\models\\handling_qualities\\compute_static_margin.py         </td></tr>\n",
       "<tr><td>fastoad.handling_qualities.tail_sizing  </td><td>C:\\Users\\peter\\PycharmProjects\\FAST-OAD\\src\\fastoad\\models\\handling_qualities\\tail_sizing\\compute_tail_areas.py</td></tr>\n",
       "<tr><td>fastoad.loop.wing_area                  </td><td>C:\\Users\\peter\\PycharmProjects\\FAST-OAD\\src\\fastoad\\models\\loops\\compute_wing_area.py                          </td></tr>\n",
       "<tr><td>fastoad.loop.wing_position              </td><td>C:\\Users\\peter\\PycharmProjects\\FAST-OAD\\src\\fastoad\\models\\loops\\compute_wing_position.py                      </td></tr>\n",
       "<tr><td>fastoad.mass_performances.compute_MTOW  </td><td>C:\\Users\\peter\\PycharmProjects\\FAST-OAD\\src\\fastoad\\models\\performances\\mission\\openmdao\\link_mtow.py          </td></tr>\n",
       "<tr><td>fastoad.performances.mission            </td><td>C:\\Users\\peter\\PycharmProjects\\FAST-OAD\\src\\fastoad\\models\\performances\\mission\\openmdao\\mission.py            </td></tr>\n",
       "<tr><td>fastoad.weight.legacy                   </td><td>C:\\Users\\peter\\PycharmProjects\\FAST-OAD\\src\\fastoad\\models\\weight\\weight.py                                    </td></tr>\n",
       "<tr><td>AVAILABLE PROPULSION WRAPPER IDENTIFIERS</td><td>MODULE PATH                                                                                                    </td></tr>\n",
       "<tr><td>fastoad.wrapper.propulsion.rubber_engine</td><td>C:\\Users\\peter\\PycharmProjects\\FAST-OAD\\src\\fastoad\\models\\propulsion\\fuel_propulsion\\rubber_engine\\openmdao.py</td></tr>\n",
       "</tbody>\n",
       "</table>"
      ],
      "text/plain": [
       "<IPython.core.display.HTML object>"
      ]
     },
     "metadata": {},
     "output_type": "display_data"
    }
   ],
   "source": [
    "from fastoad.cmd.api import list_modules\n",
    "\n",
    "list_modules()"
   ]
  },
  {
   "cell_type": "code",
   "execution_count": 5,
   "metadata": {
    "pycharm": {
     "name": "#%%\n"
    },
    "scrolled": true
   },
   "outputs": [
    {
     "data": {
      "application/vnd.jupyter.widget-view+json": {
       "model_id": "1b5f49eb994f4a64bd04fea5831c9f80",
       "version_major": 2,
       "version_minor": 0
      },
      "text/plain": [
       "VBox(children=(Text(value='Sample OAD Process', description='title :', _dom_classes=('top',)), Text(value='pro…"
      ]
     },
     "metadata": {},
     "output_type": "display_data"
    },
    {
     "data": {
      "text/html": [
       "<style> .left {margin-left: 9%;} .right {margin-right: 10%;} .top {margin-top: 20px;}.save {margin-left: 6%;} .green {background-color: lightgreen;} </style>"
      ],
      "text/plain": [
       "<IPython.core.display.HTML object>"
      ]
     },
     "metadata": {},
     "output_type": "display_data"
    },
    {
     "name": "stdout",
     "output_type": "stream",
     "text": [
      "Successfully changed values !\n",
      "\n"
     ]
    }
   ],
   "source": [
    "from fastoad.change_files.OneClass import OneClass\n",
    "\n",
    "OneClass().display()"
   ]
  }
 ],
 "metadata": {
  "kernelspec": {
   "display_name": "Python 3",
   "language": "python",
   "name": "python3"
  },
  "language_info": {
   "codemirror_mode": {
    "name": "ipython",
    "version": 3
   },
   "file_extension": ".py",
   "mimetype": "text/x-python",
   "name": "python",
   "nbconvert_exporter": "python",
   "pygments_lexer": "ipython3",
   "version": "3.8.8"
  }
 },
 "nbformat": 4,
 "nbformat_minor": 1
}