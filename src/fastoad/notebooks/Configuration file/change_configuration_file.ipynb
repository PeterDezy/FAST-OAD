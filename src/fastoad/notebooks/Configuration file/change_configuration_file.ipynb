{
 "cells": [
  {
   "cell_type": "markdown",
   "metadata": {
    "pycharm": {
     "name": "#%% md\n"
    }
   },
   "source": [
    "<div class=\"row\">\n",
    "  <div class=\"column\">\n",
    "    <img src=\"./img/logo-onera.png\" width=\"200\">\n",
    "  </div>\n",
    "  <div class=\"column\">\n",
    "    <img src=\"./img/logo-ISAE_SUPAERO.png\" width=\"200\">\n",
    "  </div>\n",
    "</div>"
   ]
  },
  {
   "cell_type": "markdown",
   "metadata": {
    "pycharm": {
     "name": "#%% md\n"
    }
   },
   "source": [
    "# Change the configuration file"
   ]
  },
  {
   "cell_type": "markdown",
   "metadata": {},
   "source": [
    "Generate the configuration file"
   ]
  },
  {
   "cell_type": "code",
   "execution_count": 1,
   "metadata": {
    "pycharm": {
     "name": "#%%\n"
    }
   },
   "outputs": [
    {
     "name": "stdout",
     "output_type": "stream",
     "text": [
      "Unable to import mpi4py. Parallel processing unavailable.\n",
      "Unable to import petsc4py. Parallel processing unavailable.\n",
      "Unable to import petsc4py. Parallel processing unavailable.\n"
     ]
    },
    {
     "data": {
      "text/html": [
       "<style>.container { width:95% !important; }</style>"
      ],
      "text/plain": [
       "<IPython.core.display.HTML object>"
      ]
     },
     "metadata": {},
     "output_type": "display_data"
    },
    {
     "name": "stderr",
     "output_type": "stream",
     "text": [
      "INFO    : Sample configuration written in workdir\\oad_process.yml\n"
     ]
    },
    {
     "data": {
      "text/plain": [
       "<fastoad.change_files.generate_files.GenerateFiles at 0x5e029e8>"
      ]
     },
     "execution_count": 1,
     "metadata": {},
     "output_type": "execute_result"
    }
   ],
   "source": [
    "from fastoad.change_files.generate_files import GenerateFiles\n",
    "\n",
    "GenerateFiles()"
   ]
  },
  {
   "cell_type": "markdown",
   "metadata": {
    "pycharm": {
     "name": "#%% md\n"
    }
   },
   "source": [
    "Change the configuration file"
   ]
  },
  {
   "cell_type": "code",
   "execution_count": 2,
   "metadata": {
    "pycharm": {
     "name": "#%%\n"
    },
    "scrolled": false
   },
   "outputs": [
    {
     "data": {
      "application/vnd.jupyter.widget-view+json": {
       "model_id": "1b004bb69be043fc9c9ddfe290d2337a",
       "version_major": 2,
       "version_minor": 0
      },
      "text/plain": [
       "TextField(clearable=True, label='Title :', outlined=True, style_='margin-top:20px', v_model='Sample OAD Proces…"
      ]
     },
     "metadata": {},
     "output_type": "display_data"
    },
    {
     "data": {
      "application/vnd.jupyter.widget-view+json": {
       "model_id": "110b3fe74a624a55bdf253bab0485db7",
       "version_major": 2,
       "version_minor": 0
      },
      "text/plain": [
       "TextField(clearable=True, label='Input_file :', outlined=True, style_='margin-top:5px', suffix='.yml', v_model…"
      ]
     },
     "metadata": {},
     "output_type": "display_data"
    },
    {
     "data": {
      "application/vnd.jupyter.widget-view+json": {
       "model_id": "da8fbe385f7c4350955fac2dec70fd08",
       "version_major": 2,
       "version_minor": 0
      },
      "text/plain": [
       "TextField(clearable=True, label='Output_file :', outlined=True, style_='margin-top:5px', suffix='.yml', v_mode…"
      ]
     },
     "metadata": {},
     "output_type": "display_data"
    },
    {
     "data": {
      "application/vnd.jupyter.widget-view+json": {
       "model_id": "d2857a611faf483c9535c4ee33f682eb",
       "version_major": 2,
       "version_minor": 0
      },
      "text/plain": [
       "Select(items=['differential_evolution_driver', 'doe_driver', 'genetic_algorithm_driver', 'pyoptsparse_driver',…"
      ]
     },
     "metadata": {},
     "output_type": "display_data"
    },
    {
     "data": {
      "application/vnd.jupyter.widget-view+json": {
       "model_id": "413d596509bd49359ce9fb7d3a63c06d",
       "version_major": 2,
       "version_minor": 0
      },
      "text/plain": [
       "Html(children=[Html(tag='div'), Html(tag='div')], class_='d-flex justify-center mb-6', tag='div')"
      ]
     },
     "metadata": {},
     "output_type": "display_data"
    },
    {
     "data": {
      "application/vnd.jupyter.widget-view+json": {
       "model_id": "a8e31cee81ef408594839222818b49ca",
       "version_major": 2,
       "version_minor": 0
      },
      "text/plain": [
       "Html(children=[Html(tag='div')], tag='div')"
      ]
     },
     "metadata": {},
     "output_type": "display_data"
    },
    {
     "data": {
      "application/vnd.jupyter.widget-view+json": {
       "model_id": "61f8ce087cad415bb7971ea1a7d19bb2",
       "version_major": 2,
       "version_minor": 0
      },
      "text/plain": [
       "Html(children=[Html(tag='div'), Html(tag='div')], class_='d-flex justify-center mb-6', tag='div')"
      ]
     },
     "metadata": {},
     "output_type": "display_data"
    },
    {
     "data": {
      "application/vnd.jupyter.widget-view+json": {
       "model_id": "ca018adab5154537b36040bdaa62fdee",
       "version_major": 2,
       "version_minor": 0
      },
      "text/plain": [
       "Select(items=['broyden', 'newton', 'nonlinear_block_gs', 'nonlinear_block_jac', 'nonlinear_runonce'], label='N…"
      ]
     },
     "metadata": {},
     "output_type": "display_data"
    },
    {
     "data": {
      "application/vnd.jupyter.widget-view+json": {
       "model_id": "fb042b58243c4d9e88bd3717179071d5",
       "version_major": 2,
       "version_minor": 0
      },
      "text/plain": [
       "Html(children=[Html(children=[TextField(label='Maxiter :', outlined=True, style_='width:500px;margin-top:5px;'…"
      ]
     },
     "metadata": {},
     "output_type": "display_data"
    },
    {
     "data": {
      "application/vnd.jupyter.widget-view+json": {
       "model_id": "c38e8103017744b89ce81ed051520427",
       "version_major": 2,
       "version_minor": 0
      },
      "text/plain": [
       "Html(children=[Html(tag='div'), Html(tag='div')], class_='d-flex justify-center mb-6', tag='div')"
      ]
     },
     "metadata": {},
     "output_type": "display_data"
    },
    {
     "data": {
      "application/vnd.jupyter.widget-view+json": {
       "model_id": "61adb76bfcd44e8bbe685f0e21f56f6e",
       "version_major": 2,
       "version_minor": 0
      },
      "text/plain": [
       "Html(children=[Html(tag='div'), Html(tag='div')], class_='d-flex justify-center mb-6', tag='div')"
      ]
     },
     "metadata": {},
     "output_type": "display_data"
    },
    {
     "data": {
      "application/vnd.jupyter.widget-view+json": {
       "model_id": "ba19e032cf2349ff91284f4a28991dd3",
       "version_major": 2,
       "version_minor": 0
      },
      "text/plain": [
       "Select(items=['direct', 'linear_block_gs', 'linear_block_jac', 'linear_runonce', 'petsc_ksp', 'scipy_iter_solv…"
      ]
     },
     "metadata": {},
     "output_type": "display_data"
    },
    {
     "data": {
      "application/vnd.jupyter.widget-view+json": {
       "model_id": "614395e5c39c424ebe919030176ffec8",
       "version_major": 2,
       "version_minor": 0
      },
      "text/plain": [
       "Html(children=[Html(children=[TextField(label='Print the output :', outlined=True, style_='width:500px;margin-…"
      ]
     },
     "metadata": {},
     "output_type": "display_data"
    },
    {
     "data": {
      "application/vnd.jupyter.widget-view+json": {
       "model_id": "cd10c287443e408a8f2d8e3d9ff13a47",
       "version_major": 2,
       "version_minor": 0
      },
      "text/plain": [
       "Html(children=[Html(tag='div'), Html(tag='div')], class_='d-flex justify-center mb-6', tag='div')"
      ]
     },
     "metadata": {},
     "output_type": "display_data"
    },
    {
     "data": {
      "application/vnd.jupyter.widget-view+json": {
       "model_id": "26eb92f351d04a6fa2235024dc67f70b",
       "version_major": 2,
       "version_minor": 0
      },
      "text/plain": [
       "Btn(children=['Add subgroup'], color='primary', elevation=4.0, style_='width:150px')"
      ]
     },
     "metadata": {},
     "output_type": "display_data"
    },
    {
     "data": {
      "application/vnd.jupyter.widget-view+json": {
       "model_id": "8c59718627d74ce49057fd43dfcaa03a",
       "version_major": 2,
       "version_minor": 0
      },
      "text/plain": [
       "Html(children=[Html(tag='div'), Html(tag='div')], class_='d-flex justify-center mb-6', tag='div')"
      ]
     },
     "metadata": {},
     "output_type": "display_data"
    },
    {
     "data": {
      "application/vnd.jupyter.widget-view+json": {
       "model_id": "a2a99c72958646d2839cd31509c73861",
       "version_major": 2,
       "version_minor": 0
      },
      "text/plain": [
       "Html(children=[Html(children=[Btn(children=[Icon(children=['get_app']), 'Save'], color='blue', elevation=4.0, …"
      ]
     },
     "metadata": {},
     "output_type": "display_data"
    }
   ],
   "source": [
    "from fastoad.change_files.change_config_file import ChangeConfigFile\n",
    "\n",
    "ChangeConfigFile().display()"
   ]
  },
  {
   "cell_type": "code",
   "execution_count": 3,
   "metadata": {},
   "outputs": [
    {
     "data": {
      "application/vnd.jupyter.widget-view+json": {
       "model_id": "81334a96a9914d01aa82c4fa779a7380",
       "version_major": 2,
       "version_minor": 0
      },
      "text/plain": [
       "Html(children=[Container(children=[Dialog(children=[Card(children=[CardTitle(children=['New Subgroup'], class_…"
      ]
     },
     "metadata": {},
     "output_type": "display_data"
    }
   ],
   "source": [
    "import ipyvuetify as v\n",
    "\n",
    "btnadd = v.Btn(color='primary', children=['Add'])\n",
    "\n",
    "card = v.Card(children=[\n",
    "    v.CardTitle(class_='headline gray lighten-2', children=[\n",
    "        \"New Subgroup\"\n",
    "    ]),\n",
    "    v.CardText(children=[\n",
    "        v.TextField(label='Subgroup'),\n",
    "        btnadd,\n",
    "    ])\n",
    "])\n",
    "\n",
    "def close(widget, event, data):\n",
    "    print(\"Ajouté\")\n",
    "\n",
    "\n",
    "dialog = v.Dialog(\n",
    "    width='500',\n",
    "    v_slots=[{\n",
    "        'name': 'activator',\n",
    "        'variable': 'x',\n",
    "        'children': v.Btn(v_on='x.on', color='primary', width='150', children=[\n",
    "            'Add Subgroup'\n",
    "        ]),\n",
    "    }],\n",
    "    children=[\n",
    "        card,\n",
    "    ]\n",
    ")\n",
    "\n",
    "btnadd.on_event('click', close)\n",
    "\n",
    "content = v.Container(children=[dialog])\n",
    "\n",
    "DialogLayout = v.Html(tag='div', children=[\n",
    "    content,\n",
    "])\n",
    "\n",
    "DialogLayout"
   ]
  },
  {
   "cell_type": "markdown",
   "metadata": {},
   "source": [
    "```yaml\n",
    "\n",
    "title: Sample OAD Process\n",
    "\n",
    "\n",
    "\n",
    "# List of folder paths where user added custom registered OpenMDAO components\n",
    "\n",
    "module_folders:\n",
    "\n",
    "\n",
    "\n",
    "# Input and output files\n",
    "\n",
    "input_file: ./problem_inputs.xml\n",
    "\n",
    "output_file: ./problem_outputs.xml\n",
    "\n",
    "\n",
    "\n",
    "# Definition of problem driver assuming the OpenMDAO convention \"import openmdao.api as om\"\n",
    "\n",
    "driver: om.ScipyOptimizeDriver(optimizer='SLSQP',tol=1e-06,maxiter=200,disp=True)\n",
    "\n",
    "\n",
    "\n",
    "# Definition of OpenMDAO model\n",
    "\n",
    "# Although \"model\" is a mandatory name for the top level of the model, its\n",
    "\n",
    "# sub-components can be freely named by user\n",
    "\n",
    "model:\n",
    "\n",
    "\n",
    "\n",
    "  #  Solvers are defined assuming the OpenMDAO convention \"import openmdao.api as om\"\n",
    "\n",
    "  nonlinear_solver: om.NonlinearBlockGS(maxiter=100, atol=1e-2)\n",
    "\n",
    "  linear_solver: om.DirectSolver()\n",
    "  ```"
   ]
  },
  {
   "cell_type": "code",
   "execution_count": null,
   "metadata": {},
   "outputs": [],
   "source": [
    "from fastoad.change_files.linear_solver_class import LinearSolver\n",
    "\n",
    "LinearSolver().display()"
   ]
  }
 ],
 "metadata": {
  "kernelspec": {
   "display_name": "Python 3",
   "language": "python",
   "name": "python3"
  },
  "language_info": {
   "codemirror_mode": {
    "name": "ipython",
    "version": 3
   },
   "file_extension": ".py",
   "mimetype": "text/x-python",
   "name": "python",
   "nbconvert_exporter": "python",
   "pygments_lexer": "ipython3",
   "version": "3.8.2"
  }
 },
 "nbformat": 4,
 "nbformat_minor": 1
}