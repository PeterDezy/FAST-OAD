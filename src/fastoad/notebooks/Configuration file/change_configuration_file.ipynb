{
 "cells": [
  {
   "cell_type": "markdown",
   "metadata": {
    "pycharm": {
     "name": "#%% md\n"
    }
   },
   "source": [
    "<div class=\"row\">\n",
    "  <div class=\"column\">\n",
    "    <img src=\"./img/logo-onera.png\" width=\"200\">\n",
    "  </div>\n",
    "  <div class=\"column\">\n",
    "    <img src=\"./img/logo-ISAE_SUPAERO.png\" width=\"200\">\n",
    "  </div>\n",
    "</div>"
   ]
  },
  {
   "cell_type": "markdown",
   "metadata": {
    "pycharm": {
     "name": "#%% md\n"
    }
   },
   "source": [
    "# Change the configuration file"
   ]
  },
  {
   "cell_type": "markdown",
   "metadata": {},
   "source": [
    "Generate the configuration file"
   ]
  },
  {
   "cell_type": "code",
   "execution_count": 1,
   "metadata": {
    "pycharm": {
     "name": "#%%\n"
    }
   },
   "outputs": [
    {
     "name": "stdout",
     "output_type": "stream",
     "text": [
      "Unable to import mpi4py. Parallel processing unavailable.\n",
      "Unable to import petsc4py. Parallel processing unavailable.\n",
      "Unable to import petsc4py. Parallel processing unavailable.\n"
     ]
    },
    {
     "data": {
      "text/html": [
       "<style>.container { width:95% !important; }</style>"
      ],
      "text/plain": [
       "<IPython.core.display.HTML object>"
      ]
     },
     "metadata": {},
     "output_type": "display_data"
    },
    {
     "name": "stderr",
     "output_type": "stream",
     "text": [
      "INFO    : Sample configuration written in workdir\\oad_process.yml\n"
     ]
    },
    {
     "data": {
      "text/plain": [
       "<fastoad.change_files.generate_files.GenerateFiles at 0x1cff7b4fdf0>"
      ]
     },
     "execution_count": 1,
     "metadata": {},
     "output_type": "execute_result"
    }
   ],
   "source": [
    "from fastoad.change_files.generate_files import GenerateFiles\n",
    "\n",
    "GenerateFiles()"
   ]
  },
  {
   "cell_type": "markdown",
   "metadata": {
    "pycharm": {
     "name": "#%% md\n"
    }
   },
   "source": [
    "Change the configuration file"
   ]
  },
  {
   "cell_type": "code",
   "execution_count": 2,
   "metadata": {
    "scrolled": false
   },
   "outputs": [
    {
     "data": {
      "application/vnd.jupyter.widget-view+json": {
       "model_id": "24d5a37a7ce34d389f457734bce03c24",
       "version_major": 2,
       "version_minor": 0
      },
      "text/plain": [
       "TextField(clearable=True, label='Title :', outlined=True, style_='margin-top:20px', v_model='Sample OAD Proces…"
      ]
     },
     "metadata": {},
     "output_type": "display_data"
    },
    {
     "data": {
      "application/vnd.jupyter.widget-view+json": {
       "model_id": "8efedb6b103346febd41f20af36e5ccf",
       "version_major": 2,
       "version_minor": 0
      },
      "text/plain": [
       "TextField(clearable=True, label='Input_file :', outlined=True, style_='margin-top:5px', suffix='.yml', v_model…"
      ]
     },
     "metadata": {},
     "output_type": "display_data"
    },
    {
     "data": {
      "application/vnd.jupyter.widget-view+json": {
       "model_id": "04b47b5436804aaf8783c0c8e001d50c",
       "version_major": 2,
       "version_minor": 0
      },
      "text/plain": [
       "TextField(clearable=True, label='Output_file :', outlined=True, style_='margin-top:5px', suffix='.yml', v_mode…"
      ]
     },
     "metadata": {},
     "output_type": "display_data"
    },
    {
     "data": {
      "application/vnd.jupyter.widget-view+json": {
       "model_id": "e71ad12821f14d2abcaddf8b973e5268",
       "version_major": 2,
       "version_minor": 0
      },
      "text/plain": [
       "ExpansionPanels(children=[ExpansionPanel(children=[ExpansionPanelHeader(children=['Driver'], color='#eaeaea', …"
      ]
     },
     "metadata": {},
     "output_type": "display_data"
    },
    {
     "data": {
      "application/vnd.jupyter.widget-view+json": {
       "model_id": "199db1fcec69464db28b45c66644066e",
       "version_major": 2,
       "version_minor": 0
      },
      "text/plain": [
       "TextField(label='Name :', outlined=True, readonly=True, style_='margin-top:20px', v_model='model')"
      ]
     },
     "metadata": {},
     "output_type": "display_data"
    },
    {
     "data": {
      "application/vnd.jupyter.widget-view+json": {
       "model_id": "054a7debbff94b9b958a16e0be25c4a8",
       "version_major": 2,
       "version_minor": 0
      },
      "text/plain": [
       "Checkbox(label='Use solver', style_='margin-bottom:10px', v_model=True)"
      ]
     },
     "metadata": {},
     "output_type": "display_data"
    },
    {
     "data": {
      "application/vnd.jupyter.widget-view+json": {
       "model_id": "3b0e17c6c6e345e9a4a16ff4616955cf",
       "version_major": 2,
       "version_minor": 0
      },
      "text/plain": [
       "ExpansionPanels(children=[ExpansionPanel(children=[ExpansionPanelHeader(children=['Linear Solver'], color='#ea…"
      ]
     },
     "metadata": {},
     "output_type": "display_data"
    },
    {
     "data": {
      "application/vnd.jupyter.widget-view+json": {
       "model_id": "5e64e0c537864a7ea8b375a2d629b4ef",
       "version_major": 2,
       "version_minor": 0
      },
      "text/plain": [
       "ExpansionPanels(children=[ExpansionPanel(children=[ExpansionPanelHeader(children=['Nonlinear Solver'], color='…"
      ]
     },
     "metadata": {},
     "output_type": "display_data"
    },
    {
     "data": {
      "application/vnd.jupyter.widget-view+json": {
       "model_id": "652cd8a974ea40eabef1702a7628fa13",
       "version_major": 2,
       "version_minor": 0
      },
      "text/plain": [
       "Html(children=[Html(children=[Btn(children=['Add subgroup'], color='blue', elevation=4.0, outlined=True, style…"
      ]
     },
     "metadata": {},
     "output_type": "display_data"
    },
    {
     "data": {
      "application/vnd.jupyter.widget-view+json": {
       "model_id": "0dc6efcf33464a1cb43f5791e034e6a3",
       "version_major": 2,
       "version_minor": 0
      },
      "text/plain": [
       "Btn(children=[Icon(children=['get_app']), 'Save'], color='blue', elevation=4.0, outlined=True, style_='width:1…"
      ]
     },
     "metadata": {},
     "output_type": "display_data"
    },
    {
     "data": {
      "application/vnd.jupyter.widget-view+json": {
       "model_id": "db79384e6317491d8b804cb798b864fe",
       "version_major": 2,
       "version_minor": 0
      },
      "text/plain": [
       "TextField(label='Name :', outlined=True, style_='margin-top:20px', v_model='subgroup1')"
      ]
     },
     "metadata": {},
     "output_type": "display_data"
    },
    {
     "data": {
      "application/vnd.jupyter.widget-view+json": {
       "model_id": "225f982ce95c443ca8b6b8af760a7d13",
       "version_major": 2,
       "version_minor": 0
      },
      "text/plain": [
       "Checkbox(label='Use solver', style_='margin-bottom:10px', v_model=True)"
      ]
     },
     "metadata": {},
     "output_type": "display_data"
    },
    {
     "data": {
      "application/vnd.jupyter.widget-view+json": {
       "model_id": "09642f2b2b2648c5a1557363a6194b27",
       "version_major": 2,
       "version_minor": 0
      },
      "text/plain": [
       "ExpansionPanels(children=[ExpansionPanel(children=[ExpansionPanelHeader(children=['Linear Solver'], color='#ea…"
      ]
     },
     "metadata": {},
     "output_type": "display_data"
    },
    {
     "data": {
      "application/vnd.jupyter.widget-view+json": {
       "model_id": "a1e7104e0be141af93b8ff39dcccc05e",
       "version_major": 2,
       "version_minor": 0
      },
      "text/plain": [
       "ExpansionPanels(children=[ExpansionPanel(children=[ExpansionPanelHeader(children=['Nonlinear Solver'], color='…"
      ]
     },
     "metadata": {},
     "output_type": "display_data"
    },
    {
     "data": {
      "application/vnd.jupyter.widget-view+json": {
       "model_id": "aa8214da0374436eb71fe1ec3f93e590",
       "version_major": 2,
       "version_minor": 0
      },
      "text/plain": [
       "Html(children=[Html(children=[Btn(children=['Add subgroup'], color='blue', elevation=4.0, outlined=True, style…"
      ]
     },
     "metadata": {},
     "output_type": "display_data"
    }
   ],
   "source": [
    "from fastoad.change_files.change_config_file import ChangeConfigFile\n",
    "\n",
    "ChangeConfigFile().display()"
   ]
  },
  {
   "cell_type": "code",
   "execution_count": null,
   "metadata": {},
   "outputs": [],
   "source": []
  }
 ],
 "metadata": {
  "kernelspec": {
   "display_name": "Python 3",
   "language": "python",
   "name": "python3"
  },
  "language_info": {
   "codemirror_mode": {
    "name": "ipython",
    "version": 3
   },
   "file_extension": ".py",
   "mimetype": "text/x-python",
   "name": "python",
   "nbconvert_exporter": "python",
   "pygments_lexer": "ipython3",
   "version": "3.8.6"
  }
 },
 "nbformat": 4,
 "nbformat_minor": 1
}
