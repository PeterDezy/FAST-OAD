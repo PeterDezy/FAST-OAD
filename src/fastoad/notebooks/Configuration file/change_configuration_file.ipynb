{
 "cells": [
  {
   "cell_type": "markdown",
   "metadata": {
    "pycharm": {
     "name": "#%% md\n"
    }
   },
   "source": [
    "<div class=\"row\">\n",
    "  <div class=\"column\">\n",
    "    <img src=\"./img/logo-onera.png\" width=\"200\">\n",
    "  </div>\n",
    "  <div class=\"column\">\n",
    "    <img src=\"./img/logo-ISAE_SUPAERO.png\" width=\"200\">\n",
    "  </div>\n",
    "</div>"
   ]
  },
  {
   "cell_type": "markdown",
   "metadata": {
    "pycharm": {
     "name": "#%% md\n"
    }
   },
   "source": [
    "# Change the configuration file"
   ]
  },
  {
   "cell_type": "markdown",
   "metadata": {},
   "source": [
    "Generate the configuration file"
   ]
  },
  {
   "cell_type": "code",
   "execution_count": 1,
   "metadata": {
    "pycharm": {
     "name": "#%%\n"
    }
   },
   "outputs": [
    {
     "name": "stdout",
     "output_type": "stream",
     "text": [
      "Unable to import mpi4py. Parallel processing unavailable.\n",
      "Unable to import petsc4py. Parallel processing unavailable.\n",
      "Unable to import petsc4py. Parallel processing unavailable.\n"
     ]
    },
    {
     "data": {
      "text/html": [
       "<style>.container { width:95% !important; }</style>"
      ],
      "text/plain": [
       "<IPython.core.display.HTML object>"
      ]
     },
     "metadata": {},
     "output_type": "display_data"
    },
    {
     "name": "stderr",
     "output_type": "stream",
     "text": [
      "INFO    : Sample configuration written in workdir\\oad_process.yml\n"
     ]
    },
    {
     "data": {
      "text/plain": [
       "<fastoad.change_files.generate_files.GenerateFiles at 0x1f31c732dc0>"
      ]
     },
     "execution_count": 1,
     "metadata": {},
     "output_type": "execute_result"
    }
   ],
   "source": [
    "from fastoad.change_files.generate_files import GenerateFiles\n",
    "\n",
    "GenerateFiles()"
   ]
  },
  {
   "cell_type": "markdown",
   "metadata": {
    "pycharm": {
     "name": "#%% md\n"
    }
   },
   "source": [
    "Change the configuration file"
   ]
  },
  {
   "cell_type": "code",
   "execution_count": 2,
   "metadata": {
    "scrolled": false
   },
   "outputs": [
    {
     "data": {
      "application/vnd.jupyter.widget-view+json": {
       "model_id": "9331b5c3bdbf4d87a5371b37b950a049",
       "version_major": 2,
       "version_minor": 0
      },
      "text/plain": [
       "TextField(clearable=True, label='Title :', outlined=True, style_='margin-top:20px', v_model='Sample OAD Proces…"
      ]
     },
     "metadata": {},
     "output_type": "display_data"
    },
    {
     "data": {
      "application/vnd.jupyter.widget-view+json": {
       "model_id": "c019c942b3f848048188d1d2bcc34033",
       "version_major": 2,
       "version_minor": 0
      },
      "text/plain": [
       "TextField(clearable=True, label='Input_file :', outlined=True, style_='margin-top:5px', suffix='.yml', v_model…"
      ]
     },
     "metadata": {},
     "output_type": "display_data"
    },
    {
     "data": {
      "application/vnd.jupyter.widget-view+json": {
       "model_id": "bd70536f4c154683a0cb89a87d0aac2a",
       "version_major": 2,
       "version_minor": 0
      },
      "text/plain": [
       "TextField(clearable=True, label='Output_file :', outlined=True, style_='margin-top:5px', suffix='.yml', v_mode…"
      ]
     },
     "metadata": {},
     "output_type": "display_data"
    },
    {
     "data": {
      "application/vnd.jupyter.widget-view+json": {
       "model_id": "e4c199c8f9484970854982a6416ebd00",
       "version_major": 2,
       "version_minor": 0
      },
      "text/plain": [
       "ExpansionPanels(children=[ExpansionPanel(children=[ExpansionPanelHeader(children=['Driver'], color='#eaeaea', …"
      ]
     },
     "metadata": {},
     "output_type": "display_data"
    },
    {
     "data": {
      "application/vnd.jupyter.widget-view+json": {
       "model_id": "a2487d0a44f542109a54a9c2e532cd1f",
       "version_major": 2,
       "version_minor": 0
      },
      "text/plain": [
       "TextField(label='Name :', outlined=True, readonly=True, style_='margin-top:20px', v_model='model')"
      ]
     },
     "metadata": {},
     "output_type": "display_data"
    },
    {
     "data": {
      "application/vnd.jupyter.widget-view+json": {
       "model_id": "31bd3281b97a41399cc6d66acf4bea5d",
       "version_major": 2,
       "version_minor": 0
      },
      "text/plain": [
       "Checkbox(label='Use solver', style_='margin-bottom:10px', v_model=True)"
      ]
     },
     "metadata": {},
     "output_type": "display_data"
    },
    {
     "data": {
      "application/vnd.jupyter.widget-view+json": {
       "model_id": "8afb17d18b564f7693d81b608f67274b",
       "version_major": 2,
       "version_minor": 0
      },
      "text/plain": [
       "ExpansionPanels(children=[ExpansionPanel(children=[ExpansionPanelHeader(children=['Linear Solver'], color='#ea…"
      ]
     },
     "metadata": {},
     "output_type": "display_data"
    },
    {
     "data": {
      "application/vnd.jupyter.widget-view+json": {
       "model_id": "290dea7b4eb14424889b5c61655157ac",
       "version_major": 2,
       "version_minor": 0
      },
      "text/plain": [
       "ExpansionPanels(children=[ExpansionPanel(children=[ExpansionPanelHeader(children=['Nonlinear Solver'], color='…"
      ]
     },
     "metadata": {},
     "output_type": "display_data"
    },
    {
     "data": {
      "application/vnd.jupyter.widget-view+json": {
       "model_id": "d40ae4c89ff04eeb9baff42a3b2bbae6",
       "version_major": 2,
       "version_minor": 0
      },
      "text/plain": [
       "Html(children=[Html(children=[Btn(children=['Add subgroup'], color='blue', elevation=4.0, outlined=True, style…"
      ]
     },
     "metadata": {},
     "output_type": "display_data"
    },
    {
     "data": {
      "application/vnd.jupyter.widget-view+json": {
       "model_id": "1791cbc80b9f45f29cdff1d1b6a5d430",
       "version_major": 2,
       "version_minor": 0
      },
      "text/plain": [
       "Btn(children=[Icon(children=['get_app']), 'Save'], color='blue', elevation=4.0, outlined=True, style_='width:1…"
      ]
     },
     "metadata": {},
     "output_type": "display_data"
    }
   ],
   "source": [
    "from fastoad.change_files.change_config_file import ChangeConfigFile\n",
    "\n",
    "ChangeConfigFile().display()"
   ]
  },
  {
   "cell_type": "code",
   "execution_count": null,
   "metadata": {},
   "outputs": [],
   "source": []
  }
 ],
 "metadata": {
  "kernelspec": {
   "display_name": "Python 3",
   "language": "python",
   "name": "python3"
  },
  "language_info": {
   "codemirror_mode": {
    "name": "ipython",
    "version": 3
   },
   "file_extension": ".py",
   "mimetype": "text/x-python",
   "name": "python",
   "nbconvert_exporter": "python",
   "pygments_lexer": "ipython3",
   "version": "3.8.6"
  }
 },
 "nbformat": 4,
 "nbformat_minor": 1
}
