{
 "cells": [
  {
   "cell_type": "markdown",
   "metadata": {
    "pycharm": {
     "name": "#%% md\n"
    }
   },
   "source": [
    "<div class=\"row\">\n",
    "  <div class=\"column\">\n",
    "    <img src=\"./img/logo-onera.png\" width=\"200\">\n",
    "  </div>\n",
    "  <div class=\"column\">\n",
    "    <img src=\"./img/logo-ISAE_SUPAERO.png\" width=\"200\">\n",
    "  </div>\n",
    "</div>"
   ]
  },
  {
   "cell_type": "markdown",
   "metadata": {
    "pycharm": {
     "name": "#%% md\n"
    }
   },
   "source": [
    "# Change the configuration file"
   ]
  },
  {
   "cell_type": "markdown",
   "metadata": {},
   "source": [
    "Generate the configuration file"
   ]
  },
  {
   "cell_type": "code",
   "execution_count": 1,
   "metadata": {
    "pycharm": {
     "name": "#%%\n"
    }
   },
   "outputs": [
    {
     "name": "stdout",
     "output_type": "stream",
     "text": [
      "Unable to import mpi4py. Parallel processing unavailable.\n",
      "Unable to import petsc4py. Parallel processing unavailable.\n",
      "Unable to import petsc4py. Parallel processing unavailable.\n"
     ]
    },
    {
     "data": {
      "text/html": [
       "<style>.container { width:95% !important; }</style>"
      ],
      "text/plain": [
       "<IPython.core.display.HTML object>"
      ]
     },
     "metadata": {},
     "output_type": "display_data"
    },
    {
     "name": "stderr",
     "output_type": "stream",
     "text": [
      "INFO    : Sample configuration written in workdir\\oad_process.yml\n"
     ]
    },
    {
     "data": {
      "text/plain": [
       "<fastoad.change_files.generate_files.GenerateFiles at 0x1a52a064d60>"
      ]
     },
     "execution_count": 1,
     "metadata": {},
     "output_type": "execute_result"
    }
   ],
   "source": [
    "from fastoad.change_files.generate_files import GenerateFiles\n",
    "\n",
    "GenerateFiles()"
   ]
  },
  {
   "cell_type": "markdown",
   "metadata": {
    "pycharm": {
     "name": "#%% md\n"
    }
   },
   "source": [
    "Change the configuration file"
   ]
  },
  {
   "cell_type": "code",
   "execution_count": 2,
   "metadata": {
    "scrolled": false
   },
   "outputs": [
    {
     "data": {
      "application/vnd.jupyter.widget-view+json": {
       "model_id": "25f1707c176f43399d674a4ac7212ba5",
       "version_major": 2,
       "version_minor": 0
      },
      "text/plain": [
       "TextField(clearable=True, label='Title :', outlined=True, style_='margin-top:20px', v_model='Sample OAD Proces…"
      ]
     },
     "metadata": {},
     "output_type": "display_data"
    },
    {
     "data": {
      "application/vnd.jupyter.widget-view+json": {
       "model_id": "910fa4c1965c4a4dba1e0b60aabfa432",
       "version_major": 2,
       "version_minor": 0
      },
      "text/plain": [
       "TextField(clearable=True, label='Input_file :', outlined=True, style_='margin-top:5px', suffix='.xml', v_model…"
      ]
     },
     "metadata": {},
     "output_type": "display_data"
    },
    {
     "data": {
      "application/vnd.jupyter.widget-view+json": {
       "model_id": "7b4261d9ddb340479ba333a6b40b4582",
       "version_major": 2,
       "version_minor": 0
      },
      "text/plain": [
       "TextField(clearable=True, label='Output_file :', outlined=True, style_='margin-top:5px', suffix='.xml', v_mode…"
      ]
     },
     "metadata": {},
     "output_type": "display_data"
    },
    {
     "data": {
      "application/vnd.jupyter.widget-view+json": {
       "model_id": "1d86301b29d3488c98cc2ee3e2c956cf",
       "version_major": 2,
       "version_minor": 0
      },
      "text/plain": [
       "ExpansionPanels(children=[ExpansionPanel(children=[ExpansionPanelHeader(children=['Driver'], color='#eaeaea', …"
      ]
     },
     "metadata": {},
     "output_type": "display_data"
    },
    {
     "data": {
      "application/vnd.jupyter.widget-view+json": {
       "model_id": "4768d0fb215f49099586b8b4fd950ea4",
       "version_major": 2,
       "version_minor": 0
      },
      "text/plain": [
       "TextField(label='Name :', outlined=True, readonly=True, style_='margin-top:20px', v_model='model')"
      ]
     },
     "metadata": {},
     "output_type": "display_data"
    },
    {
     "data": {
      "application/vnd.jupyter.widget-view+json": {
       "model_id": "f1e09d8a86bb432a88e62d53010188f8",
       "version_major": 2,
       "version_minor": 0
      },
      "text/plain": [
       "Checkbox(label='Use solver', style_='margin-bottom:10px; margin-left:10px;', v_model=True)"
      ]
     },
     "metadata": {},
     "output_type": "display_data"
    },
    {
     "data": {
      "application/vnd.jupyter.widget-view+json": {
       "model_id": "253df9c3ee59466fb01a9f1d975e4bc7",
       "version_major": 2,
       "version_minor": 0
      },
      "text/plain": [
       "ExpansionPanels(children=[ExpansionPanel(children=[ExpansionPanelHeader(children=['Linear Solver'], color='#ea…"
      ]
     },
     "metadata": {},
     "output_type": "display_data"
    },
    {
     "data": {
      "application/vnd.jupyter.widget-view+json": {
       "model_id": "9a3560bad0484b12b1ac559bfc8ad060",
       "version_major": 2,
       "version_minor": 0
      },
      "text/plain": [
       "ExpansionPanels(children=[ExpansionPanel(children=[ExpansionPanelHeader(children=['Nonlinear Solver'], color='…"
      ]
     },
     "metadata": {},
     "output_type": "display_data"
    },
    {
     "data": {
      "application/vnd.jupyter.widget-view+json": {
       "model_id": "60af71e8554b42709afe0559f121498f",
       "version_major": 2,
       "version_minor": 0
      },
      "text/plain": [
       "Html(children=[Btn(children=['Add subgroup'], color='blue', elevation=4.0, outlined=True, style_='width:240px'…"
      ]
     },
     "metadata": {},
     "output_type": "display_data"
    },
    {
     "data": {
      "application/vnd.jupyter.widget-view+json": {
       "model_id": "e101e8b1fd844a78a8e68602a4b83500",
       "version_major": 2,
       "version_minor": 0
      },
      "text/plain": [
       "Btn(children=['Reset'], color='red', elevation=4.0, outlined=True, style_='width:150px;margin:auto;')"
      ]
     },
     "metadata": {},
     "output_type": "display_data"
    },
    {
     "data": {
      "application/vnd.jupyter.widget-view+json": {
       "model_id": "b4461c8618244639b9826444ebb670a5",
       "version_major": 2,
       "version_minor": 0
      },
      "text/plain": [
       "Btn(children=[Icon(children=['get_app']), 'Save'], color='blue', elevation=4.0, outlined=True, style_='width:1…"
      ]
     },
     "metadata": {},
     "output_type": "display_data"
    },
    {
     "data": {
      "application/vnd.jupyter.widget-view+json": {
       "model_id": "45ec26c62a694aab8a33dc7ff765400b",
       "version_major": 2,
       "version_minor": 0
      },
      "text/plain": [
       "Alert(children=['Successfuly changed values'], elevation='2', type='success')"
      ]
     },
     "metadata": {},
     "output_type": "display_data"
    },
    {
     "data": {
      "text/markdown": [
       "```yaml\n",
       "title: Sample OAD Process\n",
       "\n",
       "# List of folder paths where user added custom registered OpenMDAO components\n",
       "module_folders:\n",
       "\n",
       "# Input and output files\n",
       "input_file: ./problem_inputs.xml\n",
       "output_file: ./problem_outputs.xml\n",
       "\n",
       "# Definition of problem driver assuming the OpenMDAO convention \"import openmdao.api as om\"\n",
       "driver: om.ScipyOptimizeDriver(optimizer='SLSQP',tol=1e-06,maxiter=200,disp=True)\n",
       "\n",
       "# Definition of OpenMDAO model\n",
       "# Although \"model\" is a mandatory name for the top level of the model, its\n",
       "# sub-components can be freely named by user\n",
       "model:\n",
       "\tlinear_solver: om.DirectSolver(iprint=1,assemble_jac=True,err_on_singular=True)\n",
       "\tnonlinear_solver: om.NonlinearBlockGS(maxiter=10,atol=1e-10,rtol=1e-10,iprint=1,err_on_non_converge=False,debug_print=False,stall_limit=0,stall_tol=1e-12,use_aitken=False,cs_reconverge=True,use_apply_nonlinear=False,reraise_child_analysiserror=False)\n",
       "\n",
       "```"
      ],
      "text/plain": [
       "<IPython.core.display.Markdown object>"
      ]
     },
     "metadata": {},
     "output_type": "display_data"
    }
   ],
   "source": [
    "from fastoad.change_files.change_config_file import ChangeConfigFile\n",
    "\n",
    "ChangeConfigFile().display()"
   ]
  },
  {
   "cell_type": "code",
   "execution_count": 3,
   "metadata": {
    "pycharm": {
     "name": "#%%\n"
    },
    "scrolled": false
   },
   "outputs": [
    {
     "data": {
      "application/vnd.jupyter.widget-view+json": {
       "model_id": "9fca5171a06446c89a7df7577231de83",
       "version_major": 2,
       "version_minor": 0
      },
      "text/plain": [
       "Treeview(hoverable=True, items=[{'id': 1, 'name': 'Model :', 'children': [{'id1': 1, 'name': 'subgroup'}]}], o…"
      ]
     },
     "metadata": {},
     "output_type": "display_data"
    },
    {
     "data": {
      "application/vnd.jupyter.widget-view+json": {
       "model_id": "f545a7da376d49a785734c6f8fa4fb80",
       "version_major": 2,
       "version_minor": 0
      },
      "text/plain": [
       "Btn(children=['Add subgroup'], color='green', style_='', width='400px')"
      ]
     },
     "metadata": {},
     "output_type": "display_data"
    },
    {
     "data": {
      "application/vnd.jupyter.widget-view+json": {
       "model_id": "2b026fc5d49a4006942dcf8615242f48",
       "version_major": 2,
       "version_minor": 0
      },
      "text/plain": [
       "Select(items=['subgroup'], label='Select the subgroup', outlined=True, style_='width:400px;margin-top:20px;')"
      ]
     },
     "metadata": {},
     "output_type": "display_data"
    },
    {
     "data": {
      "application/vnd.jupyter.widget-view+json": {
       "model_id": "eadfd6a142694da5a26dd7fb3aebb034",
       "version_major": 2,
       "version_minor": 0
      },
      "text/plain": [
       "Btn(children=['Add subsubgroup'], color='green', width='400px')"
      ]
     },
     "metadata": {},
     "output_type": "display_data"
    },
    {
     "data": {
      "application/vnd.jupyter.widget-view+json": {
       "model_id": "961f4700b2324bb98c3085abfc308d10",
       "version_major": 2,
       "version_minor": 0
      },
      "text/plain": [
       "Select(disabled=True, items=[], label='Select the subsubgroup', outlined=True, style_='width:400px;margin-top:…"
      ]
     },
     "metadata": {},
     "output_type": "display_data"
    },
    {
     "data": {
      "application/vnd.jupyter.widget-view+json": {
       "model_id": "bfe9407fc43a4c25b8d4a17146fe9a7c",
       "version_major": 2,
       "version_minor": 0
      },
      "text/plain": [
       "Btn(children=['Add subsubsubgroup'], color='green', disabled=True, width='400px')"
      ]
     },
     "metadata": {},
     "output_type": "display_data"
    },
    {
     "data": {
      "application/vnd.jupyter.widget-view+json": {
       "model_id": "d6b33fa502ec436bb5210220895a6ae4",
       "version_major": 2,
       "version_minor": 0
      },
      "text/plain": [
       "Select(disabled=True, items=[], label='Select the subsubsubgroup', outlined=True, style_='width:400px;margin-t…"
      ]
     },
     "metadata": {},
     "output_type": "display_data"
    },
    {
     "data": {
      "application/vnd.jupyter.widget-view+json": {
       "model_id": "0eca3964eac140ce98d732cb06198a98",
       "version_major": 2,
       "version_minor": 0
      },
      "text/plain": [
       "Btn(children=['Add subsubsubsubgroup'], color='green', disabled=True, width='400px')"
      ]
     },
     "metadata": {},
     "output_type": "display_data"
    },
    {
     "data": {
      "application/vnd.jupyter.widget-view+json": {
       "model_id": "1ee83551201d480cab930a7f2a4aafa7",
       "version_major": 2,
       "version_minor": 0
      },
      "text/plain": [
       "Select(disabled=True, items=[], label='Select the subsubsubsubgroup', outlined=True, style_='width:400px;margi…"
      ]
     },
     "metadata": {},
     "output_type": "display_data"
    },
    {
     "data": {
      "application/vnd.jupyter.widget-view+json": {
       "model_id": "56d561d0dda74dac85193ff90187e44a",
       "version_major": 2,
       "version_minor": 0
      },
      "text/plain": [
       "Btn(children=['Add subsubsubsubsubgroup'], color='green', disabled=True, width='400px')"
      ]
     },
     "metadata": {},
     "output_type": "display_data"
    },
    {
     "data": {
      "application/vnd.jupyter.widget-view+json": {
       "model_id": "246f2e4bf60742bd9a0f073181ee3ee1",
       "version_major": 2,
       "version_minor": 0
      },
      "text/plain": [
       "Select(disabled=True, items=[], label='Select the subsubsubsubsubgroup', outlined=True, style_='width:400px;ma…"
      ]
     },
     "metadata": {},
     "output_type": "display_data"
    },
    {
     "data": {
      "application/vnd.jupyter.widget-view+json": {
       "model_id": "01a57b9ba13145cb81c946bd5838932c",
       "version_major": 2,
       "version_minor": 0
      },
      "text/plain": [
       "Btn(children=['Add subsubsubsubsubsubgroup'], color='green', disabled=True, width='400px')"
      ]
     },
     "metadata": {},
     "output_type": "display_data"
    },
    {
     "data": {
      "application/vnd.jupyter.widget-view+json": {
       "model_id": "31f0187c378241279eadab1aeb8814ca",
       "version_major": 2,
       "version_minor": 0
      },
      "text/plain": [
       "Select(disabled=True, items=[], label='Select the subsubsubsubsubsubgroup', outlined=True, style_='width:400px…"
      ]
     },
     "metadata": {},
     "output_type": "display_data"
    },
    {
     "data": {
      "application/vnd.jupyter.widget-view+json": {
       "model_id": "22a80b63af1742ae9e46d1254b6e213e",
       "version_major": 2,
       "version_minor": 0
      },
      "text/plain": [
       "Btn(children=['Add subsubsubsubsubsubsubgroup'], color='green', disabled=True, width='400px')"
      ]
     },
     "metadata": {},
     "output_type": "display_data"
    },
    {
     "data": {
      "application/vnd.jupyter.widget-view+json": {
       "model_id": "755b59469a1f47fca3c98f423407541e",
       "version_major": 2,
       "version_minor": 0
      },
      "text/plain": [
       "Select(disabled=True, items=[], label='Select the subsubsubsubsubsubsubgroup', outlined=True, style_='width:40…"
      ]
     },
     "metadata": {},
     "output_type": "display_data"
    },
    {
     "data": {
      "application/vnd.jupyter.widget-view+json": {
       "model_id": "92564e31b37942c6b45ee5a145e518d6",
       "version_major": 2,
       "version_minor": 0
      },
      "text/plain": [
       "Btn(children=['Add subsubsubsubsubsubsubsubgroup'], color='green', disabled=True, width='400px')"
      ]
     },
     "metadata": {},
     "output_type": "display_data"
    },
    {
     "data": {
      "application/vnd.jupyter.widget-view+json": {
       "model_id": "9804304417634cba870f3f6621542967",
       "version_major": 2,
       "version_minor": 0
      },
      "text/plain": [
       "Select(disabled=True, items=[], label='Select the subsubsubsubsubsubsubsubgroup', outlined=True, style_='width…"
      ]
     },
     "metadata": {},
     "output_type": "display_data"
    },
    {
     "data": {
      "application/vnd.jupyter.widget-view+json": {
       "model_id": "ce2d4e39ef75416898040b19d3ef1bc4",
       "version_major": 2,
       "version_minor": 0
      },
      "text/plain": [
       "Btn(children=['Add subsubsubsubsubsubsubsubsubgroup'], color='green', disabled=True, width='400px')"
      ]
     },
     "metadata": {},
     "output_type": "display_data"
    },
    {
     "data": {
      "application/vnd.jupyter.widget-view+json": {
       "model_id": "95f9637f77534c559c40b31bda5667ad",
       "version_major": 2,
       "version_minor": 0
      },
      "text/plain": [
       "Btn(children=['Reset'], color='error', style_='margin-top:20px;', width='400px')"
      ]
     },
     "metadata": {},
     "output_type": "display_data"
    },
    {
     "data": {
      "application/vnd.jupyter.widget-view+json": {
       "model_id": "958ab874230240d3919acefef4d98953",
       "version_major": 2,
       "version_minor": 0
      },
      "text/plain": [
       "Dialog(children=[Card(children=[CardTitle(children=['Name of the subgroup'], class_='headline gray lighten-2')…"
      ]
     },
     "metadata": {},
     "output_type": "display_data"
    },
    {
     "data": {
      "application/vnd.jupyter.widget-view+json": {
       "model_id": "8abc009d3e704e048563430397b4437c",
       "version_major": 2,
       "version_minor": 0
      },
      "text/plain": [
       "Dialog(children=[Card(children=[CardTitle(children=['Name of the subsubgroup'], class_='headline gray lighten-…"
      ]
     },
     "metadata": {},
     "output_type": "display_data"
    },
    {
     "data": {
      "application/vnd.jupyter.widget-view+json": {
       "model_id": "5ce28c94f20846078897a5d9e3acae1f",
       "version_major": 2,
       "version_minor": 0
      },
      "text/plain": [
       "Dialog(children=[Card(children=[CardTitle(children=['Name of the subsubsubgroup'], class_='headline gray light…"
      ]
     },
     "metadata": {},
     "output_type": "display_data"
    },
    {
     "data": {
      "application/vnd.jupyter.widget-view+json": {
       "model_id": "c51564b5a7c54491b0b2713b47c91908",
       "version_major": 2,
       "version_minor": 0
      },
      "text/plain": [
       "Dialog(children=[Card(children=[CardTitle(children=['Name of the subsubsubsubsubgroup'], class_='headline gray…"
      ]
     },
     "metadata": {},
     "output_type": "display_data"
    },
    {
     "data": {
      "application/vnd.jupyter.widget-view+json": {
       "model_id": "b388e7d8a051487d950b54577ee166fb",
       "version_major": 2,
       "version_minor": 0
      },
      "text/plain": [
       "Dialog(children=[Card(children=[CardTitle(children=['Name of the subsubsubsubsubgroup'], class_='headline gray…"
      ]
     },
     "metadata": {},
     "output_type": "display_data"
    },
    {
     "data": {
      "application/vnd.jupyter.widget-view+json": {
       "model_id": "280bcba9bfd94857a57b2d2d2770b16b",
       "version_major": 2,
       "version_minor": 0
      },
      "text/plain": [
       "Dialog(children=[Card(children=[CardTitle(children=['Name of the subsubsubsubsubgroup'], class_='headline gray…"
      ]
     },
     "metadata": {},
     "output_type": "display_data"
    },
    {
     "data": {
      "application/vnd.jupyter.widget-view+json": {
       "model_id": "b670c9785db14e838e5a7603827b1454",
       "version_major": 2,
       "version_minor": 0
      },
      "text/plain": [
       "Dialog(children=[Card(children=[CardTitle(children=['Name of the subsubsubsubsubgroup'], class_='headline gray…"
      ]
     },
     "metadata": {},
     "output_type": "display_data"
    },
    {
     "data": {
      "application/vnd.jupyter.widget-view+json": {
       "model_id": "8a8873599c1e40fea36c6132309e8aab",
       "version_major": 2,
       "version_minor": 0
      },
      "text/plain": [
       "Dialog(children=[Card(children=[CardTitle(children=['Name of the subsubsubsubsubgroup'], class_='headline gray…"
      ]
     },
     "metadata": {},
     "output_type": "display_data"
    },
    {
     "data": {
      "application/vnd.jupyter.widget-view+json": {
       "model_id": "0a8d086fdbdb4fd280eee9d8af83f59c",
       "version_major": 2,
       "version_minor": 0
      },
      "text/plain": [
       "Dialog(children=[Card(children=[CardTitle(children=['Name of the subsubsubsubsubgroup'], class_='headline gray…"
      ]
     },
     "metadata": {},
     "output_type": "display_data"
    }
   ],
   "source": [
    "\n",
    "import ipyvuetify as v\n",
    "from IPython.display import clear_output, display\n",
    "\n",
    "\n",
    "list = {\n",
    "          'id' : 1, 'name': 'Model :',\n",
    "          'children': [\n",
    "              { 'id1': 1, 'name': 'subgroup' },\n",
    "          ]\n",
    "}\n",
    "\n",
    "items = [list]\n",
    "\n",
    "subitems2 = []\n",
    "subitems3 = []\n",
    "subitems4 = []\n",
    "subitems5 = []\n",
    "subitems6 = []\n",
    "subitems7 = []\n",
    "subitems8 = []\n",
    "subitems9 = []\n",
    "\n",
    "\n",
    "\n",
    "\n",
    "sub3 = v.Select(\n",
    "    label='Select the subsubgroup',\n",
    "    items=subitems3,\n",
    "    outlined=True,\n",
    "    style_='width:400px;margin-top:20px;',\n",
    ")\n",
    "\n",
    "sub4 = v.Select(\n",
    "    label='Select the subsubsubgroup',\n",
    "    items=subitems4,\n",
    "    outlined=True,\n",
    "    style_='width:400px;margin-top:20px;',\n",
    ")\n",
    "\n",
    "sub5 = v.Select(\n",
    "    label='Select the subsubsubsubgroup',\n",
    "    items=subitems5,\n",
    "    outlined=True,\n",
    "    style_='width:400px;margin-top:20px;',\n",
    ")\n",
    "\n",
    "sub6 = v.Select(\n",
    "    label='Select the subsubsubsubsubgroup',\n",
    "    items=subitems6,\n",
    "    outlined=True,\n",
    "    style_='width:400px;margin-top:20px;',\n",
    ")\n",
    "\n",
    "sub7 = v.Select(\n",
    "    label='Select the subsubsubsubsubsubgroup',\n",
    "    items=subitems7,\n",
    "    outlined=True,\n",
    "    style_='width:400px;margin-top:20px;',\n",
    ")\n",
    "\n",
    "sub8 = v.Select(\n",
    "    label='Select the subsubsubsubsubsubsubgroup',\n",
    "    items=subitems8,\n",
    "    outlined=True,\n",
    "    style_='width:400px;margin-top:20px;',\n",
    ")\n",
    "\n",
    "\n",
    "sub9 = v.Select(\n",
    "    label='Select the subsubsubsubsubsubsubsubgroup',\n",
    "    items=subitems9,\n",
    "    outlined=True,\n",
    "    style_='width:400px;margin-top:20px;',\n",
    ")\n",
    "\n",
    "\n",
    "tree = v.Treeview(\n",
    "    open_all=True,\n",
    "    hoverable=True,\n",
    "    rounded=True,\n",
    "    items=items,\n",
    ")\n",
    "\n",
    "\n",
    "btn1 = v.Btn(\n",
    "    children=['Add subgroup'],\n",
    "    color='green',\n",
    "    width='400px',\n",
    "    style_='',\n",
    ")\n",
    "\n",
    "btn2 = v.Btn(\n",
    "    children=['Add subsubgroup'],\n",
    "    color='green',\n",
    "    width='400px',\n",
    ")\n",
    "\n",
    "btn3 = v.Btn(\n",
    "    children=['Add subsubsubgroup'],\n",
    "    color='green',\n",
    "    width='400px',\n",
    ")\n",
    "\n",
    "btn4 = v.Btn(\n",
    "    children=['Add subsubsubsubgroup'],\n",
    "    color='green',\n",
    "    width='400px',\n",
    ")\n",
    "\n",
    "btn5 = v.Btn(\n",
    "    children=['Add subsubsubsubsubgroup'],\n",
    "    color='green',\n",
    "    width='400px',\n",
    ")\n",
    "\n",
    "btn6 = v.Btn(\n",
    "    children=['Add subsubsubsubsubsubgroup'],\n",
    "    color='green',\n",
    "    width='400px',\n",
    ")\n",
    "\n",
    "btn7 = v.Btn(\n",
    "    children=['Add subsubsubsubsubsubsubgroup'],\n",
    "    color='green',\n",
    "    width='400px',\n",
    ")\n",
    "\n",
    "btn8 = v.Btn(\n",
    "    children=['Add subsubsubsubsubsubsubsubgroup'],\n",
    "    color='green',\n",
    "    width='400px',\n",
    ")\n",
    "\n",
    "btn9 = v.Btn(\n",
    "    children=['Add subsubsubsubsubsubsubsubsubgroup'],\n",
    "    color='green',\n",
    "    width='400px',\n",
    ")\n",
    "\n",
    "reset = v.Btn(\n",
    "    children=['Reset'],\n",
    "    color='error',\n",
    "    width='400px',\n",
    "    style_='margin-top:20px;'\n",
    ")\n",
    "\n",
    "def disabled():\n",
    "    initselectsub2()\n",
    "    if \"children\" in items[0]['children'][0]:\n",
    "        initselectsub3()\n",
    "        btn3.disabled=False\n",
    "        sub3.disabled=False\n",
    "        if \"children\" in items[0]['children'][0]['children'][0]:\n",
    "            initselectsub4()\n",
    "            btn4.disabled=False\n",
    "            sub4.disabled=False\n",
    "            if \"children\" in items[0]['children'][0]['children'][0]['children'][0]:\n",
    "                initselectsub5()\n",
    "                btn5.disabled=False\n",
    "                sub5.disabled=False\n",
    "                if \"children\" in items[0]['children'][0]['children'][0]['children'][0]['children'][0]:\n",
    "                    initselectsub6()\n",
    "                    btn6.disabled=False\n",
    "                    sub6.disabled=False\n",
    "                    if \"children\" in items[0]['children'][0]['children'][0]['children'][0]['children'][0]['children'][0]:\n",
    "                        initselectsub7()\n",
    "                        btn7.disabled=False\n",
    "                        sub7.disabled=False\n",
    "                        if \"children\" in items[0]['children'][0]['children'][0]['children'][0]['children'][0]['children'][0]['children'][0]:\n",
    "                            initselectsub8()\n",
    "                            btn8.disabled=False\n",
    "                            sub8.disabled=False\n",
    "\n",
    "                            if \"children\" in items[0]['children'][0]['children'][0]['children'][0]['children'][0]['children'][0]['children'][0]['children'][0]:\n",
    "                                initselectsub9()\n",
    "                                btn9.disabled=False\n",
    "                                sub9.disabled=False\n",
    "\n",
    "                            else:\n",
    "                                btn9.disabled=True\n",
    "                                sub9.disabled=True\n",
    "                        else:\n",
    "                            btn8.disabled=True\n",
    "                            btn9.disabled=True\n",
    "                            sub8.disabled=True\n",
    "                            sub9.disabled=True\n",
    "\n",
    "                    else:\n",
    "                        btn7.disabled=True\n",
    "                        btn8.disabled=True\n",
    "                        btn9.disabled=True\n",
    "                        sub7.disabled=True\n",
    "                        sub8.disabled=True\n",
    "                        sub9.disabled=True\n",
    "\n",
    "                else:\n",
    "                    btn6.disabled=True\n",
    "                    btn7.disabled=True\n",
    "                    btn8.disabled=True\n",
    "                    btn9.disabled=True\n",
    "                    sub6.disabled=True\n",
    "                    sub7.disabled=True\n",
    "                    sub8.disabled=True\n",
    "                    sub9.disabled=True\n",
    "\n",
    "            else:\n",
    "                btn5.disabled=True\n",
    "                btn6.disabled=True\n",
    "                btn7.disabled=True\n",
    "                btn8.disabled=True\n",
    "                btn9.disabled=True\n",
    "                sub5.disabled=True\n",
    "                sub6.disabled=True\n",
    "                sub7.disabled=True\n",
    "                sub8.disabled=True\n",
    "                sub9.disabled=True\n",
    "\n",
    "        else:\n",
    "            btn4.disabled=True\n",
    "            btn5.disabled=True\n",
    "            btn6.disabled=True\n",
    "            btn7.disabled=True\n",
    "            btn8.disabled=True\n",
    "            btn9.disabled=True\n",
    "            sub4.disabled=True\n",
    "            sub5.disabled=True\n",
    "            sub6.disabled=True\n",
    "            sub7.disabled=True\n",
    "            sub8.disabled=True\n",
    "            sub9.disabled=True\n",
    "\n",
    "    else:\n",
    "        btn3.disabled=True\n",
    "        btn4.disabled=True\n",
    "        btn5.disabled=True\n",
    "        btn6.disabled=True\n",
    "        btn7.disabled=True\n",
    "        btn8.disabled=True\n",
    "        btn9.disabled=True\n",
    "        sub3.disabled=True\n",
    "        sub4.disabled=True\n",
    "        sub5.disabled=True\n",
    "        sub6.disabled=True\n",
    "        sub7.disabled=True\n",
    "        sub8.disabled=True\n",
    "        sub9.disabled=True\n",
    "\n",
    "\n",
    "id1 = 2\n",
    "id2 = 1\n",
    "id3 = 1\n",
    "id4 = 1\n",
    "id5 = 1\n",
    "id6 = 1\n",
    "id7 = 1\n",
    "id8 = 1\n",
    "id9 = 1\n",
    "\n",
    "\n",
    "def add1(event, widget, data):\n",
    "    clear_output()\n",
    "    Dialog1.v_model = not Dialog1.v_model\n",
    "    dict = {}\n",
    "    global id1\n",
    "    name = textfield.v_model\n",
    "    for variable in [\"id1\", \"name\"]:\n",
    "        dict[variable] = eval(variable)\n",
    "    items[0]['children'] += [dict]\n",
    "    tree = v.Treeview(\n",
    "        open_all=True,\n",
    "        hoverable=True,\n",
    "        rounded=True,\n",
    "        items=items,\n",
    "    )\n",
    "    disabled()\n",
    "    display(tree)\n",
    "    display(btn1,sub2,btn2,sub3,btn3,sub4,btn4,sub5,btn5,sub6,btn6,sub7,btn7,sub8,btn8,sub9,btn9,reset)\n",
    "    display(Dialog1,Dialog2,Dialog3,Dialog4,Dialog5,Dialog6,Dialog7,Dialog8,Dialog9)\n",
    "\n",
    "def add2(event, widget, data):\n",
    "    clear_output()\n",
    "    Dialog2.v_model = not Dialog2.v_model\n",
    "    dict = {}\n",
    "    global id2\n",
    "    name = textfield.v_model\n",
    "    for variable in [\"id2\", \"name\"]:\n",
    "        dict[variable] = eval(variable)\n",
    "    if \"children\" in items[0]['children'][0]:\n",
    "            items[0]['children'][indexadd2]['children'] += [dict]\n",
    "    else:\n",
    "            items[0]['children'][indexadd2]['children'] = [dict]\n",
    "    print(items)\n",
    "    tree = v.Treeview(\n",
    "        open_all=True,\n",
    "        hoverable=True,\n",
    "        rounded=True,\n",
    "        items=items,\n",
    "    )\n",
    "    disabled()\n",
    "    display(tree)\n",
    "    display(btn1,sub2,btn2,sub3,btn3,sub4,btn4,sub5,btn5,sub6,btn6,sub7,btn7,sub8,btn8,sub9,btn9,reset)\n",
    "    display(Dialog1,Dialog2,Dialog3,Dialog4,Dialog5,Dialog6,Dialog7,Dialog8,Dialog9)\n",
    "\n",
    "def add3(event, widget, data):\n",
    "    clear_output()\n",
    "    Dialog3.v_model = not Dialog3.v_model\n",
    "    dict = {}\n",
    "    global id3\n",
    "    name = textfield.v_model\n",
    "    for variable in [\"id3\", \"name\"]:\n",
    "        dict[variable] = eval(variable)\n",
    "    if \"children\" in items[0]['children'][0]['children'][0]:\n",
    "            items[0]['children'][0]['children'][0]['children'] += [dict]\n",
    "    else:\n",
    "            items[0]['children'][0]['children'][0]['children'] = [dict]\n",
    "    tree = v.Treeview(\n",
    "        open_all=True,\n",
    "        hoverable=True,\n",
    "        rounded=True,\n",
    "        items=items,\n",
    "    )\n",
    "    disabled()\n",
    "    display(tree)\n",
    "    display(btn1,sub2,btn2,sub3,btn3,sub4,btn4,sub5,btn5,sub6,btn6,sub7,btn7,sub8,btn8,sub9,btn9,reset)\n",
    "    display(Dialog1,Dialog2,Dialog3,Dialog4,Dialog5,Dialog6,Dialog7,Dialog8,Dialog9)\n",
    "\n",
    "\n",
    "def add4(event, widget, data):\n",
    "    clear_output()\n",
    "    Dialog4.v_model = not Dialog4.v_model\n",
    "    dict = {}\n",
    "    global id4\n",
    "    name = textfield.v_model\n",
    "    for variable in [\"id4\", \"name\"]:\n",
    "        dict[variable] = eval(variable)\n",
    "    if \"children\" in items[0]['children'][0]['children'][0]['children'][0]:\n",
    "            items[0]['children'][0]['children'][0]['children'][0]['children'] += [dict]\n",
    "    else:\n",
    "            items[0]['children'][0]['children'][0]['children'][0]['children'] = [dict]\n",
    "    tree = v.Treeview(\n",
    "        open_all=True,\n",
    "        hoverable=True,\n",
    "        rounded=True,\n",
    "        items=items,\n",
    "    )\n",
    "    disabled()\n",
    "    display(tree)\n",
    "    display(btn1,sub2,btn2,sub3,btn3,sub4,btn4,sub5,btn5,sub6,btn6,sub7,btn7,sub8,btn8,sub9,btn9,reset)\n",
    "    display(Dialog1,Dialog2,Dialog3,Dialog4,Dialog5,Dialog6,Dialog7,Dialog8,Dialog9)\n",
    "\n",
    "\n",
    "def add5(event, widget, data):\n",
    "    clear_output()\n",
    "    Dialog5.v_model = not Dialog5.v_model\n",
    "    dict = {}\n",
    "    global id5\n",
    "    name = textfield.v_model\n",
    "    for variable in [\"id5\", \"name\"]:\n",
    "        dict[variable] = eval(variable)\n",
    "    if \"children\" in items[0]['children'][0]['children'][0]['children'][0]['children'][0]:\n",
    "            items[0]['children'][0]['children'][0]['children'][0]['children'][0]['children'] += [dict]\n",
    "    else:\n",
    "            items[0]['children'][0]['children'][0]['children'][0]['children'][0]['children'] = [dict]\n",
    "    tree = v.Treeview(\n",
    "        open_all=True,\n",
    "        hoverable=True,\n",
    "        rounded=True,\n",
    "        items=items,\n",
    "    )\n",
    "    disabled()\n",
    "    display(tree)\n",
    "    display(btn1,sub2,btn2,sub3,btn3,sub4,btn4,sub5,btn5,sub6,btn6,sub7,btn7,sub8,btn8,sub9,btn9,reset)\n",
    "    display(Dialog1,Dialog2,Dialog3,Dialog4,Dialog5,Dialog6,Dialog7,Dialog8,Dialog9)\n",
    "\n",
    "\n",
    "def add6(event, widget, data):\n",
    "    clear_output()\n",
    "    Dialog6.v_model = not Dialog6.v_model\n",
    "    dict = {}\n",
    "    global id6\n",
    "    name = textfield.v_model\n",
    "    for variable in [\"id6\", \"name\"]:\n",
    "        dict[variable] = eval(variable)\n",
    "    if \"children\" in items[0]['children'][0]['children'][0]['children'][0]['children'][0]['children'][0]:\n",
    "            items[0]['children'][0]['children'][0]['children'][0]['children'][0]['children'][0]['children'] += [dict]\n",
    "    else:\n",
    "            items[0]['children'][0]['children'][0]['children'][0]['children'][0]['children'][0]['children'] = [dict]\n",
    "    tree = v.Treeview(\n",
    "        open_all=True,\n",
    "        hoverable=True,\n",
    "        rounded=True,\n",
    "        items=items,\n",
    "    )\n",
    "    disabled()\n",
    "    display(tree)\n",
    "    display(btn1,sub2,btn2,sub3,btn3,sub4,btn4,sub5,btn5,sub6,btn6,sub7,btn7,sub8,btn8,sub9,btn9,reset)\n",
    "    display(Dialog1,Dialog2,Dialog3,Dialog4,Dialog5,Dialog6,Dialog7,Dialog8,Dialog9)\n",
    "\n",
    "\n",
    "def add7(event, widget, data):\n",
    "    clear_output()\n",
    "    Dialog7.v_model = not Dialog7.v_model\n",
    "    dict = {}\n",
    "    global id7\n",
    "    name = textfield.v_model\n",
    "    for variable in [\"id7\", \"name\"]:\n",
    "        dict[variable] = eval(variable)\n",
    "    if \"children\" in items[0]['children'][0]['children'][0]['children'][0]['children'][0]['children'][0]['children'][0]:\n",
    "            items[0]['children'][0]['children'][0]['children'][0]['children'][0]['children'][0]['children'][0]['children'] += [dict]\n",
    "    else:\n",
    "            items[0]['children'][0]['children'][0]['children'][0]['children'][0]['children'][0]['children'][0]['children'] = [dict]\n",
    "    tree = v.Treeview(\n",
    "        open_all=True,\n",
    "        hoverable=True,\n",
    "        rounded=True,\n",
    "        items=items,\n",
    "    )\n",
    "    disabled()\n",
    "    display(tree)\n",
    "    display(btn1,sub2,btn2,sub3,btn3,sub4,btn4,sub5,btn5,sub6,btn6,sub7,btn7,sub8,btn8,sub9,btn9,reset)\n",
    "    display(Dialog1,Dialog2,Dialog3,Dialog4,Dialog5,Dialog6,Dialog7,Dialog8,Dialog9)\n",
    "\n",
    "\n",
    "def add8(event, widget, data):\n",
    "    clear_output()\n",
    "    Dialog8.v_model = not Dialog8.v_model\n",
    "    dict = {}\n",
    "    global id8\n",
    "    name = textfield.v_model\n",
    "    for variable in [\"id8\", \"name\"]:\n",
    "        dict[variable] = eval(variable)\n",
    "    if \"children\" in items[0]['children'][0]['children'][0]['children'][0]['children'][0]['children'][0]['children'][0]['children'][0]:\n",
    "            items[0]['children'][0]['children'][0]['children'][0]['children'][0]['children'][0]['children'][0]['children'][0]['children'] += [dict]\n",
    "    else:\n",
    "            items[0]['children'][0]['children'][0]['children'][0]['children'][0]['children'][0]['children'][0]['children'][0]['children'] = [dict]\n",
    "    tree = v.Treeview(\n",
    "        open_all=True,\n",
    "        hoverable=True,\n",
    "        rounded=True,\n",
    "        items=items,\n",
    "    )\n",
    "    disabled()\n",
    "    display(tree)\n",
    "    display(btn1,sub2,btn2,sub3,btn3,sub4,btn4,sub5,btn5,sub6,btn6,sub7,btn7,sub8,btn8,sub9,btn9,reset)\n",
    "    display(Dialog1,Dialog2,Dialog3,Dialog4,Dialog5,Dialog6,Dialog7,Dialog8,Dialog9)\n",
    "\n",
    "\n",
    "def add9(event, widget, data):\n",
    "    clear_output()\n",
    "    Dialog9.v_model = not Dialog9.v_model\n",
    "    dict = {}\n",
    "    global id9\n",
    "    name = textfield.v_model\n",
    "    for variable in [\"id9\", \"name\"]:\n",
    "        dict[variable] = eval(variable)\n",
    "    if \"children\" in items[0]['children'][0]['children'][0]['children'][0]['children'][0]['children'][0]['children'][0]['children'][0]['children'][0]:\n",
    "            items[0]['children'][0]['children'][0]['children'][0]['children'][0]['children'][0]['children'][0]['children'][0]['children'][0]['children'] += [dict]\n",
    "    else:\n",
    "            items[0]['children'][0]['children'][0]['children'][0]['children'][0]['children'][0]['children'][0]['children'][0]['children'][0]['children'] = [dict]\n",
    "    tree = v.Treeview(\n",
    "        open_all=True,\n",
    "        hoverable=True,\n",
    "        rounded=True,\n",
    "        items=items,\n",
    "    )\n",
    "    disabled()\n",
    "    display(tree)\n",
    "    display(btn1,sub2,btn2,sub3,btn3,sub4,btn4,sub5,btn5,sub6,btn6,sub7,btn7,sub8,btn8,sub9,btn9,reset)\n",
    "    display(Dialog1,Dialog2,Dialog3,Dialog4,Dialog5,Dialog6,Dialog7,Dialog8,Dialog9)\n",
    "\n",
    "\n",
    "btnadd1 = v.Btn(\n",
    "    children=['Add'],\n",
    "    color='green',\n",
    "    style_='width:200px;margin-left:10px;margin-bottom:10px;'\n",
    ")\n",
    "\n",
    "btnadd2 = v.Btn(\n",
    "    children=['Add'],\n",
    "    color='green',\n",
    "    style_='width:200px;margin-left:10px;margin-bottom:10px;'\n",
    ")\n",
    "\n",
    "btnadd3 = v.Btn(\n",
    "    children=['Add'],\n",
    "    color='green',\n",
    "    style_='width:200px;margin-left:10px;margin-bottom:10px;'\n",
    ")\n",
    "\n",
    "btnadd4 = v.Btn(\n",
    "    children=['Add'],\n",
    "    color='green',\n",
    "    style_='width:200px;margin-left:10px;margin-bottom:10px;'\n",
    ")\n",
    "\n",
    "btnadd5 = v.Btn(\n",
    "    children=['Add'],\n",
    "    color='green',\n",
    "    style_='width:200px;margin-left:10px;margin-bottom:10px;'\n",
    ")\n",
    "\n",
    "btnadd6 = v.Btn(\n",
    "    children=['Add'],\n",
    "    color='green',\n",
    "    style_='width:200px;margin-left:10px;margin-bottom:10px;'\n",
    ")\n",
    "\n",
    "btnadd7 = v.Btn(\n",
    "    children=['Add'],\n",
    "    color='green',\n",
    "    style_='width:200px;margin-left:10px;margin-bottom:10px;'\n",
    ")\n",
    "\n",
    "btnadd8 = v.Btn(\n",
    "    children=['Add'],\n",
    "    color='green',\n",
    "    style_='width:200px;margin-left:10px;margin-bottom:10px;'\n",
    ")\n",
    "\n",
    "btnadd9 = v.Btn(\n",
    "    children=['Add'],\n",
    "    color='green',\n",
    "    style_='width:200px;margin-left:10px;margin-bottom:10px;'\n",
    ")\n",
    "\n",
    "\n",
    "def initselectsub2():\n",
    "    global subitems2\n",
    "    subitems2 = []\n",
    "    for i in list['children']:\n",
    "        subitems2.append(i['name'])\n",
    "    global sub2\n",
    "    sub2 = v.Select(\n",
    "        label='Select the subgroup',\n",
    "        items=subitems2,\n",
    "        outlined=True,\n",
    "        style_='width:400px;margin-top:20px;',\n",
    "    )\n",
    "    def onchange(widget, event, data):\n",
    "        global indexadd2\n",
    "        if data == list['children'][0]['name']:\n",
    "            indexadd2 = 0\n",
    "            return indexadd2\n",
    "        elif data == list['children'][1]['name']:\n",
    "            indexadd2 = 1\n",
    "            return indexadd2\n",
    "        elif data == list['children'][2]['name']:\n",
    "            indexadd2 = 2\n",
    "            return indexadd2\n",
    "        elif data == list['children'][3]['name']:\n",
    "            indexadd2 = 3\n",
    "            return indexadd2\n",
    "        elif data == list['children'][4]['name']:\n",
    "            indexadd2 = 4\n",
    "            return indexadd2\n",
    "        elif data == list['children'][5]['name']:\n",
    "            indexadd2 = 5\n",
    "            return indexadd2\n",
    "        elif data == list['children'][6]['name']:\n",
    "            indexadd2 = 6\n",
    "            return indexadd2\n",
    "        elif data == list['children'][7]['name']:\n",
    "            indexadd2 = 7\n",
    "            return indexadd2\n",
    "        elif data == list['children'][8]['name']:\n",
    "            indexadd2 = 8\n",
    "            return indexadd2\n",
    "        elif data == list['children'][9]['name']:\n",
    "            indexadd2 = 9\n",
    "            return indexadd2\n",
    "\n",
    "\n",
    "    sub2.on_event('change', onchange)\n",
    "\n",
    "def initselectsub3():\n",
    "    global subitems3\n",
    "    subitems3 = []\n",
    "    if \"children\" in items[0]['children'][0]:\n",
    "        for i in list['children'][0]['children']:\n",
    "            subitems3.append(i['name'])\n",
    "    global sub3\n",
    "    sub3 = v.Select(\n",
    "        label='Select the subsubgroup',\n",
    "        items=subitems3,\n",
    "        outlined=True,\n",
    "        style_='width:400px;margin-top:20px;',\n",
    "    )\n",
    "    def onchange(widget, event, data):\n",
    "        global indexadd3\n",
    "        if data == list['children'][0]['children'][0]['name']:\n",
    "            indexadd3 = 0\n",
    "            return indexadd3\n",
    "        elif data == list['children'][1]['children'][0]['name']:\n",
    "            indexadd3 = 1\n",
    "            return indexadd3\n",
    "        elif data == list['children'][2]['name']:\n",
    "            indexadd3 = 2\n",
    "            return indexadd3\n",
    "        elif data == list['children'][3]['name']:\n",
    "            indexadd3 = 3\n",
    "            return indexadd3\n",
    "        elif data == list['children'][4]['name']:\n",
    "            indexadd3 = 4\n",
    "            return indexadd3\n",
    "        elif data == list['children'][5]['name']:\n",
    "            indexadd3 = 5\n",
    "            return indexadd3\n",
    "        elif data == list['children'][6]['name']:\n",
    "            indexadd3 = 6\n",
    "            return indexadd3\n",
    "        elif data == list['children'][7]['name']:\n",
    "            indexadd3 = 7\n",
    "            return indexadd3\n",
    "        elif data == list['children'][8]['name']:\n",
    "            indexadd3 = 8\n",
    "            return indexadd3\n",
    "        elif data == list['children'][9]['name']:\n",
    "            indexadd3 = 9\n",
    "            return indexadd3\n",
    "\n",
    "\n",
    "    sub2.on_event('change', onchange)\n",
    "\n",
    "def initselectsub4():\n",
    "    global subitems4\n",
    "    subitems4 = []\n",
    "    if \"children\" in items[0]['children'][0]['children'][0]:\n",
    "        for i in list['children'][0]['children'][0]['children']:\n",
    "            subitems4.append(i['name'])\n",
    "    global sub4\n",
    "    sub4 = v.Select(\n",
    "        label='Select the subsubsubgroup',\n",
    "        items=subitems4,\n",
    "        outlined=True,\n",
    "        style_='width:400px;margin-top:20px;',\n",
    "    )\n",
    "\n",
    "def initselectsub5():\n",
    "    global subitems5\n",
    "    subitems5 = []\n",
    "    if \"children\" in items[0]['children'][0]['children'][0]['children'][0]:\n",
    "        for i in list['children'][0]['children'][0]['children'][0]['children']:\n",
    "            subitems5.append(i['name'])\n",
    "    global sub5\n",
    "    sub5 = v.Select(\n",
    "        label='Select the subsubsubsubgroup',\n",
    "        items=subitems5,\n",
    "        outlined=True,\n",
    "        style_='width:400px;margin-top:20px;',\n",
    "    )\n",
    "\n",
    "def initselectsub6():\n",
    "    global subitems6\n",
    "    subitems6 = []\n",
    "    if \"children\" in items[0]['children'][0]['children'][0]['children'][0]['children'][0]:\n",
    "        for i in list['children'][0]['children'][0]['children'][0]['children'][0]['children']:\n",
    "            subitems6.append(i['name'])\n",
    "    global sub6\n",
    "    sub6 = v.Select(\n",
    "        label='Select the subsubsubsubsubgroup',\n",
    "        items=subitems6,\n",
    "        outlined=True,\n",
    "        style_='width:400px;margin-top:20px;',\n",
    "    )\n",
    "\n",
    "def initselectsub7():\n",
    "    global subitems7\n",
    "    subitems7 = []\n",
    "    if \"children\" in items[0]['children'][0]['children'][0]['children'][0]['children'][0]['children'][0]:\n",
    "        for i in list['children'][0]['children'][0]['children'][0]['children'][0]['children'][0]['children']:\n",
    "            subitems7.append(i['name'])\n",
    "    global sub7\n",
    "    sub7 = v.Select(\n",
    "        label='Select the subsubsubsubsubsubgroup',\n",
    "        items=subitems7,\n",
    "        outlined=True,\n",
    "        style_='width:400px;margin-top:20px;',\n",
    "    )\n",
    "\n",
    "def initselectsub8():\n",
    "    global subitems8\n",
    "    subitems8 = []\n",
    "    if \"children\" in items[0]['children'][0]['children'][0]['children'][0]['children'][0]['children'][0]['children'][0]:\n",
    "        for i in list['children'][0]['children'][0]['children'][0]['children'][0]['children'][0]['children'][0]['children']:\n",
    "            subitems8.append(i['name'])\n",
    "    global sub8\n",
    "    sub8 = v.Select(\n",
    "        label='Select the subsubsubsubsubsubsubgroup',\n",
    "        items=subitems8,\n",
    "        outlined=True,\n",
    "        style_='width:400px;margin-top:20px;',\n",
    "    )\n",
    "\n",
    "def initselectsub9():\n",
    "    global subitems9\n",
    "    subitems9 = []\n",
    "    if \"children\" in items[0]['children'][0]['children'][0]['children'][0]['children'][0]['children'][0]['children'][0]['children'][0]:\n",
    "        for i in list['children'][0]['children'][0]['children'][0]['children'][0]['children'][0]['children'][0]['children'][0]['children']:\n",
    "            subitems9.append(i['name'])\n",
    "    global sub9\n",
    "    sub9 = v.Select(\n",
    "        label='Select the subsubsubsubsubsubsubsubgroup',\n",
    "        items=subitems9,\n",
    "        outlined=True,\n",
    "        style_='width:400px;margin-top:20px;',\n",
    "    )\n",
    "\n",
    "\n",
    "\n",
    "disabled()\n",
    "\n",
    "\n",
    "textfield = v.TextField(\n",
    "    v_model='',\n",
    "    outlined=True,\n",
    "    label='Subgroup name',\n",
    "    style_='width:400px;margin-left:10px;margin-top:20px;',\n",
    ")\n",
    "\n",
    "usesolver = v.Checkbox(\n",
    "    v_model=False,\n",
    "    label='Use solver',\n",
    "    style_='margin-left:10px;margin-bottom:20px;',\n",
    ")\n",
    "\n",
    "\n",
    "Dialog1 = v.Dialog(\n",
    "    v_model=False,\n",
    "    width='800px',\n",
    "    children=[\n",
    "        v.Card(elevation='5', children=[\n",
    "            v.CardTitle(class_='headline gray lighten-2', primary_title=True,\n",
    "                        children=[\"Name of the subgroup\"]),\n",
    "            textfield,\n",
    "            usesolver,\n",
    "            btnadd1,\n",
    "        ])\n",
    "])\n",
    "\n",
    "Dialog2 = v.Dialog(\n",
    "    v_model=False,\n",
    "    width='800px',\n",
    "    children=[\n",
    "        v.Card(elevation='5', children=[\n",
    "            v.CardTitle(class_='headline gray lighten-2', primary_title=True,\n",
    "                        children=[\"Name of the subsubgroup\"]),\n",
    "            textfield,\n",
    "            usesolver,\n",
    "            btnadd2,\n",
    "        ])\n",
    "])\n",
    "\n",
    "\n",
    "Dialog3 = v.Dialog(\n",
    "    v_model=False,\n",
    "    width='800px',\n",
    "    children=[\n",
    "        v.Card(elevation='5', children=[\n",
    "            v.CardTitle(class_='headline gray lighten-2', primary_title=True,\n",
    "                        children=[\"Name of the subsubsubgroup\"]),\n",
    "            textfield,\n",
    "            usesolver,\n",
    "            btnadd3,\n",
    "        ])\n",
    "])\n",
    "\n",
    "\n",
    "Dialog4 = v.Dialog(\n",
    "    v_model=False,\n",
    "    width='800px',\n",
    "    children=[\n",
    "        v.Card(elevation='5', children=[\n",
    "            v.CardTitle(class_='headline gray lighten-2', primary_title=True,\n",
    "                        children=[\"Name of the subsubsubsubsubgroup\"]),\n",
    "            textfield,\n",
    "            usesolver,\n",
    "            btnadd4,\n",
    "        ])\n",
    "])\n",
    "\n",
    "\n",
    "Dialog5 = v.Dialog(\n",
    "    v_model=False,\n",
    "    width='800px',\n",
    "    children=[\n",
    "        v.Card(elevation='5', children=[\n",
    "            v.CardTitle(class_='headline gray lighten-2', primary_title=True,\n",
    "                        children=[\"Name of the subsubsubsubsubgroup\"]),\n",
    "            textfield,\n",
    "            usesolver,\n",
    "            btnadd5,\n",
    "        ])\n",
    "])\n",
    "\n",
    "\n",
    "Dialog6 = v.Dialog(\n",
    "    v_model=False,\n",
    "    width='800px',\n",
    "    children=[\n",
    "        v.Card(elevation='5', children=[\n",
    "            v.CardTitle(class_='headline gray lighten-2', primary_title=True,\n",
    "                        children=[\"Name of the subsubsubsubsubgroup\"]),\n",
    "            textfield,\n",
    "            usesolver,\n",
    "            btnadd6,\n",
    "        ])\n",
    "])\n",
    "\n",
    "Dialog7 = v.Dialog(\n",
    "    v_model=False,\n",
    "    width='800px',\n",
    "    children=[\n",
    "        v.Card(elevation='5', children=[\n",
    "            v.CardTitle(class_='headline gray lighten-2', primary_title=True,\n",
    "                        children=[\"Name of the subsubsubsubsubgroup\"]),\n",
    "            textfield,\n",
    "            usesolver,\n",
    "            btnadd7,\n",
    "        ])\n",
    "])\n",
    "\n",
    "Dialog8 = v.Dialog(\n",
    "    v_model=False,\n",
    "    width='800px',\n",
    "    children=[\n",
    "        v.Card(elevation='5', children=[\n",
    "            v.CardTitle(class_='headline gray lighten-2', primary_title=True,\n",
    "                        children=[\"Name of the subsubsubsubsubgroup\"]),\n",
    "            textfield,\n",
    "            usesolver,\n",
    "            btnadd8,\n",
    "        ])\n",
    "])\n",
    "\n",
    "Dialog9 = v.Dialog(\n",
    "    v_model=False,\n",
    "    width='800px',\n",
    "    children=[\n",
    "        v.Card(elevation='5', children=[\n",
    "            v.CardTitle(class_='headline gray lighten-2', primary_title=True,\n",
    "                        children=[\"Name of the subsubsubsubsubgroup\"]),\n",
    "            textfield,\n",
    "            usesolver,\n",
    "            btnadd9,\n",
    "        ])\n",
    "])\n",
    "\n",
    "\n",
    "def toggle_dialog(widget, event, data):\n",
    "    subitems = []\n",
    "    global list\n",
    "    if widget.children == ['Add subgroup']:\n",
    "        Dialog1.v_model = not Dialog1.v_model\n",
    "    if widget.children == ['Add subsubgroup']:\n",
    "        Dialog2.v_model = not Dialog2.v_model\n",
    "    if widget.children == ['Add subsubsubgroup']:\n",
    "        Dialog3.v_model = not Dialog3.v_model\n",
    "    if widget.children == ['Add subsubsubsubgroup']:\n",
    "        Dialog4.v_model = not Dialog4.v_model\n",
    "    if widget.children == ['Add subsubsubsubsubgroup']:\n",
    "        Dialog5.v_model = not Dialog5.v_model\n",
    "    if widget.children == ['Add subsubsubsubsubsubgroup']:\n",
    "        Dialog6.v_model = not Dialog6.v_model\n",
    "    if widget.children == ['Add subsubsubsubsubsubsubgroup']:\n",
    "        Dialog7.v_model = not Dialog7.v_model\n",
    "    if widget.children == ['Add subsubsubsubsubsubsubsubgroup']:\n",
    "        Dialog8.v_model = not Dialog8.v_model\n",
    "    if widget.children == ['Add subsubsubsubsubsubsubsubsubgroup']:\n",
    "        Dialog9.v_model = not Dialog9.v_model\n",
    "\n",
    "\n",
    "def error_reset(widget, event, data):\n",
    "    clear_output()\n",
    "    display(tree)\n",
    "    display(btn1,btn2,btn3,btn4,btn5,btn6,btn7,btn8,btn9,reset)\n",
    "    display(Dialog1,Dialog2,Dialog3,Dialog4,Dialog5,Dialog6,Dialog7,Dialog8,Dialog9)\n",
    "\n",
    "\n",
    "\n",
    "btn1.on_event(\"click\", toggle_dialog)\n",
    "btn2.on_event(\"click\", toggle_dialog)\n",
    "btn3.on_event(\"click\", toggle_dialog)\n",
    "btn4.on_event(\"click\", toggle_dialog)\n",
    "btn5.on_event(\"click\", toggle_dialog)\n",
    "btn6.on_event(\"click\", toggle_dialog)\n",
    "btn7.on_event(\"click\", toggle_dialog)\n",
    "btn8.on_event(\"click\", toggle_dialog)\n",
    "btn9.on_event(\"click\", toggle_dialog)\n",
    "reset.on_event(\"click\", error_reset)\n",
    "\n",
    "\n",
    "btnadd1.on_event(\"click\", add1)\n",
    "btnadd2.on_event(\"click\", add2)\n",
    "btnadd3.on_event(\"click\", add3)\n",
    "btnadd4.on_event(\"click\", add4)\n",
    "btnadd5.on_event(\"click\", add5)\n",
    "btnadd6.on_event(\"click\", add6)\n",
    "btnadd7.on_event(\"click\", add7)\n",
    "btnadd8.on_event(\"click\", add8)\n",
    "btnadd9.on_event(\"click\", add9)\n",
    "\n",
    "\n",
    "display(tree)\n",
    "display(btn1,sub2,btn2,sub3,btn3,sub4,btn4,sub5,btn5,sub6,btn6,sub7,btn7,sub8,btn8,sub9,btn9,reset)\n",
    "display(Dialog1,Dialog2,Dialog3,Dialog4,Dialog5,Dialog6,Dialog7,Dialog8,Dialog9)"
   ]
  }
 ],
 "metadata": {
  "kernelspec": {
   "display_name": "Python 3",
   "language": "python",
   "name": "python3"
  },
  "language_info": {
   "codemirror_mode": {
    "name": "ipython",
    "version": 3
   },
   "file_extension": ".py",
   "mimetype": "text/x-python",
   "name": "python",
   "nbconvert_exporter": "python",
   "pygments_lexer": "ipython3",
   "version": "3.8.8"
  }
 },
 "nbformat": 4,
 "nbformat_minor": 1
}