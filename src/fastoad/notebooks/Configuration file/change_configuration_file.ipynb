{
 "cells": [
  {
   "cell_type": "markdown",
   "metadata": {
    "pycharm": {
     "name": "#%% md\n"
    }
   },
   "source": [
    "<div class=\"row\">\n",
    "  <div class=\"column\">\n",
    "    <img src=\"./img/logo-onera.png\" width=\"200\">\n",
    "  </div>\n",
    "  <div class=\"column\">\n",
    "    <img src=\"./img/logo-ISAE_SUPAERO.png\" width=\"200\">\n",
    "  </div>\n",
    "</div>"
   ]
  },
  {
   "cell_type": "markdown",
   "metadata": {
    "pycharm": {
     "name": "#%% md\n"
    }
   },
   "source": [
    "# Change the configuration file"
   ]
  },
  {
   "cell_type": "markdown",
   "metadata": {},
   "source": [
    "Generate the configuration file"
   ]
  },
  {
   "cell_type": "code",
   "execution_count": 1,
   "metadata": {
    "pycharm": {
     "name": "#%%\n"
    }
   },
   "outputs": [
    {
     "name": "stdout",
     "output_type": "stream",
     "text": [
      "Unable to import mpi4py. Parallel processing unavailable.\n",
      "Unable to import petsc4py. Parallel processing unavailable.\n",
      "Unable to import petsc4py. Parallel processing unavailable.\n"
     ]
    },
    {
     "data": {
      "text/html": [
       "<style>.container { width:95% !important; }</style>"
      ],
      "text/plain": [
       "<IPython.core.display.HTML object>"
      ]
     },
     "metadata": {},
     "output_type": "display_data"
    },
    {
     "name": "stderr",
     "output_type": "stream",
     "text": [
      "INFO    : Sample configuration written in workdir\\oad_process.yml\n"
     ]
    },
    {
     "data": {
      "text/plain": [
       "<fastoad.change_files.generate_files.GenerateFiles at 0x678c928>"
      ]
     },
     "execution_count": 1,
     "metadata": {},
     "output_type": "execute_result"
    }
   ],
   "source": [
    "from fastoad.change_files.generate_files import GenerateFiles\n",
    "\n",
    "GenerateFiles()"
   ]
  },
  {
   "cell_type": "markdown",
   "metadata": {
    "pycharm": {
     "name": "#%% md\n"
    }
   },
   "source": [
    "Change the configuration file"
   ]
  },
  {
   "cell_type": "code",
   "execution_count": 2,
   "metadata": {
    "scrolled": false
   },
   "outputs": [
    {
     "data": {
      "application/vnd.jupyter.widget-view+json": {
       "model_id": "7e22379a93a049eb9b3790355f006b00",
       "version_major": 2,
       "version_minor": 0
      },
      "text/plain": [
       "TextField(clearable=True, label='Title :', outlined=True, style_='margin-top:20px', v_model='Sample OAD Proces…"
      ]
     },
     "metadata": {},
     "output_type": "display_data"
    },
    {
     "data": {
      "application/vnd.jupyter.widget-view+json": {
       "model_id": "c407e665921f41ba96b9355265d2f02f",
       "version_major": 2,
       "version_minor": 0
      },
      "text/plain": [
       "TextField(clearable=True, label='Input_file :', outlined=True, style_='margin-top:5px', suffix='.yml', v_model…"
      ]
     },
     "metadata": {},
     "output_type": "display_data"
    },
    {
     "data": {
      "application/vnd.jupyter.widget-view+json": {
       "model_id": "2683a8c75c13449fbd28e754d62e2940",
       "version_major": 2,
       "version_minor": 0
      },
      "text/plain": [
       "TextField(clearable=True, label='Output_file :', outlined=True, style_='margin-top:5px', suffix='.yml', v_mode…"
      ]
     },
     "metadata": {},
     "output_type": "display_data"
    },
    {
     "data": {
      "application/vnd.jupyter.widget-view+json": {
       "model_id": "fd24113e587b49f78ca601277ee48176",
       "version_major": 2,
       "version_minor": 0
      },
      "text/plain": [
       "ExpansionPanels(children=[ExpansionPanel(children=[ExpansionPanelHeader(children=['Driver'], color='#eaeaea', …"
      ]
     },
     "metadata": {},
     "output_type": "display_data"
    },
    {
     "data": {
      "application/vnd.jupyter.widget-view+json": {
       "model_id": "8625d8c8f1dc44c0b3354b5a4c7c26e8",
       "version_major": 2,
       "version_minor": 0
      },
      "text/plain": [
       "TextField(label='Name :', outlined=True, readonly=True, style_='margin-top:20px', v_model='model')"
      ]
     },
     "metadata": {},
     "output_type": "display_data"
    },
    {
     "data": {
      "application/vnd.jupyter.widget-view+json": {
       "model_id": "ca7de2d0c41043fb8080cc9856bb80c0",
       "version_major": 2,
       "version_minor": 0
      },
      "text/plain": [
       "Checkbox(label='Use solver', style_='margin-bottom:10px', v_model=True)"
      ]
     },
     "metadata": {},
     "output_type": "display_data"
    },
    {
     "data": {
      "application/vnd.jupyter.widget-view+json": {
       "model_id": "93e800f8addc4dd99bf22286e81e57e4",
       "version_major": 2,
       "version_minor": 0
      },
      "text/plain": [
       "ExpansionPanels(children=[ExpansionPanel(children=[ExpansionPanelHeader(children=['Linear Solver'], color='#ea…"
      ]
     },
     "metadata": {},
     "output_type": "display_data"
    },
    {
     "data": {
      "application/vnd.jupyter.widget-view+json": {
       "model_id": "9f9fafcb892340778bbcdb1dde02ab5c",
       "version_major": 2,
       "version_minor": 0
      },
      "text/plain": [
       "ExpansionPanels(children=[ExpansionPanel(children=[ExpansionPanelHeader(children=['Nonlinear Solver'], color='…"
      ]
     },
     "metadata": {},
     "output_type": "display_data"
    },
    {
     "data": {
      "application/vnd.jupyter.widget-view+json": {
       "model_id": "973a63c39e2243d09083e48e79a79d7a",
       "version_major": 2,
       "version_minor": 0
      },
      "text/plain": [
       "Html(children=[Btn(children=['Add subgroup'], color='blue', elevation=4.0, outlined=True, style_='width:240px'…"
      ]
     },
     "metadata": {},
     "output_type": "display_data"
    },
    {
     "data": {
      "application/vnd.jupyter.widget-view+json": {
       "model_id": "0bd591fa6c484e08bbff6e878a85aa8e",
       "version_major": 2,
       "version_minor": 0
      },
      "text/plain": [
       "Btn(children=[Icon(children=['get_app']), 'Save'], color='blue', elevation=4.0, outlined=True, style_='width:1…"
      ]
     },
     "metadata": {},
     "output_type": "display_data"
    },
    {
     "data": {
      "application/vnd.jupyter.widget-view+json": {
       "model_id": "df24cb582b77410ba1f069c64efda023",
       "version_major": 2,
       "version_minor": 0
      },
      "text/plain": [
       "TextField(label='Name :', outlined=True, style_='margin-top:20px', v_model='model1')"
      ]
     },
     "metadata": {},
     "output_type": "display_data"
    },
    {
     "data": {
      "application/vnd.jupyter.widget-view+json": {
       "model_id": "3e25e3f3d6bc4db1b40865734cc82c1c",
       "version_major": 2,
       "version_minor": 0
      },
      "text/plain": [
       "Checkbox(label='Use solver', style_='margin-bottom:10px', v_model=True)"
      ]
     },
     "metadata": {},
     "output_type": "display_data"
    },
    {
     "data": {
      "application/vnd.jupyter.widget-view+json": {
       "model_id": "b4b788fc22744e05a48850e8c335db6e",
       "version_major": 2,
       "version_minor": 0
      },
      "text/plain": [
       "ExpansionPanels(children=[ExpansionPanel(children=[ExpansionPanelHeader(children=['Linear Solver'], color='#ea…"
      ]
     },
     "metadata": {},
     "output_type": "display_data"
    },
    {
     "data": {
      "application/vnd.jupyter.widget-view+json": {
       "model_id": "9ce8bd67b3c84f02803d5cd36fe24122",
       "version_major": 2,
       "version_minor": 0
      },
      "text/plain": [
       "ExpansionPanels(children=[ExpansionPanel(children=[ExpansionPanelHeader(children=['Nonlinear Solver'], color='…"
      ]
     },
     "metadata": {},
     "output_type": "display_data"
    },
    {
     "data": {
      "application/vnd.jupyter.widget-view+json": {
       "model_id": "355aa6774b7c432a8635aafdd27a6959",
       "version_major": 2,
       "version_minor": 0
      },
      "text/plain": [
       "Html(children=[Btn(children=['Add subgroup'], color='blue', elevation=4.0, outlined=True, style_='width:240px'…"
      ]
     },
     "metadata": {},
     "output_type": "display_data"
    },
    {
     "data": {
      "application/vnd.jupyter.widget-view+json": {
       "model_id": "df4c979458ac468dbce823361b15fea4",
       "version_major": 2,
       "version_minor": 0
      },
      "text/plain": [
       "TextField(label='Name :', outlined=True, style_='margin-top:20px', v_model='model2')"
      ]
     },
     "metadata": {},
     "output_type": "display_data"
    },
    {
     "data": {
      "application/vnd.jupyter.widget-view+json": {
       "model_id": "47ce8d4155bc4235baa0352198502a13",
       "version_major": 2,
       "version_minor": 0
      },
      "text/plain": [
       "Checkbox(label='Use solver', style_='margin-bottom:10px', v_model=True)"
      ]
     },
     "metadata": {},
     "output_type": "display_data"
    },
    {
     "data": {
      "application/vnd.jupyter.widget-view+json": {
       "model_id": "d357d86791ea49b3ad2f225f6c9b4cfb",
       "version_major": 2,
       "version_minor": 0
      },
      "text/plain": [
       "ExpansionPanels(children=[ExpansionPanel(children=[ExpansionPanelHeader(children=['Linear Solver'], color='#ea…"
      ]
     },
     "metadata": {},
     "output_type": "display_data"
    },
    {
     "data": {
      "application/vnd.jupyter.widget-view+json": {
       "model_id": "a00ddb2a550d4e0da0408213f9a3adc6",
       "version_major": 2,
       "version_minor": 0
      },
      "text/plain": [
       "ExpansionPanels(children=[ExpansionPanel(children=[ExpansionPanelHeader(children=['Nonlinear Solver'], color='…"
      ]
     },
     "metadata": {},
     "output_type": "display_data"
    },
    {
     "data": {
      "application/vnd.jupyter.widget-view+json": {
       "model_id": "99bce96656d94b819f8a87b1592d9725",
       "version_major": 2,
       "version_minor": 0
      },
      "text/plain": [
       "Html(children=[Btn(children=['Add subgroup'], color='blue', elevation=4.0, outlined=True, style_='width:240px'…"
      ]
     },
     "metadata": {},
     "output_type": "display_data"
    },
    {
     "data": {
      "application/vnd.jupyter.widget-view+json": {
       "model_id": "c18a43bc79724dea930ff37fd3ad73e7",
       "version_major": 2,
       "version_minor": 0
      },
      "text/plain": [
       "Alert(children=['Successfuly changed values'], elevation='2', type='success')"
      ]
     },
     "metadata": {},
     "output_type": "display_data"
    },
    {
     "data": {
      "text/markdown": [
       "```yaml\n",
       "title: Sample OAD Process\n",
       "\n",
       "# List of folder paths where user added custom registered OpenMDAO components\n",
       "module_folders:\n",
       "\n",
       "# Input and output files\n",
       "input_file: ./problem_inputs.xml\n",
       "output_file: ./problem_outputs.xml\n",
       "\n",
       "# Definition of problem driver assuming the OpenMDAO convention \"import openmdao.api as om\"\n",
       "driver: om.ScipyOptimizeDriver(optimizer='SLSQP',tol=1e-06,maxiter=200,disp=True)\n",
       "\n",
       "# Definition of OpenMDAO model\n",
       "# Although \"model\" is a mandatory name for the top level of the model, its\n",
       "# sub-components can be freely named by user\n",
       "model:\n",
       "\tlinear_solver: om.DirectSolver(iprint=1,assemble_jac=True,err_on_singular=True)\n",
       "\tnonlinear_solver: om.NonlinearBlockGS(maxiter=10,atol=1e-10,rtol=1e-10,iprint=1,err_on_non_converge=False,debug_print=False,stall_limit=0,stall_tol=1e-12,use_aitken=False,cs_reconverge=True,use_apply_nonlinear=False,reraise_child_analysiserror=False)\n",
       "\tmodel1:\n",
       "\t\t# linear_solver: om.DirectSolver(iprint=1,assemble_jac=True,err_on_singular=True)\n",
       "\t\t# nonlinear_solver: om.NonlinearBlockGS(maxiter=10,atol=1e-10,rtol=1e-10,iprint=1,err_on_non_converge=False,debug_print=False,stall_limit=0,stall_tol=1e-12,use_aitken=False,cs_reconverge=True,use_apply_nonlinear=False,reraise_child_analysiserror=False)\n",
       "\tmodel2:\n",
       "\t\tlinear_solver: om.DirectSolver(iprint=1,assemble_jac=True,err_on_singular=True)\n",
       "\t\tnonlinear_solver: om.NonlinearBlockGS(maxiter=10,atol=1e-10,rtol=1e-10,iprint=1,err_on_non_converge=False,debug_print=False,stall_limit=0,stall_tol=1e-12,use_aitken=False,cs_reconverge=True,use_apply_nonlinear=False,reraise_child_analysiserror=False)\n",
       "\n",
       "```"
      ],
      "text/plain": [
       "<IPython.core.display.Markdown object>"
      ]
     },
     "metadata": {},
     "output_type": "display_data"
    }
   ],
   "source": [
    "from fastoad.change_files.change_config_file import ChangeConfigFile\n",
    "\n",
    "ChangeConfigFile().display()"
   ]
  },
  {
   "cell_type": "code",
   "execution_count": null,
   "metadata": {},
   "outputs": [],
   "source": []
  }
 ],
 "metadata": {
  "kernelspec": {
   "display_name": "Python 3",
   "language": "python",
   "name": "python3"
  },
  "language_info": {
   "codemirror_mode": {
    "name": "ipython",
    "version": 3
   },
   "file_extension": ".py",
   "mimetype": "text/x-python",
   "name": "python",
   "nbconvert_exporter": "python",
   "pygments_lexer": "ipython3",
   "version": "3.8.2"
  }
 },
 "nbformat": 4,
 "nbformat_minor": 1
}