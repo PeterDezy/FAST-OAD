{
 "cells": [
  {
   "cell_type": "markdown",
   "metadata": {
    "pycharm": {
     "name": "#%% md\n"
    }
   },
   "source": [
    "<div class=\"row\">\n",
    "  <div class=\"column\">\n",
    "    <img src=\"./img/logo-onera.png\" width=\"200\">\n",
    "  </div>\n",
    "  <div class=\"column\">\n",
    "    <img src=\"./img/logo-ISAE_SUPAERO.png\" width=\"200\">\n",
    "  </div>\n",
    "</div>"
   ]
  },
  {
   "cell_type": "markdown",
   "metadata": {
    "pycharm": {
     "name": "#%% md\n"
    }
   },
   "source": [
    "# Change the configuration file"
   ]
  },
  {
   "cell_type": "markdown",
   "metadata": {},
   "source": [
    "Generate the configuration file"
   ]
  },
  {
   "cell_type": "code",
   "execution_count": 13,
   "metadata": {
    "pycharm": {
     "name": "#%%\n"
    }
   },
   "outputs": [
    {
     "data": {
      "text/plain": [
       "<fastoad.change_files.generate_files.GenerateFiles at 0x20590c1a2b0>"
      ]
     },
     "execution_count": 13,
     "metadata": {},
     "output_type": "execute_result"
    }
   ],
   "source": [
    "from fastoad.change_files.generate_files import GenerateFiles\n",
    "\n",
    "GenerateFiles()"
   ]
  },
  {
   "cell_type": "markdown",
   "metadata": {
    "pycharm": {
     "name": "#%% md\n"
    }
   },
   "source": [
    "Change the configuration file"
   ]
  },
  {
   "cell_type": "code",
   "execution_count": 14,
   "metadata": {
    "pycharm": {
     "name": "#%%\n"
    },
    "scrolled": true
   },
   "outputs": [
    {
     "data": {
      "text/plain": [
       "<function fastoad.change_files.change_config_file.ChangeConfigFile._initialize_widgets.<locals>.title()>"
      ]
     },
     "metadata": {},
     "output_type": "display_data"
    },
    {
     "data": {
      "application/vnd.jupyter.widget-view+json": {
       "model_id": "ccd2415fd12c48cd9a1f1f250f6d5298",
       "version_major": 2,
       "version_minor": 0
      },
      "text/plain": [
       "TextField(clearable=True, label='Input_file :', outlined=True, style_='margin-top:5px', suffix='.yml', v_model…"
      ]
     },
     "metadata": {},
     "output_type": "display_data"
    },
    {
     "data": {
      "application/vnd.jupyter.widget-view+json": {
       "model_id": "b430e586a5124c0ba89109663d4f8b10",
       "version_major": 2,
       "version_minor": 0
      },
      "text/plain": [
       "TextField(clearable=True, label='Output_file :', outlined=True, style_='margin-top:5px', suffix='.yml', v_mode…"
      ]
     },
     "metadata": {},
     "output_type": "display_data"
    },
    {
     "data": {
      "application/vnd.jupyter.widget-view+json": {
       "model_id": "7886cdd3de50445381901910337a0ef2",
       "version_major": 2,
       "version_minor": 0
      },
      "text/plain": [
       "Select(items=['differential_evolution_driver', 'doe_driver', 'genetic_algorithm_driver', 'pyoptsparse_driver',…"
      ]
     },
     "metadata": {},
     "output_type": "display_data"
    },
    {
     "data": {
      "application/vnd.jupyter.widget-view+json": {
       "model_id": "5fdeedf36d954d2fbe0dae5dc8618889",
       "version_major": 2,
       "version_minor": 0
      },
      "text/plain": [
       "Html(children=[Html(children=[Select(items=['Powell', 'TNC', 'Newton-CG', 'dual_annealing', 'CG', 'trust-const…"
      ]
     },
     "metadata": {},
     "output_type": "display_data"
    },
    {
     "data": {
      "application/vnd.jupyter.widget-view+json": {
       "model_id": "a877e9dd766f43ec9a45f8a9631b018c",
       "version_major": 2,
       "version_minor": 0
      },
      "text/plain": [
       "Html(children=[Html(tag='div')], tag='div')"
      ]
     },
     "metadata": {},
     "output_type": "display_data"
    },
    {
     "data": {
      "application/vnd.jupyter.widget-view+json": {
       "model_id": "d0c0f727292a4649826429f4319b3cf4",
       "version_major": 2,
       "version_minor": 0
      },
      "text/plain": [
       "Html(children=[Html(tag='div'), Html(tag='div')], class_='d-flex justify-center mb-6', tag='div')"
      ]
     },
     "metadata": {},
     "output_type": "display_data"
    },
    {
     "data": {
      "application/vnd.jupyter.widget-view+json": {
       "model_id": "f4eb2a37b32642f783c4d37a26249450",
       "version_major": 2,
       "version_minor": 0
      },
      "text/plain": [
       "Select(items=['broyden', 'newton', 'nonlinear_block_gs', 'nonlinear_block_jac', 'nonlinear_runonce'], label='N…"
      ]
     },
     "metadata": {},
     "output_type": "display_data"
    },
    {
     "data": {
      "application/vnd.jupyter.widget-view+json": {
       "model_id": "8e9f342741854985a7dbcbe680dba8db",
       "version_major": 2,
       "version_minor": 0
      },
      "text/plain": [
       "Html(children=[Html(children=[TextField(label='Maxiter :', outlined=True, style_='width:500px;margin-top:5px;'…"
      ]
     },
     "metadata": {},
     "output_type": "display_data"
    },
    {
     "data": {
      "application/vnd.jupyter.widget-view+json": {
       "model_id": "eeceaee3e06b4307a302e0ff813a3321",
       "version_major": 2,
       "version_minor": 0
      },
      "text/plain": [
       "Html(children=[Html(tag='div'), Html(tag='div')], class_='d-flex justify-center mb-6', tag='div')"
      ]
     },
     "metadata": {},
     "output_type": "display_data"
    },
    {
     "data": {
      "application/vnd.jupyter.widget-view+json": {
       "model_id": "ad64b1b2c0144156ad147ad62698acea",
       "version_major": 2,
       "version_minor": 0
      },
      "text/plain": [
       "Html(children=[Html(tag='div'), Html(tag='div')], class_='d-flex justify-center mb-6', tag='div')"
      ]
     },
     "metadata": {},
     "output_type": "display_data"
    },
    {
     "data": {
      "application/vnd.jupyter.widget-view+json": {
       "model_id": "65e51d29390f4fbf9312ca8c8bca221e",
       "version_major": 2,
       "version_minor": 0
      },
      "text/plain": [
       "Select(items=['direct', 'linear_block_gs', 'linear_block_jac', 'linear_runonce', 'petsc_ksp', 'scipy_iter_solv…"
      ]
     },
     "metadata": {},
     "output_type": "display_data"
    },
    {
     "data": {
      "application/vnd.jupyter.widget-view+json": {
       "model_id": "35889a308623452daa848b1c7bb69002",
       "version_major": 2,
       "version_minor": 0
      },
      "text/plain": [
       "Html(children=[Html(children=[TextField(label='Print the output :', outlined=True, style_='width:500px;margin-…"
      ]
     },
     "metadata": {},
     "output_type": "display_data"
    },
    {
     "data": {
      "application/vnd.jupyter.widget-view+json": {
       "model_id": "55b36b9ca5d34efb8d25f2eac081cbb9",
       "version_major": 2,
       "version_minor": 0
      },
      "text/plain": [
       "Html(children=[Html(tag='div'), Html(tag='div')], class_='d-flex justify-center mb-6', tag='div')"
      ]
     },
     "metadata": {},
     "output_type": "display_data"
    },
    {
     "data": {
      "application/vnd.jupyter.widget-view+json": {
       "model_id": "1c303ce796ae44f78b4f55494dd0320c",
       "version_major": 2,
       "version_minor": 0
      },
      "text/plain": [
       "Html(children=[Html(children=[Btn(children=[Icon(children=['get_app']), 'Save'], color='blue', elevation=4.0, …"
      ]
     },
     "metadata": {},
     "output_type": "display_data"
    }
   ],
   "source": [
    "from fastoad.change_files.change_config_file import ChangeConfigFile\n",
    "\n",
    "ChangeConfigFile().display()"
   ]
  },
  {
   "cell_type": "code",
   "execution_count": 15,
   "metadata": {
    "pycharm": {
     "name": "#%%\n"
    }
   },
   "outputs": [
    {
     "data": {
      "text/html": [
       "<table>\n",
       "<tbody>\n",
       "<tr><td>AVAILABLE MODULE IDENTIFIERS            </td><td>MODULE PATH                                                                                                    </td></tr>\n",
       "<tr><td>fastoad.aerodynamics.highspeed.legacy   </td><td>C:\\Users\\dangl\\PycharmProjects\\FAST-OAD\\src\\fastoad\\models\\aerodynamics\\aerodynamics_high_speed.py             </td></tr>\n",
       "<tr><td>fastoad.aerodynamics.landing.legacy     </td><td>C:\\Users\\dangl\\PycharmProjects\\FAST-OAD\\src\\fastoad\\models\\aerodynamics\\aerodynamics_landing.py                </td></tr>\n",
       "<tr><td>fastoad.aerodynamics.lowspeed.legacy    </td><td>C:\\Users\\dangl\\PycharmProjects\\FAST-OAD\\src\\fastoad\\models\\aerodynamics\\aerodynamics_low_speed.py              </td></tr>\n",
       "<tr><td>fastoad.aerodynamics.takeoff.legacy     </td><td>C:\\Users\\dangl\\PycharmProjects\\FAST-OAD\\src\\fastoad\\models\\aerodynamics\\aerodynamics_takeoff.py                </td></tr>\n",
       "<tr><td>fastoad.geometry.legacy                 </td><td>C:\\Users\\dangl\\PycharmProjects\\FAST-OAD\\src\\fastoad\\models\\geometry\\geometry.py                                </td></tr>\n",
       "<tr><td>fastoad.handling_qualities.static_margin</td><td>C:\\Users\\dangl\\PycharmProjects\\FAST-OAD\\src\\fastoad\\models\\handling_qualities\\compute_static_margin.py         </td></tr>\n",
       "<tr><td>fastoad.handling_qualities.tail_sizing  </td><td>C:\\Users\\dangl\\PycharmProjects\\FAST-OAD\\src\\fastoad\\models\\handling_qualities\\tail_sizing\\compute_tail_areas.py</td></tr>\n",
       "<tr><td>fastoad.loop.wing_area                  </td><td>C:\\Users\\dangl\\PycharmProjects\\FAST-OAD\\src\\fastoad\\models\\loops\\compute_wing_area.py                          </td></tr>\n",
       "<tr><td>fastoad.loop.wing_position              </td><td>C:\\Users\\dangl\\PycharmProjects\\FAST-OAD\\src\\fastoad\\models\\loops\\compute_wing_position.py                      </td></tr>\n",
       "<tr><td>fastoad.mass_performances.compute_MTOW  </td><td>C:\\Users\\dangl\\PycharmProjects\\FAST-OAD\\src\\fastoad\\models\\performances\\mission\\openmdao\\link_mtow.py          </td></tr>\n",
       "<tr><td>fastoad.performances.mission            </td><td>C:\\Users\\dangl\\PycharmProjects\\FAST-OAD\\src\\fastoad\\models\\performances\\mission\\openmdao\\mission.py            </td></tr>\n",
       "<tr><td>fastoad.weight.legacy                   </td><td>C:\\Users\\dangl\\PycharmProjects\\FAST-OAD\\src\\fastoad\\models\\weight\\weight.py                                    </td></tr>\n",
       "<tr><td>AVAILABLE PROPULSION WRAPPER IDENTIFIERS</td><td>MODULE PATH                                                                                                    </td></tr>\n",
       "<tr><td>fastoad.wrapper.propulsion.rubber_engine</td><td>C:\\Users\\dangl\\PycharmProjects\\FAST-OAD\\src\\fastoad\\models\\propulsion\\fuel_propulsion\\rubber_engine\\openmdao.py</td></tr>\n",
       "<tr><td>test.wrapper.propulsion.dummy_engine    </td><td>C:\\Users\\dangl\\PycharmProjects\\FAST-OAD\\src\\fastoad\\models\\performances\\mission\\openmdao\\tests\\test_mission.py </td></tr>\n",
       "</tbody>\n",
       "</table>"
      ],
      "text/plain": [
       "<IPython.core.display.HTML object>"
      ]
     },
     "metadata": {},
     "output_type": "display_data"
    },
    {
     "data": {
      "text/html": [
       "<table>\n",
       "<tbody>\n",
       "<tr><td>AVAILABLE MODULE IDENTIFIERS            </td><td>MODULE PATH                                                                                                    </td></tr>\n",
       "<tr><td>fastoad.aerodynamics.highspeed.legacy   </td><td>C:\\Users\\dangl\\PycharmProjects\\FAST-OAD\\src\\fastoad\\models\\aerodynamics\\aerodynamics_high_speed.py             </td></tr>\n",
       "<tr><td>fastoad.aerodynamics.landing.legacy     </td><td>C:\\Users\\dangl\\PycharmProjects\\FAST-OAD\\src\\fastoad\\models\\aerodynamics\\aerodynamics_landing.py                </td></tr>\n",
       "<tr><td>fastoad.aerodynamics.lowspeed.legacy    </td><td>C:\\Users\\dangl\\PycharmProjects\\FAST-OAD\\src\\fastoad\\models\\aerodynamics\\aerodynamics_low_speed.py              </td></tr>\n",
       "<tr><td>fastoad.aerodynamics.takeoff.legacy     </td><td>C:\\Users\\dangl\\PycharmProjects\\FAST-OAD\\src\\fastoad\\models\\aerodynamics\\aerodynamics_takeoff.py                </td></tr>\n",
       "<tr><td>fastoad.geometry.legacy                 </td><td>C:\\Users\\dangl\\PycharmProjects\\FAST-OAD\\src\\fastoad\\models\\geometry\\geometry.py                                </td></tr>\n",
       "<tr><td>fastoad.handling_qualities.static_margin</td><td>C:\\Users\\dangl\\PycharmProjects\\FAST-OAD\\src\\fastoad\\models\\handling_qualities\\compute_static_margin.py         </td></tr>\n",
       "<tr><td>fastoad.handling_qualities.tail_sizing  </td><td>C:\\Users\\dangl\\PycharmProjects\\FAST-OAD\\src\\fastoad\\models\\handling_qualities\\tail_sizing\\compute_tail_areas.py</td></tr>\n",
       "<tr><td>fastoad.loop.wing_area                  </td><td>C:\\Users\\dangl\\PycharmProjects\\FAST-OAD\\src\\fastoad\\models\\loops\\compute_wing_area.py                          </td></tr>\n",
       "<tr><td>fastoad.loop.wing_position              </td><td>C:\\Users\\dangl\\PycharmProjects\\FAST-OAD\\src\\fastoad\\models\\loops\\compute_wing_position.py                      </td></tr>\n",
       "<tr><td>fastoad.mass_performances.compute_MTOW  </td><td>C:\\Users\\dangl\\PycharmProjects\\FAST-OAD\\src\\fastoad\\models\\performances\\mission\\openmdao\\link_mtow.py          </td></tr>\n",
       "<tr><td>fastoad.performances.mission            </td><td>C:\\Users\\dangl\\PycharmProjects\\FAST-OAD\\src\\fastoad\\models\\performances\\mission\\openmdao\\mission.py            </td></tr>\n",
       "<tr><td>fastoad.weight.legacy                   </td><td>C:\\Users\\dangl\\PycharmProjects\\FAST-OAD\\src\\fastoad\\models\\weight\\weight.py                                    </td></tr>\n",
       "<tr><td>AVAILABLE PROPULSION WRAPPER IDENTIFIERS</td><td>MODULE PATH                                                                                                    </td></tr>\n",
       "<tr><td>fastoad.wrapper.propulsion.rubber_engine</td><td>C:\\Users\\dangl\\PycharmProjects\\FAST-OAD\\src\\fastoad\\models\\propulsion\\fuel_propulsion\\rubber_engine\\openmdao.py</td></tr>\n",
       "<tr><td>test.wrapper.propulsion.dummy_engine    </td><td>C:\\Users\\dangl\\PycharmProjects\\FAST-OAD\\src\\fastoad\\models\\performances\\mission\\openmdao\\tests\\test_mission.py </td></tr>\n",
       "</tbody>\n",
       "</table>"
      ],
      "text/plain": [
       "<IPython.core.display.HTML object>"
      ]
     },
     "metadata": {},
     "output_type": "display_data"
    },
    {
     "ename": "AttributeError",
     "evalue": "'NoneType' object has no attribute 'options'",
     "output_type": "error",
     "traceback": [
      "\u001B[1;31m---------------------------------------------------------------------------\u001B[0m",
      "\u001B[1;31mAttributeError\u001B[0m                            Traceback (most recent call last)",
      "\u001B[1;32m<ipython-input-15-a2e4bbb39987>\u001B[0m in \u001B[0;36m<module>\u001B[1;34m\u001B[0m\n\u001B[0;32m      4\u001B[0m \u001B[0mlist_modules\u001B[0m\u001B[1;33m(\u001B[0m\u001B[1;33m)\u001B[0m\u001B[1;33m\u001B[0m\u001B[1;33m\u001B[0m\u001B[0m\n\u001B[0;32m      5\u001B[0m \u001B[1;33m\u001B[0m\u001B[0m\n\u001B[1;32m----> 6\u001B[1;33m \u001B[0mprint\u001B[0m\u001B[1;33m(\u001B[0m\u001B[0mlist_modules\u001B[0m\u001B[1;33m(\u001B[0m\u001B[1;33m)\u001B[0m\u001B[1;33m.\u001B[0m\u001B[0moptions\u001B[0m\u001B[1;33m.\u001B[0m\u001B[0m__dict__\u001B[0m\u001B[1;33m)\u001B[0m\u001B[1;33m\u001B[0m\u001B[1;33m\u001B[0m\u001B[0m\n\u001B[0m",
      "\u001B[1;31mAttributeError\u001B[0m: 'NoneType' object has no attribute 'options'"
     ]
    }
   ],
   "source": [
    "from fastoad.cmd.api import list_modules\n",
    "\n",
    "\n",
    "list_modules()\n",
    "\n",
    "# print(list_modules().options.__dict__)"
   ]
  }
 ],
 "metadata": {
  "kernelspec": {
   "display_name": "Python 3",
   "language": "python",
   "name": "python3"
  },
  "language_info": {
   "codemirror_mode": {
    "name": "ipython",
    "version": 3
   },
   "file_extension": ".py",
   "mimetype": "text/x-python",
   "name": "python",
   "nbconvert_exporter": "python",
   "pygments_lexer": "ipython3",
   "version": "3.8.6"
  }
 },
 "nbformat": 4,
 "nbformat_minor": 1
}