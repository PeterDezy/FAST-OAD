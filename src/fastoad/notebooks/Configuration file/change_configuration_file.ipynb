{
 "cells": [
  {
   "cell_type": "markdown",
   "metadata": {
    "pycharm": {
     "name": "#%% md\n"
    }
   },
   "source": [
    "<div class=\"row\">\n",
    "  <div class=\"column\">\n",
    "    <img src=\"./img/logo-onera.png\" width=\"200\">\n",
    "  </div>\n",
    "  <div class=\"column\">\n",
    "    <img src=\"./img/logo-ISAE_SUPAERO.png\" width=\"200\">\n",
    "  </div>\n",
    "</div>"
   ]
  },
  {
   "cell_type": "markdown",
   "metadata": {
    "pycharm": {
     "name": "#%% md\n"
    }
   },
   "source": [
    "# Change the configuration file"
   ]
  },
  {
   "cell_type": "markdown",
   "metadata": {},
   "source": [
    "Generate the configuration file"
   ]
  },
  {
   "cell_type": "code",
   "execution_count": 1,
   "metadata": {
    "pycharm": {
     "name": "#%%\n"
    }
   },
   "outputs": [
    {
     "name": "stdout",
     "output_type": "stream",
     "text": [
      "Unable to import mpi4py. Parallel processing unavailable.\n",
      "Unable to import petsc4py. Parallel processing unavailable.\n",
      "Unable to import petsc4py. Parallel processing unavailable.\n"
     ]
    },
    {
     "data": {
      "text/html": [
       "<style>.container { width:95% !important; }</style>"
      ],
      "text/plain": [
       "<IPython.core.display.HTML object>"
      ]
     },
     "metadata": {},
     "output_type": "display_data"
    },
    {
     "name": "stderr",
     "output_type": "stream",
     "text": [
      "INFO    : Sample configuration written in workdir\\oad_process.yml\n"
     ]
    },
    {
     "data": {
      "text/plain": [
       "<fastoad.change_files.generate_files.GenerateFiles at 0x1bcb74a4fa0>"
      ]
     },
     "execution_count": 1,
     "metadata": {},
     "output_type": "execute_result"
    }
   ],
   "source": [
    "from fastoad.change_files.generate_files import GenerateFiles\n",
    "\n",
    "GenerateFiles()"
   ]
  },
  {
   "cell_type": "markdown",
   "metadata": {
    "pycharm": {
     "name": "#%% md\n"
    }
   },
   "source": [
    "Change the configuration file"
   ]
  },
  {
   "cell_type": "code",
   "execution_count": 2,
   "metadata": {
    "scrolled": false
   },
   "outputs": [
    {
     "data": {
      "application/vnd.jupyter.widget-view+json": {
       "model_id": "871bbe1f76e449da926dd5be0d3e7120",
       "version_major": 2,
       "version_minor": 0
      },
      "text/plain": [
       "TextField(clearable=True, label='Title :', outlined=True, style_='margin-top:20px', v_model='Sample OAD Proces…"
      ]
     },
     "metadata": {},
     "output_type": "display_data"
    },
    {
     "data": {
      "application/vnd.jupyter.widget-view+json": {
       "model_id": "4d2f17a4fa384c7096488099d1512dd3",
       "version_major": 2,
       "version_minor": 0
      },
      "text/plain": [
       "TextField(clearable=True, label='Input_file :', outlined=True, style_='margin-top:5px', suffix='.xml', v_model…"
      ]
     },
     "metadata": {},
     "output_type": "display_data"
    },
    {
     "data": {
      "application/vnd.jupyter.widget-view+json": {
       "model_id": "1545723e532f4c479afab20b6eeacceb",
       "version_major": 2,
       "version_minor": 0
      },
      "text/plain": [
       "TextField(clearable=True, label='Output_file :', outlined=True, style_='margin-top:5px', suffix='.xml', v_mode…"
      ]
     },
     "metadata": {},
     "output_type": "display_data"
    },
    {
     "data": {
      "application/vnd.jupyter.widget-view+json": {
       "model_id": "87f7fee3ba17425aa9fe68530e5fc42c",
       "version_major": 2,
       "version_minor": 0
      },
      "text/plain": [
       "ExpansionPanels(children=[ExpansionPanel(children=[ExpansionPanelHeader(children=['Driver'], color='#eaeaea', …"
      ]
     },
     "metadata": {},
     "output_type": "display_data"
    },
    {
     "data": {
      "application/vnd.jupyter.widget-view+json": {
       "model_id": "3a689690bffa4ef3bfa1e76d005e5fa7",
       "version_major": 2,
       "version_minor": 0
      },
      "text/plain": [
       "TextField(label='Name :', outlined=True, readonly=True, style_='margin-top:20px', v_model='model')"
      ]
     },
     "metadata": {},
     "output_type": "display_data"
    },
    {
     "data": {
      "application/vnd.jupyter.widget-view+json": {
       "model_id": "f58ace8777ba4a45a390a3eeaa528408",
       "version_major": 2,
       "version_minor": 0
      },
      "text/plain": [
       "Checkbox(label='Use solver', style_='margin-bottom:10px; margin-left:10px;', v_model=True)"
      ]
     },
     "metadata": {},
     "output_type": "display_data"
    },
    {
     "data": {
      "application/vnd.jupyter.widget-view+json": {
       "model_id": "14f277c8edec4a8084f9c93016127f92",
       "version_major": 2,
       "version_minor": 0
      },
      "text/plain": [
       "ExpansionPanels(children=[ExpansionPanel(children=[ExpansionPanelHeader(children=['Linear Solver'], color='#ea…"
      ]
     },
     "metadata": {},
     "output_type": "display_data"
    },
    {
     "data": {
      "application/vnd.jupyter.widget-view+json": {
       "model_id": "b8cae6946d524abab93e830cac6fcfb1",
       "version_major": 2,
       "version_minor": 0
      },
      "text/plain": [
       "ExpansionPanels(children=[ExpansionPanel(children=[ExpansionPanelHeader(children=['Nonlinear Solver'], color='…"
      ]
     },
     "metadata": {},
     "output_type": "display_data"
    },
    {
     "data": {
      "application/vnd.jupyter.widget-view+json": {
       "model_id": "222f86d29e7b4af09c8a991af4962ef8",
       "version_major": 2,
       "version_minor": 0
      },
      "text/plain": [
       "Html(children=[Btn(children=['Add subgroup'], color='blue', elevation=4.0, outlined=True, style_='width:240px'…"
      ]
     },
     "metadata": {},
     "output_type": "display_data"
    },
    {
     "data": {
      "application/vnd.jupyter.widget-view+json": {
       "model_id": "50c191c491cc47f98873400e9f36f567",
       "version_major": 2,
       "version_minor": 0
      },
      "text/plain": [
       "Btn(children=['Reset'], color='red', elevation=4.0, outlined=True, style_='width:150px;margin:auto;')"
      ]
     },
     "metadata": {},
     "output_type": "display_data"
    },
    {
     "data": {
      "application/vnd.jupyter.widget-view+json": {
       "model_id": "4a69facb170f4515b2fe56f1d789c4ec",
       "version_major": 2,
       "version_minor": 0
      },
      "text/plain": [
       "Btn(children=[Icon(children=['get_app']), 'Save'], color='blue', elevation=4.0, outlined=True, style_='width:1…"
      ]
     },
     "metadata": {},
     "output_type": "display_data"
    },
    {
     "name": "stdout",
     "output_type": "stream",
     "text": [
      "differential_evolution_driver\n",
      "genetic_algorithm_driver\n"
     ]
    }
   ],
   "source": [
    "from fastoad.change_files.change_config_file import ChangeConfigFile\n",
    "\n",
    "ChangeConfigFile().display()"
   ]
  },
  {
   "cell_type": "code",
   "execution_count": 10,
   "metadata": {
    "pycharm": {
     "name": "#%%\n"
    },
    "scrolled": true
   },
   "outputs": [
    {
     "name": "stdout",
     "output_type": "stream",
     "text": [
      "{'altKey': False, 'ctrlKey': False, 'metaKey': False, 'shiftKey': False, 'offsetX': 1, 'offsetY': 15, 'clientX': 383, 'clientY': 500, 'pageX': 383, 'pageY': 500, 'screenX': 383, 'screenY': 603, 'x': 383, 'y': 500}\n",
      "[{'id': 1, 'name': 'subgroup1'}, {'id': 2, 'name': 'subgroup2'}, {'id': 3, 'name': 'subgroup3'}, {'id': 3, 'name': 'subgroup3'}, {'id': 3, 'name': 'subgroup3'}, {'id': 3, 'name': 'subgroup3'}, {'id': 3, 'name': 'subgroup3'}, {'id': 3, 'name': 'subgroup3'}, {'id': 3, 'name': 'subgroup3'}, {'id': 3, 'name': 'subgroup3'}]\n",
      "{'id': 1, 'name': 'Model :', 'children': [{'id': 1, 'name': 'subgroup1'}, {'id': 2, 'name': 'subgroup2'}, {'id': 3, 'name': 'subgroup3'}, {'id': 3, 'name': 'subgroup3'}, {'id': 3, 'name': 'subgroup3'}, {'id': 3, 'name': 'subgroup3'}, {'id': 3, 'name': 'subgroup3'}, {'id': 3, 'name': 'subgroup3'}, {'id': 3, 'name': 'subgroup3'}, {'id': 3, 'name': 'subgroup3'}]}\n"
     ]
    },
    {
     "data": {
      "application/vnd.jupyter.widget-view+json": {
       "model_id": "bf9b97fe8db3477b9d483eebbefb88d2",
       "version_major": 2,
       "version_minor": 0
      },
      "text/plain": [
       "Treeview(hoverable=True, items=[{'id': 1, 'name': 'Model :', 'children': [{'id': 1, 'name': 'subgroup1'}, {'id…"
      ]
     },
     "metadata": {},
     "output_type": "display_data"
    }
   ],
   "source": [
    "import ipyvuetify as v\n",
    "from IPython.display import clear_output, display\n",
    "\n",
    "\n",
    "list = {\n",
    "          'id' : 1, 'name': 'Model :',\n",
    "          'children': [\n",
    "              { 'id': 1, 'name': 'subgroup1' },\n",
    "              { 'id': 2, 'name': 'subgroup2' },\n",
    "          ]\n",
    "}\n",
    "\n",
    "items = [list]\n",
    "\n",
    "btn = v.Btn(\n",
    "    children=['Add'],\n",
    "    elevation='5',\n",
    "    color='green',\n",
    "    style_='margin-right:1000px;'\n",
    ")\n",
    "\n",
    "tree = v.Treeview(\n",
    "    v_slots=[{\n",
    "    'name': 'append',\n",
    "    'children': [btn]\n",
    "    }],\n",
    "    open_all=True,\n",
    "    hoverable=True,\n",
    "    rounded=True,\n",
    "    items=items,\n",
    ")\n",
    "\n",
    "\n",
    "def change(event, widget, data):\n",
    "    clear_output()\n",
    "    print(data)\n",
    "    items[0]['children'].append({ 'id': 3, 'name': 'subgroup3' })\n",
    "    print(items[0]['children'])\n",
    "    print(items[0])\n",
    "    tree = v.Treeview(\n",
    "        v_slots=[{\n",
    "        'name': 'append',\n",
    "        'children': [btn]\n",
    "        }],\n",
    "        open_all=True,\n",
    "        hoverable=True,\n",
    "        rounded=True,\n",
    "        items=items,\n",
    "    )\n",
    "    display(tree)\n",
    "\n",
    "btn.on_event(\"click\", change)\n",
    "\n",
    "\n",
    "display(tree)"
   ]
  },
  {
   "cell_type": "code",
   "execution_count": null,
   "metadata": {},
   "outputs": [],
   "source": []
  }
 ],
 "metadata": {
  "kernelspec": {
   "display_name": "Python 3",
   "language": "python",
   "name": "python3"
  },
  "language_info": {
   "codemirror_mode": {
    "name": "ipython",
    "version": 3
   },
   "file_extension": ".py",
   "mimetype": "text/x-python",
   "name": "python",
   "nbconvert_exporter": "python",
   "pygments_lexer": "ipython3",
   "version": "3.8.8"
  }
 },
 "nbformat": 4,
 "nbformat_minor": 1
}
