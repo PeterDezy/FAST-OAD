{
 "cells": [
  {
   "cell_type": "markdown",
   "metadata": {
    "pycharm": {
     "name": "#%% md\n"
    }
   },
   "source": [
    "<div class=\"row\">\n",
    "  <div class=\"column\">\n",
    "    <img src=\"./img/logo-onera.png\" width=\"200\">\n",
    "  </div>\n",
    "  <div class=\"column\">\n",
    "    <img src=\"./img/logo-ISAE_SUPAERO.png\" width=\"200\">\n",
    "  </div>\n",
    "</div>"
   ]
  },
  {
   "cell_type": "markdown",
   "metadata": {
    "pycharm": {
     "name": "#%% md\n"
    }
   },
   "source": [
    "# Change the configuration file"
   ]
  },
  {
   "cell_type": "markdown",
   "metadata": {},
   "source": [
    "Generate the configuration file"
   ]
  },
  {
   "cell_type": "code",
   "execution_count": 1,
   "metadata": {
    "pycharm": {
     "name": "#%%\n"
    }
   },
   "outputs": [
    {
     "name": "stdout",
     "output_type": "stream",
     "text": [
      "Unable to import mpi4py. Parallel processing unavailable.\n",
      "Unable to import petsc4py. Parallel processing unavailable.\n",
      "Unable to import petsc4py. Parallel processing unavailable.\n"
     ]
    },
    {
     "data": {
      "text/html": [
       "<style>.container { width:95% !important; }</style>"
      ],
      "text/plain": [
       "<IPython.core.display.HTML object>"
      ]
     },
     "metadata": {},
     "output_type": "display_data"
    },
    {
     "name": "stderr",
     "output_type": "stream",
     "text": [
      "INFO    : Sample configuration written in workdir\\oad_process.yml\n"
     ]
    },
    {
     "data": {
      "text/plain": [
       "<fastoad.change_files.generate_files.GenerateFiles at 0x27507da4d00>"
      ]
     },
     "execution_count": 1,
     "metadata": {},
     "output_type": "execute_result"
    }
   ],
   "source": [
    "from fastoad.change_files.generate_files import GenerateFiles\n",
    "\n",
    "GenerateFiles()"
   ]
  },
  {
   "cell_type": "markdown",
   "metadata": {
    "pycharm": {
     "name": "#%% md\n"
    }
   },
   "source": [
    "Change the configuration file"
   ]
  },
  {
   "cell_type": "code",
   "execution_count": 2,
   "metadata": {
    "pycharm": {
     "name": "#%%\n"
    },
    "scrolled": false
   },
   "outputs": [
    {
     "data": {
      "text/plain": [
       "<function fastoad.change_files.change_config_file.ChangeConfigFile._initialize_widgets.<locals>.title()>"
      ]
     },
     "metadata": {},
     "output_type": "display_data"
    },
    {
     "data": {
      "application/vnd.jupyter.widget-view+json": {
       "model_id": "6df5d50ec49948ccbd939d6a564f5395",
       "version_major": 2,
       "version_minor": 0
      },
      "text/plain": [
       "TextField(clearable=True, label='Input_file :', outlined=True, style_='margin-top:5px', suffix='.yml', v_model…"
      ]
     },
     "metadata": {},
     "output_type": "display_data"
    },
    {
     "data": {
      "application/vnd.jupyter.widget-view+json": {
       "model_id": "6699f959ccfb4ab7af93ce6bc45de175",
       "version_major": 2,
       "version_minor": 0
      },
      "text/plain": [
       "TextField(clearable=True, label='Output_file :', outlined=True, style_='margin-top:5px', suffix='.yml', v_mode…"
      ]
     },
     "metadata": {},
     "output_type": "display_data"
    },
    {
     "data": {
      "application/vnd.jupyter.widget-view+json": {
       "model_id": "949a2cfc3497406db777ccc31e2fb666",
       "version_major": 2,
       "version_minor": 0
      },
      "text/plain": [
       "Select(items=['differential_evolution_driver', 'doe_driver', 'genetic_algorithm_driver', 'pyoptsparse_driver',…"
      ]
     },
     "metadata": {},
     "output_type": "display_data"
    },
    {
     "data": {
      "application/vnd.jupyter.widget-view+json": {
       "model_id": "c840d8be29d34e35b7414df30b4c8d53",
       "version_major": 2,
       "version_minor": 0
      },
      "text/plain": [
       "Html(children=[Html(children=[Select(items=['COBYLA', 'Newton-CG', 'Powell', 'basinhopping', 'dual_annealing',…"
      ]
     },
     "metadata": {},
     "output_type": "display_data"
    },
    {
     "data": {
      "application/vnd.jupyter.widget-view+json": {
       "model_id": "ee85b635e4e24f5ab2ba419cd5e8b235",
       "version_major": 2,
       "version_minor": 0
      },
      "text/plain": [
       "Html(children=[Html(tag='div')], tag='div')"
      ]
     },
     "metadata": {},
     "output_type": "display_data"
    },
    {
     "data": {
      "application/vnd.jupyter.widget-view+json": {
       "model_id": "885700abb0e04e31bf2c4c5a39cff378",
       "version_major": 2,
       "version_minor": 0
      },
      "text/plain": [
       "Html(children=[Html(tag='div'), Html(tag='div')], class_='d-flex justify-center mb-6', tag='div')"
      ]
     },
     "metadata": {},
     "output_type": "display_data"
    },
    {
     "data": {
      "application/vnd.jupyter.widget-view+json": {
       "model_id": "f8020496004a47f9b26210c66cf8c798",
       "version_major": 2,
       "version_minor": 0
      },
      "text/plain": [
       "Select(items=['broyden', 'newton', 'nonlinear_block_gs', 'nonlinear_block_jac', 'nonlinear_runonce'], label='N…"
      ]
     },
     "metadata": {},
     "output_type": "display_data"
    },
    {
     "data": {
      "application/vnd.jupyter.widget-view+json": {
       "model_id": "3f14c225bba94ea19ef643bcd271c14f",
       "version_major": 2,
       "version_minor": 0
      },
      "text/plain": [
       "Html(children=[Html(children=[TextField(label='Maxiter :', outlined=True, style_='width:500px;margin-top:5px;'…"
      ]
     },
     "metadata": {},
     "output_type": "display_data"
    },
    {
     "data": {
      "application/vnd.jupyter.widget-view+json": {
       "model_id": "cdfd71263ae64b2ebc13b41cf34ee4fb",
       "version_major": 2,
       "version_minor": 0
      },
      "text/plain": [
       "Html(children=[Html(tag='div'), Html(tag='div')], class_='d-flex justify-center mb-6', tag='div')"
      ]
     },
     "metadata": {},
     "output_type": "display_data"
    },
    {
     "data": {
      "application/vnd.jupyter.widget-view+json": {
       "model_id": "0d2ce078c88e400d8781728cac257685",
       "version_major": 2,
       "version_minor": 0
      },
      "text/plain": [
       "Html(children=[Html(tag='div'), Html(tag='div')], class_='d-flex justify-center mb-6', tag='div')"
      ]
     },
     "metadata": {},
     "output_type": "display_data"
    },
    {
     "data": {
      "application/vnd.jupyter.widget-view+json": {
       "model_id": "17fbe40ab567480f8de837123779fd43",
       "version_major": 2,
       "version_minor": 0
      },
      "text/plain": [
       "Select(items=['direct', 'linear_block_gs', 'linear_block_jac', 'linear_runonce', 'petsc_ksp', 'scipy_iter_solv…"
      ]
     },
     "metadata": {},
     "output_type": "display_data"
    },
    {
     "data": {
      "application/vnd.jupyter.widget-view+json": {
       "model_id": "5b865b2814eb4c15babc57251b1d402d",
       "version_major": 2,
       "version_minor": 0
      },
      "text/plain": [
       "Html(children=[Html(children=[TextField(label='Print the output :', outlined=True, style_='width:500px;margin-…"
      ]
     },
     "metadata": {},
     "output_type": "display_data"
    },
    {
     "data": {
      "application/vnd.jupyter.widget-view+json": {
       "model_id": "5b3b69fa735b4daf91554bfd302ec473",
       "version_major": 2,
       "version_minor": 0
      },
      "text/plain": [
       "Html(children=[Html(tag='div'), Html(tag='div')], class_='d-flex justify-center mb-6', tag='div')"
      ]
     },
     "metadata": {},
     "output_type": "display_data"
    },
    {
     "data": {
      "application/vnd.jupyter.widget-view+json": {
       "model_id": "28adb955b3074cd887eae70e65232f2c",
       "version_major": 2,
       "version_minor": 0
      },
      "text/plain": [
       "Html(children=[Html(children=[Btn(children=[Icon(children=['get_app']), 'Save'], color='blue', elevation=4.0, …"
      ]
     },
     "metadata": {},
     "output_type": "display_data"
    },
    {
     "ename": "ValueError",
     "evalue": "Error while modifying.\n",
     "output_type": "error",
     "traceback": [
      "\u001B[1;31m---------------------------------------------------------------------------\u001B[0m",
      "\u001B[1;31mAttributeError\u001B[0m                            Traceback (most recent call last)",
      "\u001B[1;32m~\\PycharmProjects\\FAST-OAD\\src\\fastoad\\change_files\\change_config_file.py\u001B[0m in \u001B[0;36msave\u001B[1;34m(self)\u001B[0m\n\u001B[0;32m    178\u001B[0m         \u001B[1;32mtry\u001B[0m\u001B[1;33m:\u001B[0m\u001B[1;33m\u001B[0m\u001B[1;33m\u001B[0m\u001B[0m\n\u001B[1;32m--> 179\u001B[1;33m             \u001B[0mcontent\u001B[0m\u001B[1;33m[\u001B[0m\u001B[1;34m\"input_file\"\u001B[0m\u001B[1;33m]\u001B[0m \u001B[1;33m=\u001B[0m \u001B[1;34m\"./\"\u001B[0m \u001B[1;33m+\u001B[0m \u001B[0mself\u001B[0m\u001B[1;33m.\u001B[0m\u001B[0mi\u001B[0m\u001B[1;33m.\u001B[0m\u001B[0mv_model\u001B[0m \u001B[1;33m+\u001B[0m \u001B[1;34m\".xml\"\u001B[0m\u001B[1;33m\u001B[0m\u001B[1;33m\u001B[0m\u001B[0m\n\u001B[0m\u001B[0;32m    180\u001B[0m             \u001B[0mcontent\u001B[0m\u001B[1;33m[\u001B[0m\u001B[1;34m\"output_file\"\u001B[0m\u001B[1;33m]\u001B[0m \u001B[1;33m=\u001B[0m \u001B[1;34m\"./\"\u001B[0m \u001B[1;33m+\u001B[0m \u001B[0mself\u001B[0m\u001B[1;33m.\u001B[0m\u001B[0mo\u001B[0m\u001B[1;33m.\u001B[0m\u001B[0mv_model\u001B[0m \u001B[1;33m+\u001B[0m \u001B[1;34m\".xml\"\u001B[0m\u001B[1;33m\u001B[0m\u001B[1;33m\u001B[0m\u001B[0m\n",
      "\u001B[1;31mAttributeError\u001B[0m: 'ChangeConfigFile' object has no attribute 'i'",
      "\nDuring handling of the above exception, another exception occurred:\n",
      "\u001B[1;31mValueError\u001B[0m                                Traceback (most recent call last)",
      "\u001B[1;32m~\\PycharmProjects\\FAST-OAD\\src\\fastoad\\change_files\\change_config_file.py\u001B[0m in \u001B[0;36mon_save_button_clicked\u001B[1;34m(widget, event, data)\u001B[0m\n\u001B[0;32m    248\u001B[0m \u001B[1;33m\u001B[0m\u001B[0m\n\u001B[0;32m    249\u001B[0m         \u001B[1;32mdef\u001B[0m \u001B[0mon_save_button_clicked\u001B[0m\u001B[1;33m(\u001B[0m\u001B[0mwidget\u001B[0m\u001B[1;33m,\u001B[0m \u001B[0mevent\u001B[0m\u001B[1;33m,\u001B[0m \u001B[0mdata\u001B[0m\u001B[1;33m)\u001B[0m\u001B[1;33m:\u001B[0m\u001B[1;33m\u001B[0m\u001B[1;33m\u001B[0m\u001B[0m\n\u001B[1;32m--> 250\u001B[1;33m             \u001B[0mself\u001B[0m\u001B[1;33m.\u001B[0m\u001B[0msave\u001B[0m\u001B[1;33m(\u001B[0m\u001B[1;33m)\u001B[0m\u001B[1;33m\u001B[0m\u001B[1;33m\u001B[0m\u001B[0m\n\u001B[0m\u001B[0;32m    251\u001B[0m \u001B[1;33m\u001B[0m\u001B[0m\n\u001B[0;32m    252\u001B[0m         \u001B[0mbtn\u001B[0m\u001B[1;33m.\u001B[0m\u001B[0mon_event\u001B[0m\u001B[1;33m(\u001B[0m\u001B[1;34m\"click\"\u001B[0m\u001B[1;33m,\u001B[0m \u001B[0mon_save_button_clicked\u001B[0m\u001B[1;33m)\u001B[0m\u001B[1;33m\u001B[0m\u001B[1;33m\u001B[0m\u001B[0m\n",
      "\u001B[1;32m~\\PycharmProjects\\FAST-OAD\\src\\fastoad\\change_files\\change_config_file.py\u001B[0m in \u001B[0;36msave\u001B[1;34m(self)\u001B[0m\n\u001B[0;32m    195\u001B[0m                     \u001B[0mprint\u001B[0m\u001B[1;33m(\u001B[0m\u001B[1;34m\"Title : \"\u001B[0m \u001B[1;33m+\u001B[0m \u001B[0mself\u001B[0m\u001B[1;33m.\u001B[0m\u001B[0mt\u001B[0m\u001B[1;33m.\u001B[0m\u001B[0mv_model\u001B[0m\u001B[1;33m)\u001B[0m\u001B[1;33m\u001B[0m\u001B[1;33m\u001B[0m\u001B[0m\n\u001B[0;32m    196\u001B[0m         \u001B[1;32mexcept\u001B[0m\u001B[1;33m:\u001B[0m\u001B[1;33m\u001B[0m\u001B[1;33m\u001B[0m\u001B[0m\n\u001B[1;32m--> 197\u001B[1;33m             \u001B[1;32mraise\u001B[0m \u001B[0mValueError\u001B[0m\u001B[1;33m(\u001B[0m\u001B[1;34m\"Error while modifying.\\n\"\u001B[0m\u001B[1;33m)\u001B[0m\u001B[1;33m\u001B[0m\u001B[1;33m\u001B[0m\u001B[0m\n\u001B[0m\u001B[0;32m    198\u001B[0m \u001B[1;33m\u001B[0m\u001B[0m\n\u001B[0;32m    199\u001B[0m     \u001B[1;32mdef\u001B[0m \u001B[0m_initialize_widgets\u001B[0m\u001B[1;33m(\u001B[0m\u001B[0mself\u001B[0m\u001B[1;33m)\u001B[0m\u001B[1;33m:\u001B[0m\u001B[1;33m\u001B[0m\u001B[1;33m\u001B[0m\u001B[0m\n",
      "\u001B[1;31mValueError\u001B[0m: Error while modifying.\n"
     ]
    }
   ],
   "source": [
    "from fastoad.change_files.change_config_file import ChangeConfigFile\n",
    "\n",
    "ChangeConfigFile().display()"
   ]
  },
  {
   "cell_type": "code",
   "execution_count": null,
   "metadata": {},
   "outputs": [],
   "source": []
  }
 ],
 "metadata": {
  "kernelspec": {
   "display_name": "Python 3",
   "language": "python",
   "name": "python3"
  },
  "language_info": {
   "codemirror_mode": {
    "name": "ipython",
    "version": 3
   },
   "file_extension": ".py",
   "mimetype": "text/x-python",
   "name": "python",
   "nbconvert_exporter": "python",
   "pygments_lexer": "ipython3",
   "version": "3.8.8"
  }
 },
 "nbformat": 4,
 "nbformat_minor": 1
}